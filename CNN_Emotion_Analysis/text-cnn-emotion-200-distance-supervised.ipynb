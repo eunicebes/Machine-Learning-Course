{
 "cells": [
  {
   "cell_type": "code",
   "execution_count": 1,
   "metadata": {
    "collapsed": true
   },
   "outputs": [],
   "source": [
    "import numpy as np\n",
    "import os\n",
    "import tensorflow as tf\n",
    "from IPython.display import clear_output, Image, display, HTML\n",
    "from tensorflow.contrib.layers import variance_scaling_initializer\n",
    "from tensorflow.contrib.layers import fully_connected\n",
    "from tensorflow.contrib.data import Dataset, Iterator\n",
    "from sklearn.metrics import f1_score, classification_report\n",
    "import datetime\n",
    "import pickle\n",
    "from nltk.tokenize import TweetTokenizer\n",
    "import pandas as pd\n",
    "import re\n",
    "from sklearn.model_selection import KFold\n",
    "import matplotlib.pyplot as plt\n",
    "###### Do not modify here ###### \n",
    "def strip_consts(graph_def, max_const_size=32):\n",
    "    \"\"\"Strip large constant values from graph_def.\"\"\"\n",
    "    strip_def = tf.GraphDef()\n",
    "    for n0 in graph_def.node:\n",
    "        n = strip_def.node.add() \n",
    "        n.MergeFrom(n0)\n",
    "        if n.op == 'Const':\n",
    "            tensor = n.attr['value'].tensor\n",
    "            size = len(tensor.tensor_content)\n",
    "            if size > max_const_size:\n",
    "                tensor.tensor_content = \"<stripped %d bytes>\"%size\n",
    "    return strip_def\n",
    "\n",
    "def show_graph(graph_def, max_const_size=32):\n",
    "    \"\"\"Visualize TensorFlow graph.\"\"\"\n",
    "    if hasattr(graph_def, 'as_graph_def'):\n",
    "        graph_def = graph_def.as_graph_def()\n",
    "    strip_def = graph_def\n",
    "    #strip_def = strip_consts(graph_def, max_const_size=max_const_size)\n",
    "    code = \"\"\"\n",
    "        <script>\n",
    "          function load() {{\n",
    "            document.getElementById(\"{id}\").pbtxt = {data};\n",
    "          }}\n",
    "        </script>\n",
    "        <link rel=\"import\" href=\"https://tensorboard.appspot.com/tf-graph-basic.build.html\" onload=load()>\n",
    "        <div style=\"height:600px\">\n",
    "          <tf-graph-basic id=\"{id}\"></tf-graph-basic>\n",
    "        </div>\n",
    "    \"\"\".format(data=repr(str(strip_def)), id='graph'+str(np.random.rand()))\n",
    "\n",
    "    iframe = \"\"\"\n",
    "        <iframe seamless style=\"width:1200px;height:620px;border:0\" srcdoc=\"{}\"></iframe>\n",
    "    \"\"\".format(code.replace('\"', '&quot;'))\n",
    "    display(HTML(iframe))\n",
    "###### Do not modify  here ######\n",
    "\n",
    "###### Do not modify here ###### \n",
    "\n",
    "# to make this notebook's output stable across runs\n",
    "def reset_graph(seed=42):\n",
    "    tf.reset_default_graph()\n",
    "    tf.set_random_seed(seed)\n",
    "    np.random.seed(seed)\n",
    "\n"
   ]
  },
  {
   "cell_type": "markdown",
   "metadata": {
    "collapsed": true
   },
   "source": [
    "## Data Preparing"
   ]
  },
  {
   "cell_type": "code",
   "execution_count": 2,
   "metadata": {
    "collapsed": true
   },
   "outputs": [],
   "source": [
    "tknzr = TweetTokenizer()\n",
    "\n",
    "def filter_tweet(tweet, token = tknzr):\n",
    "    tweet = re.sub('https?:\\/\\/\\S+','URLTOK',tweet.lower().strip()) # url\n",
    "    tweet = re.sub('@(?:[a-zA-Z]+|[0-9 \\/]+)', '<M>', tweet) # mention\n",
    "    tweet = re.sub('#(?:[a-zA-Z]+|[0-9 \\/]+)', '<H>', tweet) # hashtag\n",
    "    tweet = re.sub('(\\:|\\=)(?:\\)|\\-|\\(|D| )+', '', tweet) # emoticon\n",
    "    return token.tokenize(tweet) # return tokenized\n",
    "\n"
   ]
  },
  {
   "cell_type": "markdown",
   "metadata": {},
   "source": [
    "### Load positive data"
   ]
  },
  {
   "cell_type": "markdown",
   "metadata": {},
   "source": [
    "#### Negative Tweets"
   ]
  },
  {
   "cell_type": "code",
   "execution_count": 3,
   "metadata": {},
   "outputs": [
    {
     "name": "stdout",
     "output_type": "stream",
     "text": [
      "1252941\n"
     ]
    }
   ],
   "source": [
    "with open('data/distance_supervised/sad') as f:\n",
    "    sad_tweet = [filter_tweet(line) for line in f.readlines()]\n",
    "\n",
    "with open('data/distance_supervised/distance_supervised_tweets_corrected') as f:\n",
    "    sad_tweet += [filter_tweet(line.split('\\t')[3]) for line in f.readlines()]\n",
    "\n",
    "with open('data/distance_supervised/distance_supervised_tweets_2_corrected') as f:\n",
    "    sad_tweet += [filter_tweet(line.split('\\t')[3]) for line in f.readlines()]\n",
    "\n",
    "with open('data/distance_supervised/distance_supervised_tweets_3_corrected') as f:\n",
    "    sad_tweet += [filter_tweet(line.split('\\t')[3]) for line in f.readlines()]\n",
    "print(len(sad_tweet))\n"
   ]
  },
  {
   "cell_type": "markdown",
   "metadata": {},
   "source": [
    "#### Positive Tweets"
   ]
  },
  {
   "cell_type": "code",
   "execution_count": 4,
   "metadata": {},
   "outputs": [
    {
     "data": {
      "text/plain": [
       "1252941"
      ]
     },
     "execution_count": 4,
     "metadata": {},
     "output_type": "execute_result"
    }
   ],
   "source": [
    "with open('data/distance_supervised/smile') as f:\n",
    "    smile_tweet = [filter_tweet(line) for line in f.readlines()][:len(sad_tweet)]\n",
    "len(smile_tweet)"
   ]
  },
  {
   "cell_type": "code",
   "execution_count": 5,
   "metadata": {
    "collapsed": true
   },
   "outputs": [],
   "source": [
    "# size filter\n",
    "max_length = 60"
   ]
  },
  {
   "cell_type": "code",
   "execution_count": 6,
   "metadata": {},
   "outputs": [
    {
     "name": "stdout",
     "output_type": "stream",
     "text": [
      "1252345\n",
      "1252910\n"
     ]
    }
   ],
   "source": [
    "\n",
    "\n",
    "sad_tweet = list(filter(lambda tweet: len(tweet) <= max_length, sad_tweet))\n",
    "print(len(sad_tweet))\n",
    "smile_tweet = list(filter(lambda tweet: len(tweet) <= max_length, smile_tweet))\n",
    "print(len(smile_tweet))"
   ]
  },
  {
   "cell_type": "markdown",
   "metadata": {},
   "source": [
    "### Build Dictionary"
   ]
  },
  {
   "cell_type": "code",
   "execution_count": 7,
   "metadata": {
    "collapsed": true
   },
   "outputs": [],
   "source": [
    "from collections import defaultdict\n",
    "vocabulary_dict = {}\n",
    "word_index = 0\n",
    "\n",
    "for tweet in smile_tweet+sad_tweet:\n",
    "    for word in tweet:\n",
    "        if word not in vocabulary_dict:\n",
    "            vocabulary_dict[word] = word_index\n",
    "            word_index +=1"
   ]
  },
  {
   "cell_type": "code",
   "execution_count": 8,
   "metadata": {
    "collapsed": true
   },
   "outputs": [],
   "source": [
    "vocabulary_dict['<m>'] = vocabulary_dict.get('<M>')\n",
    "vocabulary_dict['<h>'] = vocabulary_dict.get('<h>')\n",
    "vocabulary_dict['urltok'] = vocabulary_dict.get('URLTOK')"
   ]
  },
  {
   "cell_type": "code",
   "execution_count": 9,
   "metadata": {},
   "outputs": [
    {
     "name": "stdout",
     "output_type": "stream",
     "text": [
      "349884\n",
      "349897\n",
      "170\n"
     ]
    }
   ],
   "source": [
    "print(vocabulary_dict.get('URLTOK'))\n",
    "print(vocabulary_dict.get('<M>'))\n",
    "print(vocabulary_dict.get('<H>'))"
   ]
  },
  {
   "cell_type": "code",
   "execution_count": 10,
   "metadata": {
    "collapsed": true
   },
   "outputs": [],
   "source": [
    "# transform the tweet sentence to numerical representation\n",
    "def word_transform(tweet_set, max_length = 60):\n",
    "    set_array = []\n",
    "    for tweet in tweet_set:\n",
    "        tweet_array = [0] * max_length\n",
    "        for i, word in enumerate(tweet):\n",
    "            if i == 60: break # remove the words after 60th\n",
    "            if vocabulary_dict.get(word):\n",
    "                tweet_array[i] = vocabulary_dict[word]\n",
    "            else:\n",
    "                tweet_array[i] = 0\n",
    "        set_array.append(tweet_array)\n",
    "    return np.array(set_array)"
   ]
  },
  {
   "cell_type": "code",
   "execution_count": 11,
   "metadata": {},
   "outputs": [
    {
     "name": "stdout",
     "output_type": "stream",
     "text": [
      "(1252345, 60)\n",
      "(1252910, 60)\n"
     ]
    }
   ],
   "source": [
    "sad_array = word_transform(sad_tweet, max_length = max_length)\n",
    "print(sad_array.shape)\n",
    "smile_array = word_transform(smile_tweet, max_length = max_length)\n",
    "print(smile_array.shape)"
   ]
  },
  {
   "cell_type": "code",
   "execution_count": 12,
   "metadata": {},
   "outputs": [
    {
     "data": {
      "text/plain": [
       "array([ 0,  1,  2,  3,  4,  5,  6,  7,  8,  9, 10, 11, 12, 13, 14, 15, 16,\n",
       "       17, 18, 19, 20, 18, 21,  0,  0,  0,  0,  0,  0,  0,  0,  0,  0,  0,\n",
       "        0,  0,  0,  0,  0,  0,  0,  0,  0,  0,  0,  0,  0,  0,  0,  0,  0,\n",
       "        0,  0,  0,  0,  0,  0,  0,  0,  0])"
      ]
     },
     "execution_count": 12,
     "metadata": {},
     "output_type": "execute_result"
    }
   ],
   "source": [
    "smile_array[0]"
   ]
  },
  {
   "cell_type": "code",
   "execution_count": 13,
   "metadata": {},
   "outputs": [
    {
     "data": {
      "text/plain": [
       "array([325, 401,  73, 196,   0,   0,   0,   0,   0,   0,   0,   0,   0,\n",
       "         0,   0,   0,   0,   0,   0,   0,   0,   0,   0,   0,   0,   0,\n",
       "         0,   0,   0,   0,   0,   0,   0,   0,   0,   0,   0,   0,   0,\n",
       "         0,   0,   0,   0,   0,   0,   0,   0,   0,   0,   0,   0,   0,\n",
       "         0,   0,   0,   0,   0,   0,   0,   0])"
      ]
     },
     "execution_count": 13,
     "metadata": {},
     "output_type": "execute_result"
    }
   ],
   "source": [
    "sad_array[0]"
   ]
  },
  {
   "cell_type": "code",
   "execution_count": 14,
   "metadata": {
    "collapsed": true
   },
   "outputs": [],
   "source": [
    "total_tweets = np.concatenate((smile_array[:sad_array.shape[0]], sad_array), axis=0)\n",
    "total_labels = np.concatenate((np.zeros(sad_array.shape[0]), np.ones(sad_array.shape[0])), axis=0)"
   ]
  },
  {
   "cell_type": "markdown",
   "metadata": {},
   "source": [
    "## Prepare Training + Testing Data"
   ]
  },
  {
   "cell_type": "code",
   "execution_count": 15,
   "metadata": {},
   "outputs": [
    {
     "data": {
      "text/plain": [
       "array([ 0.,  1.,  1., ...,  0.,  1.,  1.])"
      ]
     },
     "execution_count": 15,
     "metadata": {},
     "output_type": "execute_result"
    }
   ],
   "source": [
    "# from sklearn.model_selection import ShuffleSplit\n",
    "# rs = ShuffleSplit(n_splits=1, test_size=.1, random_state=0)\n",
    "\n",
    "# senti_train = en_train['label'].as_matrix()\n",
    "# senti_test  = en_test['label'].as_matrix()\n",
    "\n",
    "# for train_index, test_index in rs.split(senti):\n",
    "#     X_train = tweets[train_index]\n",
    "#     y_train = senti[train_index]\n",
    "\n",
    "#     X_test = tweets[test_index]\n",
    "#     y_test = senti[test_index]\n",
    "# X_train.shape\n",
    "\n",
    "from sklearn.utils import shuffle\n",
    "X_train, y_train = shuffle(total_tweets, total_labels, random_state=8)\n",
    "\n",
    "y_train"
   ]
  },
  {
   "cell_type": "markdown",
   "metadata": {},
   "source": [
    "# Load Pretrain Word2Vec Model (#DIM 200)"
   ]
  },
  {
   "cell_type": "code",
   "execution_count": 16,
   "metadata": {},
   "outputs": [
    {
     "name": "stdout",
     "output_type": "stream",
     "text": [
      "(1859185, 200)\n"
     ]
    }
   ],
   "source": [
    "# Load pre train Word2vec\n",
    "wb_matrix = np.load(\"data/embed_tweets_en_200M_200D/embedding_matrix.npy\")\n",
    "print(wb_matrix.shape)\n",
    "vocabulary_dict_ = pickle.load(open(\"data/embed_tweets_en_200M_200D/vocabulary.pickle\", \"rb\"))\n",
    "print(len(vocabulary_dict_))"
   ]
  },
  {
   "cell_type": "code",
   "execution_count": 17,
   "metadata": {},
   "outputs": [
    {
     "name": "stdout",
     "output_type": "stream",
     "text": [
      "349884\n",
      "(6, 49017056)\n"
     ]
    }
   ],
   "source": [
    "print(vocabulary_dict.get('URLTOK'))\n",
    "print(vocabulary_dict_.get('URLTOK'))"
   ]
  },
  {
   "cell_type": "code",
   "execution_count": 18,
   "metadata": {},
   "outputs": [
    {
     "data": {
      "text/plain": [
       "(496894, 200)"
      ]
     },
     "execution_count": 18,
     "metadata": {},
     "output_type": "execute_result"
    }
   ],
   "source": [
    " # initial matrix with random uniform\n",
    "initW = np.random.uniform(-0.25,0.25,(len(vocabulary_dict), wb_matrix.shape[1]))\n",
    "# load any vectors from the word2vec\n",
    "for word, index in vocabulary_dict.items():\n",
    "#     print(word)\n",
    "#     print(index)\n",
    "    try:\n",
    "        idx = vocabulary_dict_.get(word)[0]\n",
    "    except:\n",
    "        continue\n",
    "    \n",
    "    if idx != 0 and idx is not None:\n",
    "        initW[index] = wb_matrix[idx]\n",
    "        \n",
    "initW.shape"
   ]
  },
  {
   "cell_type": "markdown",
   "metadata": {},
   "source": [
    "# Distance Supervised Learning"
   ]
  },
  {
   "cell_type": "code",
   "execution_count": 19,
   "metadata": {
    "collapsed": true
   },
   "outputs": [],
   "source": [
    "n_input = max_length\n",
    "n_output = 2\n",
    "learning_rate = 1\n",
    "\n",
    "embedding_size = initW.shape[1]\n",
    "filter_sizes = [4,3]\n",
    "num_filters = 200\n",
    "pooling_size = 4\n",
    "pooling_strides = 2\n",
    "epochs_num = 20\n",
    "batch_size = 128"
   ]
  },
  {
   "cell_type": "code",
   "execution_count": 20,
   "metadata": {
    "collapsed": true
   },
   "outputs": [],
   "source": [
    "def data_iterator():\n",
    "    \"\"\" A simple data iterator \"\"\"\n",
    "    batch_idx = 0\n",
    "    while True:\n",
    "        for batch_idx in range(0, len(X_train), batch_size):\n",
    "            trains_batch = X_train[batch_idx:batch_idx+batch_size]\n",
    "            labels_batch = y_train[batch_idx:batch_idx+batch_size]\n",
    "            yield trains_batch, labels_batch\n",
    "\n",
    "\n",
    "iter_ = data_iterator()"
   ]
  },
  {
   "cell_type": "code",
   "execution_count": 21,
   "metadata": {
    "collapsed": true
   },
   "outputs": [],
   "source": [
    "reset_graph()\n",
    "\n",
    "X = tf.placeholder(tf.int32, shape = (None, n_input), name = \"Input_X\")\n",
    "y = tf.placeholder(tf.int32, shape = (None), name = \"Y\")\n",
    "# mode = tf.placeholder(tf.bool, name = \"Mode\")\n",
    "\n",
    "# Load Embedding Model\n",
    "with tf.device('/cpu:0'), tf.name_scope(\"embedding\"):\n",
    "    word2vec = tf.Variable(tf.constant(0.0, shape = initW.shape),\n",
    "                    trainable=True, name=\"word2vec\") # trainable=False, means not update these embeddings\n",
    "\n",
    "embedded_chars = tf.nn.embedding_lookup(word2vec, X)\n",
    "embedded_chars_expanded = tf.expand_dims(embedded_chars, -1) # ex: convert [[1,2]] to [[1],[2]], that is shape (2,) to (2,1)\n",
    "\n",
    "# 1st convolution layer\n",
    "conv1 = tf.layers.conv2d(embedded_chars_expanded, \n",
    "                         filters = num_filters, \n",
    "                         kernel_size = (filter_sizes[0], initW.shape[1]),\n",
    "                         strides = (1,1), \n",
    "#                          padding=\"same\",\n",
    "                         kernel_initializer=tf.contrib.layers.variance_scaling_initializer(),\n",
    "                         \n",
    "                         activation = tf.nn.relu,\n",
    "                         name=\"Convolution_1st\"\n",
    "                        )\n",
    "\n",
    "pool1 = tf.layers.max_pooling2d(inputs=conv1, pool_size=[4, 1], strides=2)\n",
    "\n",
    "# 2nd convolution layer\n",
    "conv2 = tf.layers.conv2d(pool1, \n",
    "                         filters = num_filters, \n",
    "                         kernel_size = (filter_sizes[1], 1),\n",
    "                         strides = (1,1), \n",
    "                         padding=\"same\",\n",
    "                         kernel_initializer=tf.contrib.layers.variance_scaling_initializer(),\n",
    "                         activation = tf.nn.relu,\n",
    "                         name=\"Convolution_2nd\"\n",
    "                        )\n",
    "\n",
    "pool2 = tf.layers.max_pooling2d(inputs=conv2, pool_size=[27, 1], strides=1)\n",
    "\n",
    "# Dense Layer, Combine all the pooled features\n",
    "pool2_flat = tf.reshape(pool2, [-1, num_filters])\n",
    "\n",
    "dense = tf.layers.dense(inputs=pool2_flat, units=1024, activation=tf.nn.relu, name = \"Fully_connect\")\n",
    "# dense = tf.layers.dropout(inputs = dense, rate = 0.3, training = mode)\n",
    "\n",
    "# Logits Layer\n",
    "logits = tf.layers.dense(inputs=dense, \n",
    "                         units=n_output, \n",
    "                         activation=tf.nn.softmax, \n",
    "#                          kernel_initializer=tf.contrib.layers.variance_scaling_initializer(),\n",
    "                         name = \"Softmax\")\n",
    "\n",
    "# Define Loss Function\n",
    "cross_entropy = tf.reduce_mean(tf.nn.sparse_softmax_cross_entropy_with_logits(labels=y, logits=logits, name=\"Cross_Entropy\"))\n",
    "\n",
    "# Define Training Process\n",
    "train_step = tf.train.AdadeltaOptimizer(learning_rate, epsilon=1e-6).minimize(cross_entropy)\n",
    "\n",
    "# Define Accuracy\n",
    "predicted_class = tf.argmax(logits,1, output_type=tf.int32)\n",
    "correct_predict = tf.equal(y, predicted_class) # [True, False ..., True]\n",
    "accuracy = tf.reduce_mean(tf.cast(correct_predict, tf.float32)) # [True, False ..., True] --> [1,0,...,1]\n"
   ]
  },
  {
   "cell_type": "code",
   "execution_count": 22,
   "metadata": {
    "collapsed": true
   },
   "outputs": [],
   "source": [
    "# prepare the training batch\n",
    "# train_data = tf.contrib.data.Dataset.from_tensor_slices((X_train, y_train)).batch(batch_size).repeat()\n",
    "# train_iterator = train_data.make_one_shot_iterator() # Create an iterator to go through the training data\n",
    "# train_next_batch = train_iterator.get_next()"
   ]
  },
  {
   "cell_type": "code",
   "execution_count": 23,
   "metadata": {
    "scrolled": false
   },
   "outputs": [
    {
     "name": "stdout",
     "output_type": "stream",
     "text": [
      "19567\n"
     ]
    }
   ],
   "source": [
    "round_of_epochs = int(X_train.shape[0]/batch_size)\n",
    "print(round_of_epochs)\n",
    "\n",
    "saver = tf.train.Saver() # to store the model\n",
    "\n",
    "with tf.Session() as sess:\n",
    "    # Initialize all variables\n",
    "    sess.run(tf.local_variables_initializer())\n",
    "    sess.run(tf.global_variables_initializer())\n",
    "    \n",
    "    sess.run(word2vec.assign(initW))# Assign the pretrain word2vec\n",
    "    for _ in range(epochs_num):\n",
    "        for _ in range(round_of_epochs):\n",
    "#             train, label = sess.run(train_next_batch) # Get the mini-batch data sample\n",
    "            train, label = next(iter_)\n",
    "            sess.run(train_step, feed_dict={X:train, y:label}) # Feed the features, labe, training_mode  to network to train\n",
    "\n",
    "        \n",
    "    distance_supervised_embeddings = sess.run(word2vec)\n",
    "    "
   ]
  },
  {
   "cell_type": "markdown",
   "metadata": {},
   "source": [
    "## Distance Supervised Learning Comparsion"
   ]
  },
  {
   "cell_type": "code",
   "execution_count": 24,
   "metadata": {
    "collapsed": true
   },
   "outputs": [],
   "source": [
    "from sklearn.decomposition import PCA\n",
    "import matplotlib.pyplot as plt\n"
   ]
  },
  {
   "cell_type": "code",
   "execution_count": 36,
   "metadata": {
    "collapsed": true
   },
   "outputs": [],
   "source": [
    "def draw_plot(words, matrix, v_dic, nbest=15):\n",
    "    word_vectors = []\n",
    "    for word in words:\n",
    "        index = v_dic[word]\n",
    "        word_vectors.append(matrix[index])  \n",
    "    pca = PCA(n_components=2)  \n",
    "    pca.fit(word_vectors)\n",
    "    X = pca.transform(word_vectors)\n",
    "    \n",
    "    xs = X[:, 0]\n",
    "    ys = X[:, 1]\n",
    "\n",
    "    # draw\n",
    "    plt.figure(figsize=(12,8))\n",
    "    plt.scatter(xs, ys, marker = 'o')\n",
    "    for i, w in enumerate(words):\n",
    "        plt.annotate(w, (xs[i], ys[i]))\n",
    "\n",
    "    plt.show()"
   ]
  },
  {
   "cell_type": "code",
   "execution_count": 37,
   "metadata": {},
   "outputs": [
    {
     "name": "stdout",
     "output_type": "stream",
     "text": [
      "Word2vec with distance supervised learning\n",
      "\n",
      "Before\n"
     ]
    },
    {
     "data": {
      "image/png": "[encoded data removed]",
      "text/plain": [
       "<matplotlib.figure.Figure at 0x7ff3c23eedd8>"
      ]
     },
     "metadata": {},
     "output_type": "display_data"
    },
    {
     "name": "stdout",
     "output_type": "stream",
     "text": [
      "After\n"
     ]
    },
    {
     "data": {
      "image/png": "[encoded data removed]",
      "text/plain": [
       "<matplotlib.figure.Figure at 0x7ff3c23eeeb8>"
      ]
     },
     "metadata": {},
     "output_type": "display_data"
    }
   ],
   "source": [
    "words = ['sadness', 'sobbing', 'cry', 'weep', 'horrible', 'worst', 'awful', 'enjoyable', 'wonderful',\n",
    "         'bad', 'fantastic', 'great', 'good', 'beautiful', 'stunning','gorgeous','glad','well','dumb']\n",
    "\n",
    "plt.rcParams['font.size'] = 18\n",
    "\n",
    "print(\"Word2vec with distance supervised learning\\n\")\n",
    "print(\"Before\")\n",
    "draw_plot(words, wb_matrix, vocabulary_dict)\n",
    "print(\"After\")\n",
    "draw_plot(words, distance_supervised_embeddings, vocabulary_dict)"
   ]
  },
  {
   "cell_type": "code",
   "execution_count": 76,
   "metadata": {
    "collapsed": true
   },
   "outputs": [],
   "source": [
    "del wb_matrix, vocabulary_dict_, X_train, y_train, smile_array, smile_tweet, sad_array, sad_tweet"
   ]
  },
  {
   "cell_type": "markdown",
   "metadata": {},
   "source": [
    "### Dump model"
   ]
  },
  {
   "cell_type": "code",
   "execution_count": 38,
   "metadata": {
    "collapsed": true
   },
   "outputs": [],
   "source": [
    "np.save('data/embedding/distance_supervised_2M_200', distance_supervised_embeddings)\n",
    "with open('data/embedding/distance_supervised_2M_200.pickle', 'wb') as f:\n",
    "    pickle.dump(vocabulary_dict,f)"
   ]
  },
  {
   "cell_type": "markdown",
   "metadata": {},
   "source": [
    "### Load model"
   ]
  },
  {
   "cell_type": "code",
   "execution_count": 39,
   "metadata": {},
   "outputs": [
    {
     "name": "stdout",
     "output_type": "stream",
     "text": [
      "(496894, 200)\n",
      "496893\n"
     ]
    }
   ],
   "source": [
    "# Load pre train Word2vec\n",
    "distance_supervised_embeddings = np.load(\"data/embedding/distance_supervised_2M_200.npy\")\n",
    "print(distance_supervised_embeddings.shape)\n",
    "vocabulary_dict = pickle.load(open(\"data/embedding/distance_supervised_2M_200.pickle\", \"rb\"))\n",
    "print(len(vocabulary_dict))"
   ]
  },
  {
   "cell_type": "markdown",
   "metadata": {},
   "source": [
    "# Supervised Learning"
   ]
  },
  {
   "cell_type": "code",
   "execution_count": 40,
   "metadata": {
    "collapsed": true
   },
   "outputs": [],
   "source": [
    "def emotion2label(emo):\n",
    "    if emo =='joy':            return 0\n",
    "    elif emo =='anticipation': return 1\n",
    "    elif emo =='trust':        return 2\n",
    "    elif emo =='surprise':     return 3\n",
    "    elif emo =='sadness':      return 4\n",
    "    elif emo =='fear':         return 5\n",
    "    elif emo =='anger':        return 6\n",
    "    elif emo =='disgust':      return 7"
   ]
  },
  {
   "cell_type": "code",
   "execution_count": 69,
   "metadata": {},
   "outputs": [
    {
     "data": {
      "text/html": [
       "<div>\n",
       "<style>\n",
       "    .dataframe thead tr:only-child th {\n",
       "        text-align: right;\n",
       "    }\n",
       "\n",
       "    .dataframe thead th {\n",
       "        text-align: left;\n",
       "    }\n",
       "\n",
       "    .dataframe tbody tr th {\n",
       "        vertical-align: top;\n",
       "    }\n",
       "</style>\n",
       "<table border=\"1\" class=\"dataframe\">\n",
       "  <thead>\n",
       "    <tr style=\"text-align: right;\">\n",
       "      <th></th>\n",
       "      <th>emotion</th>\n",
       "      <th>tweet</th>\n",
       "    </tr>\n",
       "  </thead>\n",
       "  <tbody>\n",
       "    <tr>\n",
       "      <th>0</th>\n",
       "      <td>anticipation</td>\n",
       "      <td>\"\"\"@jouuuiee: #THANKSGIVINGEVERYDAY #POSITIVIT...</td>\n",
       "    </tr>\n",
       "    <tr>\n",
       "      <th>1</th>\n",
       "      <td>joy</td>\n",
       "      <td>i am in love with my midi skirt woooo #happy</td>\n",
       "    </tr>\n",
       "    <tr>\n",
       "      <th>2</th>\n",
       "      <td>anger</td>\n",
       "      <td>stop posting every damn thing you do on instag...</td>\n",
       "    </tr>\n",
       "    <tr>\n",
       "      <th>3</th>\n",
       "      <td>trust</td>\n",
       "      <td>#imtiredofhearing you'll never meet justin bie...</td>\n",
       "    </tr>\n",
       "    <tr>\n",
       "      <th>4</th>\n",
       "      <td>anticipation</td>\n",
       "      <td>#lt &amp;amp; count down the days until May! #summ...</td>\n",
       "    </tr>\n",
       "  </tbody>\n",
       "</table>\n",
       "</div>"
      ],
      "text/plain": [
       "        emotion                                              tweet\n",
       "0  anticipation  \"\"\"@jouuuiee: #THANKSGIVINGEVERYDAY #POSITIVIT...\n",
       "1           joy       i am in love with my midi skirt woooo #happy\n",
       "2         anger  stop posting every damn thing you do on instag...\n",
       "3         trust  #imtiredofhearing you'll never meet justin bie...\n",
       "4  anticipation  #lt &amp; count down the days until May! #summ..."
      ]
     },
     "execution_count": 69,
     "metadata": {},
     "output_type": "execute_result"
    }
   ],
   "source": [
    "en_8emo = pd.read_csv('data/emo/Train/train_merged_8emo.tsv', delimiter='\\t', names=[\"emotion\", \"tweet\"])\n",
    "en_8emo.head()"
   ]
  },
  {
   "cell_type": "code",
   "execution_count": 70,
   "metadata": {},
   "outputs": [
    {
     "data": {
      "text/html": [
       "<div>\n",
       "<style>\n",
       "    .dataframe thead tr:only-child th {\n",
       "        text-align: right;\n",
       "    }\n",
       "\n",
       "    .dataframe thead th {\n",
       "        text-align: left;\n",
       "    }\n",
       "\n",
       "    .dataframe tbody tr th {\n",
       "        vertical-align: top;\n",
       "    }\n",
       "</style>\n",
       "<table border=\"1\" class=\"dataframe\">\n",
       "  <thead>\n",
       "    <tr style=\"text-align: right;\">\n",
       "      <th></th>\n",
       "      <th>tweet</th>\n",
       "    </tr>\n",
       "    <tr>\n",
       "      <th>emotion</th>\n",
       "      <th></th>\n",
       "    </tr>\n",
       "  </thead>\n",
       "  <tbody>\n",
       "    <tr>\n",
       "      <th>anger</th>\n",
       "      <td>391242</td>\n",
       "    </tr>\n",
       "    <tr>\n",
       "      <th>anticipation</th>\n",
       "      <td>136409</td>\n",
       "    </tr>\n",
       "    <tr>\n",
       "      <th>disgust</th>\n",
       "      <td>21814</td>\n",
       "    </tr>\n",
       "    <tr>\n",
       "      <th>fear</th>\n",
       "      <td>444915</td>\n",
       "    </tr>\n",
       "    <tr>\n",
       "      <th>joy</th>\n",
       "      <td>502011</td>\n",
       "    </tr>\n",
       "    <tr>\n",
       "      <th>sadness</th>\n",
       "      <td>538884</td>\n",
       "    </tr>\n",
       "    <tr>\n",
       "      <th>surprise</th>\n",
       "      <td>212744</td>\n",
       "    </tr>\n",
       "    <tr>\n",
       "      <th>trust</th>\n",
       "      <td>306619</td>\n",
       "    </tr>\n",
       "  </tbody>\n",
       "</table>\n",
       "</div>"
      ],
      "text/plain": [
       "               tweet\n",
       "emotion             \n",
       "anger         391242\n",
       "anticipation  136409\n",
       "disgust        21814\n",
       "fear          444915\n",
       "joy           502011\n",
       "sadness       538884\n",
       "surprise      212744\n",
       "trust         306619"
      ]
     },
     "execution_count": 70,
     "metadata": {},
     "output_type": "execute_result"
    }
   ],
   "source": [
    "en_8emo.groupby('emotion').count()"
   ]
  },
  {
   "cell_type": "code",
   "execution_count": 41,
   "metadata": {},
   "outputs": [
    {
     "data": {
      "text/html": [
       "<div>\n",
       "<style>\n",
       "    .dataframe thead tr:only-child th {\n",
       "        text-align: right;\n",
       "    }\n",
       "\n",
       "    .dataframe thead th {\n",
       "        text-align: left;\n",
       "    }\n",
       "\n",
       "    .dataframe tbody tr th {\n",
       "        vertical-align: top;\n",
       "    }\n",
       "</style>\n",
       "<table border=\"1\" class=\"dataframe\">\n",
       "  <thead>\n",
       "    <tr style=\"text-align: right;\">\n",
       "      <th></th>\n",
       "      <th>emotion</th>\n",
       "      <th>tweet</th>\n",
       "    </tr>\n",
       "  </thead>\n",
       "  <tbody>\n",
       "    <tr>\n",
       "      <th>0</th>\n",
       "      <td>anticipation</td>\n",
       "      <td>&lt;M&gt;: &lt;H&gt; &lt;H&gt; &lt;H&gt; &lt;H&gt; &lt;H&gt; &lt;H&gt; &lt;M&gt; ... You DTM. ...</td>\n",
       "    </tr>\n",
       "    <tr>\n",
       "      <th>1</th>\n",
       "      <td>anger</td>\n",
       "      <td>stop posting every damn thing you do on instag...</td>\n",
       "    </tr>\n",
       "    <tr>\n",
       "      <th>2</th>\n",
       "      <td>trust</td>\n",
       "      <td>&lt;H&gt; youll never meet justin bieber. hell never...</td>\n",
       "    </tr>\n",
       "    <tr>\n",
       "      <th>3</th>\n",
       "      <td>anticipation</td>\n",
       "      <td>&lt;H&gt; &amp;amp; count down the days until May! &lt;H&gt; &lt;...</td>\n",
       "    </tr>\n",
       "    <tr>\n",
       "      <th>4</th>\n",
       "      <td>surprise</td>\n",
       "      <td>&lt;M&gt; Holme upon Spalding moor won rock challeng...</td>\n",
       "    </tr>\n",
       "  </tbody>\n",
       "</table>\n",
       "</div>"
      ],
      "text/plain": [
       "        emotion                                              tweet\n",
       "0  anticipation  <M>: <H> <H> <H> <H> <H> <H> <M> ... You DTM. ...\n",
       "1         anger  stop posting every damn thing you do on instag...\n",
       "2         trust  <H> youll never meet justin bieber. hell never...\n",
       "3  anticipation  <H> &amp; count down the days until May! <H> <...\n",
       "4      surprise  <M> Holme upon Spalding moor won rock challeng..."
      ]
     },
     "execution_count": 41,
     "metadata": {},
     "output_type": "execute_result"
    }
   ],
   "source": [
    "# Load Training data\n",
    "en_train = pd.read_csv('data/emo/Train/train.tsv', delimiter='\\t', names=[\"emotion\", \"tweet\"])\n",
    "en_train.head()\n",
    "\n"
   ]
  },
  {
   "cell_type": "code",
   "execution_count": 68,
   "metadata": {},
   "outputs": [
    {
     "data": {
      "text/html": [
       "<div>\n",
       "<style>\n",
       "    .dataframe thead tr:only-child th {\n",
       "        text-align: right;\n",
       "    }\n",
       "\n",
       "    .dataframe thead th {\n",
       "        text-align: left;\n",
       "    }\n",
       "\n",
       "    .dataframe tbody tr th {\n",
       "        vertical-align: top;\n",
       "    }\n",
       "</style>\n",
       "<table border=\"1\" class=\"dataframe\">\n",
       "  <thead>\n",
       "    <tr style=\"text-align: right;\">\n",
       "      <th></th>\n",
       "      <th>tweet</th>\n",
       "      <th>label</th>\n",
       "    </tr>\n",
       "    <tr>\n",
       "      <th>emotion</th>\n",
       "      <th></th>\n",
       "      <th></th>\n",
       "    </tr>\n",
       "  </thead>\n",
       "  <tbody>\n",
       "    <tr>\n",
       "      <th>anger</th>\n",
       "      <td>332416</td>\n",
       "      <td>332416</td>\n",
       "    </tr>\n",
       "    <tr>\n",
       "      <th>anticipation</th>\n",
       "      <td>86100</td>\n",
       "      <td>86100</td>\n",
       "    </tr>\n",
       "    <tr>\n",
       "      <th>disgust</th>\n",
       "      <td>17966</td>\n",
       "      <td>17966</td>\n",
       "    </tr>\n",
       "    <tr>\n",
       "      <th>fear</th>\n",
       "      <td>352271</td>\n",
       "      <td>352271</td>\n",
       "    </tr>\n",
       "    <tr>\n",
       "      <th>joy</th>\n",
       "      <td>351119</td>\n",
       "      <td>351119</td>\n",
       "    </tr>\n",
       "    <tr>\n",
       "      <th>sadness</th>\n",
       "      <td>439736</td>\n",
       "      <td>439736</td>\n",
       "    </tr>\n",
       "    <tr>\n",
       "      <th>surprise</th>\n",
       "      <td>165751</td>\n",
       "      <td>165751</td>\n",
       "    </tr>\n",
       "    <tr>\n",
       "      <th>trust</th>\n",
       "      <td>220511</td>\n",
       "      <td>220511</td>\n",
       "    </tr>\n",
       "  </tbody>\n",
       "</table>\n",
       "</div>"
      ],
      "text/plain": [
       "               tweet   label\n",
       "emotion                     \n",
       "anger         332416  332416\n",
       "anticipation   86100   86100\n",
       "disgust        17966   17966\n",
       "fear          352271  352271\n",
       "joy           351119  351119\n",
       "sadness       439736  439736\n",
       "surprise      165751  165751\n",
       "trust         220511  220511"
      ]
     },
     "execution_count": 68,
     "metadata": {},
     "output_type": "execute_result"
    }
   ],
   "source": [
    "en_train.groupby('emotion').count()"
   ]
  },
  {
   "cell_type": "code",
   "execution_count": 42,
   "metadata": {},
   "outputs": [
    {
     "data": {
      "text/html": [
       "<div>\n",
       "<style>\n",
       "    .dataframe thead tr:only-child th {\n",
       "        text-align: right;\n",
       "    }\n",
       "\n",
       "    .dataframe thead th {\n",
       "        text-align: left;\n",
       "    }\n",
       "\n",
       "    .dataframe tbody tr th {\n",
       "        vertical-align: top;\n",
       "    }\n",
       "</style>\n",
       "<table border=\"1\" class=\"dataframe\">\n",
       "  <thead>\n",
       "    <tr style=\"text-align: right;\">\n",
       "      <th></th>\n",
       "      <th>tweet</th>\n",
       "      <th>emotion</th>\n",
       "      <th>emotion2</th>\n",
       "      <th>emotion3</th>\n",
       "    </tr>\n",
       "  </thead>\n",
       "  <tbody>\n",
       "    <tr>\n",
       "      <th>0</th>\n",
       "      <td>#championsleague i am cmng to watch you...all ...</td>\n",
       "      <td>joy</td>\n",
       "      <td>anticipation</td>\n",
       "      <td>trust</td>\n",
       "    </tr>\n",
       "    <tr>\n",
       "      <th>1</th>\n",
       "      <td>#mufc wages up19% in13/14 season with #dimaria...</td>\n",
       "      <td>anticipation</td>\n",
       "      <td>fear</td>\n",
       "      <td>NaN</td>\n",
       "    </tr>\n",
       "    <tr>\n",
       "      <th>2</th>\n",
       "      <td>#sterlings getting some great experience here....</td>\n",
       "      <td>joy</td>\n",
       "      <td>trust</td>\n",
       "      <td>anticipation</td>\n",
       "    </tr>\n",
       "    <tr>\n",
       "      <th>3</th>\n",
       "      <td>1 more week then it's block 208 kop grandstand...</td>\n",
       "      <td>anticipation</td>\n",
       "      <td>joy</td>\n",
       "      <td>trust</td>\n",
       "    </tr>\n",
       "    <tr>\n",
       "      <th>4</th>\n",
       "      <td>1 week from today! the @championsleague return...</td>\n",
       "      <td>anticipation</td>\n",
       "      <td>joy</td>\n",
       "      <td>trust</td>\n",
       "    </tr>\n",
       "  </tbody>\n",
       "</table>\n",
       "</div>"
      ],
      "text/plain": [
       "                                               tweet       emotion  \\\n",
       "0  #championsleague i am cmng to watch you...all ...           joy   \n",
       "1  #mufc wages up19% in13/14 season with #dimaria...  anticipation   \n",
       "2  #sterlings getting some great experience here....           joy   \n",
       "3  1 more week then it's block 208 kop grandstand...  anticipation   \n",
       "4  1 week from today! the @championsleague return...  anticipation   \n",
       "\n",
       "       emotion2      emotion3  \n",
       "0  anticipation         trust  \n",
       "1          fear           NaN  \n",
       "2         trust  anticipation  \n",
       "3           joy         trust  \n",
       "4           joy         trust  "
      ]
     },
     "execution_count": 42,
     "metadata": {},
     "output_type": "execute_result"
    }
   ],
   "source": [
    "\n",
    "# Load Testing data\n",
    "en_test = pd.read_csv('data/emo/Test/test.tsv', delimiter='\\t',names=[\"tweet\",\"emotion\", \"emotion2\", \"emotion3\"])\n",
    "en_test.head()"
   ]
  },
  {
   "cell_type": "code",
   "execution_count": 43,
   "metadata": {},
   "outputs": [
    {
     "data": {
      "text/html": [
       "<div>\n",
       "<style>\n",
       "    .dataframe thead tr:only-child th {\n",
       "        text-align: right;\n",
       "    }\n",
       "\n",
       "    .dataframe thead th {\n",
       "        text-align: left;\n",
       "    }\n",
       "\n",
       "    .dataframe tbody tr th {\n",
       "        vertical-align: top;\n",
       "    }\n",
       "</style>\n",
       "<table border=\"1\" class=\"dataframe\">\n",
       "  <thead>\n",
       "    <tr style=\"text-align: right;\">\n",
       "      <th></th>\n",
       "      <th>emotion</th>\n",
       "      <th>tweet</th>\n",
       "      <th>label</th>\n",
       "    </tr>\n",
       "  </thead>\n",
       "  <tbody>\n",
       "    <tr>\n",
       "      <th>0</th>\n",
       "      <td>anticipation</td>\n",
       "      <td>&lt;M&gt;: &lt;H&gt; &lt;H&gt; &lt;H&gt; &lt;H&gt; &lt;H&gt; &lt;H&gt; &lt;M&gt; ... You DTM. ...</td>\n",
       "      <td>1</td>\n",
       "    </tr>\n",
       "    <tr>\n",
       "      <th>1</th>\n",
       "      <td>anger</td>\n",
       "      <td>stop posting every damn thing you do on instag...</td>\n",
       "      <td>6</td>\n",
       "    </tr>\n",
       "    <tr>\n",
       "      <th>2</th>\n",
       "      <td>trust</td>\n",
       "      <td>&lt;H&gt; youll never meet justin bieber. hell never...</td>\n",
       "      <td>2</td>\n",
       "    </tr>\n",
       "    <tr>\n",
       "      <th>3</th>\n",
       "      <td>anticipation</td>\n",
       "      <td>&lt;H&gt; &amp;amp; count down the days until May! &lt;H&gt; &lt;...</td>\n",
       "      <td>1</td>\n",
       "    </tr>\n",
       "    <tr>\n",
       "      <th>4</th>\n",
       "      <td>surprise</td>\n",
       "      <td>&lt;M&gt; Holme upon Spalding moor won rock challeng...</td>\n",
       "      <td>3</td>\n",
       "    </tr>\n",
       "  </tbody>\n",
       "</table>\n",
       "</div>"
      ],
      "text/plain": [
       "        emotion                                              tweet  label\n",
       "0  anticipation  <M>: <H> <H> <H> <H> <H> <H> <M> ... You DTM. ...      1\n",
       "1         anger  stop posting every damn thing you do on instag...      6\n",
       "2         trust  <H> youll never meet justin bieber. hell never...      2\n",
       "3  anticipation  <H> &amp; count down the days until May! <H> <...      1\n",
       "4      surprise  <M> Holme upon Spalding moor won rock challeng...      3"
      ]
     },
     "execution_count": 43,
     "metadata": {},
     "output_type": "execute_result"
    }
   ],
   "source": [
    "en_train['label'] = en_train['emotion'].map(emotion2label)\n",
    "en_train.head()\n"
   ]
  },
  {
   "cell_type": "code",
   "execution_count": 44,
   "metadata": {},
   "outputs": [
    {
     "data": {
      "text/html": [
       "<div>\n",
       "<style>\n",
       "    .dataframe thead tr:only-child th {\n",
       "        text-align: right;\n",
       "    }\n",
       "\n",
       "    .dataframe thead th {\n",
       "        text-align: left;\n",
       "    }\n",
       "\n",
       "    .dataframe tbody tr th {\n",
       "        vertical-align: top;\n",
       "    }\n",
       "</style>\n",
       "<table border=\"1\" class=\"dataframe\">\n",
       "  <thead>\n",
       "    <tr style=\"text-align: right;\">\n",
       "      <th></th>\n",
       "      <th>tweet</th>\n",
       "      <th>emotion</th>\n",
       "      <th>emotion2</th>\n",
       "      <th>emotion3</th>\n",
       "      <th>label</th>\n",
       "      <th>label2</th>\n",
       "      <th>label3</th>\n",
       "    </tr>\n",
       "  </thead>\n",
       "  <tbody>\n",
       "    <tr>\n",
       "      <th>0</th>\n",
       "      <td>#championsleague i am cmng to watch you...all ...</td>\n",
       "      <td>joy</td>\n",
       "      <td>anticipation</td>\n",
       "      <td>trust</td>\n",
       "      <td>0</td>\n",
       "      <td>1</td>\n",
       "      <td>2</td>\n",
       "    </tr>\n",
       "    <tr>\n",
       "      <th>1</th>\n",
       "      <td>#mufc wages up19% in13/14 season with #dimaria...</td>\n",
       "      <td>anticipation</td>\n",
       "      <td>fear</td>\n",
       "      <td>NaN</td>\n",
       "      <td>1</td>\n",
       "      <td>5</td>\n",
       "      <td>-1</td>\n",
       "    </tr>\n",
       "    <tr>\n",
       "      <th>2</th>\n",
       "      <td>#sterlings getting some great experience here....</td>\n",
       "      <td>joy</td>\n",
       "      <td>trust</td>\n",
       "      <td>anticipation</td>\n",
       "      <td>0</td>\n",
       "      <td>2</td>\n",
       "      <td>1</td>\n",
       "    </tr>\n",
       "    <tr>\n",
       "      <th>3</th>\n",
       "      <td>1 more week then it's block 208 kop grandstand...</td>\n",
       "      <td>anticipation</td>\n",
       "      <td>joy</td>\n",
       "      <td>trust</td>\n",
       "      <td>1</td>\n",
       "      <td>0</td>\n",
       "      <td>2</td>\n",
       "    </tr>\n",
       "    <tr>\n",
       "      <th>4</th>\n",
       "      <td>1 week from today! the @championsleague return...</td>\n",
       "      <td>anticipation</td>\n",
       "      <td>joy</td>\n",
       "      <td>trust</td>\n",
       "      <td>1</td>\n",
       "      <td>0</td>\n",
       "      <td>2</td>\n",
       "    </tr>\n",
       "  </tbody>\n",
       "</table>\n",
       "</div>"
      ],
      "text/plain": [
       "                                               tweet       emotion  \\\n",
       "0  #championsleague i am cmng to watch you...all ...           joy   \n",
       "1  #mufc wages up19% in13/14 season with #dimaria...  anticipation   \n",
       "2  #sterlings getting some great experience here....           joy   \n",
       "3  1 more week then it's block 208 kop grandstand...  anticipation   \n",
       "4  1 week from today! the @championsleague return...  anticipation   \n",
       "\n",
       "       emotion2      emotion3  label  label2  label3  \n",
       "0  anticipation         trust      0       1       2  \n",
       "1          fear           NaN      1       5      -1  \n",
       "2         trust  anticipation      0       2       1  \n",
       "3           joy         trust      1       0       2  \n",
       "4           joy         trust      1       0       2  "
      ]
     },
     "execution_count": 44,
     "metadata": {},
     "output_type": "execute_result"
    }
   ],
   "source": [
    "\n",
    "en_test['label'] = en_test['emotion'].map(emotion2label).fillna(-1).astype('int')\n",
    "en_test['label2'] = en_test['emotion2'].map(emotion2label).fillna(-1).astype('int')\n",
    "en_test['label3'] = en_test['emotion3'].map(emotion2label).fillna(-1).astype('int')\n",
    "en_test.head()"
   ]
  },
  {
   "cell_type": "code",
   "execution_count": 45,
   "metadata": {},
   "outputs": [
    {
     "name": "stdout",
     "output_type": "stream",
     "text": [
      "1965870\n",
      "1954\n"
     ]
    }
   ],
   "source": [
    "train_tweet = [filter_tweet(tweet) for tweet in en_train['tweet']]\n",
    "test_tweet = [filter_tweet(tweet) for tweet in en_test['tweet']]\n",
    "\n",
    "\n",
    "print(len(train_tweet))\n",
    "print(len(test_tweet))"
   ]
  },
  {
   "cell_type": "code",
   "execution_count": 46,
   "metadata": {},
   "outputs": [
    {
     "name": "stdout",
     "output_type": "stream",
     "text": [
      "(1965870, 60)\n",
      "(1954, 60)\n"
     ]
    }
   ],
   "source": [
    "\n",
    "tweets_train_all = word_transform(train_tweet, max_length = max_length)\n",
    "print(tweets_train_all.shape)\n",
    "tweets_test = word_transform(test_tweet, max_length = max_length)\n",
    "print(tweets_test.shape)\n",
    "\n",
    "senti_train_all = en_train['label'].as_matrix()\n",
    "senti_test  = en_test['label'].as_matrix()\n",
    "senti_test2  = en_test['label2'].as_matrix()\n",
    "senti_test3  = en_test['label3'].as_matrix()"
   ]
  },
  {
   "cell_type": "markdown",
   "metadata": {},
   "source": [
    "### Train Validation Split "
   ]
  },
  {
   "cell_type": "code",
   "execution_count": 47,
   "metadata": {
    "collapsed": true
   },
   "outputs": [],
   "source": [
    "from sklearn.model_selection import train_test_split"
   ]
  },
  {
   "cell_type": "code",
   "execution_count": 48,
   "metadata": {},
   "outputs": [
    {
     "name": "stdout",
     "output_type": "stream",
     "text": [
      "(1769283, 60)\n",
      "(196587, 60)\n"
     ]
    }
   ],
   "source": [
    "tweets_train, tweets_valid, senti_train, senti_valid = train_test_split(tweets_train_all, senti_train_all, test_size=0.1, random_state=42)\n",
    "print(tweets_train.shape)\n",
    "print(tweets_valid.shape)"
   ]
  },
  {
   "cell_type": "markdown",
   "metadata": {},
   "source": [
    "### Build Model"
   ]
  },
  {
   "cell_type": "code",
   "execution_count": 49,
   "metadata": {
    "collapsed": true
   },
   "outputs": [],
   "source": [
    "import os\n",
    "# os.makedirs(\"./model\")"
   ]
  },
  {
   "cell_type": "code",
   "execution_count": 50,
   "metadata": {
    "collapsed": true
   },
   "outputs": [],
   "source": [
    "n_input = max_length\n",
    "n_output = 8\n",
    "learning_rate = 1\n",
    "\n",
    "embedding_size = distance_supervised_embeddings.shape[1]\n",
    "filter_sizes = [2,3]\n",
    "num_filters = 400\n",
    "pooling_size = 3\n",
    "pooling_strides = 2\n",
    "epochs_num = 25\n",
    "batch_size = 128"
   ]
  },
  {
   "cell_type": "code",
   "execution_count": 71,
   "metadata": {},
   "outputs": [
    {
     "name": "stdout",
     "output_type": "stream",
     "text": [
      "(?, 29, 1, 400)\n"
     ]
    }
   ],
   "source": [
    "reset_graph()\n",
    "\n",
    "X = tf.placeholder(tf.int32, shape = (None, n_input), name = \"Input_X\")\n",
    "y = tf.placeholder(tf.int32, shape = (None), name = \"Y\")\n",
    "# mode = tf.placeholder(tf.bool, name = \"Mode\")\n",
    "\n",
    "# Load Embedding Model\n",
    "with tf.device('/cpu:0'), tf.name_scope(\"embedding\"):\n",
    "    word2vec = tf.Variable(tf.constant(0.0, shape = distance_supervised_embeddings.shape),\n",
    "                    trainable=False, name=\"word2vec\") # trainable=False, means not update these embeddings\n",
    "\n",
    "embedded_chars = tf.nn.embedding_lookup(word2vec, X)\n",
    "embedded_chars_expanded = tf.expand_dims(embedded_chars, -1) # ex: convert [[1,2]] to [[1],[2]], that is shape (2,) to (2,1)\n",
    "\n",
    "# 1st convolution layer\n",
    "conv1 = tf.layers.conv2d(embedded_chars_expanded, \n",
    "                         filters = num_filters, \n",
    "                         kernel_size = (filter_sizes[0], distance_supervised_embeddings.shape[1]),\n",
    "                         strides = (1,1), \n",
    "#                          padding=\"same\",\n",
    "                         kernel_initializer=tf.contrib.layers.variance_scaling_initializer(),\n",
    "                         \n",
    "                         activation = tf.nn.relu,\n",
    "                         name=\"Convolution_1st\"\n",
    "                        )\n",
    "\n",
    "pool1 = tf.layers.max_pooling2d(inputs=conv1, pool_size=[pooling_size, 1], strides=pooling_strides)\n",
    "\n",
    "# 2nd convolution layer\n",
    "conv2 = tf.layers.conv2d(pool1, \n",
    "                         filters = num_filters, \n",
    "                         kernel_size = (filter_sizes[1], 1),\n",
    "                         strides = (1,1), \n",
    "                         padding=\"same\",\n",
    "                         kernel_initializer=tf.contrib.layers.variance_scaling_initializer(),\n",
    "                         activation = tf.nn.relu,\n",
    "                         name=\"Convolution_2nd\"\n",
    "                        )\n",
    "print(conv2.shape)\n",
    "pool2 = tf.layers.max_pooling2d(inputs=conv2, pool_size=[29, 1], strides=1)\n",
    "\n",
    "# Dense Layer, Combine all the pooled features\n",
    "pool2_flat = tf.reshape(pool2, [-1, num_filters])\n",
    "\n",
    "dense = tf.layers.dense(inputs=pool2_flat, units=1024, activation=tf.nn.relu, name = \"Fully_connect\")\n",
    "# dense = tf.layers.dropout(inputs = dense, rate = 0.3, training = mode)\n",
    "\n",
    "# Logits Layer\n",
    "logits = tf.layers.dense(inputs=dense, \n",
    "                         units=n_output, \n",
    "                         activation=tf.nn.softmax, \n",
    "#                          kernel_initializer=tf.contrib.layers.variance_scaling_initializer(),\n",
    "                         name = \"Softmax\")\n",
    "\n",
    "# Define Loss Function\n",
    "cross_entropy = tf.reduce_mean(tf.nn.sparse_softmax_cross_entropy_with_logits(labels=y, logits=logits, name=\"Cross_Entropy\"))\n",
    "\n",
    "# Define Training Process\n",
    "train_step = tf.train.AdadeltaOptimizer(learning_rate, epsilon=1e-6).minimize(cross_entropy)\n",
    "\n",
    "# Define Accuracy\n",
    "predicted_class = tf.argmax(logits,1, output_type=tf.int32)\n",
    "correct_predict = tf.equal(y, predicted_class) # [True, False ..., True]\n",
    "accuracy = tf.reduce_mean(tf.cast(correct_predict, tf.float32)) # [True, False ..., True] --> [1,0,...,1]\n"
   ]
  },
  {
   "cell_type": "code",
   "execution_count": 290,
   "metadata": {
    "collapsed": true
   },
   "outputs": [],
   "source": [
    "# # prepare the training batch in tensorflow\n",
    "# train_data = tf.contrib.data.Dataset.from_tensor_slices((tweets_train, senti_train)).batch(batch_size).repeat()\n",
    "# train_iterator = train_data.make_one_shot_iterator() # Create an iterator to go through the training data\n",
    "# train_next_batch = train_iterator.get_next()"
   ]
  },
  {
   "cell_type": "code",
   "execution_count": 72,
   "metadata": {
    "collapsed": true
   },
   "outputs": [],
   "source": [
    "# prepare the training batch in python\n",
    "\n",
    "def data_iterator(X, y):\n",
    "    \"\"\" A simple data iterator \"\"\"\n",
    "    batch_idx = 0\n",
    "    while True:\n",
    "        for batch_idx in range(0, len(X), batch_size):\n",
    "            trains_batch = X[batch_idx:batch_idx+batch_size]\n",
    "            labels_batch = y[batch_idx:batch_idx+batch_size]\n",
    "            yield trains_batch, labels_batch\n",
    "\n",
    "\n",
    "iter_ = data_iterator(tweets_train, senti_train)\n",
    "\n",
    "valid_iter_ = data_iterator(tweets_valid, senti_valid)"
   ]
  },
  {
   "cell_type": "code",
   "execution_count": 73,
   "metadata": {
    "scrolled": false
   },
   "outputs": [
    {
     "name": "stderr",
     "output_type": "stream",
     "text": [
      "/home/yenhao/Documents/chatbot/lib/python3.5/site-packages/sklearn/metrics/classification.py:1135: UndefinedMetricWarning: F-score is ill-defined and being set to 0.0 in labels with no predicted samples.\n",
      "  'precision', 'predicted', average, warn_for)\n"
     ]
    },
    {
     "name": "stdout",
     "output_type": "stream",
     "text": [
      "2017-12-12 23:35:09 -   1 epoch, loss:1.602, accuracy:0.672/0.549, f1-score:0.647/0.526, test acc:0.283\n",
      "2017-12-12 23:37:15 -   2 epoch, loss:1.749, accuracy:0.523/0.559, f1-score:0.502/0.541, test acc:0.312\n",
      "2017-12-12 23:39:20 -   3 epoch, loss:1.641, accuracy:0.625/0.561, f1-score:0.590/0.537, test acc:0.306\n",
      "2017-12-12 23:41:26 -   4 epoch, loss:1.702, accuracy:0.570/0.547, f1-score:0.548/0.524, test acc:0.335\n",
      "2017-12-12 23:43:31 -   5 epoch, loss:1.733, accuracy:0.539/0.538, f1-score:0.513/0.511, test acc:0.325\n",
      "2017-12-12 23:45:36 -   6 epoch, loss:1.706, accuracy:0.570/0.525, f1-score:0.549/0.497, test acc:0.321\n",
      "2017-12-12 23:47:41 -   7 epoch, loss:1.722, accuracy:0.555/0.512, f1-score:0.528/0.493, test acc:0.246\n",
      "2017-12-12 23:49:46 -   8 epoch, loss:1.735, accuracy:0.539/0.506, f1-score:0.527/0.492, test acc:0.220\n",
      "2017-12-12 23:51:51 -   9 epoch, loss:1.758, accuracy:0.516/0.483, f1-score:0.484/0.454, test acc:0.325\n",
      "2017-12-12 23:53:55 -  10 epoch, loss:1.782, accuracy:0.492/0.510, f1-score:0.456/0.483, test acc:0.320\n",
      "2017-12-12 23:56:00 -  11 epoch, loss:1.826, accuracy:0.445/0.494, f1-score:0.412/0.471, test acc:0.272\n",
      "2017-12-12 23:58:05 -  12 epoch, loss:1.758, accuracy:0.516/0.492, f1-score:0.491/0.467, test acc:0.291\n",
      "2017-12-13 00:00:10 -  13 epoch, loss:1.712, accuracy:0.562/0.487, f1-score:0.526/0.456, test acc:0.339\n",
      "2017-12-13 00:02:15 -  14 epoch, loss:1.860, accuracy:0.414/0.456, f1-score:0.361/0.419, test acc:0.284\n",
      "2017-12-13 00:04:20 -  15 epoch, loss:1.774, accuracy:0.500/0.482, f1-score:0.490/0.456, test acc:0.316\n",
      "2017-12-13 00:06:25 -  16 epoch, loss:1.827, accuracy:0.445/0.457, f1-score:0.420/0.431, test acc:0.237\n",
      "2017-12-13 00:08:30 -  17 epoch, loss:1.746, accuracy:0.531/0.439, f1-score:0.499/0.406, test acc:0.247\n",
      "2017-12-13 00:10:35 -  18 epoch, loss:1.837, accuracy:0.438/0.427, f1-score:0.395/0.384, test acc:0.348\n",
      "2017-12-13 00:12:40 -  19 epoch, loss:1.774, accuracy:0.500/0.471, f1-score:0.474/0.447, test acc:0.279\n",
      "2017-12-13 00:14:45 -  20 epoch, loss:1.774, accuracy:0.500/0.421, f1-score:0.482/0.380, test acc:0.282\n",
      "2017-12-13 00:16:49 -  21 epoch, loss:1.922, accuracy:0.352/0.364, f1-score:0.305/0.322, test acc:0.349\n",
      "2017-12-13 00:18:54 -  22 epoch, loss:1.868, accuracy:0.406/0.421, f1-score:0.334/0.364, test acc:0.286\n",
      "2017-12-13 00:20:59 -  23 epoch, loss:1.844, accuracy:0.430/0.418, f1-score:0.383/0.374, test acc:0.342\n",
      "2017-12-13 00:23:04 -  24 epoch, loss:1.743, accuracy:0.531/0.441, f1-score:0.505/0.401, test acc:0.295\n",
      "2017-12-13 00:25:09 -  25 epoch, loss:1.883, accuracy:0.391/0.467, f1-score:0.357/0.437, test acc:0.278\n"
     ]
    },
    {
     "data": {
      "image/png": "[encoded data removed]",
      "text/plain": [
       "<matplotlib.figure.Figure at 0x7ff0b1f73e10>"
      ]
     },
     "metadata": {},
     "output_type": "display_data"
    },
    {
     "data": {
      "image/png": "[encoded data removed]",
      "text/plain": [
       "<matplotlib.figure.Figure at 0x7ff0b17149b0>"
      ]
     },
     "metadata": {},
     "output_type": "display_data"
    }
   ],
   "source": [
    "round_of_epochs = int(tweets_train.shape[0]/batch_size)\n",
    "valid_rounds_of_epochs = int(tweets_valid.shape[0]/batch_size)\n",
    "\n",
    "train_loss = []\n",
    "test_loss  = []\n",
    "\n",
    "train_f1 = []\n",
    "test_f1 = []\n",
    "x_axis = np.arange(0., epochs_num, 1)\n",
    "saver = tf.train.Saver() # to store the model\n",
    "\n",
    "best_valid_acc = 0\n",
    "\n",
    "testing_res = []\n",
    "with tf.Session() as sess:\n",
    "    # Initialize all variables\n",
    "#     if os.path.exists('./model/emo_504.ckpt.meta'):\n",
    "#         print (\"Model Restore\")\n",
    "#         saver.restore(sess, './model/emo_504.ckpt')\n",
    "#     else:\n",
    "    sess.run(tf.local_variables_initializer())\n",
    "    sess.run(tf.global_variables_initializer())\n",
    "    sess.run(word2vec.assign(distance_supervised_embeddings))# Assign the pretrain word2vec\n",
    "    \n",
    "    for epochs in range(epochs_num): # starting the training process and set the epochs_num\n",
    "        for _ in range(round_of_epochs):\n",
    "#             train, label = sess.run(train_next_batch) # Get the mini-batch data sample from tensorflow\n",
    "            train, label = next(iter_) # Get the mini-batch data sample from tensorflow\n",
    "\n",
    "            sess.run(train_step, feed_dict={X:train, y:label}) # Feed the features, labe, training_mode  to network to train\n",
    "\n",
    "        # An epoch finish\n",
    "        \n",
    "        loss, pred, acc = sess.run([cross_entropy, predicted_class, accuracy], feed_dict={X:train, y:label})\n",
    "        \n",
    "        # Validation\n",
    "        valid_loss_list = []\n",
    "        predict_res = np.zeros(batch_size)\n",
    "        t_label = np.zeros(batch_size)\n",
    "        valid_acc_list = []\n",
    "        for _ in range(valid_rounds_of_epochs):\n",
    "            x_valid, y_valid = next(valid_iter_) # Get the mini-batch data sample from tensorflow\n",
    "            t_loss, t_pred, t_accuracy = sess.run([cross_entropy, predicted_class, accuracy], feed_dict={X:x_valid, y:y_valid})\n",
    "            valid_loss_list.append(t_loss)\n",
    "            predict_res = np.concatenate((predict_res, t_pred))\n",
    "            t_label = np.concatenate((t_label, y_valid))\n",
    "            valid_acc_list.append(t_accuracy)\n",
    "        # An epoch finish\n",
    "#         t_loss, t_pred = sess.run([cross_entropy,predicted_class], feed_dict={X:tweets_valid, y:senti_valid})\n",
    "        train_loss.append(loss)\n",
    "        test_loss.append(sum(valid_loss_list)/len(valid_loss_list))\n",
    "        train_f1.append(f1_score(label, pred, average='weighted'))\n",
    "        test_f1.append(f1_score(t_label[1:], predict_res[1:], average='weighted'))\n",
    "        \n",
    "        t_acc = sum(valid_acc_list)/len(valid_acc_list)\n",
    "        \n",
    "        test_pred, test_acc = sess.run([predicted_class, accuracy], feed_dict={X:tweets_test, y:senti_test})\n",
    "        print(\"{} - {:3d} epoch, loss:{:.3f}, accuracy:{:.3f}/{:.3f}, f1-score:{:.3f}/{:.3f}, test acc:{:.3f}\".format(\n",
    "            datetime.datetime.now().strftime(\"%Y-%m-%d %H:%M:%S\"),\n",
    "            epochs+1,\n",
    "            loss, \n",
    "            acc,\n",
    "            t_acc,\n",
    "            f1_score(label, pred, average='weighted'),\n",
    "            f1_score(t_label[1:], predict_res[1:], average='weighted'),\n",
    "            test_acc\n",
    "            )\n",
    "        )\n",
    "        \n",
    "        testing_res.append(test_pred)\n",
    "        if best_valid_acc < t_acc:\n",
    "            best_valid_acc = t_acc\n",
    "            save_path = saver.save(sess, \"./model/emo_\"+str(t_acc)[2:5]+\".ckpt\")\n",
    "        \n",
    "    plt.rcParams['font.size'] = 14\n",
    "    plt.plot(x_axis, train_loss, 'r', x_axis, test_loss, 'b')\n",
    "    plt.legend(['Train', 'Valid'], loc='upper right')\n",
    "    plt.xlabel('Epochs')\n",
    "    plt.ylabel('Loss(cross entropy)')\n",
    "    plt.show()\n",
    "    plt.clf()\n",
    "    plt.plot(x_axis, train_f1, x_axis, test_f1)\n",
    "    plt.legend(['Train', 'Valid'], loc='upper right')\n",
    "    plt.xlabel('Epochs')\n",
    "    plt.ylabel('F1 Score')\n",
    "    plt.show()\n",
    "\n",
    "    "
   ]
  },
  {
   "cell_type": "code",
   "execution_count": 235,
   "metadata": {
    "collapsed": true
   },
   "outputs": [],
   "source": [
    "# # restore graph\n",
    "# with tf.Session() as sess:\n",
    "#     saver = tf.train.import_meta_graph('./model/emo_504.ckpt.meta')\n",
    "#     saver.restore(sess, tf.train.latest_checkpoint('./model/'))\n",
    "# #     saver.restore(sess, './model/emo_504.ckpt.meta')\n",
    "#     sess.run(tf.global_variables_initializer())\n",
    "# #     sess.run(word2vec.assign(distance_supervised_embeddings))# Assign the pretrain word2vec\n",
    "#     # input the testing tweets\n",
    "    "
   ]
  },
  {
   "cell_type": "markdown",
   "metadata": {},
   "source": [
    "# Testing Evalution"
   ]
  },
  {
   "cell_type": "code",
   "execution_count": 54,
   "metadata": {
    "collapsed": true
   },
   "outputs": [],
   "source": [
    "from sklearn.metrics import confusion_matrix\n",
    "import itertools"
   ]
  },
  {
   "cell_type": "code",
   "execution_count": 55,
   "metadata": {
    "collapsed": true
   },
   "outputs": [],
   "source": [
    "def label2emotion(label):\n",
    "    if label == 0:            return 'joy'\n",
    "    elif label == 1: return 'anticipation'\n",
    "    elif label == 2:        return 'trust'\n",
    "    elif label == 3:     return 'surprise'\n",
    "    elif label == 4:      return 'sadness'\n",
    "    elif label == 5:         return 'fear'\n",
    "    elif label == 6:        return 'anger'\n",
    "    elif label == 7:      return 'disgust'\n",
    "\n",
    "def plot_confusion_matrix(cm, classes,\n",
    "                          normalize=False,\n",
    "                          title='Confusion matrix',\n",
    "                          cmap=plt.cm.Blues):\n",
    "    \"\"\"\n",
    "    This function prints and plots the confusion matrix.\n",
    "    Normalization can be applied by setting `normalize=True`.\n",
    "    \"\"\"\n",
    "    if normalize:\n",
    "        cm = cm.astype('float') / cm.sum(axis=1)[:, np.newaxis]\n",
    "        print(\"Normalized confusion matrix\")\n",
    "    else:\n",
    "        print('Confusion matrix, without normalization')\n",
    "\n",
    "#     print(cm)\n",
    "\n",
    "    plt.imshow(cm, interpolation='nearest', cmap=cmap)\n",
    "    plt.title(title)\n",
    "    plt.colorbar()\n",
    "    tick_marks = np.arange(len(classes))\n",
    "    plt.xticks(tick_marks, classes, rotation=45)\n",
    "    plt.yticks(tick_marks, classes)\n",
    "\n",
    "    fmt = '.2f' if normalize else 'd'\n",
    "    thresh = cm.max() / 2.\n",
    "    for i, j in itertools.product(range(cm.shape[0]), range(cm.shape[1])):\n",
    "        plt.text(j, i, format(cm[i, j], fmt),\n",
    "                 horizontalalignment=\"center\",\n",
    "                 color=\"white\" if cm[i, j] > thresh else \"black\")\n",
    "\n",
    "    plt.tight_layout()\n",
    "    plt.ylabel('True label')\n",
    "    plt.xlabel('Predicted label')"
   ]
  },
  {
   "cell_type": "code",
   "execution_count": 56,
   "metadata": {
    "collapsed": true
   },
   "outputs": [],
   "source": [
    "eva_res = pd.DataFrame({'pred':testing_res[12]})"
   ]
  },
  {
   "cell_type": "code",
   "execution_count": 57,
   "metadata": {
    "collapsed": true
   },
   "outputs": [],
   "source": [
    "eva_res['emotion'] = eva_res['pred'].map(label2emotion)"
   ]
  },
  {
   "cell_type": "code",
   "execution_count": 58,
   "metadata": {
    "collapsed": true
   },
   "outputs": [],
   "source": [
    "class_names = ['joy','anticipation','trust','surprise','sadness','fear','anger','disgust']\n",
    "cfm = confusion_matrix(en_test.emotion, eva_res.emotion, labels=class_names)"
   ]
  },
  {
   "cell_type": "code",
   "execution_count": 59,
   "metadata": {},
   "outputs": [
    {
     "name": "stdout",
     "output_type": "stream",
     "text": [
      "              precision    recall  f1-score   support\n",
      "\n",
      "         joy       0.40      0.35      0.38       223\n",
      "anticipation       0.00      0.00      0.00       272\n",
      "       trust       0.00      0.00      0.00       183\n",
      "    surprise       0.24      0.29      0.27       119\n",
      "     sadness       0.48      0.69      0.57       591\n",
      "        fear       0.21      0.51      0.30       218\n",
      "       anger       0.40      0.14      0.21       246\n",
      "     disgust       0.25      0.39      0.30       102\n",
      "\n",
      " avg / total       0.29      0.36      0.31      1954\n",
      "\n"
     ]
    },
    {
     "name": "stderr",
     "output_type": "stream",
     "text": [
      "/home/yenhao/Documents/chatbot/lib/python3.5/site-packages/sklearn/metrics/classification.py:1135: UndefinedMetricWarning: Precision and F-score are ill-defined and being set to 0.0 in labels with no predicted samples.\n",
      "  'precision', 'predicted', average, warn_for)\n"
     ]
    }
   ],
   "source": [
    "print(classification_report(en_test.emotion, eva_res.emotion, target_names=class_names))"
   ]
  },
  {
   "cell_type": "code",
   "execution_count": 60,
   "metadata": {},
   "outputs": [
    {
     "name": "stdout",
     "output_type": "stream",
     "text": [
      "Normalized confusion matrix\n"
     ]
    },
    {
     "data": {
      "image/png": "[encoded data removed]",
      "text/plain": [
       "<matplotlib.figure.Figure at 0x7ff02dc6eac8>"
      ]
     },
     "metadata": {},
     "output_type": "display_data"
    }
   ],
   "source": [
    "\n",
    "# Plot non-normalized confusion matrix\n",
    "# plt.figure(figsize=(12,8))\n",
    "# plot_confusion_matrix(cfm, classes=class_names,\n",
    "#                       title='Confusion matrix, without normalization')\n",
    "# plt.show()\n",
    "# Plot normalized confusion matrix\n",
    "plt.figure(figsize=(12,8))\n",
    "plot_confusion_matrix(cfm, classes=class_names, normalize=True,\n",
    "                      title='Normalized confusion matrix')\n",
    "\n",
    "plt.show()"
   ]
  },
  {
   "cell_type": "code",
   "execution_count": 61,
   "metadata": {
    "collapsed": true
   },
   "outputs": [],
   "source": [
    "emo_eval_dict = {'joy':         0,\n",
    "                 'surprise':    0,\n",
    "                 'trust':       0,\n",
    "                 'anticipation':0,\n",
    "                 'fear':        0,\n",
    "                 'sadness':     0,\n",
    "                 'disgust':     0,\n",
    "                 'anger':       0\n",
    "                 }\n",
    "\n",
    "emo_total_dict = {'joy':         0,\n",
    "                  'surprise':    0,\n",
    "                  'trust':       0,\n",
    "                  'anticipation':0,\n",
    "                  'fear':        0,\n",
    "                  'sadness':     0,\n",
    "                  'disgust':     0,\n",
    "                  'anger':       0\n",
    "                  }"
   ]
  },
  {
   "cell_type": "code",
   "execution_count": 62,
   "metadata": {
    "collapsed": true
   },
   "outputs": [],
   "source": [
    "correct = 0\n",
    "first_correct = 0\n",
    "emo_first_correct_dict = dict(emo_eval_dict)\n",
    "emo_correct_dict = dict(emo_eval_dict)\n",
    "for i, emo in enumerate(eva_res['emotion']):\n",
    "    emo_total_dict[emo] += 1\n",
    "    if emo == en_test.emotion[i]:\n",
    "        first_correct += 1\n",
    "        emo_first_correct_dict[emo] += 1\n",
    "        correct += 1\n",
    "        emo_correct_dict[emo] +=1\n",
    "    elif emo == en_test.emotion2[i]:\n",
    "        correct += 1\n",
    "        emo_correct_dict[emo] +=1"
   ]
  },
  {
   "cell_type": "code",
   "execution_count": 63,
   "metadata": {},
   "outputs": [
    {
     "data": {
      "text/plain": [
       "0.4646878198567042"
      ]
     },
     "execution_count": 63,
     "metadata": {},
     "output_type": "execute_result"
    }
   ],
   "source": [
    "correct/eva_res.shape[0]"
   ]
  },
  {
   "cell_type": "markdown",
   "metadata": {
    "collapsed": true
   },
   "source": [
    "## Parallen N-gram CNN"
   ]
  },
  {
   "cell_type": "code",
   "execution_count": 86,
   "metadata": {
    "scrolled": false
   },
   "outputs": [
    {
     "name": "stdout",
     "output_type": "stream",
     "text": [
      "(?, 29, 1, 400)\n",
      "(?, 26, 1, 400)\n"
     ]
    }
   ],
   "source": [
    "num_filters = 200\n",
    "\n",
    "reset_graph()\n",
    "\n",
    "X = tf.placeholder(tf.int32, shape = (None, n_input), name = \"Input_X\")\n",
    "y = tf.placeholder(tf.int32, shape = (None), name = \"Y\")\n",
    "# mode = tf.placeholder(tf.bool, name = \"Mode\")\n",
    "\n",
    "# Load Embedding Model\n",
    "with tf.device('/cpu:0'), tf.name_scope(\"embedding\"):\n",
    "    word2vec = tf.Variable(tf.constant(0.0, shape = distance_supervised_embeddings.shape),\n",
    "                    trainable=False, name=\"word2vec\") # trainable=False, means not update these embeddings\n",
    "\n",
    "embedded_chars = tf.nn.embedding_lookup(word2vec, X)\n",
    "embedded_chars_expanded = tf.expand_dims(embedded_chars, -1) # ex: convert [[1,2]] to [[1],[2]], that is shape (2,) to (2,1)\n",
    "\n",
    "# 1st convolution layer\n",
    "conv11 = tf.layers.conv2d(embedded_chars_expanded, \n",
    "                         filters = num_filters, \n",
    "                         kernel_size = (2, distance_supervised_embeddings.shape[1]),\n",
    "                         strides = (1,1), \n",
    "                         kernel_initializer=tf.contrib.layers.variance_scaling_initializer(),\n",
    "                         activation = tf.nn.relu,\n",
    "                         name=\"Convolution_1st\"\n",
    "                        )\n",
    "\n",
    "pool11 = tf.layers.max_pooling2d(inputs=conv11, pool_size=[pooling_size, 1], strides=pooling_strides)\n",
    "\n",
    "# 2nd convolution layer\n",
    "conv21 = tf.layers.conv2d(pool11, \n",
    "                         filters = num_filters, \n",
    "                         kernel_size = (filter_sizes[1], 1),\n",
    "                         strides = (1,1), \n",
    "                         padding=\"same\",\n",
    "                         kernel_initializer=tf.contrib.layers.variance_scaling_initializer(),\n",
    "                         activation = tf.nn.relu,\n",
    "                         name=\"Convolution_2nd\"\n",
    "                        )\n",
    "print(conv21.shape)\n",
    "pool21 = tf.layers.max_pooling2d(inputs=conv21, pool_size=[29, 1], strides=1)\n",
    "# Dense Layer, Combine all the pooled features\n",
    "pool21_flat = tf.reshape(pool21, [-1, num_filters])\n",
    "\n",
    "# 1st convolution layer\n",
    "conv12 = tf.layers.conv2d(embedded_chars_expanded, \n",
    "                         filters = num_filters, \n",
    "                         kernel_size = (3, distance_supervised_embeddings.shape[1]),\n",
    "                         strides = (1,1), \n",
    "                         kernel_initializer=tf.contrib.layers.variance_scaling_initializer(),\n",
    "                         activation = tf.nn.relu,\n",
    "                         name=\"Convolution_1st_2\"\n",
    "                        )\n",
    "\n",
    "pool12 = tf.layers.max_pooling2d(inputs=conv12, pool_size=[pooling_size, 1], strides=pooling_strides)\n",
    "\n",
    "# 2nd convolution layer\n",
    "conv22 = tf.layers.conv2d(pool12, \n",
    "                         filters = num_filters, \n",
    "                         kernel_size = (filter_sizes[1], 1),\n",
    "                         strides = (1,1),\n",
    "                         kernel_initializer=tf.contrib.layers.variance_scaling_initializer(),\n",
    "                         activation = tf.nn.relu,\n",
    "                         name=\"Convolution_2nd_2\"\n",
    "                        )\n",
    "print(conv22.shape)\n",
    "pool22 = tf.layers.max_pooling2d(inputs=conv22, pool_size=[26, 1], strides=1)\n",
    "# Dense Layer, Combine all the pooled features\n",
    "pool22_flat = tf.reshape(pool22, [-1, num_filters])\n",
    "\n",
    "print(pool21_flat.shape)\n",
    "print(pool22_flat.shape)\n",
    "\n",
    "conv_concat = tf.concat([pool21_flat, pool22_flat], 1)\n",
    "\n",
    "print(conv_concat.shape)\n",
    "\n",
    "dense = tf.layers.dense(inputs=conv_concat, units=1024, activation=tf.nn.relu, name = \"Fully_connect\")\n",
    "# dense = tf.layers.dropout(inputs = dense, rate = 0.3, training = mode)\n",
    "\n",
    "# Logits Layer\n",
    "logits = tf.layers.dense(inputs=dense, \n",
    "                         units=n_output, \n",
    "                         activation=tf.nn.softmax, \n",
    "#                          kernel_initializer=tf.contrib.layers.variance_scaling_initializer(),\n",
    "                         name = \"Softmax\")\n",
    "\n",
    "# Define Loss Function\n",
    "cross_entropy = tf.reduce_mean(tf.nn.sparse_softmax_cross_entropy_with_logits(labels=y, logits=logits, name=\"Cross_Entropy\"))\n",
    "\n",
    "# Define Training Process\n",
    "train_step = tf.train.AdadeltaOptimizer(learning_rate, epsilon=1e-6).minimize(cross_entropy)\n",
    "\n",
    "# Define Accuracy\n",
    "predicted_class = tf.argmax(logits,1, output_type=tf.int32)\n",
    "correct_predict = tf.equal(y, predicted_class) # [True, False ..., True]\n",
    "accuracy = tf.reduce_mean(tf.cast(correct_predict, tf.float32)) # [True, False ..., True] --> [1,0,...,1]\n"
   ]
  },
  {
   "cell_type": "code",
   "execution_count": 87,
   "metadata": {},
   "outputs": [
    {
     "data": {
      "text/html": [
       "\n",
       "        <iframe seamless style=\"width:1200px;height:620px;border:0\" srcdoc=\"\n",
       "        <script>\n",
       "          function load() {\n",
       "            document.getElementById(&quot;graph0.3745401188473625&quot;).pbtxt = 'node {\\n  name: &quot;Input_X&quot;\\n  op: &quot;Placeholder&quot;\\n  attr {\\n    key: &quot;dtype&quot;\\n    value {\\n      type: DT_INT32\\n    }\\n  }\\n  attr {\\n    key: &quot;shape&quot;\\n    value {\\n      shape {\\n        dim {\\n          size: -1\\n        }\\n        dim {\\n          size: 60\\n        }\\n      }\\n    }\\n  }\\n}\\nnode {\\n  name: &quot;Y&quot;\\n  op: &quot;Placeholder&quot;\\n  attr {\\n    key: &quot;dtype&quot;\\n    value {\\n      type: DT_INT32\\n    }\\n  }\\n  attr {\\n    key: &quot;shape&quot;\\n    value {\\n      shape {\\n        unknown_rank: true\\n      }\\n    }\\n  }\\n}\\nnode {\\n  name: &quot;embedding/Const&quot;\\n  op: &quot;Const&quot;\\n  device: &quot;/device:CPU:0&quot;\\n  attr {\\n    key: &quot;dtype&quot;\\n    value {\\n      type: DT_FLOAT\\n    }\\n  }\\n  attr {\\n    key: &quot;value&quot;\\n    value {\\n      tensor {\\n        dtype: DT_FLOAT\\n        tensor_shape {\\n          dim {\\n            size: 496894\\n          }\\n          dim {\\n            size: 200\\n          }\\n        }\\n        float_val: 0.0\\n      }\\n    }\\n  }\\n}\\nnode {\\n  name: &quot;embedding/word2vec&quot;\\n  op: &quot;VariableV2&quot;\\n  device: &quot;/device:CPU:0&quot;\\n  attr {\\n    key: &quot;container&quot;\\n    value {\\n      s: &quot;&quot;\\n    }\\n  }\\n  attr {\\n    key: &quot;dtype&quot;\\n    value {\\n      type: DT_FLOAT\\n    }\\n  }\\n  attr {\\n    key: &quot;shape&quot;\\n    value {\\n      shape {\\n        dim {\\n          size: 496894\\n        }\\n        dim {\\n          size: 200\\n        }\\n      }\\n    }\\n  }\\n  attr {\\n    key: &quot;shared_name&quot;\\n    value {\\n      s: &quot;&quot;\\n    }\\n  }\\n}\\nnode {\\n  name: &quot;embedding/word2vec/Assign&quot;\\n  op: &quot;Assign&quot;\\n  input: &quot;embedding/word2vec&quot;\\n  input: &quot;embedding/Const&quot;\\n  device: &quot;/device:CPU:0&quot;\\n  attr {\\n    key: &quot;T&quot;\\n    value {\\n      type: DT_FLOAT\\n    }\\n  }\\n  attr {\\n    key: &quot;_class&quot;\\n    value {\\n      list {\\n        s: &quot;loc:@embedding/word2vec&quot;\\n      }\\n    }\\n  }\\n  attr {\\n    key: &quot;use_locking&quot;\\n    value {\\n      b: true\\n    }\\n  }\\n  attr {\\n    key: &quot;validate_shape&quot;\\n    value {\\n      b: true\\n    }\\n  }\\n}\\nnode {\\n  name: &quot;embedding/word2vec/read&quot;\\n  op: &quot;Identity&quot;\\n  input: &quot;embedding/word2vec&quot;\\n  device: &quot;/device:CPU:0&quot;\\n  attr {\\n    key: &quot;T&quot;\\n    value {\\n      type: DT_FLOAT\\n    }\\n  }\\n  attr {\\n    key: &quot;_class&quot;\\n    value {\\n      list {\\n        s: &quot;loc:@embedding/word2vec&quot;\\n      }\\n    }\\n  }\\n}\\nnode {\\n  name: &quot;embedding_lookup&quot;\\n  op: &quot;Gather&quot;\\n  input: &quot;embedding/word2vec/read&quot;\\n  input: &quot;Input_X&quot;\\n  device: &quot;/device:CPU:0&quot;\\n  attr {\\n    key: &quot;Tindices&quot;\\n    value {\\n      type: DT_INT32\\n    }\\n  }\\n  attr {\\n    key: &quot;Tparams&quot;\\n    value {\\n      type: DT_FLOAT\\n    }\\n  }\\n  attr {\\n    key: &quot;_class&quot;\\n    value {\\n      list {\\n        s: &quot;loc:@embedding/word2vec&quot;\\n      }\\n    }\\n  }\\n  attr {\\n    key: &quot;validate_indices&quot;\\n    value {\\n      b: true\\n    }\\n  }\\n}\\nnode {\\n  name: &quot;ExpandDims/dim&quot;\\n  op: &quot;Const&quot;\\n  attr {\\n    key: &quot;dtype&quot;\\n    value {\\n      type: DT_INT32\\n    }\\n  }\\n  attr {\\n    key: &quot;value&quot;\\n    value {\\n      tensor {\\n        dtype: DT_INT32\\n        tensor_shape {\\n        }\\n        int_val: -1\\n      }\\n    }\\n  }\\n}\\nnode {\\n  name: &quot;ExpandDims&quot;\\n  op: &quot;ExpandDims&quot;\\n  input: &quot;embedding_lookup&quot;\\n  input: &quot;ExpandDims/dim&quot;\\n  attr {\\n    key: &quot;T&quot;\\n    value {\\n      type: DT_FLOAT\\n    }\\n  }\\n  attr {\\n    key: &quot;Tdim&quot;\\n    value {\\n      type: DT_INT32\\n    }\\n  }\\n}\\nnode {\\n  name: &quot;Convolution_1st/kernel/Initializer/truncated_normal/shape&quot;\\n  op: &quot;Const&quot;\\n  attr {\\n    key: &quot;_class&quot;\\n    value {\\n      list {\\n        s: &quot;loc:@Convolution_1st/kernel&quot;\\n      }\\n    }\\n  }\\n  attr {\\n    key: &quot;dtype&quot;\\n    value {\\n      type: DT_INT32\\n    }\\n  }\\n  attr {\\n    key: &quot;value&quot;\\n    value {\\n      tensor {\\n        dtype: DT_INT32\\n        tensor_shape {\\n          dim {\\n            size: 4\\n          }\\n        }\\n        tensor_content: &quot;\\\\002\\\\000\\\\000\\\\000\\\\310\\\\000\\\\000\\\\000\\\\001\\\\000\\\\000\\\\000\\\\220\\\\001\\\\000\\\\000&quot;\\n      }\\n    }\\n  }\\n}\\nnode {\\n  name: &quot;Convolution_1st/kernel/Initializer/truncated_normal/mean&quot;\\n  op: &quot;Const&quot;\\n  attr {\\n    key: &quot;_class&quot;\\n    value {\\n      list {\\n        s: &quot;loc:@Convolution_1st/kernel&quot;\\n      }\\n    }\\n  }\\n  attr {\\n    key: &quot;dtype&quot;\\n    value {\\n      type: DT_FLOAT\\n    }\\n  }\\n  attr {\\n    key: &quot;value&quot;\\n    value {\\n      tensor {\\n        dtype: DT_FLOAT\\n        tensor_shape {\\n        }\\n        float_val: 0.0\\n      }\\n    }\\n  }\\n}\\nnode {\\n  name: &quot;Convolution_1st/kernel/Initializer/truncated_normal/stddev&quot;\\n  op: &quot;Const&quot;\\n  attr {\\n    key: &quot;_class&quot;\\n    value {\\n      list {\\n        s: &quot;loc:@Convolution_1st/kernel&quot;\\n      }\\n    }\\n  }\\n  attr {\\n    key: &quot;dtype&quot;\\n    value {\\n      type: DT_FLOAT\\n    }\\n  }\\n  attr {\\n    key: &quot;value&quot;\\n    value {\\n      tensor {\\n        dtype: DT_FLOAT\\n        tensor_shape {\\n        }\\n        float_val: 0.08062257617712021\\n      }\\n    }\\n  }\\n}\\nnode {\\n  name: &quot;Convolution_1st/kernel/Initializer/truncated_normal/TruncatedNormal&quot;\\n  op: &quot;TruncatedNormal&quot;\\n  input: &quot;Convolution_1st/kernel/Initializer/truncated_normal/shape&quot;\\n  attr {\\n    key: &quot;T&quot;\\n    value {\\n      type: DT_INT32\\n    }\\n  }\\n  attr {\\n    key: &quot;_class&quot;\\n    value {\\n      list {\\n        s: &quot;loc:@Convolution_1st/kernel&quot;\\n      }\\n    }\\n  }\\n  attr {\\n    key: &quot;dtype&quot;\\n    value {\\n      type: DT_FLOAT\\n    }\\n  }\\n  attr {\\n    key: &quot;seed&quot;\\n    value {\\n      i: 42\\n    }\\n  }\\n  attr {\\n    key: &quot;seed2&quot;\\n    value {\\n      i: 12\\n    }\\n  }\\n}\\nnode {\\n  name: &quot;Convolution_1st/kernel/Initializer/truncated_normal/mul&quot;\\n  op: &quot;Mul&quot;\\n  input: &quot;Convolution_1st/kernel/Initializer/truncated_normal/TruncatedNormal&quot;\\n  input: &quot;Convolution_1st/kernel/Initializer/truncated_normal/stddev&quot;\\n  attr {\\n    key: &quot;T&quot;\\n    value {\\n      type: DT_FLOAT\\n    }\\n  }\\n  attr {\\n    key: &quot;_class&quot;\\n    value {\\n      list {\\n        s: &quot;loc:@Convolution_1st/kernel&quot;\\n      }\\n    }\\n  }\\n}\\nnode {\\n  name: &quot;Convolution_1st/kernel/Initializer/truncated_normal&quot;\\n  op: &quot;Add&quot;\\n  input: &quot;Convolution_1st/kernel/Initializer/truncated_normal/mul&quot;\\n  input: &quot;Convolution_1st/kernel/Initializer/truncated_normal/mean&quot;\\n  attr {\\n    key: &quot;T&quot;\\n    value {\\n      type: DT_FLOAT\\n    }\\n  }\\n  attr {\\n    key: &quot;_class&quot;\\n    value {\\n      list {\\n        s: &quot;loc:@Convolution_1st/kernel&quot;\\n      }\\n    }\\n  }\\n}\\nnode {\\n  name: &quot;Convolution_1st/kernel&quot;\\n  op: &quot;VariableV2&quot;\\n  attr {\\n    key: &quot;_class&quot;\\n    value {\\n      list {\\n        s: &quot;loc:@Convolution_1st/kernel&quot;\\n      }\\n    }\\n  }\\n  attr {\\n    key: &quot;container&quot;\\n    value {\\n      s: &quot;&quot;\\n    }\\n  }\\n  attr {\\n    key: &quot;dtype&quot;\\n    value {\\n      type: DT_FLOAT\\n    }\\n  }\\n  attr {\\n    key: &quot;shape&quot;\\n    value {\\n      shape {\\n        dim {\\n          size: 2\\n        }\\n        dim {\\n          size: 200\\n        }\\n        dim {\\n          size: 1\\n        }\\n        dim {\\n          size: 400\\n        }\\n      }\\n    }\\n  }\\n  attr {\\n    key: &quot;shared_name&quot;\\n    value {\\n      s: &quot;&quot;\\n    }\\n  }\\n}\\nnode {\\n  name: &quot;Convolution_1st/kernel/Assign&quot;\\n  op: &quot;Assign&quot;\\n  input: &quot;Convolution_1st/kernel&quot;\\n  input: &quot;Convolution_1st/kernel/Initializer/truncated_normal&quot;\\n  attr {\\n    key: &quot;T&quot;\\n    value {\\n      type: DT_FLOAT\\n    }\\n  }\\n  attr {\\n    key: &quot;_class&quot;\\n    value {\\n      list {\\n        s: &quot;loc:@Convolution_1st/kernel&quot;\\n      }\\n    }\\n  }\\n  attr {\\n    key: &quot;use_locking&quot;\\n    value {\\n      b: true\\n    }\\n  }\\n  attr {\\n    key: &quot;validate_shape&quot;\\n    value {\\n      b: true\\n    }\\n  }\\n}\\nnode {\\n  name: &quot;Convolution_1st/kernel/read&quot;\\n  op: &quot;Identity&quot;\\n  input: &quot;Convolution_1st/kernel&quot;\\n  attr {\\n    key: &quot;T&quot;\\n    value {\\n      type: DT_FLOAT\\n    }\\n  }\\n  attr {\\n    key: &quot;_class&quot;\\n    value {\\n      list {\\n        s: &quot;loc:@Convolution_1st/kernel&quot;\\n      }\\n    }\\n  }\\n}\\nnode {\\n  name: &quot;Convolution_1st/bias/Initializer/zeros&quot;\\n  op: &quot;Const&quot;\\n  attr {\\n    key: &quot;_class&quot;\\n    value {\\n      list {\\n        s: &quot;loc:@Convolution_1st/bias&quot;\\n      }\\n    }\\n  }\\n  attr {\\n    key: &quot;dtype&quot;\\n    value {\\n      type: DT_FLOAT\\n    }\\n  }\\n  attr {\\n    key: &quot;value&quot;\\n    value {\\n      tensor {\\n        dtype: DT_FLOAT\\n        tensor_shape {\\n          dim {\\n            size: 400\\n          }\\n        }\\n        float_val: 0.0\\n      }\\n    }\\n  }\\n}\\nnode {\\n  name: &quot;Convolution_1st/bias&quot;\\n  op: &quot;VariableV2&quot;\\n  attr {\\n    key: &quot;_class&quot;\\n    value {\\n      list {\\n        s: &quot;loc:@Convolution_1st/bias&quot;\\n      }\\n    }\\n  }\\n  attr {\\n    key: &quot;container&quot;\\n    value {\\n      s: &quot;&quot;\\n    }\\n  }\\n  attr {\\n    key: &quot;dtype&quot;\\n    value {\\n      type: DT_FLOAT\\n    }\\n  }\\n  attr {\\n    key: &quot;shape&quot;\\n    value {\\n      shape {\\n        dim {\\n          size: 400\\n        }\\n      }\\n    }\\n  }\\n  attr {\\n    key: &quot;shared_name&quot;\\n    value {\\n      s: &quot;&quot;\\n    }\\n  }\\n}\\nnode {\\n  name: &quot;Convolution_1st/bias/Assign&quot;\\n  op: &quot;Assign&quot;\\n  input: &quot;Convolution_1st/bias&quot;\\n  input: &quot;Convolution_1st/bias/Initializer/zeros&quot;\\n  attr {\\n    key: &quot;T&quot;\\n    value {\\n      type: DT_FLOAT\\n    }\\n  }\\n  attr {\\n    key: &quot;_class&quot;\\n    value {\\n      list {\\n        s: &quot;loc:@Convolution_1st/bias&quot;\\n      }\\n    }\\n  }\\n  attr {\\n    key: &quot;use_locking&quot;\\n    value {\\n      b: true\\n    }\\n  }\\n  attr {\\n    key: &quot;validate_shape&quot;\\n    value {\\n      b: true\\n    }\\n  }\\n}\\nnode {\\n  name: &quot;Convolution_1st/bias/read&quot;\\n  op: &quot;Identity&quot;\\n  input: &quot;Convolution_1st/bias&quot;\\n  attr {\\n    key: &quot;T&quot;\\n    value {\\n      type: DT_FLOAT\\n    }\\n  }\\n  attr {\\n    key: &quot;_class&quot;\\n    value {\\n      list {\\n        s: &quot;loc:@Convolution_1st/bias&quot;\\n      }\\n    }\\n  }\\n}\\nnode {\\n  name: &quot;Convolution_1st/convolution/Shape&quot;\\n  op: &quot;Const&quot;\\n  attr {\\n    key: &quot;dtype&quot;\\n    value {\\n      type: DT_INT32\\n    }\\n  }\\n  attr {\\n    key: &quot;value&quot;\\n    value {\\n      tensor {\\n        dtype: DT_INT32\\n        tensor_shape {\\n          dim {\\n            size: 4\\n          }\\n        }\\n        tensor_content: &quot;\\\\002\\\\000\\\\000\\\\000\\\\310\\\\000\\\\000\\\\000\\\\001\\\\000\\\\000\\\\000\\\\220\\\\001\\\\000\\\\000&quot;\\n      }\\n    }\\n  }\\n}\\nnode {\\n  name: &quot;Convolution_1st/convolution/dilation_rate&quot;\\n  op: &quot;Const&quot;\\n  attr {\\n    key: &quot;dtype&quot;\\n    value {\\n      type: DT_INT32\\n    }\\n  }\\n  attr {\\n    key: &quot;value&quot;\\n    value {\\n      tensor {\\n        dtype: DT_INT32\\n        tensor_shape {\\n          dim {\\n            size: 2\\n          }\\n        }\\n        tensor_content: &quot;\\\\001\\\\000\\\\000\\\\000\\\\001\\\\000\\\\000\\\\000&quot;\\n      }\\n    }\\n  }\\n}\\nnode {\\n  name: &quot;Convolution_1st/convolution&quot;\\n  op: &quot;Conv2D&quot;\\n  input: &quot;ExpandDims&quot;\\n  input: &quot;Convolution_1st/kernel/read&quot;\\n  attr {\\n    key: &quot;T&quot;\\n    value {\\n      type: DT_FLOAT\\n    }\\n  }\\n  attr {\\n    key: &quot;data_format&quot;\\n    value {\\n      s: &quot;NHWC&quot;\\n    }\\n  }\\n  attr {\\n    key: &quot;padding&quot;\\n    value {\\n      s: &quot;VALID&quot;\\n    }\\n  }\\n  attr {\\n    key: &quot;strides&quot;\\n    value {\\n      list {\\n        i: 1\\n        i: 1\\n        i: 1\\n        i: 1\\n      }\\n    }\\n  }\\n  attr {\\n    key: &quot;use_cudnn_on_gpu&quot;\\n    value {\\n      b: true\\n    }\\n  }\\n}\\nnode {\\n  name: &quot;Convolution_1st/BiasAdd&quot;\\n  op: &quot;BiasAdd&quot;\\n  input: &quot;Convolution_1st/convolution&quot;\\n  input: &quot;Convolution_1st/bias/read&quot;\\n  attr {\\n    key: &quot;T&quot;\\n    value {\\n      type: DT_FLOAT\\n    }\\n  }\\n  attr {\\n    key: &quot;data_format&quot;\\n    value {\\n      s: &quot;NHWC&quot;\\n    }\\n  }\\n}\\nnode {\\n  name: &quot;Convolution_1st/Relu&quot;\\n  op: &quot;Relu&quot;\\n  input: &quot;Convolution_1st/BiasAdd&quot;\\n  attr {\\n    key: &quot;T&quot;\\n    value {\\n      type: DT_FLOAT\\n    }\\n  }\\n}\\nnode {\\n  name: &quot;max_pooling2d/MaxPool&quot;\\n  op: &quot;MaxPool&quot;\\n  input: &quot;Convolution_1st/Relu&quot;\\n  attr {\\n    key: &quot;T&quot;\\n    value {\\n      type: DT_FLOAT\\n    }\\n  }\\n  attr {\\n    key: &quot;data_format&quot;\\n    value {\\n      s: &quot;NHWC&quot;\\n    }\\n  }\\n  attr {\\n    key: &quot;ksize&quot;\\n    value {\\n      list {\\n        i: 1\\n        i: 3\\n        i: 1\\n        i: 1\\n      }\\n    }\\n  }\\n  attr {\\n    key: &quot;padding&quot;\\n    value {\\n      s: &quot;VALID&quot;\\n    }\\n  }\\n  attr {\\n    key: &quot;strides&quot;\\n    value {\\n      list {\\n        i: 1\\n        i: 2\\n        i: 2\\n        i: 1\\n      }\\n    }\\n  }\\n}\\nnode {\\n  name: &quot;Convolution_2nd/kernel/Initializer/truncated_normal/shape&quot;\\n  op: &quot;Const&quot;\\n  attr {\\n    key: &quot;_class&quot;\\n    value {\\n      list {\\n        s: &quot;loc:@Convolution_2nd/kernel&quot;\\n      }\\n    }\\n  }\\n  attr {\\n    key: &quot;dtype&quot;\\n    value {\\n      type: DT_INT32\\n    }\\n  }\\n  attr {\\n    key: &quot;value&quot;\\n    value {\\n      tensor {\\n        dtype: DT_INT32\\n        tensor_shape {\\n          dim {\\n            size: 4\\n          }\\n        }\\n        tensor_content: &quot;\\\\003\\\\000\\\\000\\\\000\\\\001\\\\000\\\\000\\\\000\\\\220\\\\001\\\\000\\\\000\\\\220\\\\001\\\\000\\\\000&quot;\\n      }\\n    }\\n  }\\n}\\nnode {\\n  name: &quot;Convolution_2nd/kernel/Initializer/truncated_normal/mean&quot;\\n  op: &quot;Const&quot;\\n  attr {\\n    key: &quot;_class&quot;\\n    value {\\n      list {\\n        s: &quot;loc:@Convolution_2nd/kernel&quot;\\n      }\\n    }\\n  }\\n  attr {\\n    key: &quot;dtype&quot;\\n    value {\\n      type: DT_FLOAT\\n    }\\n  }\\n  attr {\\n    key: &quot;value&quot;\\n    value {\\n      tensor {\\n        dtype: DT_FLOAT\\n        tensor_shape {\\n        }\\n        float_val: 0.0\\n      }\\n    }\\n  }\\n}\\nnode {\\n  name: &quot;Convolution_2nd/kernel/Initializer/truncated_normal/stddev&quot;\\n  op: &quot;Const&quot;\\n  attr {\\n    key: &quot;_class&quot;\\n    value {\\n      list {\\n        s: &quot;loc:@Convolution_2nd/kernel&quot;\\n      }\\n    }\\n  }\\n  attr {\\n    key: &quot;dtype&quot;\\n    value {\\n      type: DT_FLOAT\\n    }\\n  }\\n  attr {\\n    key: &quot;value&quot;\\n    value {\\n      tensor {\\n        dtype: DT_FLOAT\\n        tensor_shape {\\n        }\\n        float_val: 0.04654746502637863\\n      }\\n    }\\n  }\\n}\\nnode {\\n  name: &quot;Convolution_2nd/kernel/Initializer/truncated_normal/TruncatedNormal&quot;\\n  op: &quot;TruncatedNormal&quot;\\n  input: &quot;Convolution_2nd/kernel/Initializer/truncated_normal/shape&quot;\\n  attr {\\n    key: &quot;T&quot;\\n    value {\\n      type: DT_INT32\\n    }\\n  }\\n  attr {\\n    key: &quot;_class&quot;\\n    value {\\n      list {\\n        s: &quot;loc:@Convolution_2nd/kernel&quot;\\n      }\\n    }\\n  }\\n  attr {\\n    key: &quot;dtype&quot;\\n    value {\\n      type: DT_FLOAT\\n    }\\n  }\\n  attr {\\n    key: &quot;seed&quot;\\n    value {\\n      i: 42\\n    }\\n  }\\n  attr {\\n    key: &quot;seed2&quot;\\n    value {\\n      i: 31\\n    }\\n  }\\n}\\nnode {\\n  name: &quot;Convolution_2nd/kernel/Initializer/truncated_normal/mul&quot;\\n  op: &quot;Mul&quot;\\n  input: &quot;Convolution_2nd/kernel/Initializer/truncated_normal/TruncatedNormal&quot;\\n  input: &quot;Convolution_2nd/kernel/Initializer/truncated_normal/stddev&quot;\\n  attr {\\n    key: &quot;T&quot;\\n    value {\\n      type: DT_FLOAT\\n    }\\n  }\\n  attr {\\n    key: &quot;_class&quot;\\n    value {\\n      list {\\n        s: &quot;loc:@Convolution_2nd/kernel&quot;\\n      }\\n    }\\n  }\\n}\\nnode {\\n  name: &quot;Convolution_2nd/kernel/Initializer/truncated_normal&quot;\\n  op: &quot;Add&quot;\\n  input: &quot;Convolution_2nd/kernel/Initializer/truncated_normal/mul&quot;\\n  input: &quot;Convolution_2nd/kernel/Initializer/truncated_normal/mean&quot;\\n  attr {\\n    key: &quot;T&quot;\\n    value {\\n      type: DT_FLOAT\\n    }\\n  }\\n  attr {\\n    key: &quot;_class&quot;\\n    value {\\n      list {\\n        s: &quot;loc:@Convolution_2nd/kernel&quot;\\n      }\\n    }\\n  }\\n}\\nnode {\\n  name: &quot;Convolution_2nd/kernel&quot;\\n  op: &quot;VariableV2&quot;\\n  attr {\\n    key: &quot;_class&quot;\\n    value {\\n      list {\\n        s: &quot;loc:@Convolution_2nd/kernel&quot;\\n      }\\n    }\\n  }\\n  attr {\\n    key: &quot;container&quot;\\n    value {\\n      s: &quot;&quot;\\n    }\\n  }\\n  attr {\\n    key: &quot;dtype&quot;\\n    value {\\n      type: DT_FLOAT\\n    }\\n  }\\n  attr {\\n    key: &quot;shape&quot;\\n    value {\\n      shape {\\n        dim {\\n          size: 3\\n        }\\n        dim {\\n          size: 1\\n        }\\n        dim {\\n          size: 400\\n        }\\n        dim {\\n          size: 400\\n        }\\n      }\\n    }\\n  }\\n  attr {\\n    key: &quot;shared_name&quot;\\n    value {\\n      s: &quot;&quot;\\n    }\\n  }\\n}\\nnode {\\n  name: &quot;Convolution_2nd/kernel/Assign&quot;\\n  op: &quot;Assign&quot;\\n  input: &quot;Convolution_2nd/kernel&quot;\\n  input: &quot;Convolution_2nd/kernel/Initializer/truncated_normal&quot;\\n  attr {\\n    key: &quot;T&quot;\\n    value {\\n      type: DT_FLOAT\\n    }\\n  }\\n  attr {\\n    key: &quot;_class&quot;\\n    value {\\n      list {\\n        s: &quot;loc:@Convolution_2nd/kernel&quot;\\n      }\\n    }\\n  }\\n  attr {\\n    key: &quot;use_locking&quot;\\n    value {\\n      b: true\\n    }\\n  }\\n  attr {\\n    key: &quot;validate_shape&quot;\\n    value {\\n      b: true\\n    }\\n  }\\n}\\nnode {\\n  name: &quot;Convolution_2nd/kernel/read&quot;\\n  op: &quot;Identity&quot;\\n  input: &quot;Convolution_2nd/kernel&quot;\\n  attr {\\n    key: &quot;T&quot;\\n    value {\\n      type: DT_FLOAT\\n    }\\n  }\\n  attr {\\n    key: &quot;_class&quot;\\n    value {\\n      list {\\n        s: &quot;loc:@Convolution_2nd/kernel&quot;\\n      }\\n    }\\n  }\\n}\\nnode {\\n  name: &quot;Convolution_2nd/bias/Initializer/zeros&quot;\\n  op: &quot;Const&quot;\\n  attr {\\n    key: &quot;_class&quot;\\n    value {\\n      list {\\n        s: &quot;loc:@Convolution_2nd/bias&quot;\\n      }\\n    }\\n  }\\n  attr {\\n    key: &quot;dtype&quot;\\n    value {\\n      type: DT_FLOAT\\n    }\\n  }\\n  attr {\\n    key: &quot;value&quot;\\n    value {\\n      tensor {\\n        dtype: DT_FLOAT\\n        tensor_shape {\\n          dim {\\n            size: 400\\n          }\\n        }\\n        float_val: 0.0\\n      }\\n    }\\n  }\\n}\\nnode {\\n  name: &quot;Convolution_2nd/bias&quot;\\n  op: &quot;VariableV2&quot;\\n  attr {\\n    key: &quot;_class&quot;\\n    value {\\n      list {\\n        s: &quot;loc:@Convolution_2nd/bias&quot;\\n      }\\n    }\\n  }\\n  attr {\\n    key: &quot;container&quot;\\n    value {\\n      s: &quot;&quot;\\n    }\\n  }\\n  attr {\\n    key: &quot;dtype&quot;\\n    value {\\n      type: DT_FLOAT\\n    }\\n  }\\n  attr {\\n    key: &quot;shape&quot;\\n    value {\\n      shape {\\n        dim {\\n          size: 400\\n        }\\n      }\\n    }\\n  }\\n  attr {\\n    key: &quot;shared_name&quot;\\n    value {\\n      s: &quot;&quot;\\n    }\\n  }\\n}\\nnode {\\n  name: &quot;Convolution_2nd/bias/Assign&quot;\\n  op: &quot;Assign&quot;\\n  input: &quot;Convolution_2nd/bias&quot;\\n  input: &quot;Convolution_2nd/bias/Initializer/zeros&quot;\\n  attr {\\n    key: &quot;T&quot;\\n    value {\\n      type: DT_FLOAT\\n    }\\n  }\\n  attr {\\n    key: &quot;_class&quot;\\n    value {\\n      list {\\n        s: &quot;loc:@Convolution_2nd/bias&quot;\\n      }\\n    }\\n  }\\n  attr {\\n    key: &quot;use_locking&quot;\\n    value {\\n      b: true\\n    }\\n  }\\n  attr {\\n    key: &quot;validate_shape&quot;\\n    value {\\n      b: true\\n    }\\n  }\\n}\\nnode {\\n  name: &quot;Convolution_2nd/bias/read&quot;\\n  op: &quot;Identity&quot;\\n  input: &quot;Convolution_2nd/bias&quot;\\n  attr {\\n    key: &quot;T&quot;\\n    value {\\n      type: DT_FLOAT\\n    }\\n  }\\n  attr {\\n    key: &quot;_class&quot;\\n    value {\\n      list {\\n        s: &quot;loc:@Convolution_2nd/bias&quot;\\n      }\\n    }\\n  }\\n}\\nnode {\\n  name: &quot;Convolution_2nd/convolution/Shape&quot;\\n  op: &quot;Const&quot;\\n  attr {\\n    key: &quot;dtype&quot;\\n    value {\\n      type: DT_INT32\\n    }\\n  }\\n  attr {\\n    key: &quot;value&quot;\\n    value {\\n      tensor {\\n        dtype: DT_INT32\\n        tensor_shape {\\n          dim {\\n            size: 4\\n          }\\n        }\\n        tensor_content: &quot;\\\\003\\\\000\\\\000\\\\000\\\\001\\\\000\\\\000\\\\000\\\\220\\\\001\\\\000\\\\000\\\\220\\\\001\\\\000\\\\000&quot;\\n      }\\n    }\\n  }\\n}\\nnode {\\n  name: &quot;Convolution_2nd/convolution/dilation_rate&quot;\\n  op: &quot;Const&quot;\\n  attr {\\n    key: &quot;dtype&quot;\\n    value {\\n      type: DT_INT32\\n    }\\n  }\\n  attr {\\n    key: &quot;value&quot;\\n    value {\\n      tensor {\\n        dtype: DT_INT32\\n        tensor_shape {\\n          dim {\\n            size: 2\\n          }\\n        }\\n        tensor_content: &quot;\\\\001\\\\000\\\\000\\\\000\\\\001\\\\000\\\\000\\\\000&quot;\\n      }\\n    }\\n  }\\n}\\nnode {\\n  name: &quot;Convolution_2nd/convolution&quot;\\n  op: &quot;Conv2D&quot;\\n  input: &quot;max_pooling2d/MaxPool&quot;\\n  input: &quot;Convolution_2nd/kernel/read&quot;\\n  attr {\\n    key: &quot;T&quot;\\n    value {\\n      type: DT_FLOAT\\n    }\\n  }\\n  attr {\\n    key: &quot;data_format&quot;\\n    value {\\n      s: &quot;NHWC&quot;\\n    }\\n  }\\n  attr {\\n    key: &quot;padding&quot;\\n    value {\\n      s: &quot;SAME&quot;\\n    }\\n  }\\n  attr {\\n    key: &quot;strides&quot;\\n    value {\\n      list {\\n        i: 1\\n        i: 1\\n        i: 1\\n        i: 1\\n      }\\n    }\\n  }\\n  attr {\\n    key: &quot;use_cudnn_on_gpu&quot;\\n    value {\\n      b: true\\n    }\\n  }\\n}\\nnode {\\n  name: &quot;Convolution_2nd/BiasAdd&quot;\\n  op: &quot;BiasAdd&quot;\\n  input: &quot;Convolution_2nd/convolution&quot;\\n  input: &quot;Convolution_2nd/bias/read&quot;\\n  attr {\\n    key: &quot;T&quot;\\n    value {\\n      type: DT_FLOAT\\n    }\\n  }\\n  attr {\\n    key: &quot;data_format&quot;\\n    value {\\n      s: &quot;NHWC&quot;\\n    }\\n  }\\n}\\nnode {\\n  name: &quot;Convolution_2nd/Relu&quot;\\n  op: &quot;Relu&quot;\\n  input: &quot;Convolution_2nd/BiasAdd&quot;\\n  attr {\\n    key: &quot;T&quot;\\n    value {\\n      type: DT_FLOAT\\n    }\\n  }\\n}\\nnode {\\n  name: &quot;max_pooling2d_2/MaxPool&quot;\\n  op: &quot;MaxPool&quot;\\n  input: &quot;Convolution_2nd/Relu&quot;\\n  attr {\\n    key: &quot;T&quot;\\n    value {\\n      type: DT_FLOAT\\n    }\\n  }\\n  attr {\\n    key: &quot;data_format&quot;\\n    value {\\n      s: &quot;NHWC&quot;\\n    }\\n  }\\n  attr {\\n    key: &quot;ksize&quot;\\n    value {\\n      list {\\n        i: 1\\n        i: 29\\n        i: 1\\n        i: 1\\n      }\\n    }\\n  }\\n  attr {\\n    key: &quot;padding&quot;\\n    value {\\n      s: &quot;VALID&quot;\\n    }\\n  }\\n  attr {\\n    key: &quot;strides&quot;\\n    value {\\n      list {\\n        i: 1\\n        i: 1\\n        i: 1\\n        i: 1\\n      }\\n    }\\n  }\\n}\\nnode {\\n  name: &quot;Reshape/shape&quot;\\n  op: &quot;Const&quot;\\n  attr {\\n    key: &quot;dtype&quot;\\n    value {\\n      type: DT_INT32\\n    }\\n  }\\n  attr {\\n    key: &quot;value&quot;\\n    value {\\n      tensor {\\n        dtype: DT_INT32\\n        tensor_shape {\\n          dim {\\n            size: 2\\n          }\\n        }\\n        tensor_content: &quot;\\\\377\\\\377\\\\377\\\\377\\\\220\\\\001\\\\000\\\\000&quot;\\n      }\\n    }\\n  }\\n}\\nnode {\\n  name: &quot;Reshape&quot;\\n  op: &quot;Reshape&quot;\\n  input: &quot;max_pooling2d_2/MaxPool&quot;\\n  input: &quot;Reshape/shape&quot;\\n  attr {\\n    key: &quot;T&quot;\\n    value {\\n      type: DT_FLOAT\\n    }\\n  }\\n  attr {\\n    key: &quot;Tshape&quot;\\n    value {\\n      type: DT_INT32\\n    }\\n  }\\n}\\nnode {\\n  name: &quot;Convolution_1st_2/kernel/Initializer/truncated_normal/shape&quot;\\n  op: &quot;Const&quot;\\n  attr {\\n    key: &quot;_class&quot;\\n    value {\\n      list {\\n        s: &quot;loc:@Convolution_1st_2/kernel&quot;\\n      }\\n    }\\n  }\\n  attr {\\n    key: &quot;dtype&quot;\\n    value {\\n      type: DT_INT32\\n    }\\n  }\\n  attr {\\n    key: &quot;value&quot;\\n    value {\\n      tensor {\\n        dtype: DT_INT32\\n        tensor_shape {\\n          dim {\\n            size: 4\\n          }\\n        }\\n        tensor_content: &quot;\\\\003\\\\000\\\\000\\\\000\\\\310\\\\000\\\\000\\\\000\\\\001\\\\000\\\\000\\\\000\\\\220\\\\001\\\\000\\\\000&quot;\\n      }\\n    }\\n  }\\n}\\nnode {\\n  name: &quot;Convolution_1st_2/kernel/Initializer/truncated_normal/mean&quot;\\n  op: &quot;Const&quot;\\n  attr {\\n    key: &quot;_class&quot;\\n    value {\\n      list {\\n        s: &quot;loc:@Convolution_1st_2/kernel&quot;\\n      }\\n    }\\n  }\\n  attr {\\n    key: &quot;dtype&quot;\\n    value {\\n      type: DT_FLOAT\\n    }\\n  }\\n  attr {\\n    key: &quot;value&quot;\\n    value {\\n      tensor {\\n        dtype: DT_FLOAT\\n        tensor_shape {\\n        }\\n        float_val: 0.0\\n      }\\n    }\\n  }\\n}\\nnode {\\n  name: &quot;Convolution_1st_2/kernel/Initializer/truncated_normal/stddev&quot;\\n  op: &quot;Const&quot;\\n  attr {\\n    key: &quot;_class&quot;\\n    value {\\n      list {\\n        s: &quot;loc:@Convolution_1st_2/kernel&quot;\\n      }\\n    }\\n  }\\n  attr {\\n    key: &quot;dtype&quot;\\n    value {\\n      type: DT_FLOAT\\n    }\\n  }\\n  attr {\\n    key: &quot;value&quot;\\n    value {\\n      tensor {\\n        dtype: DT_FLOAT\\n        tensor_shape {\\n        }\\n        float_val: 0.06582805514335632\\n      }\\n    }\\n  }\\n}\\nnode {\\n  name: &quot;Convolution_1st_2/kernel/Initializer/truncated_normal/TruncatedNormal&quot;\\n  op: &quot;TruncatedNormal&quot;\\n  input: &quot;Convolution_1st_2/kernel/Initializer/truncated_normal/shape&quot;\\n  attr {\\n    key: &quot;T&quot;\\n    value {\\n      type: DT_INT32\\n    }\\n  }\\n  attr {\\n    key: &quot;_class&quot;\\n    value {\\n      list {\\n        s: &quot;loc:@Convolution_1st_2/kernel&quot;\\n      }\\n    }\\n  }\\n  attr {\\n    key: &quot;dtype&quot;\\n    value {\\n      type: DT_FLOAT\\n    }\\n  }\\n  attr {\\n    key: &quot;seed&quot;\\n    value {\\n      i: 42\\n    }\\n  }\\n  attr {\\n    key: &quot;seed2&quot;\\n    value {\\n      i: 52\\n    }\\n  }\\n}\\nnode {\\n  name: &quot;Convolution_1st_2/kernel/Initializer/truncated_normal/mul&quot;\\n  op: &quot;Mul&quot;\\n  input: &quot;Convolution_1st_2/kernel/Initializer/truncated_normal/TruncatedNormal&quot;\\n  input: &quot;Convolution_1st_2/kernel/Initializer/truncated_normal/stddev&quot;\\n  attr {\\n    key: &quot;T&quot;\\n    value {\\n      type: DT_FLOAT\\n    }\\n  }\\n  attr {\\n    key: &quot;_class&quot;\\n    value {\\n      list {\\n        s: &quot;loc:@Convolution_1st_2/kernel&quot;\\n      }\\n    }\\n  }\\n}\\nnode {\\n  name: &quot;Convolution_1st_2/kernel/Initializer/truncated_normal&quot;\\n  op: &quot;Add&quot;\\n  input: &quot;Convolution_1st_2/kernel/Initializer/truncated_normal/mul&quot;\\n  input: &quot;Convolution_1st_2/kernel/Initializer/truncated_normal/mean&quot;\\n  attr {\\n    key: &quot;T&quot;\\n    value {\\n      type: DT_FLOAT\\n    }\\n  }\\n  attr {\\n    key: &quot;_class&quot;\\n    value {\\n      list {\\n        s: &quot;loc:@Convolution_1st_2/kernel&quot;\\n      }\\n    }\\n  }\\n}\\nnode {\\n  name: &quot;Convolution_1st_2/kernel&quot;\\n  op: &quot;VariableV2&quot;\\n  attr {\\n    key: &quot;_class&quot;\\n    value {\\n      list {\\n        s: &quot;loc:@Convolution_1st_2/kernel&quot;\\n      }\\n    }\\n  }\\n  attr {\\n    key: &quot;container&quot;\\n    value {\\n      s: &quot;&quot;\\n    }\\n  }\\n  attr {\\n    key: &quot;dtype&quot;\\n    value {\\n      type: DT_FLOAT\\n    }\\n  }\\n  attr {\\n    key: &quot;shape&quot;\\n    value {\\n      shape {\\n        dim {\\n          size: 3\\n        }\\n        dim {\\n          size: 200\\n        }\\n        dim {\\n          size: 1\\n        }\\n        dim {\\n          size: 400\\n        }\\n      }\\n    }\\n  }\\n  attr {\\n    key: &quot;shared_name&quot;\\n    value {\\n      s: &quot;&quot;\\n    }\\n  }\\n}\\nnode {\\n  name: &quot;Convolution_1st_2/kernel/Assign&quot;\\n  op: &quot;Assign&quot;\\n  input: &quot;Convolution_1st_2/kernel&quot;\\n  input: &quot;Convolution_1st_2/kernel/Initializer/truncated_normal&quot;\\n  attr {\\n    key: &quot;T&quot;\\n    value {\\n      type: DT_FLOAT\\n    }\\n  }\\n  attr {\\n    key: &quot;_class&quot;\\n    value {\\n      list {\\n        s: &quot;loc:@Convolution_1st_2/kernel&quot;\\n      }\\n    }\\n  }\\n  attr {\\n    key: &quot;use_locking&quot;\\n    value {\\n      b: true\\n    }\\n  }\\n  attr {\\n    key: &quot;validate_shape&quot;\\n    value {\\n      b: true\\n    }\\n  }\\n}\\nnode {\\n  name: &quot;Convolution_1st_2/kernel/read&quot;\\n  op: &quot;Identity&quot;\\n  input: &quot;Convolution_1st_2/kernel&quot;\\n  attr {\\n    key: &quot;T&quot;\\n    value {\\n      type: DT_FLOAT\\n    }\\n  }\\n  attr {\\n    key: &quot;_class&quot;\\n    value {\\n      list {\\n        s: &quot;loc:@Convolution_1st_2/kernel&quot;\\n      }\\n    }\\n  }\\n}\\nnode {\\n  name: &quot;Convolution_1st_2/bias/Initializer/zeros&quot;\\n  op: &quot;Const&quot;\\n  attr {\\n    key: &quot;_class&quot;\\n    value {\\n      list {\\n        s: &quot;loc:@Convolution_1st_2/bias&quot;\\n      }\\n    }\\n  }\\n  attr {\\n    key: &quot;dtype&quot;\\n    value {\\n      type: DT_FLOAT\\n    }\\n  }\\n  attr {\\n    key: &quot;value&quot;\\n    value {\\n      tensor {\\n        dtype: DT_FLOAT\\n        tensor_shape {\\n          dim {\\n            size: 400\\n          }\\n        }\\n        float_val: 0.0\\n      }\\n    }\\n  }\\n}\\nnode {\\n  name: &quot;Convolution_1st_2/bias&quot;\\n  op: &quot;VariableV2&quot;\\n  attr {\\n    key: &quot;_class&quot;\\n    value {\\n      list {\\n        s: &quot;loc:@Convolution_1st_2/bias&quot;\\n      }\\n    }\\n  }\\n  attr {\\n    key: &quot;container&quot;\\n    value {\\n      s: &quot;&quot;\\n    }\\n  }\\n  attr {\\n    key: &quot;dtype&quot;\\n    value {\\n      type: DT_FLOAT\\n    }\\n  }\\n  attr {\\n    key: &quot;shape&quot;\\n    value {\\n      shape {\\n        dim {\\n          size: 400\\n        }\\n      }\\n    }\\n  }\\n  attr {\\n    key: &quot;shared_name&quot;\\n    value {\\n      s: &quot;&quot;\\n    }\\n  }\\n}\\nnode {\\n  name: &quot;Convolution_1st_2/bias/Assign&quot;\\n  op: &quot;Assign&quot;\\n  input: &quot;Convolution_1st_2/bias&quot;\\n  input: &quot;Convolution_1st_2/bias/Initializer/zeros&quot;\\n  attr {\\n    key: &quot;T&quot;\\n    value {\\n      type: DT_FLOAT\\n    }\\n  }\\n  attr {\\n    key: &quot;_class&quot;\\n    value {\\n      list {\\n        s: &quot;loc:@Convolution_1st_2/bias&quot;\\n      }\\n    }\\n  }\\n  attr {\\n    key: &quot;use_locking&quot;\\n    value {\\n      b: true\\n    }\\n  }\\n  attr {\\n    key: &quot;validate_shape&quot;\\n    value {\\n      b: true\\n    }\\n  }\\n}\\nnode {\\n  name: &quot;Convolution_1st_2/bias/read&quot;\\n  op: &quot;Identity&quot;\\n  input: &quot;Convolution_1st_2/bias&quot;\\n  attr {\\n    key: &quot;T&quot;\\n    value {\\n      type: DT_FLOAT\\n    }\\n  }\\n  attr {\\n    key: &quot;_class&quot;\\n    value {\\n      list {\\n        s: &quot;loc:@Convolution_1st_2/bias&quot;\\n      }\\n    }\\n  }\\n}\\nnode {\\n  name: &quot;Convolution_1st_2/convolution/Shape&quot;\\n  op: &quot;Const&quot;\\n  attr {\\n    key: &quot;dtype&quot;\\n    value {\\n      type: DT_INT32\\n    }\\n  }\\n  attr {\\n    key: &quot;value&quot;\\n    value {\\n      tensor {\\n        dtype: DT_INT32\\n        tensor_shape {\\n          dim {\\n            size: 4\\n          }\\n        }\\n        tensor_content: &quot;\\\\003\\\\000\\\\000\\\\000\\\\310\\\\000\\\\000\\\\000\\\\001\\\\000\\\\000\\\\000\\\\220\\\\001\\\\000\\\\000&quot;\\n      }\\n    }\\n  }\\n}\\nnode {\\n  name: &quot;Convolution_1st_2/convolution/dilation_rate&quot;\\n  op: &quot;Const&quot;\\n  attr {\\n    key: &quot;dtype&quot;\\n    value {\\n      type: DT_INT32\\n    }\\n  }\\n  attr {\\n    key: &quot;value&quot;\\n    value {\\n      tensor {\\n        dtype: DT_INT32\\n        tensor_shape {\\n          dim {\\n            size: 2\\n          }\\n        }\\n        tensor_content: &quot;\\\\001\\\\000\\\\000\\\\000\\\\001\\\\000\\\\000\\\\000&quot;\\n      }\\n    }\\n  }\\n}\\nnode {\\n  name: &quot;Convolution_1st_2/convolution&quot;\\n  op: &quot;Conv2D&quot;\\n  input: &quot;ExpandDims&quot;\\n  input: &quot;Convolution_1st_2/kernel/read&quot;\\n  attr {\\n    key: &quot;T&quot;\\n    value {\\n      type: DT_FLOAT\\n    }\\n  }\\n  attr {\\n    key: &quot;data_format&quot;\\n    value {\\n      s: &quot;NHWC&quot;\\n    }\\n  }\\n  attr {\\n    key: &quot;padding&quot;\\n    value {\\n      s: &quot;VALID&quot;\\n    }\\n  }\\n  attr {\\n    key: &quot;strides&quot;\\n    value {\\n      list {\\n        i: 1\\n        i: 1\\n        i: 1\\n        i: 1\\n      }\\n    }\\n  }\\n  attr {\\n    key: &quot;use_cudnn_on_gpu&quot;\\n    value {\\n      b: true\\n    }\\n  }\\n}\\nnode {\\n  name: &quot;Convolution_1st_2/BiasAdd&quot;\\n  op: &quot;BiasAdd&quot;\\n  input: &quot;Convolution_1st_2/convolution&quot;\\n  input: &quot;Convolution_1st_2/bias/read&quot;\\n  attr {\\n    key: &quot;T&quot;\\n    value {\\n      type: DT_FLOAT\\n    }\\n  }\\n  attr {\\n    key: &quot;data_format&quot;\\n    value {\\n      s: &quot;NHWC&quot;\\n    }\\n  }\\n}\\nnode {\\n  name: &quot;Convolution_1st_2/Relu&quot;\\n  op: &quot;Relu&quot;\\n  input: &quot;Convolution_1st_2/BiasAdd&quot;\\n  attr {\\n    key: &quot;T&quot;\\n    value {\\n      type: DT_FLOAT\\n    }\\n  }\\n}\\nnode {\\n  name: &quot;max_pooling2d_3/MaxPool&quot;\\n  op: &quot;MaxPool&quot;\\n  input: &quot;Convolution_1st_2/Relu&quot;\\n  attr {\\n    key: &quot;T&quot;\\n    value {\\n      type: DT_FLOAT\\n    }\\n  }\\n  attr {\\n    key: &quot;data_format&quot;\\n    value {\\n      s: &quot;NHWC&quot;\\n    }\\n  }\\n  attr {\\n    key: &quot;ksize&quot;\\n    value {\\n      list {\\n        i: 1\\n        i: 3\\n        i: 1\\n        i: 1\\n      }\\n    }\\n  }\\n  attr {\\n    key: &quot;padding&quot;\\n    value {\\n      s: &quot;VALID&quot;\\n    }\\n  }\\n  attr {\\n    key: &quot;strides&quot;\\n    value {\\n      list {\\n        i: 1\\n        i: 2\\n        i: 2\\n        i: 1\\n      }\\n    }\\n  }\\n}\\nnode {\\n  name: &quot;Convolution_2nd_2/kernel/Initializer/truncated_normal/shape&quot;\\n  op: &quot;Const&quot;\\n  attr {\\n    key: &quot;_class&quot;\\n    value {\\n      list {\\n        s: &quot;loc:@Convolution_2nd_2/kernel&quot;\\n      }\\n    }\\n  }\\n  attr {\\n    key: &quot;dtype&quot;\\n    value {\\n      type: DT_INT32\\n    }\\n  }\\n  attr {\\n    key: &quot;value&quot;\\n    value {\\n      tensor {\\n        dtype: DT_INT32\\n        tensor_shape {\\n          dim {\\n            size: 4\\n          }\\n        }\\n        tensor_content: &quot;\\\\003\\\\000\\\\000\\\\000\\\\001\\\\000\\\\000\\\\000\\\\220\\\\001\\\\000\\\\000\\\\220\\\\001\\\\000\\\\000&quot;\\n      }\\n    }\\n  }\\n}\\nnode {\\n  name: &quot;Convolution_2nd_2/kernel/Initializer/truncated_normal/mean&quot;\\n  op: &quot;Const&quot;\\n  attr {\\n    key: &quot;_class&quot;\\n    value {\\n      list {\\n        s: &quot;loc:@Convolution_2nd_2/kernel&quot;\\n      }\\n    }\\n  }\\n  attr {\\n    key: &quot;dtype&quot;\\n    value {\\n      type: DT_FLOAT\\n    }\\n  }\\n  attr {\\n    key: &quot;value&quot;\\n    value {\\n      tensor {\\n        dtype: DT_FLOAT\\n        tensor_shape {\\n        }\\n        float_val: 0.0\\n      }\\n    }\\n  }\\n}\\nnode {\\n  name: &quot;Convolution_2nd_2/kernel/Initializer/truncated_normal/stddev&quot;\\n  op: &quot;Const&quot;\\n  attr {\\n    key: &quot;_class&quot;\\n    value {\\n      list {\\n        s: &quot;loc:@Convolution_2nd_2/kernel&quot;\\n      }\\n    }\\n  }\\n  attr {\\n    key: &quot;dtype&quot;\\n    value {\\n      type: DT_FLOAT\\n    }\\n  }\\n  attr {\\n    key: &quot;value&quot;\\n    value {\\n      tensor {\\n        dtype: DT_FLOAT\\n        tensor_shape {\\n        }\\n        float_val: 0.04654746502637863\\n      }\\n    }\\n  }\\n}\\nnode {\\n  name: &quot;Convolution_2nd_2/kernel/Initializer/truncated_normal/TruncatedNormal&quot;\\n  op: &quot;TruncatedNormal&quot;\\n  input: &quot;Convolution_2nd_2/kernel/Initializer/truncated_normal/shape&quot;\\n  attr {\\n    key: &quot;T&quot;\\n    value {\\n      type: DT_INT32\\n    }\\n  }\\n  attr {\\n    key: &quot;_class&quot;\\n    value {\\n      list {\\n        s: &quot;loc:@Convolution_2nd_2/kernel&quot;\\n      }\\n    }\\n  }\\n  attr {\\n    key: &quot;dtype&quot;\\n    value {\\n      type: DT_FLOAT\\n    }\\n  }\\n  attr {\\n    key: &quot;seed&quot;\\n    value {\\n      i: 42\\n    }\\n  }\\n  attr {\\n    key: &quot;seed2&quot;\\n    value {\\n      i: 71\\n    }\\n  }\\n}\\nnode {\\n  name: &quot;Convolution_2nd_2/kernel/Initializer/truncated_normal/mul&quot;\\n  op: &quot;Mul&quot;\\n  input: &quot;Convolution_2nd_2/kernel/Initializer/truncated_normal/TruncatedNormal&quot;\\n  input: &quot;Convolution_2nd_2/kernel/Initializer/truncated_normal/stddev&quot;\\n  attr {\\n    key: &quot;T&quot;\\n    value {\\n      type: DT_FLOAT\\n    }\\n  }\\n  attr {\\n    key: &quot;_class&quot;\\n    value {\\n      list {\\n        s: &quot;loc:@Convolution_2nd_2/kernel&quot;\\n      }\\n    }\\n  }\\n}\\nnode {\\n  name: &quot;Convolution_2nd_2/kernel/Initializer/truncated_normal&quot;\\n  op: &quot;Add&quot;\\n  input: &quot;Convolution_2nd_2/kernel/Initializer/truncated_normal/mul&quot;\\n  input: &quot;Convolution_2nd_2/kernel/Initializer/truncated_normal/mean&quot;\\n  attr {\\n    key: &quot;T&quot;\\n    value {\\n      type: DT_FLOAT\\n    }\\n  }\\n  attr {\\n    key: &quot;_class&quot;\\n    value {\\n      list {\\n        s: &quot;loc:@Convolution_2nd_2/kernel&quot;\\n      }\\n    }\\n  }\\n}\\nnode {\\n  name: &quot;Convolution_2nd_2/kernel&quot;\\n  op: &quot;VariableV2&quot;\\n  attr {\\n    key: &quot;_class&quot;\\n    value {\\n      list {\\n        s: &quot;loc:@Convolution_2nd_2/kernel&quot;\\n      }\\n    }\\n  }\\n  attr {\\n    key: &quot;container&quot;\\n    value {\\n      s: &quot;&quot;\\n    }\\n  }\\n  attr {\\n    key: &quot;dtype&quot;\\n    value {\\n      type: DT_FLOAT\\n    }\\n  }\\n  attr {\\n    key: &quot;shape&quot;\\n    value {\\n      shape {\\n        dim {\\n          size: 3\\n        }\\n        dim {\\n          size: 1\\n        }\\n        dim {\\n          size: 400\\n        }\\n        dim {\\n          size: 400\\n        }\\n      }\\n    }\\n  }\\n  attr {\\n    key: &quot;shared_name&quot;\\n    value {\\n      s: &quot;&quot;\\n    }\\n  }\\n}\\nnode {\\n  name: &quot;Convolution_2nd_2/kernel/Assign&quot;\\n  op: &quot;Assign&quot;\\n  input: &quot;Convolution_2nd_2/kernel&quot;\\n  input: &quot;Convolution_2nd_2/kernel/Initializer/truncated_normal&quot;\\n  attr {\\n    key: &quot;T&quot;\\n    value {\\n      type: DT_FLOAT\\n    }\\n  }\\n  attr {\\n    key: &quot;_class&quot;\\n    value {\\n      list {\\n        s: &quot;loc:@Convolution_2nd_2/kernel&quot;\\n      }\\n    }\\n  }\\n  attr {\\n    key: &quot;use_locking&quot;\\n    value {\\n      b: true\\n    }\\n  }\\n  attr {\\n    key: &quot;validate_shape&quot;\\n    value {\\n      b: true\\n    }\\n  }\\n}\\nnode {\\n  name: &quot;Convolution_2nd_2/kernel/read&quot;\\n  op: &quot;Identity&quot;\\n  input: &quot;Convolution_2nd_2/kernel&quot;\\n  attr {\\n    key: &quot;T&quot;\\n    value {\\n      type: DT_FLOAT\\n    }\\n  }\\n  attr {\\n    key: &quot;_class&quot;\\n    value {\\n      list {\\n        s: &quot;loc:@Convolution_2nd_2/kernel&quot;\\n      }\\n    }\\n  }\\n}\\nnode {\\n  name: &quot;Convolution_2nd_2/bias/Initializer/zeros&quot;\\n  op: &quot;Const&quot;\\n  attr {\\n    key: &quot;_class&quot;\\n    value {\\n      list {\\n        s: &quot;loc:@Convolution_2nd_2/bias&quot;\\n      }\\n    }\\n  }\\n  attr {\\n    key: &quot;dtype&quot;\\n    value {\\n      type: DT_FLOAT\\n    }\\n  }\\n  attr {\\n    key: &quot;value&quot;\\n    value {\\n      tensor {\\n        dtype: DT_FLOAT\\n        tensor_shape {\\n          dim {\\n            size: 400\\n          }\\n        }\\n        float_val: 0.0\\n      }\\n    }\\n  }\\n}\\nnode {\\n  name: &quot;Convolution_2nd_2/bias&quot;\\n  op: &quot;VariableV2&quot;\\n  attr {\\n    key: &quot;_class&quot;\\n    value {\\n      list {\\n        s: &quot;loc:@Convolution_2nd_2/bias&quot;\\n      }\\n    }\\n  }\\n  attr {\\n    key: &quot;container&quot;\\n    value {\\n      s: &quot;&quot;\\n    }\\n  }\\n  attr {\\n    key: &quot;dtype&quot;\\n    value {\\n      type: DT_FLOAT\\n    }\\n  }\\n  attr {\\n    key: &quot;shape&quot;\\n    value {\\n      shape {\\n        dim {\\n          size: 400\\n        }\\n      }\\n    }\\n  }\\n  attr {\\n    key: &quot;shared_name&quot;\\n    value {\\n      s: &quot;&quot;\\n    }\\n  }\\n}\\nnode {\\n  name: &quot;Convolution_2nd_2/bias/Assign&quot;\\n  op: &quot;Assign&quot;\\n  input: &quot;Convolution_2nd_2/bias&quot;\\n  input: &quot;Convolution_2nd_2/bias/Initializer/zeros&quot;\\n  attr {\\n    key: &quot;T&quot;\\n    value {\\n      type: DT_FLOAT\\n    }\\n  }\\n  attr {\\n    key: &quot;_class&quot;\\n    value {\\n      list {\\n        s: &quot;loc:@Convolution_2nd_2/bias&quot;\\n      }\\n    }\\n  }\\n  attr {\\n    key: &quot;use_locking&quot;\\n    value {\\n      b: true\\n    }\\n  }\\n  attr {\\n    key: &quot;validate_shape&quot;\\n    value {\\n      b: true\\n    }\\n  }\\n}\\nnode {\\n  name: &quot;Convolution_2nd_2/bias/read&quot;\\n  op: &quot;Identity&quot;\\n  input: &quot;Convolution_2nd_2/bias&quot;\\n  attr {\\n    key: &quot;T&quot;\\n    value {\\n      type: DT_FLOAT\\n    }\\n  }\\n  attr {\\n    key: &quot;_class&quot;\\n    value {\\n      list {\\n        s: &quot;loc:@Convolution_2nd_2/bias&quot;\\n      }\\n    }\\n  }\\n}\\nnode {\\n  name: &quot;Convolution_2nd_2/convolution/Shape&quot;\\n  op: &quot;Const&quot;\\n  attr {\\n    key: &quot;dtype&quot;\\n    value {\\n      type: DT_INT32\\n    }\\n  }\\n  attr {\\n    key: &quot;value&quot;\\n    value {\\n      tensor {\\n        dtype: DT_INT32\\n        tensor_shape {\\n          dim {\\n            size: 4\\n          }\\n        }\\n        tensor_content: &quot;\\\\003\\\\000\\\\000\\\\000\\\\001\\\\000\\\\000\\\\000\\\\220\\\\001\\\\000\\\\000\\\\220\\\\001\\\\000\\\\000&quot;\\n      }\\n    }\\n  }\\n}\\nnode {\\n  name: &quot;Convolution_2nd_2/convolution/dilation_rate&quot;\\n  op: &quot;Const&quot;\\n  attr {\\n    key: &quot;dtype&quot;\\n    value {\\n      type: DT_INT32\\n    }\\n  }\\n  attr {\\n    key: &quot;value&quot;\\n    value {\\n      tensor {\\n        dtype: DT_INT32\\n        tensor_shape {\\n          dim {\\n            size: 2\\n          }\\n        }\\n        tensor_content: &quot;\\\\001\\\\000\\\\000\\\\000\\\\001\\\\000\\\\000\\\\000&quot;\\n      }\\n    }\\n  }\\n}\\nnode {\\n  name: &quot;Convolution_2nd_2/convolution&quot;\\n  op: &quot;Conv2D&quot;\\n  input: &quot;max_pooling2d_3/MaxPool&quot;\\n  input: &quot;Convolution_2nd_2/kernel/read&quot;\\n  attr {\\n    key: &quot;T&quot;\\n    value {\\n      type: DT_FLOAT\\n    }\\n  }\\n  attr {\\n    key: &quot;data_format&quot;\\n    value {\\n      s: &quot;NHWC&quot;\\n    }\\n  }\\n  attr {\\n    key: &quot;padding&quot;\\n    value {\\n      s: &quot;VALID&quot;\\n    }\\n  }\\n  attr {\\n    key: &quot;strides&quot;\\n    value {\\n      list {\\n        i: 1\\n        i: 1\\n        i: 1\\n        i: 1\\n      }\\n    }\\n  }\\n  attr {\\n    key: &quot;use_cudnn_on_gpu&quot;\\n    value {\\n      b: true\\n    }\\n  }\\n}\\nnode {\\n  name: &quot;Convolution_2nd_2/BiasAdd&quot;\\n  op: &quot;BiasAdd&quot;\\n  input: &quot;Convolution_2nd_2/convolution&quot;\\n  input: &quot;Convolution_2nd_2/bias/read&quot;\\n  attr {\\n    key: &quot;T&quot;\\n    value {\\n      type: DT_FLOAT\\n    }\\n  }\\n  attr {\\n    key: &quot;data_format&quot;\\n    value {\\n      s: &quot;NHWC&quot;\\n    }\\n  }\\n}\\nnode {\\n  name: &quot;Convolution_2nd_2/Relu&quot;\\n  op: &quot;Relu&quot;\\n  input: &quot;Convolution_2nd_2/BiasAdd&quot;\\n  attr {\\n    key: &quot;T&quot;\\n    value {\\n      type: DT_FLOAT\\n    }\\n  }\\n}\\nnode {\\n  name: &quot;max_pooling2d_4/MaxPool&quot;\\n  op: &quot;MaxPool&quot;\\n  input: &quot;Convolution_2nd_2/Relu&quot;\\n  attr {\\n    key: &quot;T&quot;\\n    value {\\n      type: DT_FLOAT\\n    }\\n  }\\n  attr {\\n    key: &quot;data_format&quot;\\n    value {\\n      s: &quot;NHWC&quot;\\n    }\\n  }\\n  attr {\\n    key: &quot;ksize&quot;\\n    value {\\n      list {\\n        i: 1\\n        i: 26\\n        i: 1\\n        i: 1\\n      }\\n    }\\n  }\\n  attr {\\n    key: &quot;padding&quot;\\n    value {\\n      s: &quot;VALID&quot;\\n    }\\n  }\\n  attr {\\n    key: &quot;strides&quot;\\n    value {\\n      list {\\n        i: 1\\n        i: 1\\n        i: 1\\n        i: 1\\n      }\\n    }\\n  }\\n}\\nnode {\\n  name: &quot;Reshape_1/shape&quot;\\n  op: &quot;Const&quot;\\n  attr {\\n    key: &quot;dtype&quot;\\n    value {\\n      type: DT_INT32\\n    }\\n  }\\n  attr {\\n    key: &quot;value&quot;\\n    value {\\n      tensor {\\n        dtype: DT_INT32\\n        tensor_shape {\\n          dim {\\n            size: 2\\n          }\\n        }\\n        tensor_content: &quot;\\\\377\\\\377\\\\377\\\\377\\\\220\\\\001\\\\000\\\\000&quot;\\n      }\\n    }\\n  }\\n}\\nnode {\\n  name: &quot;Reshape_1&quot;\\n  op: &quot;Reshape&quot;\\n  input: &quot;max_pooling2d_4/MaxPool&quot;\\n  input: &quot;Reshape_1/shape&quot;\\n  attr {\\n    key: &quot;T&quot;\\n    value {\\n      type: DT_FLOAT\\n    }\\n  }\\n  attr {\\n    key: &quot;Tshape&quot;\\n    value {\\n      type: DT_INT32\\n    }\\n  }\\n}\\nnode {\\n  name: &quot;concat/axis&quot;\\n  op: &quot;Const&quot;\\n  attr {\\n    key: &quot;dtype&quot;\\n    value {\\n      type: DT_INT32\\n    }\\n  }\\n  attr {\\n    key: &quot;value&quot;\\n    value {\\n      tensor {\\n        dtype: DT_INT32\\n        tensor_shape {\\n        }\\n        int_val: 1\\n      }\\n    }\\n  }\\n}\\nnode {\\n  name: &quot;concat&quot;\\n  op: &quot;ConcatV2&quot;\\n  input: &quot;Reshape&quot;\\n  input: &quot;Reshape_1&quot;\\n  input: &quot;concat/axis&quot;\\n  attr {\\n    key: &quot;N&quot;\\n    value {\\n      i: 2\\n    }\\n  }\\n  attr {\\n    key: &quot;T&quot;\\n    value {\\n      type: DT_FLOAT\\n    }\\n  }\\n  attr {\\n    key: &quot;Tidx&quot;\\n    value {\\n      type: DT_INT32\\n    }\\n  }\\n}\\nnode {\\n  name: &quot;Fully_connect/kernel/Initializer/random_uniform/shape&quot;\\n  op: &quot;Const&quot;\\n  attr {\\n    key: &quot;_class&quot;\\n    value {\\n      list {\\n        s: &quot;loc:@Fully_connect/kernel&quot;\\n      }\\n    }\\n  }\\n  attr {\\n    key: &quot;dtype&quot;\\n    value {\\n      type: DT_INT32\\n    }\\n  }\\n  attr {\\n    key: &quot;value&quot;\\n    value {\\n      tensor {\\n        dtype: DT_INT32\\n        tensor_shape {\\n          dim {\\n            size: 2\\n          }\\n        }\\n        tensor_content: &quot; \\\\003\\\\000\\\\000\\\\000\\\\004\\\\000\\\\000&quot;\\n      }\\n    }\\n  }\\n}\\nnode {\\n  name: &quot;Fully_connect/kernel/Initializer/random_uniform/min&quot;\\n  op: &quot;Const&quot;\\n  attr {\\n    key: &quot;_class&quot;\\n    value {\\n      list {\\n        s: &quot;loc:@Fully_connect/kernel&quot;\\n      }\\n    }\\n  }\\n  attr {\\n    key: &quot;dtype&quot;\\n    value {\\n      type: DT_FLOAT\\n    }\\n  }\\n  attr {\\n    key: &quot;value&quot;\\n    value {\\n      tensor {\\n        dtype: DT_FLOAT\\n        tensor_shape {\\n        }\\n        float_val: -0.05735393241047859\\n      }\\n    }\\n  }\\n}\\nnode {\\n  name: &quot;Fully_connect/kernel/Initializer/random_uniform/max&quot;\\n  op: &quot;Const&quot;\\n  attr {\\n    key: &quot;_class&quot;\\n    value {\\n      list {\\n        s: &quot;loc:@Fully_connect/kernel&quot;\\n      }\\n    }\\n  }\\n  attr {\\n    key: &quot;dtype&quot;\\n    value {\\n      type: DT_FLOAT\\n    }\\n  }\\n  attr {\\n    key: &quot;value&quot;\\n    value {\\n      tensor {\\n        dtype: DT_FLOAT\\n        tensor_shape {\\n        }\\n        float_val: 0.05735393241047859\\n      }\\n    }\\n  }\\n}\\nnode {\\n  name: &quot;Fully_connect/kernel/Initializer/random_uniform/RandomUniform&quot;\\n  op: &quot;RandomUniform&quot;\\n  input: &quot;Fully_connect/kernel/Initializer/random_uniform/shape&quot;\\n  attr {\\n    key: &quot;T&quot;\\n    value {\\n      type: DT_INT32\\n    }\\n  }\\n  attr {\\n    key: &quot;_class&quot;\\n    value {\\n      list {\\n        s: &quot;loc:@Fully_connect/kernel&quot;\\n      }\\n    }\\n  }\\n  attr {\\n    key: &quot;dtype&quot;\\n    value {\\n      type: DT_FLOAT\\n    }\\n  }\\n  attr {\\n    key: &quot;seed&quot;\\n    value {\\n      i: 42\\n    }\\n  }\\n  attr {\\n    key: &quot;seed2&quot;\\n    value {\\n      i: 94\\n    }\\n  }\\n}\\nnode {\\n  name: &quot;Fully_connect/kernel/Initializer/random_uniform/sub&quot;\\n  op: &quot;Sub&quot;\\n  input: &quot;Fully_connect/kernel/Initializer/random_uniform/max&quot;\\n  input: &quot;Fully_connect/kernel/Initializer/random_uniform/min&quot;\\n  attr {\\n    key: &quot;T&quot;\\n    value {\\n      type: DT_FLOAT\\n    }\\n  }\\n  attr {\\n    key: &quot;_class&quot;\\n    value {\\n      list {\\n        s: &quot;loc:@Fully_connect/kernel&quot;\\n      }\\n    }\\n  }\\n}\\nnode {\\n  name: &quot;Fully_connect/kernel/Initializer/random_uniform/mul&quot;\\n  op: &quot;Mul&quot;\\n  input: &quot;Fully_connect/kernel/Initializer/random_uniform/RandomUniform&quot;\\n  input: &quot;Fully_connect/kernel/Initializer/random_uniform/sub&quot;\\n  attr {\\n    key: &quot;T&quot;\\n    value {\\n      type: DT_FLOAT\\n    }\\n  }\\n  attr {\\n    key: &quot;_class&quot;\\n    value {\\n      list {\\n        s: &quot;loc:@Fully_connect/kernel&quot;\\n      }\\n    }\\n  }\\n}\\nnode {\\n  name: &quot;Fully_connect/kernel/Initializer/random_uniform&quot;\\n  op: &quot;Add&quot;\\n  input: &quot;Fully_connect/kernel/Initializer/random_uniform/mul&quot;\\n  input: &quot;Fully_connect/kernel/Initializer/random_uniform/min&quot;\\n  attr {\\n    key: &quot;T&quot;\\n    value {\\n      type: DT_FLOAT\\n    }\\n  }\\n  attr {\\n    key: &quot;_class&quot;\\n    value {\\n      list {\\n        s: &quot;loc:@Fully_connect/kernel&quot;\\n      }\\n    }\\n  }\\n}\\nnode {\\n  name: &quot;Fully_connect/kernel&quot;\\n  op: &quot;VariableV2&quot;\\n  attr {\\n    key: &quot;_class&quot;\\n    value {\\n      list {\\n        s: &quot;loc:@Fully_connect/kernel&quot;\\n      }\\n    }\\n  }\\n  attr {\\n    key: &quot;container&quot;\\n    value {\\n      s: &quot;&quot;\\n    }\\n  }\\n  attr {\\n    key: &quot;dtype&quot;\\n    value {\\n      type: DT_FLOAT\\n    }\\n  }\\n  attr {\\n    key: &quot;shape&quot;\\n    value {\\n      shape {\\n        dim {\\n          size: 800\\n        }\\n        dim {\\n          size: 1024\\n        }\\n      }\\n    }\\n  }\\n  attr {\\n    key: &quot;shared_name&quot;\\n    value {\\n      s: &quot;&quot;\\n    }\\n  }\\n}\\nnode {\\n  name: &quot;Fully_connect/kernel/Assign&quot;\\n  op: &quot;Assign&quot;\\n  input: &quot;Fully_connect/kernel&quot;\\n  input: &quot;Fully_connect/kernel/Initializer/random_uniform&quot;\\n  attr {\\n    key: &quot;T&quot;\\n    value {\\n      type: DT_FLOAT\\n    }\\n  }\\n  attr {\\n    key: &quot;_class&quot;\\n    value {\\n      list {\\n        s: &quot;loc:@Fully_connect/kernel&quot;\\n      }\\n    }\\n  }\\n  attr {\\n    key: &quot;use_locking&quot;\\n    value {\\n      b: true\\n    }\\n  }\\n  attr {\\n    key: &quot;validate_shape&quot;\\n    value {\\n      b: true\\n    }\\n  }\\n}\\nnode {\\n  name: &quot;Fully_connect/kernel/read&quot;\\n  op: &quot;Identity&quot;\\n  input: &quot;Fully_connect/kernel&quot;\\n  attr {\\n    key: &quot;T&quot;\\n    value {\\n      type: DT_FLOAT\\n    }\\n  }\\n  attr {\\n    key: &quot;_class&quot;\\n    value {\\n      list {\\n        s: &quot;loc:@Fully_connect/kernel&quot;\\n      }\\n    }\\n  }\\n}\\nnode {\\n  name: &quot;Fully_connect/bias/Initializer/zeros&quot;\\n  op: &quot;Const&quot;\\n  attr {\\n    key: &quot;_class&quot;\\n    value {\\n      list {\\n        s: &quot;loc:@Fully_connect/bias&quot;\\n      }\\n    }\\n  }\\n  attr {\\n    key: &quot;dtype&quot;\\n    value {\\n      type: DT_FLOAT\\n    }\\n  }\\n  attr {\\n    key: &quot;value&quot;\\n    value {\\n      tensor {\\n        dtype: DT_FLOAT\\n        tensor_shape {\\n          dim {\\n            size: 1024\\n          }\\n        }\\n        float_val: 0.0\\n      }\\n    }\\n  }\\n}\\nnode {\\n  name: &quot;Fully_connect/bias&quot;\\n  op: &quot;VariableV2&quot;\\n  attr {\\n    key: &quot;_class&quot;\\n    value {\\n      list {\\n        s: &quot;loc:@Fully_connect/bias&quot;\\n      }\\n    }\\n  }\\n  attr {\\n    key: &quot;container&quot;\\n    value {\\n      s: &quot;&quot;\\n    }\\n  }\\n  attr {\\n    key: &quot;dtype&quot;\\n    value {\\n      type: DT_FLOAT\\n    }\\n  }\\n  attr {\\n    key: &quot;shape&quot;\\n    value {\\n      shape {\\n        dim {\\n          size: 1024\\n        }\\n      }\\n    }\\n  }\\n  attr {\\n    key: &quot;shared_name&quot;\\n    value {\\n      s: &quot;&quot;\\n    }\\n  }\\n}\\nnode {\\n  name: &quot;Fully_connect/bias/Assign&quot;\\n  op: &quot;Assign&quot;\\n  input: &quot;Fully_connect/bias&quot;\\n  input: &quot;Fully_connect/bias/Initializer/zeros&quot;\\n  attr {\\n    key: &quot;T&quot;\\n    value {\\n      type: DT_FLOAT\\n    }\\n  }\\n  attr {\\n    key: &quot;_class&quot;\\n    value {\\n      list {\\n        s: &quot;loc:@Fully_connect/bias&quot;\\n      }\\n    }\\n  }\\n  attr {\\n    key: &quot;use_locking&quot;\\n    value {\\n      b: true\\n    }\\n  }\\n  attr {\\n    key: &quot;validate_shape&quot;\\n    value {\\n      b: true\\n    }\\n  }\\n}\\nnode {\\n  name: &quot;Fully_connect/bias/read&quot;\\n  op: &quot;Identity&quot;\\n  input: &quot;Fully_connect/bias&quot;\\n  attr {\\n    key: &quot;T&quot;\\n    value {\\n      type: DT_FLOAT\\n    }\\n  }\\n  attr {\\n    key: &quot;_class&quot;\\n    value {\\n      list {\\n        s: &quot;loc:@Fully_connect/bias&quot;\\n      }\\n    }\\n  }\\n}\\nnode {\\n  name: &quot;Fully_connect/MatMul&quot;\\n  op: &quot;MatMul&quot;\\n  input: &quot;concat&quot;\\n  input: &quot;Fully_connect/kernel/read&quot;\\n  attr {\\n    key: &quot;T&quot;\\n    value {\\n      type: DT_FLOAT\\n    }\\n  }\\n  attr {\\n    key: &quot;transpose_a&quot;\\n    value {\\n      b: false\\n    }\\n  }\\n  attr {\\n    key: &quot;transpose_b&quot;\\n    value {\\n      b: false\\n    }\\n  }\\n}\\nnode {\\n  name: &quot;Fully_connect/BiasAdd&quot;\\n  op: &quot;BiasAdd&quot;\\n  input: &quot;Fully_connect/MatMul&quot;\\n  input: &quot;Fully_connect/bias/read&quot;\\n  attr {\\n    key: &quot;T&quot;\\n    value {\\n      type: DT_FLOAT\\n    }\\n  }\\n  attr {\\n    key: &quot;data_format&quot;\\n    value {\\n      s: &quot;NHWC&quot;\\n    }\\n  }\\n}\\nnode {\\n  name: &quot;Fully_connect/Relu&quot;\\n  op: &quot;Relu&quot;\\n  input: &quot;Fully_connect/BiasAdd&quot;\\n  attr {\\n    key: &quot;T&quot;\\n    value {\\n      type: DT_FLOAT\\n    }\\n  }\\n}\\nnode {\\n  name: &quot;Softmax/kernel/Initializer/random_uniform/shape&quot;\\n  op: &quot;Const&quot;\\n  attr {\\n    key: &quot;_class&quot;\\n    value {\\n      list {\\n        s: &quot;loc:@Softmax/kernel&quot;\\n      }\\n    }\\n  }\\n  attr {\\n    key: &quot;dtype&quot;\\n    value {\\n      type: DT_INT32\\n    }\\n  }\\n  attr {\\n    key: &quot;value&quot;\\n    value {\\n      tensor {\\n        dtype: DT_INT32\\n        tensor_shape {\\n          dim {\\n            size: 2\\n          }\\n        }\\n        tensor_content: &quot;\\\\000\\\\004\\\\000\\\\000\\\\010\\\\000\\\\000\\\\000&quot;\\n      }\\n    }\\n  }\\n}\\nnode {\\n  name: &quot;Softmax/kernel/Initializer/random_uniform/min&quot;\\n  op: &quot;Const&quot;\\n  attr {\\n    key: &quot;_class&quot;\\n    value {\\n      list {\\n        s: &quot;loc:@Softmax/kernel&quot;\\n      }\\n    }\\n  }\\n  attr {\\n    key: &quot;dtype&quot;\\n    value {\\n      type: DT_FLOAT\\n    }\\n  }\\n  attr {\\n    key: &quot;value&quot;\\n    value {\\n      tensor {\\n        dtype: DT_FLOAT\\n        tensor_shape {\\n        }\\n        float_val: -0.07624928653240204\\n      }\\n    }\\n  }\\n}\\nnode {\\n  name: &quot;Softmax/kernel/Initializer/random_uniform/max&quot;\\n  op: &quot;Const&quot;\\n  attr {\\n    key: &quot;_class&quot;\\n    value {\\n      list {\\n        s: &quot;loc:@Softmax/kernel&quot;\\n      }\\n    }\\n  }\\n  attr {\\n    key: &quot;dtype&quot;\\n    value {\\n      type: DT_FLOAT\\n    }\\n  }\\n  attr {\\n    key: &quot;value&quot;\\n    value {\\n      tensor {\\n        dtype: DT_FLOAT\\n        tensor_shape {\\n        }\\n        float_val: 0.07624928653240204\\n      }\\n    }\\n  }\\n}\\nnode {\\n  name: &quot;Softmax/kernel/Initializer/random_uniform/RandomUniform&quot;\\n  op: &quot;RandomUniform&quot;\\n  input: &quot;Softmax/kernel/Initializer/random_uniform/shape&quot;\\n  attr {\\n    key: &quot;T&quot;\\n    value {\\n      type: DT_INT32\\n    }\\n  }\\n  attr {\\n    key: &quot;_class&quot;\\n    value {\\n      list {\\n        s: &quot;loc:@Softmax/kernel&quot;\\n      }\\n    }\\n  }\\n  attr {\\n    key: &quot;dtype&quot;\\n    value {\\n      type: DT_FLOAT\\n    }\\n  }\\n  attr {\\n    key: &quot;seed&quot;\\n    value {\\n      i: 42\\n    }\\n  }\\n  attr {\\n    key: &quot;seed2&quot;\\n    value {\\n      i: 111\\n    }\\n  }\\n}\\nnode {\\n  name: &quot;Softmax/kernel/Initializer/random_uniform/sub&quot;\\n  op: &quot;Sub&quot;\\n  input: &quot;Softmax/kernel/Initializer/random_uniform/max&quot;\\n  input: &quot;Softmax/kernel/Initializer/random_uniform/min&quot;\\n  attr {\\n    key: &quot;T&quot;\\n    value {\\n      type: DT_FLOAT\\n    }\\n  }\\n  attr {\\n    key: &quot;_class&quot;\\n    value {\\n      list {\\n        s: &quot;loc:@Softmax/kernel&quot;\\n      }\\n    }\\n  }\\n}\\nnode {\\n  name: &quot;Softmax/kernel/Initializer/random_uniform/mul&quot;\\n  op: &quot;Mul&quot;\\n  input: &quot;Softmax/kernel/Initializer/random_uniform/RandomUniform&quot;\\n  input: &quot;Softmax/kernel/Initializer/random_uniform/sub&quot;\\n  attr {\\n    key: &quot;T&quot;\\n    value {\\n      type: DT_FLOAT\\n    }\\n  }\\n  attr {\\n    key: &quot;_class&quot;\\n    value {\\n      list {\\n        s: &quot;loc:@Softmax/kernel&quot;\\n      }\\n    }\\n  }\\n}\\nnode {\\n  name: &quot;Softmax/kernel/Initializer/random_uniform&quot;\\n  op: &quot;Add&quot;\\n  input: &quot;Softmax/kernel/Initializer/random_uniform/mul&quot;\\n  input: &quot;Softmax/kernel/Initializer/random_uniform/min&quot;\\n  attr {\\n    key: &quot;T&quot;\\n    value {\\n      type: DT_FLOAT\\n    }\\n  }\\n  attr {\\n    key: &quot;_class&quot;\\n    value {\\n      list {\\n        s: &quot;loc:@Softmax/kernel&quot;\\n      }\\n    }\\n  }\\n}\\nnode {\\n  name: &quot;Softmax/kernel&quot;\\n  op: &quot;VariableV2&quot;\\n  attr {\\n    key: &quot;_class&quot;\\n    value {\\n      list {\\n        s: &quot;loc:@Softmax/kernel&quot;\\n      }\\n    }\\n  }\\n  attr {\\n    key: &quot;container&quot;\\n    value {\\n      s: &quot;&quot;\\n    }\\n  }\\n  attr {\\n    key: &quot;dtype&quot;\\n    value {\\n      type: DT_FLOAT\\n    }\\n  }\\n  attr {\\n    key: &quot;shape&quot;\\n    value {\\n      shape {\\n        dim {\\n          size: 1024\\n        }\\n        dim {\\n          size: 8\\n        }\\n      }\\n    }\\n  }\\n  attr {\\n    key: &quot;shared_name&quot;\\n    value {\\n      s: &quot;&quot;\\n    }\\n  }\\n}\\nnode {\\n  name: &quot;Softmax/kernel/Assign&quot;\\n  op: &quot;Assign&quot;\\n  input: &quot;Softmax/kernel&quot;\\n  input: &quot;Softmax/kernel/Initializer/random_uniform&quot;\\n  attr {\\n    key: &quot;T&quot;\\n    value {\\n      type: DT_FLOAT\\n    }\\n  }\\n  attr {\\n    key: &quot;_class&quot;\\n    value {\\n      list {\\n        s: &quot;loc:@Softmax/kernel&quot;\\n      }\\n    }\\n  }\\n  attr {\\n    key: &quot;use_locking&quot;\\n    value {\\n      b: true\\n    }\\n  }\\n  attr {\\n    key: &quot;validate_shape&quot;\\n    value {\\n      b: true\\n    }\\n  }\\n}\\nnode {\\n  name: &quot;Softmax/kernel/read&quot;\\n  op: &quot;Identity&quot;\\n  input: &quot;Softmax/kernel&quot;\\n  attr {\\n    key: &quot;T&quot;\\n    value {\\n      type: DT_FLOAT\\n    }\\n  }\\n  attr {\\n    key: &quot;_class&quot;\\n    value {\\n      list {\\n        s: &quot;loc:@Softmax/kernel&quot;\\n      }\\n    }\\n  }\\n}\\nnode {\\n  name: &quot;Softmax/bias/Initializer/zeros&quot;\\n  op: &quot;Const&quot;\\n  attr {\\n    key: &quot;_class&quot;\\n    value {\\n      list {\\n        s: &quot;loc:@Softmax/bias&quot;\\n      }\\n    }\\n  }\\n  attr {\\n    key: &quot;dtype&quot;\\n    value {\\n      type: DT_FLOAT\\n    }\\n  }\\n  attr {\\n    key: &quot;value&quot;\\n    value {\\n      tensor {\\n        dtype: DT_FLOAT\\n        tensor_shape {\\n          dim {\\n            size: 8\\n          }\\n        }\\n        float_val: 0.0\\n      }\\n    }\\n  }\\n}\\nnode {\\n  name: &quot;Softmax/bias&quot;\\n  op: &quot;VariableV2&quot;\\n  attr {\\n    key: &quot;_class&quot;\\n    value {\\n      list {\\n        s: &quot;loc:@Softmax/bias&quot;\\n      }\\n    }\\n  }\\n  attr {\\n    key: &quot;container&quot;\\n    value {\\n      s: &quot;&quot;\\n    }\\n  }\\n  attr {\\n    key: &quot;dtype&quot;\\n    value {\\n      type: DT_FLOAT\\n    }\\n  }\\n  attr {\\n    key: &quot;shape&quot;\\n    value {\\n      shape {\\n        dim {\\n          size: 8\\n        }\\n      }\\n    }\\n  }\\n  attr {\\n    key: &quot;shared_name&quot;\\n    value {\\n      s: &quot;&quot;\\n    }\\n  }\\n}\\nnode {\\n  name: &quot;Softmax/bias/Assign&quot;\\n  op: &quot;Assign&quot;\\n  input: &quot;Softmax/bias&quot;\\n  input: &quot;Softmax/bias/Initializer/zeros&quot;\\n  attr {\\n    key: &quot;T&quot;\\n    value {\\n      type: DT_FLOAT\\n    }\\n  }\\n  attr {\\n    key: &quot;_class&quot;\\n    value {\\n      list {\\n        s: &quot;loc:@Softmax/bias&quot;\\n      }\\n    }\\n  }\\n  attr {\\n    key: &quot;use_locking&quot;\\n    value {\\n      b: true\\n    }\\n  }\\n  attr {\\n    key: &quot;validate_shape&quot;\\n    value {\\n      b: true\\n    }\\n  }\\n}\\nnode {\\n  name: &quot;Softmax/bias/read&quot;\\n  op: &quot;Identity&quot;\\n  input: &quot;Softmax/bias&quot;\\n  attr {\\n    key: &quot;T&quot;\\n    value {\\n      type: DT_FLOAT\\n    }\\n  }\\n  attr {\\n    key: &quot;_class&quot;\\n    value {\\n      list {\\n        s: &quot;loc:@Softmax/bias&quot;\\n      }\\n    }\\n  }\\n}\\nnode {\\n  name: &quot;Softmax/MatMul&quot;\\n  op: &quot;MatMul&quot;\\n  input: &quot;Fully_connect/Relu&quot;\\n  input: &quot;Softmax/kernel/read&quot;\\n  attr {\\n    key: &quot;T&quot;\\n    value {\\n      type: DT_FLOAT\\n    }\\n  }\\n  attr {\\n    key: &quot;transpose_a&quot;\\n    value {\\n      b: false\\n    }\\n  }\\n  attr {\\n    key: &quot;transpose_b&quot;\\n    value {\\n      b: false\\n    }\\n  }\\n}\\nnode {\\n  name: &quot;Softmax/BiasAdd&quot;\\n  op: &quot;BiasAdd&quot;\\n  input: &quot;Softmax/MatMul&quot;\\n  input: &quot;Softmax/bias/read&quot;\\n  attr {\\n    key: &quot;T&quot;\\n    value {\\n      type: DT_FLOAT\\n    }\\n  }\\n  attr {\\n    key: &quot;data_format&quot;\\n    value {\\n      s: &quot;NHWC&quot;\\n    }\\n  }\\n}\\nnode {\\n  name: &quot;Softmax/Softmax_2&quot;\\n  op: &quot;Softmax&quot;\\n  input: &quot;Softmax/BiasAdd&quot;\\n  attr {\\n    key: &quot;T&quot;\\n    value {\\n      type: DT_FLOAT\\n    }\\n  }\\n}\\nnode {\\n  name: &quot;Cross_Entropy/Shape&quot;\\n  op: &quot;Shape&quot;\\n  input: &quot;Y&quot;\\n  attr {\\n    key: &quot;T&quot;\\n    value {\\n      type: DT_INT32\\n    }\\n  }\\n  attr {\\n    key: &quot;out_type&quot;\\n    value {\\n      type: DT_INT32\\n    }\\n  }\\n}\\nnode {\\n  name: &quot;Cross_Entropy/Cross_Entropy&quot;\\n  op: &quot;SparseSoftmaxCrossEntropyWithLogits&quot;\\n  input: &quot;Softmax/Softmax_2&quot;\\n  input: &quot;Y&quot;\\n  attr {\\n    key: &quot;T&quot;\\n    value {\\n      type: DT_FLOAT\\n    }\\n  }\\n  attr {\\n    key: &quot;Tlabels&quot;\\n    value {\\n      type: DT_INT32\\n    }\\n  }\\n}\\nnode {\\n  name: &quot;Const&quot;\\n  op: &quot;Const&quot;\\n  attr {\\n    key: &quot;dtype&quot;\\n    value {\\n      type: DT_INT32\\n    }\\n  }\\n  attr {\\n    key: &quot;value&quot;\\n    value {\\n      tensor {\\n        dtype: DT_INT32\\n        tensor_shape {\\n          dim {\\n            size: 1\\n          }\\n        }\\n        int_val: 0\\n      }\\n    }\\n  }\\n}\\nnode {\\n  name: &quot;Mean&quot;\\n  op: &quot;Mean&quot;\\n  input: &quot;Cross_Entropy/Cross_Entropy&quot;\\n  input: &quot;Const&quot;\\n  attr {\\n    key: &quot;T&quot;\\n    value {\\n      type: DT_FLOAT\\n    }\\n  }\\n  attr {\\n    key: &quot;Tidx&quot;\\n    value {\\n      type: DT_INT32\\n    }\\n  }\\n  attr {\\n    key: &quot;keep_dims&quot;\\n    value {\\n      b: false\\n    }\\n  }\\n}\\nnode {\\n  name: &quot;gradients/Shape&quot;\\n  op: &quot;Const&quot;\\n  attr {\\n    key: &quot;dtype&quot;\\n    value {\\n      type: DT_INT32\\n    }\\n  }\\n  attr {\\n    key: &quot;value&quot;\\n    value {\\n      tensor {\\n        dtype: DT_INT32\\n        tensor_shape {\\n          dim {\\n          }\\n        }\\n      }\\n    }\\n  }\\n}\\nnode {\\n  name: &quot;gradients/Const&quot;\\n  op: &quot;Const&quot;\\n  attr {\\n    key: &quot;dtype&quot;\\n    value {\\n      type: DT_FLOAT\\n    }\\n  }\\n  attr {\\n    key: &quot;value&quot;\\n    value {\\n      tensor {\\n        dtype: DT_FLOAT\\n        tensor_shape {\\n        }\\n        float_val: 1.0\\n      }\\n    }\\n  }\\n}\\nnode {\\n  name: &quot;gradients/Fill&quot;\\n  op: &quot;Fill&quot;\\n  input: &quot;gradients/Shape&quot;\\n  input: &quot;gradients/Const&quot;\\n  attr {\\n    key: &quot;T&quot;\\n    value {\\n      type: DT_FLOAT\\n    }\\n  }\\n}\\nnode {\\n  name: &quot;gradients/Mean_grad/Reshape/shape&quot;\\n  op: &quot;Const&quot;\\n  attr {\\n    key: &quot;dtype&quot;\\n    value {\\n      type: DT_INT32\\n    }\\n  }\\n  attr {\\n    key: &quot;value&quot;\\n    value {\\n      tensor {\\n        dtype: DT_INT32\\n        tensor_shape {\\n          dim {\\n            size: 1\\n          }\\n        }\\n        int_val: 1\\n      }\\n    }\\n  }\\n}\\nnode {\\n  name: &quot;gradients/Mean_grad/Reshape&quot;\\n  op: &quot;Reshape&quot;\\n  input: &quot;gradients/Fill&quot;\\n  input: &quot;gradients/Mean_grad/Reshape/shape&quot;\\n  attr {\\n    key: &quot;T&quot;\\n    value {\\n      type: DT_FLOAT\\n    }\\n  }\\n  attr {\\n    key: &quot;Tshape&quot;\\n    value {\\n      type: DT_INT32\\n    }\\n  }\\n}\\nnode {\\n  name: &quot;gradients/Mean_grad/Shape&quot;\\n  op: &quot;Shape&quot;\\n  input: &quot;Cross_Entropy/Cross_Entropy&quot;\\n  attr {\\n    key: &quot;T&quot;\\n    value {\\n      type: DT_FLOAT\\n    }\\n  }\\n  attr {\\n    key: &quot;out_type&quot;\\n    value {\\n      type: DT_INT32\\n    }\\n  }\\n}\\nnode {\\n  name: &quot;gradients/Mean_grad/Tile&quot;\\n  op: &quot;Tile&quot;\\n  input: &quot;gradients/Mean_grad/Reshape&quot;\\n  input: &quot;gradients/Mean_grad/Shape&quot;\\n  attr {\\n    key: &quot;T&quot;\\n    value {\\n      type: DT_FLOAT\\n    }\\n  }\\n  attr {\\n    key: &quot;Tmultiples&quot;\\n    value {\\n      type: DT_INT32\\n    }\\n  }\\n}\\nnode {\\n  name: &quot;gradients/Mean_grad/Shape_1&quot;\\n  op: &quot;Shape&quot;\\n  input: &quot;Cross_Entropy/Cross_Entropy&quot;\\n  attr {\\n    key: &quot;T&quot;\\n    value {\\n      type: DT_FLOAT\\n    }\\n  }\\n  attr {\\n    key: &quot;out_type&quot;\\n    value {\\n      type: DT_INT32\\n    }\\n  }\\n}\\nnode {\\n  name: &quot;gradients/Mean_grad/Shape_2&quot;\\n  op: &quot;Const&quot;\\n  attr {\\n    key: &quot;dtype&quot;\\n    value {\\n      type: DT_INT32\\n    }\\n  }\\n  attr {\\n    key: &quot;value&quot;\\n    value {\\n      tensor {\\n        dtype: DT_INT32\\n        tensor_shape {\\n          dim {\\n          }\\n        }\\n      }\\n    }\\n  }\\n}\\nnode {\\n  name: &quot;gradients/Mean_grad/Const&quot;\\n  op: &quot;Const&quot;\\n  attr {\\n    key: &quot;dtype&quot;\\n    value {\\n      type: DT_INT32\\n    }\\n  }\\n  attr {\\n    key: &quot;value&quot;\\n    value {\\n      tensor {\\n        dtype: DT_INT32\\n        tensor_shape {\\n          dim {\\n            size: 1\\n          }\\n        }\\n        int_val: 0\\n      }\\n    }\\n  }\\n}\\nnode {\\n  name: &quot;gradients/Mean_grad/Prod&quot;\\n  op: &quot;Prod&quot;\\n  input: &quot;gradients/Mean_grad/Shape_1&quot;\\n  input: &quot;gradients/Mean_grad/Const&quot;\\n  attr {\\n    key: &quot;T&quot;\\n    value {\\n      type: DT_INT32\\n    }\\n  }\\n  attr {\\n    key: &quot;Tidx&quot;\\n    value {\\n      type: DT_INT32\\n    }\\n  }\\n  attr {\\n    key: &quot;keep_dims&quot;\\n    value {\\n      b: false\\n    }\\n  }\\n}\\nnode {\\n  name: &quot;gradients/Mean_grad/Const_1&quot;\\n  op: &quot;Const&quot;\\n  attr {\\n    key: &quot;dtype&quot;\\n    value {\\n      type: DT_INT32\\n    }\\n  }\\n  attr {\\n    key: &quot;value&quot;\\n    value {\\n      tensor {\\n        dtype: DT_INT32\\n        tensor_shape {\\n          dim {\\n            size: 1\\n          }\\n        }\\n        int_val: 0\\n      }\\n    }\\n  }\\n}\\nnode {\\n  name: &quot;gradients/Mean_grad/Prod_1&quot;\\n  op: &quot;Prod&quot;\\n  input: &quot;gradients/Mean_grad/Shape_2&quot;\\n  input: &quot;gradients/Mean_grad/Const_1&quot;\\n  attr {\\n    key: &quot;T&quot;\\n    value {\\n      type: DT_INT32\\n    }\\n  }\\n  attr {\\n    key: &quot;Tidx&quot;\\n    value {\\n      type: DT_INT32\\n    }\\n  }\\n  attr {\\n    key: &quot;keep_dims&quot;\\n    value {\\n      b: false\\n    }\\n  }\\n}\\nnode {\\n  name: &quot;gradients/Mean_grad/Maximum/y&quot;\\n  op: &quot;Const&quot;\\n  attr {\\n    key: &quot;dtype&quot;\\n    value {\\n      type: DT_INT32\\n    }\\n  }\\n  attr {\\n    key: &quot;value&quot;\\n    value {\\n      tensor {\\n        dtype: DT_INT32\\n        tensor_shape {\\n        }\\n        int_val: 1\\n      }\\n    }\\n  }\\n}\\nnode {\\n  name: &quot;gradients/Mean_grad/Maximum&quot;\\n  op: &quot;Maximum&quot;\\n  input: &quot;gradients/Mean_grad/Prod_1&quot;\\n  input: &quot;gradients/Mean_grad/Maximum/y&quot;\\n  attr {\\n    key: &quot;T&quot;\\n    value {\\n      type: DT_INT32\\n    }\\n  }\\n}\\nnode {\\n  name: &quot;gradients/Mean_grad/floordiv&quot;\\n  op: &quot;FloorDiv&quot;\\n  input: &quot;gradients/Mean_grad/Prod&quot;\\n  input: &quot;gradients/Mean_grad/Maximum&quot;\\n  attr {\\n    key: &quot;T&quot;\\n    value {\\n      type: DT_INT32\\n    }\\n  }\\n}\\nnode {\\n  name: &quot;gradients/Mean_grad/Cast&quot;\\n  op: &quot;Cast&quot;\\n  input: &quot;gradients/Mean_grad/floordiv&quot;\\n  attr {\\n    key: &quot;DstT&quot;\\n    value {\\n      type: DT_FLOAT\\n    }\\n  }\\n  attr {\\n    key: &quot;SrcT&quot;\\n    value {\\n      type: DT_INT32\\n    }\\n  }\\n}\\nnode {\\n  name: &quot;gradients/Mean_grad/truediv&quot;\\n  op: &quot;RealDiv&quot;\\n  input: &quot;gradients/Mean_grad/Tile&quot;\\n  input: &quot;gradients/Mean_grad/Cast&quot;\\n  attr {\\n    key: &quot;T&quot;\\n    value {\\n      type: DT_FLOAT\\n    }\\n  }\\n}\\nnode {\\n  name: &quot;gradients/zeros_like&quot;\\n  op: &quot;ZerosLike&quot;\\n  input: &quot;Cross_Entropy/Cross_Entropy:1&quot;\\n  attr {\\n    key: &quot;T&quot;\\n    value {\\n      type: DT_FLOAT\\n    }\\n  }\\n}\\nnode {\\n  name: &quot;gradients/Cross_Entropy/Cross_Entropy_grad/PreventGradient&quot;\\n  op: &quot;PreventGradient&quot;\\n  input: &quot;Cross_Entropy/Cross_Entropy:1&quot;\\n  attr {\\n    key: &quot;T&quot;\\n    value {\\n      type: DT_FLOAT\\n    }\\n  }\\n  attr {\\n    key: &quot;message&quot;\\n    value {\\n      s: &quot;Currently there is no way to take the second derivative of sparse_softmax_cross_entropy_with_logits due to the fused implementation\\\\\\'s interaction with tf.gradients()&quot;\\n    }\\n  }\\n}\\nnode {\\n  name: &quot;gradients/Cross_Entropy/Cross_Entropy_grad/ExpandDims/dim&quot;\\n  op: &quot;Const&quot;\\n  attr {\\n    key: &quot;dtype&quot;\\n    value {\\n      type: DT_INT32\\n    }\\n  }\\n  attr {\\n    key: &quot;value&quot;\\n    value {\\n      tensor {\\n        dtype: DT_INT32\\n        tensor_shape {\\n        }\\n        int_val: -1\\n      }\\n    }\\n  }\\n}\\nnode {\\n  name: &quot;gradients/Cross_Entropy/Cross_Entropy_grad/ExpandDims&quot;\\n  op: &quot;ExpandDims&quot;\\n  input: &quot;gradients/Mean_grad/truediv&quot;\\n  input: &quot;gradients/Cross_Entropy/Cross_Entropy_grad/ExpandDims/dim&quot;\\n  attr {\\n    key: &quot;T&quot;\\n    value {\\n      type: DT_FLOAT\\n    }\\n  }\\n  attr {\\n    key: &quot;Tdim&quot;\\n    value {\\n      type: DT_INT32\\n    }\\n  }\\n}\\nnode {\\n  name: &quot;gradients/Cross_Entropy/Cross_Entropy_grad/mul&quot;\\n  op: &quot;Mul&quot;\\n  input: &quot;gradients/Cross_Entropy/Cross_Entropy_grad/ExpandDims&quot;\\n  input: &quot;gradients/Cross_Entropy/Cross_Entropy_grad/PreventGradient&quot;\\n  attr {\\n    key: &quot;T&quot;\\n    value {\\n      type: DT_FLOAT\\n    }\\n  }\\n}\\nnode {\\n  name: &quot;gradients/Softmax/Softmax_2_grad/mul&quot;\\n  op: &quot;Mul&quot;\\n  input: &quot;gradients/Cross_Entropy/Cross_Entropy_grad/mul&quot;\\n  input: &quot;Softmax/Softmax_2&quot;\\n  attr {\\n    key: &quot;T&quot;\\n    value {\\n      type: DT_FLOAT\\n    }\\n  }\\n}\\nnode {\\n  name: &quot;gradients/Softmax/Softmax_2_grad/Sum/reduction_indices&quot;\\n  op: &quot;Const&quot;\\n  attr {\\n    key: &quot;dtype&quot;\\n    value {\\n      type: DT_INT32\\n    }\\n  }\\n  attr {\\n    key: &quot;value&quot;\\n    value {\\n      tensor {\\n        dtype: DT_INT32\\n        tensor_shape {\\n          dim {\\n            size: 1\\n          }\\n        }\\n        int_val: 1\\n      }\\n    }\\n  }\\n}\\nnode {\\n  name: &quot;gradients/Softmax/Softmax_2_grad/Sum&quot;\\n  op: &quot;Sum&quot;\\n  input: &quot;gradients/Softmax/Softmax_2_grad/mul&quot;\\n  input: &quot;gradients/Softmax/Softmax_2_grad/Sum/reduction_indices&quot;\\n  attr {\\n    key: &quot;T&quot;\\n    value {\\n      type: DT_FLOAT\\n    }\\n  }\\n  attr {\\n    key: &quot;Tidx&quot;\\n    value {\\n      type: DT_INT32\\n    }\\n  }\\n  attr {\\n    key: &quot;keep_dims&quot;\\n    value {\\n      b: false\\n    }\\n  }\\n}\\nnode {\\n  name: &quot;gradients/Softmax/Softmax_2_grad/Reshape/shape&quot;\\n  op: &quot;Const&quot;\\n  attr {\\n    key: &quot;dtype&quot;\\n    value {\\n      type: DT_INT32\\n    }\\n  }\\n  attr {\\n    key: &quot;value&quot;\\n    value {\\n      tensor {\\n        dtype: DT_INT32\\n        tensor_shape {\\n          dim {\\n            size: 2\\n          }\\n        }\\n        tensor_content: &quot;\\\\377\\\\377\\\\377\\\\377\\\\001\\\\000\\\\000\\\\000&quot;\\n      }\\n    }\\n  }\\n}\\nnode {\\n  name: &quot;gradients/Softmax/Softmax_2_grad/Reshape&quot;\\n  op: &quot;Reshape&quot;\\n  input: &quot;gradients/Softmax/Softmax_2_grad/Sum&quot;\\n  input: &quot;gradients/Softmax/Softmax_2_grad/Reshape/shape&quot;\\n  attr {\\n    key: &quot;T&quot;\\n    value {\\n      type: DT_FLOAT\\n    }\\n  }\\n  attr {\\n    key: &quot;Tshape&quot;\\n    value {\\n      type: DT_INT32\\n    }\\n  }\\n}\\nnode {\\n  name: &quot;gradients/Softmax/Softmax_2_grad/sub&quot;\\n  op: &quot;Sub&quot;\\n  input: &quot;gradients/Cross_Entropy/Cross_Entropy_grad/mul&quot;\\n  input: &quot;gradients/Softmax/Softmax_2_grad/Reshape&quot;\\n  attr {\\n    key: &quot;T&quot;\\n    value {\\n      type: DT_FLOAT\\n    }\\n  }\\n}\\nnode {\\n  name: &quot;gradients/Softmax/Softmax_2_grad/mul_1&quot;\\n  op: &quot;Mul&quot;\\n  input: &quot;gradients/Softmax/Softmax_2_grad/sub&quot;\\n  input: &quot;Softmax/Softmax_2&quot;\\n  attr {\\n    key: &quot;T&quot;\\n    value {\\n      type: DT_FLOAT\\n    }\\n  }\\n}\\nnode {\\n  name: &quot;gradients/Softmax/BiasAdd_grad/BiasAddGrad&quot;\\n  op: &quot;BiasAddGrad&quot;\\n  input: &quot;gradients/Softmax/Softmax_2_grad/mul_1&quot;\\n  attr {\\n    key: &quot;T&quot;\\n    value {\\n      type: DT_FLOAT\\n    }\\n  }\\n  attr {\\n    key: &quot;data_format&quot;\\n    value {\\n      s: &quot;NHWC&quot;\\n    }\\n  }\\n}\\nnode {\\n  name: &quot;gradients/Softmax/BiasAdd_grad/tuple/group_deps&quot;\\n  op: &quot;NoOp&quot;\\n  input: &quot;^gradients/Softmax/Softmax_2_grad/mul_1&quot;\\n  input: &quot;^gradients/Softmax/BiasAdd_grad/BiasAddGrad&quot;\\n}\\nnode {\\n  name: &quot;gradients/Softmax/BiasAdd_grad/tuple/control_dependency&quot;\\n  op: &quot;Identity&quot;\\n  input: &quot;gradients/Softmax/Softmax_2_grad/mul_1&quot;\\n  input: &quot;^gradients/Softmax/BiasAdd_grad/tuple/group_deps&quot;\\n  attr {\\n    key: &quot;T&quot;\\n    value {\\n      type: DT_FLOAT\\n    }\\n  }\\n  attr {\\n    key: &quot;_class&quot;\\n    value {\\n      list {\\n        s: &quot;loc:@gradients/Softmax/Softmax_2_grad/mul_1&quot;\\n      }\\n    }\\n  }\\n}\\nnode {\\n  name: &quot;gradients/Softmax/BiasAdd_grad/tuple/control_dependency_1&quot;\\n  op: &quot;Identity&quot;\\n  input: &quot;gradients/Softmax/BiasAdd_grad/BiasAddGrad&quot;\\n  input: &quot;^gradients/Softmax/BiasAdd_grad/tuple/group_deps&quot;\\n  attr {\\n    key: &quot;T&quot;\\n    value {\\n      type: DT_FLOAT\\n    }\\n  }\\n  attr {\\n    key: &quot;_class&quot;\\n    value {\\n      list {\\n        s: &quot;loc:@gradients/Softmax/BiasAdd_grad/BiasAddGrad&quot;\\n      }\\n    }\\n  }\\n}\\nnode {\\n  name: &quot;gradients/Softmax/MatMul_grad/MatMul&quot;\\n  op: &quot;MatMul&quot;\\n  input: &quot;gradients/Softmax/BiasAdd_grad/tuple/control_dependency&quot;\\n  input: &quot;Softmax/kernel/read&quot;\\n  attr {\\n    key: &quot;T&quot;\\n    value {\\n      type: DT_FLOAT\\n    }\\n  }\\n  attr {\\n    key: &quot;transpose_a&quot;\\n    value {\\n      b: false\\n    }\\n  }\\n  attr {\\n    key: &quot;transpose_b&quot;\\n    value {\\n      b: true\\n    }\\n  }\\n}\\nnode {\\n  name: &quot;gradients/Softmax/MatMul_grad/MatMul_1&quot;\\n  op: &quot;MatMul&quot;\\n  input: &quot;Fully_connect/Relu&quot;\\n  input: &quot;gradients/Softmax/BiasAdd_grad/tuple/control_dependency&quot;\\n  attr {\\n    key: &quot;T&quot;\\n    value {\\n      type: DT_FLOAT\\n    }\\n  }\\n  attr {\\n    key: &quot;transpose_a&quot;\\n    value {\\n      b: true\\n    }\\n  }\\n  attr {\\n    key: &quot;transpose_b&quot;\\n    value {\\n      b: false\\n    }\\n  }\\n}\\nnode {\\n  name: &quot;gradients/Softmax/MatMul_grad/tuple/group_deps&quot;\\n  op: &quot;NoOp&quot;\\n  input: &quot;^gradients/Softmax/MatMul_grad/MatMul&quot;\\n  input: &quot;^gradients/Softmax/MatMul_grad/MatMul_1&quot;\\n}\\nnode {\\n  name: &quot;gradients/Softmax/MatMul_grad/tuple/control_dependency&quot;\\n  op: &quot;Identity&quot;\\n  input: &quot;gradients/Softmax/MatMul_grad/MatMul&quot;\\n  input: &quot;^gradients/Softmax/MatMul_grad/tuple/group_deps&quot;\\n  attr {\\n    key: &quot;T&quot;\\n    value {\\n      type: DT_FLOAT\\n    }\\n  }\\n  attr {\\n    key: &quot;_class&quot;\\n    value {\\n      list {\\n        s: &quot;loc:@gradients/Softmax/MatMul_grad/MatMul&quot;\\n      }\\n    }\\n  }\\n}\\nnode {\\n  name: &quot;gradients/Softmax/MatMul_grad/tuple/control_dependency_1&quot;\\n  op: &quot;Identity&quot;\\n  input: &quot;gradients/Softmax/MatMul_grad/MatMul_1&quot;\\n  input: &quot;^gradients/Softmax/MatMul_grad/tuple/group_deps&quot;\\n  attr {\\n    key: &quot;T&quot;\\n    value {\\n      type: DT_FLOAT\\n    }\\n  }\\n  attr {\\n    key: &quot;_class&quot;\\n    value {\\n      list {\\n        s: &quot;loc:@gradients/Softmax/MatMul_grad/MatMul_1&quot;\\n      }\\n    }\\n  }\\n}\\nnode {\\n  name: &quot;gradients/Fully_connect/Relu_grad/ReluGrad&quot;\\n  op: &quot;ReluGrad&quot;\\n  input: &quot;gradients/Softmax/MatMul_grad/tuple/control_dependency&quot;\\n  input: &quot;Fully_connect/Relu&quot;\\n  attr {\\n    key: &quot;T&quot;\\n    value {\\n      type: DT_FLOAT\\n    }\\n  }\\n}\\nnode {\\n  name: &quot;gradients/Fully_connect/BiasAdd_grad/BiasAddGrad&quot;\\n  op: &quot;BiasAddGrad&quot;\\n  input: &quot;gradients/Fully_connect/Relu_grad/ReluGrad&quot;\\n  attr {\\n    key: &quot;T&quot;\\n    value {\\n      type: DT_FLOAT\\n    }\\n  }\\n  attr {\\n    key: &quot;data_format&quot;\\n    value {\\n      s: &quot;NHWC&quot;\\n    }\\n  }\\n}\\nnode {\\n  name: &quot;gradients/Fully_connect/BiasAdd_grad/tuple/group_deps&quot;\\n  op: &quot;NoOp&quot;\\n  input: &quot;^gradients/Fully_connect/Relu_grad/ReluGrad&quot;\\n  input: &quot;^gradients/Fully_connect/BiasAdd_grad/BiasAddGrad&quot;\\n}\\nnode {\\n  name: &quot;gradients/Fully_connect/BiasAdd_grad/tuple/control_dependency&quot;\\n  op: &quot;Identity&quot;\\n  input: &quot;gradients/Fully_connect/Relu_grad/ReluGrad&quot;\\n  input: &quot;^gradients/Fully_connect/BiasAdd_grad/tuple/group_deps&quot;\\n  attr {\\n    key: &quot;T&quot;\\n    value {\\n      type: DT_FLOAT\\n    }\\n  }\\n  attr {\\n    key: &quot;_class&quot;\\n    value {\\n      list {\\n        s: &quot;loc:@gradients/Fully_connect/Relu_grad/ReluGrad&quot;\\n      }\\n    }\\n  }\\n}\\nnode {\\n  name: &quot;gradients/Fully_connect/BiasAdd_grad/tuple/control_dependency_1&quot;\\n  op: &quot;Identity&quot;\\n  input: &quot;gradients/Fully_connect/BiasAdd_grad/BiasAddGrad&quot;\\n  input: &quot;^gradients/Fully_connect/BiasAdd_grad/tuple/group_deps&quot;\\n  attr {\\n    key: &quot;T&quot;\\n    value {\\n      type: DT_FLOAT\\n    }\\n  }\\n  attr {\\n    key: &quot;_class&quot;\\n    value {\\n      list {\\n        s: &quot;loc:@gradients/Fully_connect/BiasAdd_grad/BiasAddGrad&quot;\\n      }\\n    }\\n  }\\n}\\nnode {\\n  name: &quot;gradients/Fully_connect/MatMul_grad/MatMul&quot;\\n  op: &quot;MatMul&quot;\\n  input: &quot;gradients/Fully_connect/BiasAdd_grad/tuple/control_dependency&quot;\\n  input: &quot;Fully_connect/kernel/read&quot;\\n  attr {\\n    key: &quot;T&quot;\\n    value {\\n      type: DT_FLOAT\\n    }\\n  }\\n  attr {\\n    key: &quot;transpose_a&quot;\\n    value {\\n      b: false\\n    }\\n  }\\n  attr {\\n    key: &quot;transpose_b&quot;\\n    value {\\n      b: true\\n    }\\n  }\\n}\\nnode {\\n  name: &quot;gradients/Fully_connect/MatMul_grad/MatMul_1&quot;\\n  op: &quot;MatMul&quot;\\n  input: &quot;concat&quot;\\n  input: &quot;gradients/Fully_connect/BiasAdd_grad/tuple/control_dependency&quot;\\n  attr {\\n    key: &quot;T&quot;\\n    value {\\n      type: DT_FLOAT\\n    }\\n  }\\n  attr {\\n    key: &quot;transpose_a&quot;\\n    value {\\n      b: true\\n    }\\n  }\\n  attr {\\n    key: &quot;transpose_b&quot;\\n    value {\\n      b: false\\n    }\\n  }\\n}\\nnode {\\n  name: &quot;gradients/Fully_connect/MatMul_grad/tuple/group_deps&quot;\\n  op: &quot;NoOp&quot;\\n  input: &quot;^gradients/Fully_connect/MatMul_grad/MatMul&quot;\\n  input: &quot;^gradients/Fully_connect/MatMul_grad/MatMul_1&quot;\\n}\\nnode {\\n  name: &quot;gradients/Fully_connect/MatMul_grad/tuple/control_dependency&quot;\\n  op: &quot;Identity&quot;\\n  input: &quot;gradients/Fully_connect/MatMul_grad/MatMul&quot;\\n  input: &quot;^gradients/Fully_connect/MatMul_grad/tuple/group_deps&quot;\\n  attr {\\n    key: &quot;T&quot;\\n    value {\\n      type: DT_FLOAT\\n    }\\n  }\\n  attr {\\n    key: &quot;_class&quot;\\n    value {\\n      list {\\n        s: &quot;loc:@gradients/Fully_connect/MatMul_grad/MatMul&quot;\\n      }\\n    }\\n  }\\n}\\nnode {\\n  name: &quot;gradients/Fully_connect/MatMul_grad/tuple/control_dependency_1&quot;\\n  op: &quot;Identity&quot;\\n  input: &quot;gradients/Fully_connect/MatMul_grad/MatMul_1&quot;\\n  input: &quot;^gradients/Fully_connect/MatMul_grad/tuple/group_deps&quot;\\n  attr {\\n    key: &quot;T&quot;\\n    value {\\n      type: DT_FLOAT\\n    }\\n  }\\n  attr {\\n    key: &quot;_class&quot;\\n    value {\\n      list {\\n        s: &quot;loc:@gradients/Fully_connect/MatMul_grad/MatMul_1&quot;\\n      }\\n    }\\n  }\\n}\\nnode {\\n  name: &quot;gradients/concat_grad/Rank&quot;\\n  op: &quot;Const&quot;\\n  attr {\\n    key: &quot;dtype&quot;\\n    value {\\n      type: DT_INT32\\n    }\\n  }\\n  attr {\\n    key: &quot;value&quot;\\n    value {\\n      tensor {\\n        dtype: DT_INT32\\n        tensor_shape {\\n        }\\n        int_val: 2\\n      }\\n    }\\n  }\\n}\\nnode {\\n  name: &quot;gradients/concat_grad/mod&quot;\\n  op: &quot;FloorMod&quot;\\n  input: &quot;concat/axis&quot;\\n  input: &quot;gradients/concat_grad/Rank&quot;\\n  attr {\\n    key: &quot;T&quot;\\n    value {\\n      type: DT_INT32\\n    }\\n  }\\n}\\nnode {\\n  name: &quot;gradients/concat_grad/Shape&quot;\\n  op: &quot;Shape&quot;\\n  input: &quot;Reshape&quot;\\n  attr {\\n    key: &quot;T&quot;\\n    value {\\n      type: DT_FLOAT\\n    }\\n  }\\n  attr {\\n    key: &quot;out_type&quot;\\n    value {\\n      type: DT_INT32\\n    }\\n  }\\n}\\nnode {\\n  name: &quot;gradients/concat_grad/ShapeN&quot;\\n  op: &quot;ShapeN&quot;\\n  input: &quot;Reshape&quot;\\n  input: &quot;Reshape_1&quot;\\n  attr {\\n    key: &quot;N&quot;\\n    value {\\n      i: 2\\n    }\\n  }\\n  attr {\\n    key: &quot;T&quot;\\n    value {\\n      type: DT_FLOAT\\n    }\\n  }\\n  attr {\\n    key: &quot;out_type&quot;\\n    value {\\n      type: DT_INT32\\n    }\\n  }\\n}\\nnode {\\n  name: &quot;gradients/concat_grad/ConcatOffset&quot;\\n  op: &quot;ConcatOffset&quot;\\n  input: &quot;gradients/concat_grad/mod&quot;\\n  input: &quot;gradients/concat_grad/ShapeN&quot;\\n  input: &quot;gradients/concat_grad/ShapeN:1&quot;\\n  attr {\\n    key: &quot;N&quot;\\n    value {\\n      i: 2\\n    }\\n  }\\n}\\nnode {\\n  name: &quot;gradients/concat_grad/Slice&quot;\\n  op: &quot;Slice&quot;\\n  input: &quot;gradients/Fully_connect/MatMul_grad/tuple/control_dependency&quot;\\n  input: &quot;gradients/concat_grad/ConcatOffset&quot;\\n  input: &quot;gradients/concat_grad/ShapeN&quot;\\n  attr {\\n    key: &quot;Index&quot;\\n    value {\\n      type: DT_INT32\\n    }\\n  }\\n  attr {\\n    key: &quot;T&quot;\\n    value {\\n      type: DT_FLOAT\\n    }\\n  }\\n}\\nnode {\\n  name: &quot;gradients/concat_grad/Slice_1&quot;\\n  op: &quot;Slice&quot;\\n  input: &quot;gradients/Fully_connect/MatMul_grad/tuple/control_dependency&quot;\\n  input: &quot;gradients/concat_grad/ConcatOffset:1&quot;\\n  input: &quot;gradients/concat_grad/ShapeN:1&quot;\\n  attr {\\n    key: &quot;Index&quot;\\n    value {\\n      type: DT_INT32\\n    }\\n  }\\n  attr {\\n    key: &quot;T&quot;\\n    value {\\n      type: DT_FLOAT\\n    }\\n  }\\n}\\nnode {\\n  name: &quot;gradients/concat_grad/tuple/group_deps&quot;\\n  op: &quot;NoOp&quot;\\n  input: &quot;^gradients/concat_grad/Slice&quot;\\n  input: &quot;^gradients/concat_grad/Slice_1&quot;\\n}\\nnode {\\n  name: &quot;gradients/concat_grad/tuple/control_dependency&quot;\\n  op: &quot;Identity&quot;\\n  input: &quot;gradients/concat_grad/Slice&quot;\\n  input: &quot;^gradients/concat_grad/tuple/group_deps&quot;\\n  attr {\\n    key: &quot;T&quot;\\n    value {\\n      type: DT_FLOAT\\n    }\\n  }\\n  attr {\\n    key: &quot;_class&quot;\\n    value {\\n      list {\\n        s: &quot;loc:@gradients/concat_grad/Slice&quot;\\n      }\\n    }\\n  }\\n}\\nnode {\\n  name: &quot;gradients/concat_grad/tuple/control_dependency_1&quot;\\n  op: &quot;Identity&quot;\\n  input: &quot;gradients/concat_grad/Slice_1&quot;\\n  input: &quot;^gradients/concat_grad/tuple/group_deps&quot;\\n  attr {\\n    key: &quot;T&quot;\\n    value {\\n      type: DT_FLOAT\\n    }\\n  }\\n  attr {\\n    key: &quot;_class&quot;\\n    value {\\n      list {\\n        s: &quot;loc:@gradients/concat_grad/Slice_1&quot;\\n      }\\n    }\\n  }\\n}\\nnode {\\n  name: &quot;gradients/Reshape_grad/Shape&quot;\\n  op: &quot;Shape&quot;\\n  input: &quot;max_pooling2d_2/MaxPool&quot;\\n  attr {\\n    key: &quot;T&quot;\\n    value {\\n      type: DT_FLOAT\\n    }\\n  }\\n  attr {\\n    key: &quot;out_type&quot;\\n    value {\\n      type: DT_INT32\\n    }\\n  }\\n}\\nnode {\\n  name: &quot;gradients/Reshape_grad/Reshape&quot;\\n  op: &quot;Reshape&quot;\\n  input: &quot;gradients/concat_grad/tuple/control_dependency&quot;\\n  input: &quot;gradients/Reshape_grad/Shape&quot;\\n  attr {\\n    key: &quot;T&quot;\\n    value {\\n      type: DT_FLOAT\\n    }\\n  }\\n  attr {\\n    key: &quot;Tshape&quot;\\n    value {\\n      type: DT_INT32\\n    }\\n  }\\n}\\nnode {\\n  name: &quot;gradients/Reshape_1_grad/Shape&quot;\\n  op: &quot;Shape&quot;\\n  input: &quot;max_pooling2d_4/MaxPool&quot;\\n  attr {\\n    key: &quot;T&quot;\\n    value {\\n      type: DT_FLOAT\\n    }\\n  }\\n  attr {\\n    key: &quot;out_type&quot;\\n    value {\\n      type: DT_INT32\\n    }\\n  }\\n}\\nnode {\\n  name: &quot;gradients/Reshape_1_grad/Reshape&quot;\\n  op: &quot;Reshape&quot;\\n  input: &quot;gradients/concat_grad/tuple/control_dependency_1&quot;\\n  input: &quot;gradients/Reshape_1_grad/Shape&quot;\\n  attr {\\n    key: &quot;T&quot;\\n    value {\\n      type: DT_FLOAT\\n    }\\n  }\\n  attr {\\n    key: &quot;Tshape&quot;\\n    value {\\n      type: DT_INT32\\n    }\\n  }\\n}\\nnode {\\n  name: &quot;gradients/max_pooling2d_2/MaxPool_grad/MaxPoolGrad&quot;\\n  op: &quot;MaxPoolGrad&quot;\\n  input: &quot;Convolution_2nd/Relu&quot;\\n  input: &quot;max_pooling2d_2/MaxPool&quot;\\n  input: &quot;gradients/Reshape_grad/Reshape&quot;\\n  attr {\\n    key: &quot;T&quot;\\n    value {\\n      type: DT_FLOAT\\n    }\\n  }\\n  attr {\\n    key: &quot;data_format&quot;\\n    value {\\n      s: &quot;NHWC&quot;\\n    }\\n  }\\n  attr {\\n    key: &quot;ksize&quot;\\n    value {\\n      list {\\n        i: 1\\n        i: 29\\n        i: 1\\n        i: 1\\n      }\\n    }\\n  }\\n  attr {\\n    key: &quot;padding&quot;\\n    value {\\n      s: &quot;VALID&quot;\\n    }\\n  }\\n  attr {\\n    key: &quot;strides&quot;\\n    value {\\n      list {\\n        i: 1\\n        i: 1\\n        i: 1\\n        i: 1\\n      }\\n    }\\n  }\\n}\\nnode {\\n  name: &quot;gradients/max_pooling2d_4/MaxPool_grad/MaxPoolGrad&quot;\\n  op: &quot;MaxPoolGrad&quot;\\n  input: &quot;Convolution_2nd_2/Relu&quot;\\n  input: &quot;max_pooling2d_4/MaxPool&quot;\\n  input: &quot;gradients/Reshape_1_grad/Reshape&quot;\\n  attr {\\n    key: &quot;T&quot;\\n    value {\\n      type: DT_FLOAT\\n    }\\n  }\\n  attr {\\n    key: &quot;data_format&quot;\\n    value {\\n      s: &quot;NHWC&quot;\\n    }\\n  }\\n  attr {\\n    key: &quot;ksize&quot;\\n    value {\\n      list {\\n        i: 1\\n        i: 26\\n        i: 1\\n        i: 1\\n      }\\n    }\\n  }\\n  attr {\\n    key: &quot;padding&quot;\\n    value {\\n      s: &quot;VALID&quot;\\n    }\\n  }\\n  attr {\\n    key: &quot;strides&quot;\\n    value {\\n      list {\\n        i: 1\\n        i: 1\\n        i: 1\\n        i: 1\\n      }\\n    }\\n  }\\n}\\nnode {\\n  name: &quot;gradients/Convolution_2nd/Relu_grad/ReluGrad&quot;\\n  op: &quot;ReluGrad&quot;\\n  input: &quot;gradients/max_pooling2d_2/MaxPool_grad/MaxPoolGrad&quot;\\n  input: &quot;Convolution_2nd/Relu&quot;\\n  attr {\\n    key: &quot;T&quot;\\n    value {\\n      type: DT_FLOAT\\n    }\\n  }\\n}\\nnode {\\n  name: &quot;gradients/Convolution_2nd_2/Relu_grad/ReluGrad&quot;\\n  op: &quot;ReluGrad&quot;\\n  input: &quot;gradients/max_pooling2d_4/MaxPool_grad/MaxPoolGrad&quot;\\n  input: &quot;Convolution_2nd_2/Relu&quot;\\n  attr {\\n    key: &quot;T&quot;\\n    value {\\n      type: DT_FLOAT\\n    }\\n  }\\n}\\nnode {\\n  name: &quot;gradients/Convolution_2nd/BiasAdd_grad/BiasAddGrad&quot;\\n  op: &quot;BiasAddGrad&quot;\\n  input: &quot;gradients/Convolution_2nd/Relu_grad/ReluGrad&quot;\\n  attr {\\n    key: &quot;T&quot;\\n    value {\\n      type: DT_FLOAT\\n    }\\n  }\\n  attr {\\n    key: &quot;data_format&quot;\\n    value {\\n      s: &quot;NHWC&quot;\\n    }\\n  }\\n}\\nnode {\\n  name: &quot;gradients/Convolution_2nd/BiasAdd_grad/tuple/group_deps&quot;\\n  op: &quot;NoOp&quot;\\n  input: &quot;^gradients/Convolution_2nd/Relu_grad/ReluGrad&quot;\\n  input: &quot;^gradients/Convolution_2nd/BiasAdd_grad/BiasAddGrad&quot;\\n}\\nnode {\\n  name: &quot;gradients/Convolution_2nd/BiasAdd_grad/tuple/control_dependency&quot;\\n  op: &quot;Identity&quot;\\n  input: &quot;gradients/Convolution_2nd/Relu_grad/ReluGrad&quot;\\n  input: &quot;^gradients/Convolution_2nd/BiasAdd_grad/tuple/group_deps&quot;\\n  attr {\\n    key: &quot;T&quot;\\n    value {\\n      type: DT_FLOAT\\n    }\\n  }\\n  attr {\\n    key: &quot;_class&quot;\\n    value {\\n      list {\\n        s: &quot;loc:@gradients/Convolution_2nd/Relu_grad/ReluGrad&quot;\\n      }\\n    }\\n  }\\n}\\nnode {\\n  name: &quot;gradients/Convolution_2nd/BiasAdd_grad/tuple/control_dependency_1&quot;\\n  op: &quot;Identity&quot;\\n  input: &quot;gradients/Convolution_2nd/BiasAdd_grad/BiasAddGrad&quot;\\n  input: &quot;^gradients/Convolution_2nd/BiasAdd_grad/tuple/group_deps&quot;\\n  attr {\\n    key: &quot;T&quot;\\n    value {\\n      type: DT_FLOAT\\n    }\\n  }\\n  attr {\\n    key: &quot;_class&quot;\\n    value {\\n      list {\\n        s: &quot;loc:@gradients/Convolution_2nd/BiasAdd_grad/BiasAddGrad&quot;\\n      }\\n    }\\n  }\\n}\\nnode {\\n  name: &quot;gradients/Convolution_2nd_2/BiasAdd_grad/BiasAddGrad&quot;\\n  op: &quot;BiasAddGrad&quot;\\n  input: &quot;gradients/Convolution_2nd_2/Relu_grad/ReluGrad&quot;\\n  attr {\\n    key: &quot;T&quot;\\n    value {\\n      type: DT_FLOAT\\n    }\\n  }\\n  attr {\\n    key: &quot;data_format&quot;\\n    value {\\n      s: &quot;NHWC&quot;\\n    }\\n  }\\n}\\nnode {\\n  name: &quot;gradients/Convolution_2nd_2/BiasAdd_grad/tuple/group_deps&quot;\\n  op: &quot;NoOp&quot;\\n  input: &quot;^gradients/Convolution_2nd_2/Relu_grad/ReluGrad&quot;\\n  input: &quot;^gradients/Convolution_2nd_2/BiasAdd_grad/BiasAddGrad&quot;\\n}\\nnode {\\n  name: &quot;gradients/Convolution_2nd_2/BiasAdd_grad/tuple/control_dependency&quot;\\n  op: &quot;Identity&quot;\\n  input: &quot;gradients/Convolution_2nd_2/Relu_grad/ReluGrad&quot;\\n  input: &quot;^gradients/Convolution_2nd_2/BiasAdd_grad/tuple/group_deps&quot;\\n  attr {\\n    key: &quot;T&quot;\\n    value {\\n      type: DT_FLOAT\\n    }\\n  }\\n  attr {\\n    key: &quot;_class&quot;\\n    value {\\n      list {\\n        s: &quot;loc:@gradients/Convolution_2nd_2/Relu_grad/ReluGrad&quot;\\n      }\\n    }\\n  }\\n}\\nnode {\\n  name: &quot;gradients/Convolution_2nd_2/BiasAdd_grad/tuple/control_dependency_1&quot;\\n  op: &quot;Identity&quot;\\n  input: &quot;gradients/Convolution_2nd_2/BiasAdd_grad/BiasAddGrad&quot;\\n  input: &quot;^gradients/Convolution_2nd_2/BiasAdd_grad/tuple/group_deps&quot;\\n  attr {\\n    key: &quot;T&quot;\\n    value {\\n      type: DT_FLOAT\\n    }\\n  }\\n  attr {\\n    key: &quot;_class&quot;\\n    value {\\n      list {\\n        s: &quot;loc:@gradients/Convolution_2nd_2/BiasAdd_grad/BiasAddGrad&quot;\\n      }\\n    }\\n  }\\n}\\nnode {\\n  name: &quot;gradients/Convolution_2nd/convolution_grad/Shape&quot;\\n  op: &quot;Shape&quot;\\n  input: &quot;max_pooling2d/MaxPool&quot;\\n  attr {\\n    key: &quot;T&quot;\\n    value {\\n      type: DT_FLOAT\\n    }\\n  }\\n  attr {\\n    key: &quot;out_type&quot;\\n    value {\\n      type: DT_INT32\\n    }\\n  }\\n}\\nnode {\\n  name: &quot;gradients/Convolution_2nd/convolution_grad/Conv2DBackpropInput&quot;\\n  op: &quot;Conv2DBackpropInput&quot;\\n  input: &quot;gradients/Convolution_2nd/convolution_grad/Shape&quot;\\n  input: &quot;Convolution_2nd/kernel/read&quot;\\n  input: &quot;gradients/Convolution_2nd/BiasAdd_grad/tuple/control_dependency&quot;\\n  attr {\\n    key: &quot;T&quot;\\n    value {\\n      type: DT_FLOAT\\n    }\\n  }\\n  attr {\\n    key: &quot;data_format&quot;\\n    value {\\n      s: &quot;NHWC&quot;\\n    }\\n  }\\n  attr {\\n    key: &quot;padding&quot;\\n    value {\\n      s: &quot;SAME&quot;\\n    }\\n  }\\n  attr {\\n    key: &quot;strides&quot;\\n    value {\\n      list {\\n        i: 1\\n        i: 1\\n        i: 1\\n        i: 1\\n      }\\n    }\\n  }\\n  attr {\\n    key: &quot;use_cudnn_on_gpu&quot;\\n    value {\\n      b: true\\n    }\\n  }\\n}\\nnode {\\n  name: &quot;gradients/Convolution_2nd/convolution_grad/Shape_1&quot;\\n  op: &quot;Const&quot;\\n  attr {\\n    key: &quot;dtype&quot;\\n    value {\\n      type: DT_INT32\\n    }\\n  }\\n  attr {\\n    key: &quot;value&quot;\\n    value {\\n      tensor {\\n        dtype: DT_INT32\\n        tensor_shape {\\n          dim {\\n            size: 4\\n          }\\n        }\\n        tensor_content: &quot;\\\\003\\\\000\\\\000\\\\000\\\\001\\\\000\\\\000\\\\000\\\\220\\\\001\\\\000\\\\000\\\\220\\\\001\\\\000\\\\000&quot;\\n      }\\n    }\\n  }\\n}\\nnode {\\n  name: &quot;gradients/Convolution_2nd/convolution_grad/Conv2DBackpropFilter&quot;\\n  op: &quot;Conv2DBackpropFilter&quot;\\n  input: &quot;max_pooling2d/MaxPool&quot;\\n  input: &quot;gradients/Convolution_2nd/convolution_grad/Shape_1&quot;\\n  input: &quot;gradients/Convolution_2nd/BiasAdd_grad/tuple/control_dependency&quot;\\n  attr {\\n    key: &quot;T&quot;\\n    value {\\n      type: DT_FLOAT\\n    }\\n  }\\n  attr {\\n    key: &quot;data_format&quot;\\n    value {\\n      s: &quot;NHWC&quot;\\n    }\\n  }\\n  attr {\\n    key: &quot;padding&quot;\\n    value {\\n      s: &quot;SAME&quot;\\n    }\\n  }\\n  attr {\\n    key: &quot;strides&quot;\\n    value {\\n      list {\\n        i: 1\\n        i: 1\\n        i: 1\\n        i: 1\\n      }\\n    }\\n  }\\n  attr {\\n    key: &quot;use_cudnn_on_gpu&quot;\\n    value {\\n      b: true\\n    }\\n  }\\n}\\nnode {\\n  name: &quot;gradients/Convolution_2nd/convolution_grad/tuple/group_deps&quot;\\n  op: &quot;NoOp&quot;\\n  input: &quot;^gradients/Convolution_2nd/convolution_grad/Conv2DBackpropInput&quot;\\n  input: &quot;^gradients/Convolution_2nd/convolution_grad/Conv2DBackpropFilter&quot;\\n}\\nnode {\\n  name: &quot;gradients/Convolution_2nd/convolution_grad/tuple/control_dependency&quot;\\n  op: &quot;Identity&quot;\\n  input: &quot;gradients/Convolution_2nd/convolution_grad/Conv2DBackpropInput&quot;\\n  input: &quot;^gradients/Convolution_2nd/convolution_grad/tuple/group_deps&quot;\\n  attr {\\n    key: &quot;T&quot;\\n    value {\\n      type: DT_FLOAT\\n    }\\n  }\\n  attr {\\n    key: &quot;_class&quot;\\n    value {\\n      list {\\n        s: &quot;loc:@gradients/Convolution_2nd/convolution_grad/Conv2DBackpropInput&quot;\\n      }\\n    }\\n  }\\n}\\nnode {\\n  name: &quot;gradients/Convolution_2nd/convolution_grad/tuple/control_dependency_1&quot;\\n  op: &quot;Identity&quot;\\n  input: &quot;gradients/Convolution_2nd/convolution_grad/Conv2DBackpropFilter&quot;\\n  input: &quot;^gradients/Convolution_2nd/convolution_grad/tuple/group_deps&quot;\\n  attr {\\n    key: &quot;T&quot;\\n    value {\\n      type: DT_FLOAT\\n    }\\n  }\\n  attr {\\n    key: &quot;_class&quot;\\n    value {\\n      list {\\n        s: &quot;loc:@gradients/Convolution_2nd/convolution_grad/Conv2DBackpropFilter&quot;\\n      }\\n    }\\n  }\\n}\\nnode {\\n  name: &quot;gradients/Convolution_2nd_2/convolution_grad/Shape&quot;\\n  op: &quot;Shape&quot;\\n  input: &quot;max_pooling2d_3/MaxPool&quot;\\n  attr {\\n    key: &quot;T&quot;\\n    value {\\n      type: DT_FLOAT\\n    }\\n  }\\n  attr {\\n    key: &quot;out_type&quot;\\n    value {\\n      type: DT_INT32\\n    }\\n  }\\n}\\nnode {\\n  name: &quot;gradients/Convolution_2nd_2/convolution_grad/Conv2DBackpropInput&quot;\\n  op: &quot;Conv2DBackpropInput&quot;\\n  input: &quot;gradients/Convolution_2nd_2/convolution_grad/Shape&quot;\\n  input: &quot;Convolution_2nd_2/kernel/read&quot;\\n  input: &quot;gradients/Convolution_2nd_2/BiasAdd_grad/tuple/control_dependency&quot;\\n  attr {\\n    key: &quot;T&quot;\\n    value {\\n      type: DT_FLOAT\\n    }\\n  }\\n  attr {\\n    key: &quot;data_format&quot;\\n    value {\\n      s: &quot;NHWC&quot;\\n    }\\n  }\\n  attr {\\n    key: &quot;padding&quot;\\n    value {\\n      s: &quot;VALID&quot;\\n    }\\n  }\\n  attr {\\n    key: &quot;strides&quot;\\n    value {\\n      list {\\n        i: 1\\n        i: 1\\n        i: 1\\n        i: 1\\n      }\\n    }\\n  }\\n  attr {\\n    key: &quot;use_cudnn_on_gpu&quot;\\n    value {\\n      b: true\\n    }\\n  }\\n}\\nnode {\\n  name: &quot;gradients/Convolution_2nd_2/convolution_grad/Shape_1&quot;\\n  op: &quot;Const&quot;\\n  attr {\\n    key: &quot;dtype&quot;\\n    value {\\n      type: DT_INT32\\n    }\\n  }\\n  attr {\\n    key: &quot;value&quot;\\n    value {\\n      tensor {\\n        dtype: DT_INT32\\n        tensor_shape {\\n          dim {\\n            size: 4\\n          }\\n        }\\n        tensor_content: &quot;\\\\003\\\\000\\\\000\\\\000\\\\001\\\\000\\\\000\\\\000\\\\220\\\\001\\\\000\\\\000\\\\220\\\\001\\\\000\\\\000&quot;\\n      }\\n    }\\n  }\\n}\\nnode {\\n  name: &quot;gradients/Convolution_2nd_2/convolution_grad/Conv2DBackpropFilter&quot;\\n  op: &quot;Conv2DBackpropFilter&quot;\\n  input: &quot;max_pooling2d_3/MaxPool&quot;\\n  input: &quot;gradients/Convolution_2nd_2/convolution_grad/Shape_1&quot;\\n  input: &quot;gradients/Convolution_2nd_2/BiasAdd_grad/tuple/control_dependency&quot;\\n  attr {\\n    key: &quot;T&quot;\\n    value {\\n      type: DT_FLOAT\\n    }\\n  }\\n  attr {\\n    key: &quot;data_format&quot;\\n    value {\\n      s: &quot;NHWC&quot;\\n    }\\n  }\\n  attr {\\n    key: &quot;padding&quot;\\n    value {\\n      s: &quot;VALID&quot;\\n    }\\n  }\\n  attr {\\n    key: &quot;strides&quot;\\n    value {\\n      list {\\n        i: 1\\n        i: 1\\n        i: 1\\n        i: 1\\n      }\\n    }\\n  }\\n  attr {\\n    key: &quot;use_cudnn_on_gpu&quot;\\n    value {\\n      b: true\\n    }\\n  }\\n}\\nnode {\\n  name: &quot;gradients/Convolution_2nd_2/convolution_grad/tuple/group_deps&quot;\\n  op: &quot;NoOp&quot;\\n  input: &quot;^gradients/Convolution_2nd_2/convolution_grad/Conv2DBackpropInput&quot;\\n  input: &quot;^gradients/Convolution_2nd_2/convolution_grad/Conv2DBackpropFilter&quot;\\n}\\nnode {\\n  name: &quot;gradients/Convolution_2nd_2/convolution_grad/tuple/control_dependency&quot;\\n  op: &quot;Identity&quot;\\n  input: &quot;gradients/Convolution_2nd_2/convolution_grad/Conv2DBackpropInput&quot;\\n  input: &quot;^gradients/Convolution_2nd_2/convolution_grad/tuple/group_deps&quot;\\n  attr {\\n    key: &quot;T&quot;\\n    value {\\n      type: DT_FLOAT\\n    }\\n  }\\n  attr {\\n    key: &quot;_class&quot;\\n    value {\\n      list {\\n        s: &quot;loc:@gradients/Convolution_2nd_2/convolution_grad/Conv2DBackpropInput&quot;\\n      }\\n    }\\n  }\\n}\\nnode {\\n  name: &quot;gradients/Convolution_2nd_2/convolution_grad/tuple/control_dependency_1&quot;\\n  op: &quot;Identity&quot;\\n  input: &quot;gradients/Convolution_2nd_2/convolution_grad/Conv2DBackpropFilter&quot;\\n  input: &quot;^gradients/Convolution_2nd_2/convolution_grad/tuple/group_deps&quot;\\n  attr {\\n    key: &quot;T&quot;\\n    value {\\n      type: DT_FLOAT\\n    }\\n  }\\n  attr {\\n    key: &quot;_class&quot;\\n    value {\\n      list {\\n        s: &quot;loc:@gradients/Convolution_2nd_2/convolution_grad/Conv2DBackpropFilter&quot;\\n      }\\n    }\\n  }\\n}\\nnode {\\n  name: &quot;gradients/max_pooling2d/MaxPool_grad/MaxPoolGrad&quot;\\n  op: &quot;MaxPoolGrad&quot;\\n  input: &quot;Convolution_1st/Relu&quot;\\n  input: &quot;max_pooling2d/MaxPool&quot;\\n  input: &quot;gradients/Convolution_2nd/convolution_grad/tuple/control_dependency&quot;\\n  attr {\\n    key: &quot;T&quot;\\n    value {\\n      type: DT_FLOAT\\n    }\\n  }\\n  attr {\\n    key: &quot;data_format&quot;\\n    value {\\n      s: &quot;NHWC&quot;\\n    }\\n  }\\n  attr {\\n    key: &quot;ksize&quot;\\n    value {\\n      list {\\n        i: 1\\n        i: 3\\n        i: 1\\n        i: 1\\n      }\\n    }\\n  }\\n  attr {\\n    key: &quot;padding&quot;\\n    value {\\n      s: &quot;VALID&quot;\\n    }\\n  }\\n  attr {\\n    key: &quot;strides&quot;\\n    value {\\n      list {\\n        i: 1\\n        i: 2\\n        i: 2\\n        i: 1\\n      }\\n    }\\n  }\\n}\\nnode {\\n  name: &quot;gradients/max_pooling2d_3/MaxPool_grad/MaxPoolGrad&quot;\\n  op: &quot;MaxPoolGrad&quot;\\n  input: &quot;Convolution_1st_2/Relu&quot;\\n  input: &quot;max_pooling2d_3/MaxPool&quot;\\n  input: &quot;gradients/Convolution_2nd_2/convolution_grad/tuple/control_dependency&quot;\\n  attr {\\n    key: &quot;T&quot;\\n    value {\\n      type: DT_FLOAT\\n    }\\n  }\\n  attr {\\n    key: &quot;data_format&quot;\\n    value {\\n      s: &quot;NHWC&quot;\\n    }\\n  }\\n  attr {\\n    key: &quot;ksize&quot;\\n    value {\\n      list {\\n        i: 1\\n        i: 3\\n        i: 1\\n        i: 1\\n      }\\n    }\\n  }\\n  attr {\\n    key: &quot;padding&quot;\\n    value {\\n      s: &quot;VALID&quot;\\n    }\\n  }\\n  attr {\\n    key: &quot;strides&quot;\\n    value {\\n      list {\\n        i: 1\\n        i: 2\\n        i: 2\\n        i: 1\\n      }\\n    }\\n  }\\n}\\nnode {\\n  name: &quot;gradients/Convolution_1st/Relu_grad/ReluGrad&quot;\\n  op: &quot;ReluGrad&quot;\\n  input: &quot;gradients/max_pooling2d/MaxPool_grad/MaxPoolGrad&quot;\\n  input: &quot;Convolution_1st/Relu&quot;\\n  attr {\\n    key: &quot;T&quot;\\n    value {\\n      type: DT_FLOAT\\n    }\\n  }\\n}\\nnode {\\n  name: &quot;gradients/Convolution_1st_2/Relu_grad/ReluGrad&quot;\\n  op: &quot;ReluGrad&quot;\\n  input: &quot;gradients/max_pooling2d_3/MaxPool_grad/MaxPoolGrad&quot;\\n  input: &quot;Convolution_1st_2/Relu&quot;\\n  attr {\\n    key: &quot;T&quot;\\n    value {\\n      type: DT_FLOAT\\n    }\\n  }\\n}\\nnode {\\n  name: &quot;gradients/Convolution_1st/BiasAdd_grad/BiasAddGrad&quot;\\n  op: &quot;BiasAddGrad&quot;\\n  input: &quot;gradients/Convolution_1st/Relu_grad/ReluGrad&quot;\\n  attr {\\n    key: &quot;T&quot;\\n    value {\\n      type: DT_FLOAT\\n    }\\n  }\\n  attr {\\n    key: &quot;data_format&quot;\\n    value {\\n      s: &quot;NHWC&quot;\\n    }\\n  }\\n}\\nnode {\\n  name: &quot;gradients/Convolution_1st/BiasAdd_grad/tuple/group_deps&quot;\\n  op: &quot;NoOp&quot;\\n  input: &quot;^gradients/Convolution_1st/Relu_grad/ReluGrad&quot;\\n  input: &quot;^gradients/Convolution_1st/BiasAdd_grad/BiasAddGrad&quot;\\n}\\nnode {\\n  name: &quot;gradients/Convolution_1st/BiasAdd_grad/tuple/control_dependency&quot;\\n  op: &quot;Identity&quot;\\n  input: &quot;gradients/Convolution_1st/Relu_grad/ReluGrad&quot;\\n  input: &quot;^gradients/Convolution_1st/BiasAdd_grad/tuple/group_deps&quot;\\n  attr {\\n    key: &quot;T&quot;\\n    value {\\n      type: DT_FLOAT\\n    }\\n  }\\n  attr {\\n    key: &quot;_class&quot;\\n    value {\\n      list {\\n        s: &quot;loc:@gradients/Convolution_1st/Relu_grad/ReluGrad&quot;\\n      }\\n    }\\n  }\\n}\\nnode {\\n  name: &quot;gradients/Convolution_1st/BiasAdd_grad/tuple/control_dependency_1&quot;\\n  op: &quot;Identity&quot;\\n  input: &quot;gradients/Convolution_1st/BiasAdd_grad/BiasAddGrad&quot;\\n  input: &quot;^gradients/Convolution_1st/BiasAdd_grad/tuple/group_deps&quot;\\n  attr {\\n    key: &quot;T&quot;\\n    value {\\n      type: DT_FLOAT\\n    }\\n  }\\n  attr {\\n    key: &quot;_class&quot;\\n    value {\\n      list {\\n        s: &quot;loc:@gradients/Convolution_1st/BiasAdd_grad/BiasAddGrad&quot;\\n      }\\n    }\\n  }\\n}\\nnode {\\n  name: &quot;gradients/Convolution_1st_2/BiasAdd_grad/BiasAddGrad&quot;\\n  op: &quot;BiasAddGrad&quot;\\n  input: &quot;gradients/Convolution_1st_2/Relu_grad/ReluGrad&quot;\\n  attr {\\n    key: &quot;T&quot;\\n    value {\\n      type: DT_FLOAT\\n    }\\n  }\\n  attr {\\n    key: &quot;data_format&quot;\\n    value {\\n      s: &quot;NHWC&quot;\\n    }\\n  }\\n}\\nnode {\\n  name: &quot;gradients/Convolution_1st_2/BiasAdd_grad/tuple/group_deps&quot;\\n  op: &quot;NoOp&quot;\\n  input: &quot;^gradients/Convolution_1st_2/Relu_grad/ReluGrad&quot;\\n  input: &quot;^gradients/Convolution_1st_2/BiasAdd_grad/BiasAddGrad&quot;\\n}\\nnode {\\n  name: &quot;gradients/Convolution_1st_2/BiasAdd_grad/tuple/control_dependency&quot;\\n  op: &quot;Identity&quot;\\n  input: &quot;gradients/Convolution_1st_2/Relu_grad/ReluGrad&quot;\\n  input: &quot;^gradients/Convolution_1st_2/BiasAdd_grad/tuple/group_deps&quot;\\n  attr {\\n    key: &quot;T&quot;\\n    value {\\n      type: DT_FLOAT\\n    }\\n  }\\n  attr {\\n    key: &quot;_class&quot;\\n    value {\\n      list {\\n        s: &quot;loc:@gradients/Convolution_1st_2/Relu_grad/ReluGrad&quot;\\n      }\\n    }\\n  }\\n}\\nnode {\\n  name: &quot;gradients/Convolution_1st_2/BiasAdd_grad/tuple/control_dependency_1&quot;\\n  op: &quot;Identity&quot;\\n  input: &quot;gradients/Convolution_1st_2/BiasAdd_grad/BiasAddGrad&quot;\\n  input: &quot;^gradients/Convolution_1st_2/BiasAdd_grad/tuple/group_deps&quot;\\n  attr {\\n    key: &quot;T&quot;\\n    value {\\n      type: DT_FLOAT\\n    }\\n  }\\n  attr {\\n    key: &quot;_class&quot;\\n    value {\\n      list {\\n        s: &quot;loc:@gradients/Convolution_1st_2/BiasAdd_grad/BiasAddGrad&quot;\\n      }\\n    }\\n  }\\n}\\nnode {\\n  name: &quot;gradients/Convolution_1st/convolution_grad/Shape&quot;\\n  op: &quot;Shape&quot;\\n  input: &quot;ExpandDims&quot;\\n  attr {\\n    key: &quot;T&quot;\\n    value {\\n      type: DT_FLOAT\\n    }\\n  }\\n  attr {\\n    key: &quot;out_type&quot;\\n    value {\\n      type: DT_INT32\\n    }\\n  }\\n}\\nnode {\\n  name: &quot;gradients/Convolution_1st/convolution_grad/Conv2DBackpropInput&quot;\\n  op: &quot;Conv2DBackpropInput&quot;\\n  input: &quot;gradients/Convolution_1st/convolution_grad/Shape&quot;\\n  input: &quot;Convolution_1st/kernel/read&quot;\\n  input: &quot;gradients/Convolution_1st/BiasAdd_grad/tuple/control_dependency&quot;\\n  attr {\\n    key: &quot;T&quot;\\n    value {\\n      type: DT_FLOAT\\n    }\\n  }\\n  attr {\\n    key: &quot;data_format&quot;\\n    value {\\n      s: &quot;NHWC&quot;\\n    }\\n  }\\n  attr {\\n    key: &quot;padding&quot;\\n    value {\\n      s: &quot;VALID&quot;\\n    }\\n  }\\n  attr {\\n    key: &quot;strides&quot;\\n    value {\\n      list {\\n        i: 1\\n        i: 1\\n        i: 1\\n        i: 1\\n      }\\n    }\\n  }\\n  attr {\\n    key: &quot;use_cudnn_on_gpu&quot;\\n    value {\\n      b: true\\n    }\\n  }\\n}\\nnode {\\n  name: &quot;gradients/Convolution_1st/convolution_grad/Shape_1&quot;\\n  op: &quot;Const&quot;\\n  attr {\\n    key: &quot;dtype&quot;\\n    value {\\n      type: DT_INT32\\n    }\\n  }\\n  attr {\\n    key: &quot;value&quot;\\n    value {\\n      tensor {\\n        dtype: DT_INT32\\n        tensor_shape {\\n          dim {\\n            size: 4\\n          }\\n        }\\n        tensor_content: &quot;\\\\002\\\\000\\\\000\\\\000\\\\310\\\\000\\\\000\\\\000\\\\001\\\\000\\\\000\\\\000\\\\220\\\\001\\\\000\\\\000&quot;\\n      }\\n    }\\n  }\\n}\\nnode {\\n  name: &quot;gradients/Convolution_1st/convolution_grad/Conv2DBackpropFilter&quot;\\n  op: &quot;Conv2DBackpropFilter&quot;\\n  input: &quot;ExpandDims&quot;\\n  input: &quot;gradients/Convolution_1st/convolution_grad/Shape_1&quot;\\n  input: &quot;gradients/Convolution_1st/BiasAdd_grad/tuple/control_dependency&quot;\\n  attr {\\n    key: &quot;T&quot;\\n    value {\\n      type: DT_FLOAT\\n    }\\n  }\\n  attr {\\n    key: &quot;data_format&quot;\\n    value {\\n      s: &quot;NHWC&quot;\\n    }\\n  }\\n  attr {\\n    key: &quot;padding&quot;\\n    value {\\n      s: &quot;VALID&quot;\\n    }\\n  }\\n  attr {\\n    key: &quot;strides&quot;\\n    value {\\n      list {\\n        i: 1\\n        i: 1\\n        i: 1\\n        i: 1\\n      }\\n    }\\n  }\\n  attr {\\n    key: &quot;use_cudnn_on_gpu&quot;\\n    value {\\n      b: true\\n    }\\n  }\\n}\\nnode {\\n  name: &quot;gradients/Convolution_1st/convolution_grad/tuple/group_deps&quot;\\n  op: &quot;NoOp&quot;\\n  input: &quot;^gradients/Convolution_1st/convolution_grad/Conv2DBackpropInput&quot;\\n  input: &quot;^gradients/Convolution_1st/convolution_grad/Conv2DBackpropFilter&quot;\\n}\\nnode {\\n  name: &quot;gradients/Convolution_1st/convolution_grad/tuple/control_dependency&quot;\\n  op: &quot;Identity&quot;\\n  input: &quot;gradients/Convolution_1st/convolution_grad/Conv2DBackpropInput&quot;\\n  input: &quot;^gradients/Convolution_1st/convolution_grad/tuple/group_deps&quot;\\n  attr {\\n    key: &quot;T&quot;\\n    value {\\n      type: DT_FLOAT\\n    }\\n  }\\n  attr {\\n    key: &quot;_class&quot;\\n    value {\\n      list {\\n        s: &quot;loc:@gradients/Convolution_1st/convolution_grad/Conv2DBackpropInput&quot;\\n      }\\n    }\\n  }\\n}\\nnode {\\n  name: &quot;gradients/Convolution_1st/convolution_grad/tuple/control_dependency_1&quot;\\n  op: &quot;Identity&quot;\\n  input: &quot;gradients/Convolution_1st/convolution_grad/Conv2DBackpropFilter&quot;\\n  input: &quot;^gradients/Convolution_1st/convolution_grad/tuple/group_deps&quot;\\n  attr {\\n    key: &quot;T&quot;\\n    value {\\n      type: DT_FLOAT\\n    }\\n  }\\n  attr {\\n    key: &quot;_class&quot;\\n    value {\\n      list {\\n        s: &quot;loc:@gradients/Convolution_1st/convolution_grad/Conv2DBackpropFilter&quot;\\n      }\\n    }\\n  }\\n}\\nnode {\\n  name: &quot;gradients/Convolution_1st_2/convolution_grad/Shape&quot;\\n  op: &quot;Shape&quot;\\n  input: &quot;ExpandDims&quot;\\n  attr {\\n    key: &quot;T&quot;\\n    value {\\n      type: DT_FLOAT\\n    }\\n  }\\n  attr {\\n    key: &quot;out_type&quot;\\n    value {\\n      type: DT_INT32\\n    }\\n  }\\n}\\nnode {\\n  name: &quot;gradients/Convolution_1st_2/convolution_grad/Conv2DBackpropInput&quot;\\n  op: &quot;Conv2DBackpropInput&quot;\\n  input: &quot;gradients/Convolution_1st_2/convolution_grad/Shape&quot;\\n  input: &quot;Convolution_1st_2/kernel/read&quot;\\n  input: &quot;gradients/Convolution_1st_2/BiasAdd_grad/tuple/control_dependency&quot;\\n  attr {\\n    key: &quot;T&quot;\\n    value {\\n      type: DT_FLOAT\\n    }\\n  }\\n  attr {\\n    key: &quot;data_format&quot;\\n    value {\\n      s: &quot;NHWC&quot;\\n    }\\n  }\\n  attr {\\n    key: &quot;padding&quot;\\n    value {\\n      s: &quot;VALID&quot;\\n    }\\n  }\\n  attr {\\n    key: &quot;strides&quot;\\n    value {\\n      list {\\n        i: 1\\n        i: 1\\n        i: 1\\n        i: 1\\n      }\\n    }\\n  }\\n  attr {\\n    key: &quot;use_cudnn_on_gpu&quot;\\n    value {\\n      b: true\\n    }\\n  }\\n}\\nnode {\\n  name: &quot;gradients/Convolution_1st_2/convolution_grad/Shape_1&quot;\\n  op: &quot;Const&quot;\\n  attr {\\n    key: &quot;dtype&quot;\\n    value {\\n      type: DT_INT32\\n    }\\n  }\\n  attr {\\n    key: &quot;value&quot;\\n    value {\\n      tensor {\\n        dtype: DT_INT32\\n        tensor_shape {\\n          dim {\\n            size: 4\\n          }\\n        }\\n        tensor_content: &quot;\\\\003\\\\000\\\\000\\\\000\\\\310\\\\000\\\\000\\\\000\\\\001\\\\000\\\\000\\\\000\\\\220\\\\001\\\\000\\\\000&quot;\\n      }\\n    }\\n  }\\n}\\nnode {\\n  name: &quot;gradients/Convolution_1st_2/convolution_grad/Conv2DBackpropFilter&quot;\\n  op: &quot;Conv2DBackpropFilter&quot;\\n  input: &quot;ExpandDims&quot;\\n  input: &quot;gradients/Convolution_1st_2/convolution_grad/Shape_1&quot;\\n  input: &quot;gradients/Convolution_1st_2/BiasAdd_grad/tuple/control_dependency&quot;\\n  attr {\\n    key: &quot;T&quot;\\n    value {\\n      type: DT_FLOAT\\n    }\\n  }\\n  attr {\\n    key: &quot;data_format&quot;\\n    value {\\n      s: &quot;NHWC&quot;\\n    }\\n  }\\n  attr {\\n    key: &quot;padding&quot;\\n    value {\\n      s: &quot;VALID&quot;\\n    }\\n  }\\n  attr {\\n    key: &quot;strides&quot;\\n    value {\\n      list {\\n        i: 1\\n        i: 1\\n        i: 1\\n        i: 1\\n      }\\n    }\\n  }\\n  attr {\\n    key: &quot;use_cudnn_on_gpu&quot;\\n    value {\\n      b: true\\n    }\\n  }\\n}\\nnode {\\n  name: &quot;gradients/Convolution_1st_2/convolution_grad/tuple/group_deps&quot;\\n  op: &quot;NoOp&quot;\\n  input: &quot;^gradients/Convolution_1st_2/convolution_grad/Conv2DBackpropInput&quot;\\n  input: &quot;^gradients/Convolution_1st_2/convolution_grad/Conv2DBackpropFilter&quot;\\n}\\nnode {\\n  name: &quot;gradients/Convolution_1st_2/convolution_grad/tuple/control_dependency&quot;\\n  op: &quot;Identity&quot;\\n  input: &quot;gradients/Convolution_1st_2/convolution_grad/Conv2DBackpropInput&quot;\\n  input: &quot;^gradients/Convolution_1st_2/convolution_grad/tuple/group_deps&quot;\\n  attr {\\n    key: &quot;T&quot;\\n    value {\\n      type: DT_FLOAT\\n    }\\n  }\\n  attr {\\n    key: &quot;_class&quot;\\n    value {\\n      list {\\n        s: &quot;loc:@gradients/Convolution_1st_2/convolution_grad/Conv2DBackpropInput&quot;\\n      }\\n    }\\n  }\\n}\\nnode {\\n  name: &quot;gradients/Convolution_1st_2/convolution_grad/tuple/control_dependency_1&quot;\\n  op: &quot;Identity&quot;\\n  input: &quot;gradients/Convolution_1st_2/convolution_grad/Conv2DBackpropFilter&quot;\\n  input: &quot;^gradients/Convolution_1st_2/convolution_grad/tuple/group_deps&quot;\\n  attr {\\n    key: &quot;T&quot;\\n    value {\\n      type: DT_FLOAT\\n    }\\n  }\\n  attr {\\n    key: &quot;_class&quot;\\n    value {\\n      list {\\n        s: &quot;loc:@gradients/Convolution_1st_2/convolution_grad/Conv2DBackpropFilter&quot;\\n      }\\n    }\\n  }\\n}\\nnode {\\n  name: &quot;Convolution_1st/kernel/Adadelta/Initializer/zeros&quot;\\n  op: &quot;Const&quot;\\n  attr {\\n    key: &quot;_class&quot;\\n    value {\\n      list {\\n        s: &quot;loc:@Convolution_1st/kernel&quot;\\n      }\\n    }\\n  }\\n  attr {\\n    key: &quot;dtype&quot;\\n    value {\\n      type: DT_FLOAT\\n    }\\n  }\\n  attr {\\n    key: &quot;value&quot;\\n    value {\\n      tensor {\\n        dtype: DT_FLOAT\\n        tensor_shape {\\n          dim {\\n            size: 2\\n          }\\n          dim {\\n            size: 200\\n          }\\n          dim {\\n            size: 1\\n          }\\n          dim {\\n            size: 400\\n          }\\n        }\\n        float_val: 0.0\\n      }\\n    }\\n  }\\n}\\nnode {\\n  name: &quot;Convolution_1st/kernel/Adadelta&quot;\\n  op: &quot;VariableV2&quot;\\n  attr {\\n    key: &quot;_class&quot;\\n    value {\\n      list {\\n        s: &quot;loc:@Convolution_1st/kernel&quot;\\n      }\\n    }\\n  }\\n  attr {\\n    key: &quot;container&quot;\\n    value {\\n      s: &quot;&quot;\\n    }\\n  }\\n  attr {\\n    key: &quot;dtype&quot;\\n    value {\\n      type: DT_FLOAT\\n    }\\n  }\\n  attr {\\n    key: &quot;shape&quot;\\n    value {\\n      shape {\\n        dim {\\n          size: 2\\n        }\\n        dim {\\n          size: 200\\n        }\\n        dim {\\n          size: 1\\n        }\\n        dim {\\n          size: 400\\n        }\\n      }\\n    }\\n  }\\n  attr {\\n    key: &quot;shared_name&quot;\\n    value {\\n      s: &quot;&quot;\\n    }\\n  }\\n}\\nnode {\\n  name: &quot;Convolution_1st/kernel/Adadelta/Assign&quot;\\n  op: &quot;Assign&quot;\\n  input: &quot;Convolution_1st/kernel/Adadelta&quot;\\n  input: &quot;Convolution_1st/kernel/Adadelta/Initializer/zeros&quot;\\n  attr {\\n    key: &quot;T&quot;\\n    value {\\n      type: DT_FLOAT\\n    }\\n  }\\n  attr {\\n    key: &quot;_class&quot;\\n    value {\\n      list {\\n        s: &quot;loc:@Convolution_1st/kernel&quot;\\n      }\\n    }\\n  }\\n  attr {\\n    key: &quot;use_locking&quot;\\n    value {\\n      b: true\\n    }\\n  }\\n  attr {\\n    key: &quot;validate_shape&quot;\\n    value {\\n      b: true\\n    }\\n  }\\n}\\nnode {\\n  name: &quot;Convolution_1st/kernel/Adadelta/read&quot;\\n  op: &quot;Identity&quot;\\n  input: &quot;Convolution_1st/kernel/Adadelta&quot;\\n  attr {\\n    key: &quot;T&quot;\\n    value {\\n      type: DT_FLOAT\\n    }\\n  }\\n  attr {\\n    key: &quot;_class&quot;\\n    value {\\n      list {\\n        s: &quot;loc:@Convolution_1st/kernel&quot;\\n      }\\n    }\\n  }\\n}\\nnode {\\n  name: &quot;Convolution_1st/kernel/Adadelta_1/Initializer/zeros&quot;\\n  op: &quot;Const&quot;\\n  attr {\\n    key: &quot;_class&quot;\\n    value {\\n      list {\\n        s: &quot;loc:@Convolution_1st/kernel&quot;\\n      }\\n    }\\n  }\\n  attr {\\n    key: &quot;dtype&quot;\\n    value {\\n      type: DT_FLOAT\\n    }\\n  }\\n  attr {\\n    key: &quot;value&quot;\\n    value {\\n      tensor {\\n        dtype: DT_FLOAT\\n        tensor_shape {\\n          dim {\\n            size: 2\\n          }\\n          dim {\\n            size: 200\\n          }\\n          dim {\\n            size: 1\\n          }\\n          dim {\\n            size: 400\\n          }\\n        }\\n        float_val: 0.0\\n      }\\n    }\\n  }\\n}\\nnode {\\n  name: &quot;Convolution_1st/kernel/Adadelta_1&quot;\\n  op: &quot;VariableV2&quot;\\n  attr {\\n    key: &quot;_class&quot;\\n    value {\\n      list {\\n        s: &quot;loc:@Convolution_1st/kernel&quot;\\n      }\\n    }\\n  }\\n  attr {\\n    key: &quot;container&quot;\\n    value {\\n      s: &quot;&quot;\\n    }\\n  }\\n  attr {\\n    key: &quot;dtype&quot;\\n    value {\\n      type: DT_FLOAT\\n    }\\n  }\\n  attr {\\n    key: &quot;shape&quot;\\n    value {\\n      shape {\\n        dim {\\n          size: 2\\n        }\\n        dim {\\n          size: 200\\n        }\\n        dim {\\n          size: 1\\n        }\\n        dim {\\n          size: 400\\n        }\\n      }\\n    }\\n  }\\n  attr {\\n    key: &quot;shared_name&quot;\\n    value {\\n      s: &quot;&quot;\\n    }\\n  }\\n}\\nnode {\\n  name: &quot;Convolution_1st/kernel/Adadelta_1/Assign&quot;\\n  op: &quot;Assign&quot;\\n  input: &quot;Convolution_1st/kernel/Adadelta_1&quot;\\n  input: &quot;Convolution_1st/kernel/Adadelta_1/Initializer/zeros&quot;\\n  attr {\\n    key: &quot;T&quot;\\n    value {\\n      type: DT_FLOAT\\n    }\\n  }\\n  attr {\\n    key: &quot;_class&quot;\\n    value {\\n      list {\\n        s: &quot;loc:@Convolution_1st/kernel&quot;\\n      }\\n    }\\n  }\\n  attr {\\n    key: &quot;use_locking&quot;\\n    value {\\n      b: true\\n    }\\n  }\\n  attr {\\n    key: &quot;validate_shape&quot;\\n    value {\\n      b: true\\n    }\\n  }\\n}\\nnode {\\n  name: &quot;Convolution_1st/kernel/Adadelta_1/read&quot;\\n  op: &quot;Identity&quot;\\n  input: &quot;Convolution_1st/kernel/Adadelta_1&quot;\\n  attr {\\n    key: &quot;T&quot;\\n    value {\\n      type: DT_FLOAT\\n    }\\n  }\\n  attr {\\n    key: &quot;_class&quot;\\n    value {\\n      list {\\n        s: &quot;loc:@Convolution_1st/kernel&quot;\\n      }\\n    }\\n  }\\n}\\nnode {\\n  name: &quot;Convolution_1st/bias/Adadelta/Initializer/zeros&quot;\\n  op: &quot;Const&quot;\\n  attr {\\n    key: &quot;_class&quot;\\n    value {\\n      list {\\n        s: &quot;loc:@Convolution_1st/bias&quot;\\n      }\\n    }\\n  }\\n  attr {\\n    key: &quot;dtype&quot;\\n    value {\\n      type: DT_FLOAT\\n    }\\n  }\\n  attr {\\n    key: &quot;value&quot;\\n    value {\\n      tensor {\\n        dtype: DT_FLOAT\\n        tensor_shape {\\n          dim {\\n            size: 400\\n          }\\n        }\\n        float_val: 0.0\\n      }\\n    }\\n  }\\n}\\nnode {\\n  name: &quot;Convolution_1st/bias/Adadelta&quot;\\n  op: &quot;VariableV2&quot;\\n  attr {\\n    key: &quot;_class&quot;\\n    value {\\n      list {\\n        s: &quot;loc:@Convolution_1st/bias&quot;\\n      }\\n    }\\n  }\\n  attr {\\n    key: &quot;container&quot;\\n    value {\\n      s: &quot;&quot;\\n    }\\n  }\\n  attr {\\n    key: &quot;dtype&quot;\\n    value {\\n      type: DT_FLOAT\\n    }\\n  }\\n  attr {\\n    key: &quot;shape&quot;\\n    value {\\n      shape {\\n        dim {\\n          size: 400\\n        }\\n      }\\n    }\\n  }\\n  attr {\\n    key: &quot;shared_name&quot;\\n    value {\\n      s: &quot;&quot;\\n    }\\n  }\\n}\\nnode {\\n  name: &quot;Convolution_1st/bias/Adadelta/Assign&quot;\\n  op: &quot;Assign&quot;\\n  input: &quot;Convolution_1st/bias/Adadelta&quot;\\n  input: &quot;Convolution_1st/bias/Adadelta/Initializer/zeros&quot;\\n  attr {\\n    key: &quot;T&quot;\\n    value {\\n      type: DT_FLOAT\\n    }\\n  }\\n  attr {\\n    key: &quot;_class&quot;\\n    value {\\n      list {\\n        s: &quot;loc:@Convolution_1st/bias&quot;\\n      }\\n    }\\n  }\\n  attr {\\n    key: &quot;use_locking&quot;\\n    value {\\n      b: true\\n    }\\n  }\\n  attr {\\n    key: &quot;validate_shape&quot;\\n    value {\\n      b: true\\n    }\\n  }\\n}\\nnode {\\n  name: &quot;Convolution_1st/bias/Adadelta/read&quot;\\n  op: &quot;Identity&quot;\\n  input: &quot;Convolution_1st/bias/Adadelta&quot;\\n  attr {\\n    key: &quot;T&quot;\\n    value {\\n      type: DT_FLOAT\\n    }\\n  }\\n  attr {\\n    key: &quot;_class&quot;\\n    value {\\n      list {\\n        s: &quot;loc:@Convolution_1st/bias&quot;\\n      }\\n    }\\n  }\\n}\\nnode {\\n  name: &quot;Convolution_1st/bias/Adadelta_1/Initializer/zeros&quot;\\n  op: &quot;Const&quot;\\n  attr {\\n    key: &quot;_class&quot;\\n    value {\\n      list {\\n        s: &quot;loc:@Convolution_1st/bias&quot;\\n      }\\n    }\\n  }\\n  attr {\\n    key: &quot;dtype&quot;\\n    value {\\n      type: DT_FLOAT\\n    }\\n  }\\n  attr {\\n    key: &quot;value&quot;\\n    value {\\n      tensor {\\n        dtype: DT_FLOAT\\n        tensor_shape {\\n          dim {\\n            size: 400\\n          }\\n        }\\n        float_val: 0.0\\n      }\\n    }\\n  }\\n}\\nnode {\\n  name: &quot;Convolution_1st/bias/Adadelta_1&quot;\\n  op: &quot;VariableV2&quot;\\n  attr {\\n    key: &quot;_class&quot;\\n    value {\\n      list {\\n        s: &quot;loc:@Convolution_1st/bias&quot;\\n      }\\n    }\\n  }\\n  attr {\\n    key: &quot;container&quot;\\n    value {\\n      s: &quot;&quot;\\n    }\\n  }\\n  attr {\\n    key: &quot;dtype&quot;\\n    value {\\n      type: DT_FLOAT\\n    }\\n  }\\n  attr {\\n    key: &quot;shape&quot;\\n    value {\\n      shape {\\n        dim {\\n          size: 400\\n        }\\n      }\\n    }\\n  }\\n  attr {\\n    key: &quot;shared_name&quot;\\n    value {\\n      s: &quot;&quot;\\n    }\\n  }\\n}\\nnode {\\n  name: &quot;Convolution_1st/bias/Adadelta_1/Assign&quot;\\n  op: &quot;Assign&quot;\\n  input: &quot;Convolution_1st/bias/Adadelta_1&quot;\\n  input: &quot;Convolution_1st/bias/Adadelta_1/Initializer/zeros&quot;\\n  attr {\\n    key: &quot;T&quot;\\n    value {\\n      type: DT_FLOAT\\n    }\\n  }\\n  attr {\\n    key: &quot;_class&quot;\\n    value {\\n      list {\\n        s: &quot;loc:@Convolution_1st/bias&quot;\\n      }\\n    }\\n  }\\n  attr {\\n    key: &quot;use_locking&quot;\\n    value {\\n      b: true\\n    }\\n  }\\n  attr {\\n    key: &quot;validate_shape&quot;\\n    value {\\n      b: true\\n    }\\n  }\\n}\\nnode {\\n  name: &quot;Convolution_1st/bias/Adadelta_1/read&quot;\\n  op: &quot;Identity&quot;\\n  input: &quot;Convolution_1st/bias/Adadelta_1&quot;\\n  attr {\\n    key: &quot;T&quot;\\n    value {\\n      type: DT_FLOAT\\n    }\\n  }\\n  attr {\\n    key: &quot;_class&quot;\\n    value {\\n      list {\\n        s: &quot;loc:@Convolution_1st/bias&quot;\\n      }\\n    }\\n  }\\n}\\nnode {\\n  name: &quot;Convolution_2nd/kernel/Adadelta/Initializer/zeros&quot;\\n  op: &quot;Const&quot;\\n  attr {\\n    key: &quot;_class&quot;\\n    value {\\n      list {\\n        s: &quot;loc:@Convolution_2nd/kernel&quot;\\n      }\\n    }\\n  }\\n  attr {\\n    key: &quot;dtype&quot;\\n    value {\\n      type: DT_FLOAT\\n    }\\n  }\\n  attr {\\n    key: &quot;value&quot;\\n    value {\\n      tensor {\\n        dtype: DT_FLOAT\\n        tensor_shape {\\n          dim {\\n            size: 3\\n          }\\n          dim {\\n            size: 1\\n          }\\n          dim {\\n            size: 400\\n          }\\n          dim {\\n            size: 400\\n          }\\n        }\\n        float_val: 0.0\\n      }\\n    }\\n  }\\n}\\nnode {\\n  name: &quot;Convolution_2nd/kernel/Adadelta&quot;\\n  op: &quot;VariableV2&quot;\\n  attr {\\n    key: &quot;_class&quot;\\n    value {\\n      list {\\n        s: &quot;loc:@Convolution_2nd/kernel&quot;\\n      }\\n    }\\n  }\\n  attr {\\n    key: &quot;container&quot;\\n    value {\\n      s: &quot;&quot;\\n    }\\n  }\\n  attr {\\n    key: &quot;dtype&quot;\\n    value {\\n      type: DT_FLOAT\\n    }\\n  }\\n  attr {\\n    key: &quot;shape&quot;\\n    value {\\n      shape {\\n        dim {\\n          size: 3\\n        }\\n        dim {\\n          size: 1\\n        }\\n        dim {\\n          size: 400\\n        }\\n        dim {\\n          size: 400\\n        }\\n      }\\n    }\\n  }\\n  attr {\\n    key: &quot;shared_name&quot;\\n    value {\\n      s: &quot;&quot;\\n    }\\n  }\\n}\\nnode {\\n  name: &quot;Convolution_2nd/kernel/Adadelta/Assign&quot;\\n  op: &quot;Assign&quot;\\n  input: &quot;Convolution_2nd/kernel/Adadelta&quot;\\n  input: &quot;Convolution_2nd/kernel/Adadelta/Initializer/zeros&quot;\\n  attr {\\n    key: &quot;T&quot;\\n    value {\\n      type: DT_FLOAT\\n    }\\n  }\\n  attr {\\n    key: &quot;_class&quot;\\n    value {\\n      list {\\n        s: &quot;loc:@Convolution_2nd/kernel&quot;\\n      }\\n    }\\n  }\\n  attr {\\n    key: &quot;use_locking&quot;\\n    value {\\n      b: true\\n    }\\n  }\\n  attr {\\n    key: &quot;validate_shape&quot;\\n    value {\\n      b: true\\n    }\\n  }\\n}\\nnode {\\n  name: &quot;Convolution_2nd/kernel/Adadelta/read&quot;\\n  op: &quot;Identity&quot;\\n  input: &quot;Convolution_2nd/kernel/Adadelta&quot;\\n  attr {\\n    key: &quot;T&quot;\\n    value {\\n      type: DT_FLOAT\\n    }\\n  }\\n  attr {\\n    key: &quot;_class&quot;\\n    value {\\n      list {\\n        s: &quot;loc:@Convolution_2nd/kernel&quot;\\n      }\\n    }\\n  }\\n}\\nnode {\\n  name: &quot;Convolution_2nd/kernel/Adadelta_1/Initializer/zeros&quot;\\n  op: &quot;Const&quot;\\n  attr {\\n    key: &quot;_class&quot;\\n    value {\\n      list {\\n        s: &quot;loc:@Convolution_2nd/kernel&quot;\\n      }\\n    }\\n  }\\n  attr {\\n    key: &quot;dtype&quot;\\n    value {\\n      type: DT_FLOAT\\n    }\\n  }\\n  attr {\\n    key: &quot;value&quot;\\n    value {\\n      tensor {\\n        dtype: DT_FLOAT\\n        tensor_shape {\\n          dim {\\n            size: 3\\n          }\\n          dim {\\n            size: 1\\n          }\\n          dim {\\n            size: 400\\n          }\\n          dim {\\n            size: 400\\n          }\\n        }\\n        float_val: 0.0\\n      }\\n    }\\n  }\\n}\\nnode {\\n  name: &quot;Convolution_2nd/kernel/Adadelta_1&quot;\\n  op: &quot;VariableV2&quot;\\n  attr {\\n    key: &quot;_class&quot;\\n    value {\\n      list {\\n        s: &quot;loc:@Convolution_2nd/kernel&quot;\\n      }\\n    }\\n  }\\n  attr {\\n    key: &quot;container&quot;\\n    value {\\n      s: &quot;&quot;\\n    }\\n  }\\n  attr {\\n    key: &quot;dtype&quot;\\n    value {\\n      type: DT_FLOAT\\n    }\\n  }\\n  attr {\\n    key: &quot;shape&quot;\\n    value {\\n      shape {\\n        dim {\\n          size: 3\\n        }\\n        dim {\\n          size: 1\\n        }\\n        dim {\\n          size: 400\\n        }\\n        dim {\\n          size: 400\\n        }\\n      }\\n    }\\n  }\\n  attr {\\n    key: &quot;shared_name&quot;\\n    value {\\n      s: &quot;&quot;\\n    }\\n  }\\n}\\nnode {\\n  name: &quot;Convolution_2nd/kernel/Adadelta_1/Assign&quot;\\n  op: &quot;Assign&quot;\\n  input: &quot;Convolution_2nd/kernel/Adadelta_1&quot;\\n  input: &quot;Convolution_2nd/kernel/Adadelta_1/Initializer/zeros&quot;\\n  attr {\\n    key: &quot;T&quot;\\n    value {\\n      type: DT_FLOAT\\n    }\\n  }\\n  attr {\\n    key: &quot;_class&quot;\\n    value {\\n      list {\\n        s: &quot;loc:@Convolution_2nd/kernel&quot;\\n      }\\n    }\\n  }\\n  attr {\\n    key: &quot;use_locking&quot;\\n    value {\\n      b: true\\n    }\\n  }\\n  attr {\\n    key: &quot;validate_shape&quot;\\n    value {\\n      b: true\\n    }\\n  }\\n}\\nnode {\\n  name: &quot;Convolution_2nd/kernel/Adadelta_1/read&quot;\\n  op: &quot;Identity&quot;\\n  input: &quot;Convolution_2nd/kernel/Adadelta_1&quot;\\n  attr {\\n    key: &quot;T&quot;\\n    value {\\n      type: DT_FLOAT\\n    }\\n  }\\n  attr {\\n    key: &quot;_class&quot;\\n    value {\\n      list {\\n        s: &quot;loc:@Convolution_2nd/kernel&quot;\\n      }\\n    }\\n  }\\n}\\nnode {\\n  name: &quot;Convolution_2nd/bias/Adadelta/Initializer/zeros&quot;\\n  op: &quot;Const&quot;\\n  attr {\\n    key: &quot;_class&quot;\\n    value {\\n      list {\\n        s: &quot;loc:@Convolution_2nd/bias&quot;\\n      }\\n    }\\n  }\\n  attr {\\n    key: &quot;dtype&quot;\\n    value {\\n      type: DT_FLOAT\\n    }\\n  }\\n  attr {\\n    key: &quot;value&quot;\\n    value {\\n      tensor {\\n        dtype: DT_FLOAT\\n        tensor_shape {\\n          dim {\\n            size: 400\\n          }\\n        }\\n        float_val: 0.0\\n      }\\n    }\\n  }\\n}\\nnode {\\n  name: &quot;Convolution_2nd/bias/Adadelta&quot;\\n  op: &quot;VariableV2&quot;\\n  attr {\\n    key: &quot;_class&quot;\\n    value {\\n      list {\\n        s: &quot;loc:@Convolution_2nd/bias&quot;\\n      }\\n    }\\n  }\\n  attr {\\n    key: &quot;container&quot;\\n    value {\\n      s: &quot;&quot;\\n    }\\n  }\\n  attr {\\n    key: &quot;dtype&quot;\\n    value {\\n      type: DT_FLOAT\\n    }\\n  }\\n  attr {\\n    key: &quot;shape&quot;\\n    value {\\n      shape {\\n        dim {\\n          size: 400\\n        }\\n      }\\n    }\\n  }\\n  attr {\\n    key: &quot;shared_name&quot;\\n    value {\\n      s: &quot;&quot;\\n    }\\n  }\\n}\\nnode {\\n  name: &quot;Convolution_2nd/bias/Adadelta/Assign&quot;\\n  op: &quot;Assign&quot;\\n  input: &quot;Convolution_2nd/bias/Adadelta&quot;\\n  input: &quot;Convolution_2nd/bias/Adadelta/Initializer/zeros&quot;\\n  attr {\\n    key: &quot;T&quot;\\n    value {\\n      type: DT_FLOAT\\n    }\\n  }\\n  attr {\\n    key: &quot;_class&quot;\\n    value {\\n      list {\\n        s: &quot;loc:@Convolution_2nd/bias&quot;\\n      }\\n    }\\n  }\\n  attr {\\n    key: &quot;use_locking&quot;\\n    value {\\n      b: true\\n    }\\n  }\\n  attr {\\n    key: &quot;validate_shape&quot;\\n    value {\\n      b: true\\n    }\\n  }\\n}\\nnode {\\n  name: &quot;Convolution_2nd/bias/Adadelta/read&quot;\\n  op: &quot;Identity&quot;\\n  input: &quot;Convolution_2nd/bias/Adadelta&quot;\\n  attr {\\n    key: &quot;T&quot;\\n    value {\\n      type: DT_FLOAT\\n    }\\n  }\\n  attr {\\n    key: &quot;_class&quot;\\n    value {\\n      list {\\n        s: &quot;loc:@Convolution_2nd/bias&quot;\\n      }\\n    }\\n  }\\n}\\nnode {\\n  name: &quot;Convolution_2nd/bias/Adadelta_1/Initializer/zeros&quot;\\n  op: &quot;Const&quot;\\n  attr {\\n    key: &quot;_class&quot;\\n    value {\\n      list {\\n        s: &quot;loc:@Convolution_2nd/bias&quot;\\n      }\\n    }\\n  }\\n  attr {\\n    key: &quot;dtype&quot;\\n    value {\\n      type: DT_FLOAT\\n    }\\n  }\\n  attr {\\n    key: &quot;value&quot;\\n    value {\\n      tensor {\\n        dtype: DT_FLOAT\\n        tensor_shape {\\n          dim {\\n            size: 400\\n          }\\n        }\\n        float_val: 0.0\\n      }\\n    }\\n  }\\n}\\nnode {\\n  name: &quot;Convolution_2nd/bias/Adadelta_1&quot;\\n  op: &quot;VariableV2&quot;\\n  attr {\\n    key: &quot;_class&quot;\\n    value {\\n      list {\\n        s: &quot;loc:@Convolution_2nd/bias&quot;\\n      }\\n    }\\n  }\\n  attr {\\n    key: &quot;container&quot;\\n    value {\\n      s: &quot;&quot;\\n    }\\n  }\\n  attr {\\n    key: &quot;dtype&quot;\\n    value {\\n      type: DT_FLOAT\\n    }\\n  }\\n  attr {\\n    key: &quot;shape&quot;\\n    value {\\n      shape {\\n        dim {\\n          size: 400\\n        }\\n      }\\n    }\\n  }\\n  attr {\\n    key: &quot;shared_name&quot;\\n    value {\\n      s: &quot;&quot;\\n    }\\n  }\\n}\\nnode {\\n  name: &quot;Convolution_2nd/bias/Adadelta_1/Assign&quot;\\n  op: &quot;Assign&quot;\\n  input: &quot;Convolution_2nd/bias/Adadelta_1&quot;\\n  input: &quot;Convolution_2nd/bias/Adadelta_1/Initializer/zeros&quot;\\n  attr {\\n    key: &quot;T&quot;\\n    value {\\n      type: DT_FLOAT\\n    }\\n  }\\n  attr {\\n    key: &quot;_class&quot;\\n    value {\\n      list {\\n        s: &quot;loc:@Convolution_2nd/bias&quot;\\n      }\\n    }\\n  }\\n  attr {\\n    key: &quot;use_locking&quot;\\n    value {\\n      b: true\\n    }\\n  }\\n  attr {\\n    key: &quot;validate_shape&quot;\\n    value {\\n      b: true\\n    }\\n  }\\n}\\nnode {\\n  name: &quot;Convolution_2nd/bias/Adadelta_1/read&quot;\\n  op: &quot;Identity&quot;\\n  input: &quot;Convolution_2nd/bias/Adadelta_1&quot;\\n  attr {\\n    key: &quot;T&quot;\\n    value {\\n      type: DT_FLOAT\\n    }\\n  }\\n  attr {\\n    key: &quot;_class&quot;\\n    value {\\n      list {\\n        s: &quot;loc:@Convolution_2nd/bias&quot;\\n      }\\n    }\\n  }\\n}\\nnode {\\n  name: &quot;Convolution_1st_2/kernel/Adadelta/Initializer/zeros&quot;\\n  op: &quot;Const&quot;\\n  attr {\\n    key: &quot;_class&quot;\\n    value {\\n      list {\\n        s: &quot;loc:@Convolution_1st_2/kernel&quot;\\n      }\\n    }\\n  }\\n  attr {\\n    key: &quot;dtype&quot;\\n    value {\\n      type: DT_FLOAT\\n    }\\n  }\\n  attr {\\n    key: &quot;value&quot;\\n    value {\\n      tensor {\\n        dtype: DT_FLOAT\\n        tensor_shape {\\n          dim {\\n            size: 3\\n          }\\n          dim {\\n            size: 200\\n          }\\n          dim {\\n            size: 1\\n          }\\n          dim {\\n            size: 400\\n          }\\n        }\\n        float_val: 0.0\\n      }\\n    }\\n  }\\n}\\nnode {\\n  name: &quot;Convolution_1st_2/kernel/Adadelta&quot;\\n  op: &quot;VariableV2&quot;\\n  attr {\\n    key: &quot;_class&quot;\\n    value {\\n      list {\\n        s: &quot;loc:@Convolution_1st_2/kernel&quot;\\n      }\\n    }\\n  }\\n  attr {\\n    key: &quot;container&quot;\\n    value {\\n      s: &quot;&quot;\\n    }\\n  }\\n  attr {\\n    key: &quot;dtype&quot;\\n    value {\\n      type: DT_FLOAT\\n    }\\n  }\\n  attr {\\n    key: &quot;shape&quot;\\n    value {\\n      shape {\\n        dim {\\n          size: 3\\n        }\\n        dim {\\n          size: 200\\n        }\\n        dim {\\n          size: 1\\n        }\\n        dim {\\n          size: 400\\n        }\\n      }\\n    }\\n  }\\n  attr {\\n    key: &quot;shared_name&quot;\\n    value {\\n      s: &quot;&quot;\\n    }\\n  }\\n}\\nnode {\\n  name: &quot;Convolution_1st_2/kernel/Adadelta/Assign&quot;\\n  op: &quot;Assign&quot;\\n  input: &quot;Convolution_1st_2/kernel/Adadelta&quot;\\n  input: &quot;Convolution_1st_2/kernel/Adadelta/Initializer/zeros&quot;\\n  attr {\\n    key: &quot;T&quot;\\n    value {\\n      type: DT_FLOAT\\n    }\\n  }\\n  attr {\\n    key: &quot;_class&quot;\\n    value {\\n      list {\\n        s: &quot;loc:@Convolution_1st_2/kernel&quot;\\n      }\\n    }\\n  }\\n  attr {\\n    key: &quot;use_locking&quot;\\n    value {\\n      b: true\\n    }\\n  }\\n  attr {\\n    key: &quot;validate_shape&quot;\\n    value {\\n      b: true\\n    }\\n  }\\n}\\nnode {\\n  name: &quot;Convolution_1st_2/kernel/Adadelta/read&quot;\\n  op: &quot;Identity&quot;\\n  input: &quot;Convolution_1st_2/kernel/Adadelta&quot;\\n  attr {\\n    key: &quot;T&quot;\\n    value {\\n      type: DT_FLOAT\\n    }\\n  }\\n  attr {\\n    key: &quot;_class&quot;\\n    value {\\n      list {\\n        s: &quot;loc:@Convolution_1st_2/kernel&quot;\\n      }\\n    }\\n  }\\n}\\nnode {\\n  name: &quot;Convolution_1st_2/kernel/Adadelta_1/Initializer/zeros&quot;\\n  op: &quot;Const&quot;\\n  attr {\\n    key: &quot;_class&quot;\\n    value {\\n      list {\\n        s: &quot;loc:@Convolution_1st_2/kernel&quot;\\n      }\\n    }\\n  }\\n  attr {\\n    key: &quot;dtype&quot;\\n    value {\\n      type: DT_FLOAT\\n    }\\n  }\\n  attr {\\n    key: &quot;value&quot;\\n    value {\\n      tensor {\\n        dtype: DT_FLOAT\\n        tensor_shape {\\n          dim {\\n            size: 3\\n          }\\n          dim {\\n            size: 200\\n          }\\n          dim {\\n            size: 1\\n          }\\n          dim {\\n            size: 400\\n          }\\n        }\\n        float_val: 0.0\\n      }\\n    }\\n  }\\n}\\nnode {\\n  name: &quot;Convolution_1st_2/kernel/Adadelta_1&quot;\\n  op: &quot;VariableV2&quot;\\n  attr {\\n    key: &quot;_class&quot;\\n    value {\\n      list {\\n        s: &quot;loc:@Convolution_1st_2/kernel&quot;\\n      }\\n    }\\n  }\\n  attr {\\n    key: &quot;container&quot;\\n    value {\\n      s: &quot;&quot;\\n    }\\n  }\\n  attr {\\n    key: &quot;dtype&quot;\\n    value {\\n      type: DT_FLOAT\\n    }\\n  }\\n  attr {\\n    key: &quot;shape&quot;\\n    value {\\n      shape {\\n        dim {\\n          size: 3\\n        }\\n        dim {\\n          size: 200\\n        }\\n        dim {\\n          size: 1\\n        }\\n        dim {\\n          size: 400\\n        }\\n      }\\n    }\\n  }\\n  attr {\\n    key: &quot;shared_name&quot;\\n    value {\\n      s: &quot;&quot;\\n    }\\n  }\\n}\\nnode {\\n  name: &quot;Convolution_1st_2/kernel/Adadelta_1/Assign&quot;\\n  op: &quot;Assign&quot;\\n  input: &quot;Convolution_1st_2/kernel/Adadelta_1&quot;\\n  input: &quot;Convolution_1st_2/kernel/Adadelta_1/Initializer/zeros&quot;\\n  attr {\\n    key: &quot;T&quot;\\n    value {\\n      type: DT_FLOAT\\n    }\\n  }\\n  attr {\\n    key: &quot;_class&quot;\\n    value {\\n      list {\\n        s: &quot;loc:@Convolution_1st_2/kernel&quot;\\n      }\\n    }\\n  }\\n  attr {\\n    key: &quot;use_locking&quot;\\n    value {\\n      b: true\\n    }\\n  }\\n  attr {\\n    key: &quot;validate_shape&quot;\\n    value {\\n      b: true\\n    }\\n  }\\n}\\nnode {\\n  name: &quot;Convolution_1st_2/kernel/Adadelta_1/read&quot;\\n  op: &quot;Identity&quot;\\n  input: &quot;Convolution_1st_2/kernel/Adadelta_1&quot;\\n  attr {\\n    key: &quot;T&quot;\\n    value {\\n      type: DT_FLOAT\\n    }\\n  }\\n  attr {\\n    key: &quot;_class&quot;\\n    value {\\n      list {\\n        s: &quot;loc:@Convolution_1st_2/kernel&quot;\\n      }\\n    }\\n  }\\n}\\nnode {\\n  name: &quot;Convolution_1st_2/bias/Adadelta/Initializer/zeros&quot;\\n  op: &quot;Const&quot;\\n  attr {\\n    key: &quot;_class&quot;\\n    value {\\n      list {\\n        s: &quot;loc:@Convolution_1st_2/bias&quot;\\n      }\\n    }\\n  }\\n  attr {\\n    key: &quot;dtype&quot;\\n    value {\\n      type: DT_FLOAT\\n    }\\n  }\\n  attr {\\n    key: &quot;value&quot;\\n    value {\\n      tensor {\\n        dtype: DT_FLOAT\\n        tensor_shape {\\n          dim {\\n            size: 400\\n          }\\n        }\\n        float_val: 0.0\\n      }\\n    }\\n  }\\n}\\nnode {\\n  name: &quot;Convolution_1st_2/bias/Adadelta&quot;\\n  op: &quot;VariableV2&quot;\\n  attr {\\n    key: &quot;_class&quot;\\n    value {\\n      list {\\n        s: &quot;loc:@Convolution_1st_2/bias&quot;\\n      }\\n    }\\n  }\\n  attr {\\n    key: &quot;container&quot;\\n    value {\\n      s: &quot;&quot;\\n    }\\n  }\\n  attr {\\n    key: &quot;dtype&quot;\\n    value {\\n      type: DT_FLOAT\\n    }\\n  }\\n  attr {\\n    key: &quot;shape&quot;\\n    value {\\n      shape {\\n        dim {\\n          size: 400\\n        }\\n      }\\n    }\\n  }\\n  attr {\\n    key: &quot;shared_name&quot;\\n    value {\\n      s: &quot;&quot;\\n    }\\n  }\\n}\\nnode {\\n  name: &quot;Convolution_1st_2/bias/Adadelta/Assign&quot;\\n  op: &quot;Assign&quot;\\n  input: &quot;Convolution_1st_2/bias/Adadelta&quot;\\n  input: &quot;Convolution_1st_2/bias/Adadelta/Initializer/zeros&quot;\\n  attr {\\n    key: &quot;T&quot;\\n    value {\\n      type: DT_FLOAT\\n    }\\n  }\\n  attr {\\n    key: &quot;_class&quot;\\n    value {\\n      list {\\n        s: &quot;loc:@Convolution_1st_2/bias&quot;\\n      }\\n    }\\n  }\\n  attr {\\n    key: &quot;use_locking&quot;\\n    value {\\n      b: true\\n    }\\n  }\\n  attr {\\n    key: &quot;validate_shape&quot;\\n    value {\\n      b: true\\n    }\\n  }\\n}\\nnode {\\n  name: &quot;Convolution_1st_2/bias/Adadelta/read&quot;\\n  op: &quot;Identity&quot;\\n  input: &quot;Convolution_1st_2/bias/Adadelta&quot;\\n  attr {\\n    key: &quot;T&quot;\\n    value {\\n      type: DT_FLOAT\\n    }\\n  }\\n  attr {\\n    key: &quot;_class&quot;\\n    value {\\n      list {\\n        s: &quot;loc:@Convolution_1st_2/bias&quot;\\n      }\\n    }\\n  }\\n}\\nnode {\\n  name: &quot;Convolution_1st_2/bias/Adadelta_1/Initializer/zeros&quot;\\n  op: &quot;Const&quot;\\n  attr {\\n    key: &quot;_class&quot;\\n    value {\\n      list {\\n        s: &quot;loc:@Convolution_1st_2/bias&quot;\\n      }\\n    }\\n  }\\n  attr {\\n    key: &quot;dtype&quot;\\n    value {\\n      type: DT_FLOAT\\n    }\\n  }\\n  attr {\\n    key: &quot;value&quot;\\n    value {\\n      tensor {\\n        dtype: DT_FLOAT\\n        tensor_shape {\\n          dim {\\n            size: 400\\n          }\\n        }\\n        float_val: 0.0\\n      }\\n    }\\n  }\\n}\\nnode {\\n  name: &quot;Convolution_1st_2/bias/Adadelta_1&quot;\\n  op: &quot;VariableV2&quot;\\n  attr {\\n    key: &quot;_class&quot;\\n    value {\\n      list {\\n        s: &quot;loc:@Convolution_1st_2/bias&quot;\\n      }\\n    }\\n  }\\n  attr {\\n    key: &quot;container&quot;\\n    value {\\n      s: &quot;&quot;\\n    }\\n  }\\n  attr {\\n    key: &quot;dtype&quot;\\n    value {\\n      type: DT_FLOAT\\n    }\\n  }\\n  attr {\\n    key: &quot;shape&quot;\\n    value {\\n      shape {\\n        dim {\\n          size: 400\\n        }\\n      }\\n    }\\n  }\\n  attr {\\n    key: &quot;shared_name&quot;\\n    value {\\n      s: &quot;&quot;\\n    }\\n  }\\n}\\nnode {\\n  name: &quot;Convolution_1st_2/bias/Adadelta_1/Assign&quot;\\n  op: &quot;Assign&quot;\\n  input: &quot;Convolution_1st_2/bias/Adadelta_1&quot;\\n  input: &quot;Convolution_1st_2/bias/Adadelta_1/Initializer/zeros&quot;\\n  attr {\\n    key: &quot;T&quot;\\n    value {\\n      type: DT_FLOAT\\n    }\\n  }\\n  attr {\\n    key: &quot;_class&quot;\\n    value {\\n      list {\\n        s: &quot;loc:@Convolution_1st_2/bias&quot;\\n      }\\n    }\\n  }\\n  attr {\\n    key: &quot;use_locking&quot;\\n    value {\\n      b: true\\n    }\\n  }\\n  attr {\\n    key: &quot;validate_shape&quot;\\n    value {\\n      b: true\\n    }\\n  }\\n}\\nnode {\\n  name: &quot;Convolution_1st_2/bias/Adadelta_1/read&quot;\\n  op: &quot;Identity&quot;\\n  input: &quot;Convolution_1st_2/bias/Adadelta_1&quot;\\n  attr {\\n    key: &quot;T&quot;\\n    value {\\n      type: DT_FLOAT\\n    }\\n  }\\n  attr {\\n    key: &quot;_class&quot;\\n    value {\\n      list {\\n        s: &quot;loc:@Convolution_1st_2/bias&quot;\\n      }\\n    }\\n  }\\n}\\nnode {\\n  name: &quot;Convolution_2nd_2/kernel/Adadelta/Initializer/zeros&quot;\\n  op: &quot;Const&quot;\\n  attr {\\n    key: &quot;_class&quot;\\n    value {\\n      list {\\n        s: &quot;loc:@Convolution_2nd_2/kernel&quot;\\n      }\\n    }\\n  }\\n  attr {\\n    key: &quot;dtype&quot;\\n    value {\\n      type: DT_FLOAT\\n    }\\n  }\\n  attr {\\n    key: &quot;value&quot;\\n    value {\\n      tensor {\\n        dtype: DT_FLOAT\\n        tensor_shape {\\n          dim {\\n            size: 3\\n          }\\n          dim {\\n            size: 1\\n          }\\n          dim {\\n            size: 400\\n          }\\n          dim {\\n            size: 400\\n          }\\n        }\\n        float_val: 0.0\\n      }\\n    }\\n  }\\n}\\nnode {\\n  name: &quot;Convolution_2nd_2/kernel/Adadelta&quot;\\n  op: &quot;VariableV2&quot;\\n  attr {\\n    key: &quot;_class&quot;\\n    value {\\n      list {\\n        s: &quot;loc:@Convolution_2nd_2/kernel&quot;\\n      }\\n    }\\n  }\\n  attr {\\n    key: &quot;container&quot;\\n    value {\\n      s: &quot;&quot;\\n    }\\n  }\\n  attr {\\n    key: &quot;dtype&quot;\\n    value {\\n      type: DT_FLOAT\\n    }\\n  }\\n  attr {\\n    key: &quot;shape&quot;\\n    value {\\n      shape {\\n        dim {\\n          size: 3\\n        }\\n        dim {\\n          size: 1\\n        }\\n        dim {\\n          size: 400\\n        }\\n        dim {\\n          size: 400\\n        }\\n      }\\n    }\\n  }\\n  attr {\\n    key: &quot;shared_name&quot;\\n    value {\\n      s: &quot;&quot;\\n    }\\n  }\\n}\\nnode {\\n  name: &quot;Convolution_2nd_2/kernel/Adadelta/Assign&quot;\\n  op: &quot;Assign&quot;\\n  input: &quot;Convolution_2nd_2/kernel/Adadelta&quot;\\n  input: &quot;Convolution_2nd_2/kernel/Adadelta/Initializer/zeros&quot;\\n  attr {\\n    key: &quot;T&quot;\\n    value {\\n      type: DT_FLOAT\\n    }\\n  }\\n  attr {\\n    key: &quot;_class&quot;\\n    value {\\n      list {\\n        s: &quot;loc:@Convolution_2nd_2/kernel&quot;\\n      }\\n    }\\n  }\\n  attr {\\n    key: &quot;use_locking&quot;\\n    value {\\n      b: true\\n    }\\n  }\\n  attr {\\n    key: &quot;validate_shape&quot;\\n    value {\\n      b: true\\n    }\\n  }\\n}\\nnode {\\n  name: &quot;Convolution_2nd_2/kernel/Adadelta/read&quot;\\n  op: &quot;Identity&quot;\\n  input: &quot;Convolution_2nd_2/kernel/Adadelta&quot;\\n  attr {\\n    key: &quot;T&quot;\\n    value {\\n      type: DT_FLOAT\\n    }\\n  }\\n  attr {\\n    key: &quot;_class&quot;\\n    value {\\n      list {\\n        s: &quot;loc:@Convolution_2nd_2/kernel&quot;\\n      }\\n    }\\n  }\\n}\\nnode {\\n  name: &quot;Convolution_2nd_2/kernel/Adadelta_1/Initializer/zeros&quot;\\n  op: &quot;Const&quot;\\n  attr {\\n    key: &quot;_class&quot;\\n    value {\\n      list {\\n        s: &quot;loc:@Convolution_2nd_2/kernel&quot;\\n      }\\n    }\\n  }\\n  attr {\\n    key: &quot;dtype&quot;\\n    value {\\n      type: DT_FLOAT\\n    }\\n  }\\n  attr {\\n    key: &quot;value&quot;\\n    value {\\n      tensor {\\n        dtype: DT_FLOAT\\n        tensor_shape {\\n          dim {\\n            size: 3\\n          }\\n          dim {\\n            size: 1\\n          }\\n          dim {\\n            size: 400\\n          }\\n          dim {\\n            size: 400\\n          }\\n        }\\n        float_val: 0.0\\n      }\\n    }\\n  }\\n}\\nnode {\\n  name: &quot;Convolution_2nd_2/kernel/Adadelta_1&quot;\\n  op: &quot;VariableV2&quot;\\n  attr {\\n    key: &quot;_class&quot;\\n    value {\\n      list {\\n        s: &quot;loc:@Convolution_2nd_2/kernel&quot;\\n      }\\n    }\\n  }\\n  attr {\\n    key: &quot;container&quot;\\n    value {\\n      s: &quot;&quot;\\n    }\\n  }\\n  attr {\\n    key: &quot;dtype&quot;\\n    value {\\n      type: DT_FLOAT\\n    }\\n  }\\n  attr {\\n    key: &quot;shape&quot;\\n    value {\\n      shape {\\n        dim {\\n          size: 3\\n        }\\n        dim {\\n          size: 1\\n        }\\n        dim {\\n          size: 400\\n        }\\n        dim {\\n          size: 400\\n        }\\n      }\\n    }\\n  }\\n  attr {\\n    key: &quot;shared_name&quot;\\n    value {\\n      s: &quot;&quot;\\n    }\\n  }\\n}\\nnode {\\n  name: &quot;Convolution_2nd_2/kernel/Adadelta_1/Assign&quot;\\n  op: &quot;Assign&quot;\\n  input: &quot;Convolution_2nd_2/kernel/Adadelta_1&quot;\\n  input: &quot;Convolution_2nd_2/kernel/Adadelta_1/Initializer/zeros&quot;\\n  attr {\\n    key: &quot;T&quot;\\n    value {\\n      type: DT_FLOAT\\n    }\\n  }\\n  attr {\\n    key: &quot;_class&quot;\\n    value {\\n      list {\\n        s: &quot;loc:@Convolution_2nd_2/kernel&quot;\\n      }\\n    }\\n  }\\n  attr {\\n    key: &quot;use_locking&quot;\\n    value {\\n      b: true\\n    }\\n  }\\n  attr {\\n    key: &quot;validate_shape&quot;\\n    value {\\n      b: true\\n    }\\n  }\\n}\\nnode {\\n  name: &quot;Convolution_2nd_2/kernel/Adadelta_1/read&quot;\\n  op: &quot;Identity&quot;\\n  input: &quot;Convolution_2nd_2/kernel/Adadelta_1&quot;\\n  attr {\\n    key: &quot;T&quot;\\n    value {\\n      type: DT_FLOAT\\n    }\\n  }\\n  attr {\\n    key: &quot;_class&quot;\\n    value {\\n      list {\\n        s: &quot;loc:@Convolution_2nd_2/kernel&quot;\\n      }\\n    }\\n  }\\n}\\nnode {\\n  name: &quot;Convolution_2nd_2/bias/Adadelta/Initializer/zeros&quot;\\n  op: &quot;Const&quot;\\n  attr {\\n    key: &quot;_class&quot;\\n    value {\\n      list {\\n        s: &quot;loc:@Convolution_2nd_2/bias&quot;\\n      }\\n    }\\n  }\\n  attr {\\n    key: &quot;dtype&quot;\\n    value {\\n      type: DT_FLOAT\\n    }\\n  }\\n  attr {\\n    key: &quot;value&quot;\\n    value {\\n      tensor {\\n        dtype: DT_FLOAT\\n        tensor_shape {\\n          dim {\\n            size: 400\\n          }\\n        }\\n        float_val: 0.0\\n      }\\n    }\\n  }\\n}\\nnode {\\n  name: &quot;Convolution_2nd_2/bias/Adadelta&quot;\\n  op: &quot;VariableV2&quot;\\n  attr {\\n    key: &quot;_class&quot;\\n    value {\\n      list {\\n        s: &quot;loc:@Convolution_2nd_2/bias&quot;\\n      }\\n    }\\n  }\\n  attr {\\n    key: &quot;container&quot;\\n    value {\\n      s: &quot;&quot;\\n    }\\n  }\\n  attr {\\n    key: &quot;dtype&quot;\\n    value {\\n      type: DT_FLOAT\\n    }\\n  }\\n  attr {\\n    key: &quot;shape&quot;\\n    value {\\n      shape {\\n        dim {\\n          size: 400\\n        }\\n      }\\n    }\\n  }\\n  attr {\\n    key: &quot;shared_name&quot;\\n    value {\\n      s: &quot;&quot;\\n    }\\n  }\\n}\\nnode {\\n  name: &quot;Convolution_2nd_2/bias/Adadelta/Assign&quot;\\n  op: &quot;Assign&quot;\\n  input: &quot;Convolution_2nd_2/bias/Adadelta&quot;\\n  input: &quot;Convolution_2nd_2/bias/Adadelta/Initializer/zeros&quot;\\n  attr {\\n    key: &quot;T&quot;\\n    value {\\n      type: DT_FLOAT\\n    }\\n  }\\n  attr {\\n    key: &quot;_class&quot;\\n    value {\\n      list {\\n        s: &quot;loc:@Convolution_2nd_2/bias&quot;\\n      }\\n    }\\n  }\\n  attr {\\n    key: &quot;use_locking&quot;\\n    value {\\n      b: true\\n    }\\n  }\\n  attr {\\n    key: &quot;validate_shape&quot;\\n    value {\\n      b: true\\n    }\\n  }\\n}\\nnode {\\n  name: &quot;Convolution_2nd_2/bias/Adadelta/read&quot;\\n  op: &quot;Identity&quot;\\n  input: &quot;Convolution_2nd_2/bias/Adadelta&quot;\\n  attr {\\n    key: &quot;T&quot;\\n    value {\\n      type: DT_FLOAT\\n    }\\n  }\\n  attr {\\n    key: &quot;_class&quot;\\n    value {\\n      list {\\n        s: &quot;loc:@Convolution_2nd_2/bias&quot;\\n      }\\n    }\\n  }\\n}\\nnode {\\n  name: &quot;Convolution_2nd_2/bias/Adadelta_1/Initializer/zeros&quot;\\n  op: &quot;Const&quot;\\n  attr {\\n    key: &quot;_class&quot;\\n    value {\\n      list {\\n        s: &quot;loc:@Convolution_2nd_2/bias&quot;\\n      }\\n    }\\n  }\\n  attr {\\n    key: &quot;dtype&quot;\\n    value {\\n      type: DT_FLOAT\\n    }\\n  }\\n  attr {\\n    key: &quot;value&quot;\\n    value {\\n      tensor {\\n        dtype: DT_FLOAT\\n        tensor_shape {\\n          dim {\\n            size: 400\\n          }\\n        }\\n        float_val: 0.0\\n      }\\n    }\\n  }\\n}\\nnode {\\n  name: &quot;Convolution_2nd_2/bias/Adadelta_1&quot;\\n  op: &quot;VariableV2&quot;\\n  attr {\\n    key: &quot;_class&quot;\\n    value {\\n      list {\\n        s: &quot;loc:@Convolution_2nd_2/bias&quot;\\n      }\\n    }\\n  }\\n  attr {\\n    key: &quot;container&quot;\\n    value {\\n      s: &quot;&quot;\\n    }\\n  }\\n  attr {\\n    key: &quot;dtype&quot;\\n    value {\\n      type: DT_FLOAT\\n    }\\n  }\\n  attr {\\n    key: &quot;shape&quot;\\n    value {\\n      shape {\\n        dim {\\n          size: 400\\n        }\\n      }\\n    }\\n  }\\n  attr {\\n    key: &quot;shared_name&quot;\\n    value {\\n      s: &quot;&quot;\\n    }\\n  }\\n}\\nnode {\\n  name: &quot;Convolution_2nd_2/bias/Adadelta_1/Assign&quot;\\n  op: &quot;Assign&quot;\\n  input: &quot;Convolution_2nd_2/bias/Adadelta_1&quot;\\n  input: &quot;Convolution_2nd_2/bias/Adadelta_1/Initializer/zeros&quot;\\n  attr {\\n    key: &quot;T&quot;\\n    value {\\n      type: DT_FLOAT\\n    }\\n  }\\n  attr {\\n    key: &quot;_class&quot;\\n    value {\\n      list {\\n        s: &quot;loc:@Convolution_2nd_2/bias&quot;\\n      }\\n    }\\n  }\\n  attr {\\n    key: &quot;use_locking&quot;\\n    value {\\n      b: true\\n    }\\n  }\\n  attr {\\n    key: &quot;validate_shape&quot;\\n    value {\\n      b: true\\n    }\\n  }\\n}\\nnode {\\n  name: &quot;Convolution_2nd_2/bias/Adadelta_1/read&quot;\\n  op: &quot;Identity&quot;\\n  input: &quot;Convolution_2nd_2/bias/Adadelta_1&quot;\\n  attr {\\n    key: &quot;T&quot;\\n    value {\\n      type: DT_FLOAT\\n    }\\n  }\\n  attr {\\n    key: &quot;_class&quot;\\n    value {\\n      list {\\n        s: &quot;loc:@Convolution_2nd_2/bias&quot;\\n      }\\n    }\\n  }\\n}\\nnode {\\n  name: &quot;Fully_connect/kernel/Adadelta/Initializer/zeros&quot;\\n  op: &quot;Const&quot;\\n  attr {\\n    key: &quot;_class&quot;\\n    value {\\n      list {\\n        s: &quot;loc:@Fully_connect/kernel&quot;\\n      }\\n    }\\n  }\\n  attr {\\n    key: &quot;dtype&quot;\\n    value {\\n      type: DT_FLOAT\\n    }\\n  }\\n  attr {\\n    key: &quot;value&quot;\\n    value {\\n      tensor {\\n        dtype: DT_FLOAT\\n        tensor_shape {\\n          dim {\\n            size: 800\\n          }\\n          dim {\\n            size: 1024\\n          }\\n        }\\n        float_val: 0.0\\n      }\\n    }\\n  }\\n}\\nnode {\\n  name: &quot;Fully_connect/kernel/Adadelta&quot;\\n  op: &quot;VariableV2&quot;\\n  attr {\\n    key: &quot;_class&quot;\\n    value {\\n      list {\\n        s: &quot;loc:@Fully_connect/kernel&quot;\\n      }\\n    }\\n  }\\n  attr {\\n    key: &quot;container&quot;\\n    value {\\n      s: &quot;&quot;\\n    }\\n  }\\n  attr {\\n    key: &quot;dtype&quot;\\n    value {\\n      type: DT_FLOAT\\n    }\\n  }\\n  attr {\\n    key: &quot;shape&quot;\\n    value {\\n      shape {\\n        dim {\\n          size: 800\\n        }\\n        dim {\\n          size: 1024\\n        }\\n      }\\n    }\\n  }\\n  attr {\\n    key: &quot;shared_name&quot;\\n    value {\\n      s: &quot;&quot;\\n    }\\n  }\\n}\\nnode {\\n  name: &quot;Fully_connect/kernel/Adadelta/Assign&quot;\\n  op: &quot;Assign&quot;\\n  input: &quot;Fully_connect/kernel/Adadelta&quot;\\n  input: &quot;Fully_connect/kernel/Adadelta/Initializer/zeros&quot;\\n  attr {\\n    key: &quot;T&quot;\\n    value {\\n      type: DT_FLOAT\\n    }\\n  }\\n  attr {\\n    key: &quot;_class&quot;\\n    value {\\n      list {\\n        s: &quot;loc:@Fully_connect/kernel&quot;\\n      }\\n    }\\n  }\\n  attr {\\n    key: &quot;use_locking&quot;\\n    value {\\n      b: true\\n    }\\n  }\\n  attr {\\n    key: &quot;validate_shape&quot;\\n    value {\\n      b: true\\n    }\\n  }\\n}\\nnode {\\n  name: &quot;Fully_connect/kernel/Adadelta/read&quot;\\n  op: &quot;Identity&quot;\\n  input: &quot;Fully_connect/kernel/Adadelta&quot;\\n  attr {\\n    key: &quot;T&quot;\\n    value {\\n      type: DT_FLOAT\\n    }\\n  }\\n  attr {\\n    key: &quot;_class&quot;\\n    value {\\n      list {\\n        s: &quot;loc:@Fully_connect/kernel&quot;\\n      }\\n    }\\n  }\\n}\\nnode {\\n  name: &quot;Fully_connect/kernel/Adadelta_1/Initializer/zeros&quot;\\n  op: &quot;Const&quot;\\n  attr {\\n    key: &quot;_class&quot;\\n    value {\\n      list {\\n        s: &quot;loc:@Fully_connect/kernel&quot;\\n      }\\n    }\\n  }\\n  attr {\\n    key: &quot;dtype&quot;\\n    value {\\n      type: DT_FLOAT\\n    }\\n  }\\n  attr {\\n    key: &quot;value&quot;\\n    value {\\n      tensor {\\n        dtype: DT_FLOAT\\n        tensor_shape {\\n          dim {\\n            size: 800\\n          }\\n          dim {\\n            size: 1024\\n          }\\n        }\\n        float_val: 0.0\\n      }\\n    }\\n  }\\n}\\nnode {\\n  name: &quot;Fully_connect/kernel/Adadelta_1&quot;\\n  op: &quot;VariableV2&quot;\\n  attr {\\n    key: &quot;_class&quot;\\n    value {\\n      list {\\n        s: &quot;loc:@Fully_connect/kernel&quot;\\n      }\\n    }\\n  }\\n  attr {\\n    key: &quot;container&quot;\\n    value {\\n      s: &quot;&quot;\\n    }\\n  }\\n  attr {\\n    key: &quot;dtype&quot;\\n    value {\\n      type: DT_FLOAT\\n    }\\n  }\\n  attr {\\n    key: &quot;shape&quot;\\n    value {\\n      shape {\\n        dim {\\n          size: 800\\n        }\\n        dim {\\n          size: 1024\\n        }\\n      }\\n    }\\n  }\\n  attr {\\n    key: &quot;shared_name&quot;\\n    value {\\n      s: &quot;&quot;\\n    }\\n  }\\n}\\nnode {\\n  name: &quot;Fully_connect/kernel/Adadelta_1/Assign&quot;\\n  op: &quot;Assign&quot;\\n  input: &quot;Fully_connect/kernel/Adadelta_1&quot;\\n  input: &quot;Fully_connect/kernel/Adadelta_1/Initializer/zeros&quot;\\n  attr {\\n    key: &quot;T&quot;\\n    value {\\n      type: DT_FLOAT\\n    }\\n  }\\n  attr {\\n    key: &quot;_class&quot;\\n    value {\\n      list {\\n        s: &quot;loc:@Fully_connect/kernel&quot;\\n      }\\n    }\\n  }\\n  attr {\\n    key: &quot;use_locking&quot;\\n    value {\\n      b: true\\n    }\\n  }\\n  attr {\\n    key: &quot;validate_shape&quot;\\n    value {\\n      b: true\\n    }\\n  }\\n}\\nnode {\\n  name: &quot;Fully_connect/kernel/Adadelta_1/read&quot;\\n  op: &quot;Identity&quot;\\n  input: &quot;Fully_connect/kernel/Adadelta_1&quot;\\n  attr {\\n    key: &quot;T&quot;\\n    value {\\n      type: DT_FLOAT\\n    }\\n  }\\n  attr {\\n    key: &quot;_class&quot;\\n    value {\\n      list {\\n        s: &quot;loc:@Fully_connect/kernel&quot;\\n      }\\n    }\\n  }\\n}\\nnode {\\n  name: &quot;Fully_connect/bias/Adadelta/Initializer/zeros&quot;\\n  op: &quot;Const&quot;\\n  attr {\\n    key: &quot;_class&quot;\\n    value {\\n      list {\\n        s: &quot;loc:@Fully_connect/bias&quot;\\n      }\\n    }\\n  }\\n  attr {\\n    key: &quot;dtype&quot;\\n    value {\\n      type: DT_FLOAT\\n    }\\n  }\\n  attr {\\n    key: &quot;value&quot;\\n    value {\\n      tensor {\\n        dtype: DT_FLOAT\\n        tensor_shape {\\n          dim {\\n            size: 1024\\n          }\\n        }\\n        float_val: 0.0\\n      }\\n    }\\n  }\\n}\\nnode {\\n  name: &quot;Fully_connect/bias/Adadelta&quot;\\n  op: &quot;VariableV2&quot;\\n  attr {\\n    key: &quot;_class&quot;\\n    value {\\n      list {\\n        s: &quot;loc:@Fully_connect/bias&quot;\\n      }\\n    }\\n  }\\n  attr {\\n    key: &quot;container&quot;\\n    value {\\n      s: &quot;&quot;\\n    }\\n  }\\n  attr {\\n    key: &quot;dtype&quot;\\n    value {\\n      type: DT_FLOAT\\n    }\\n  }\\n  attr {\\n    key: &quot;shape&quot;\\n    value {\\n      shape {\\n        dim {\\n          size: 1024\\n        }\\n      }\\n    }\\n  }\\n  attr {\\n    key: &quot;shared_name&quot;\\n    value {\\n      s: &quot;&quot;\\n    }\\n  }\\n}\\nnode {\\n  name: &quot;Fully_connect/bias/Adadelta/Assign&quot;\\n  op: &quot;Assign&quot;\\n  input: &quot;Fully_connect/bias/Adadelta&quot;\\n  input: &quot;Fully_connect/bias/Adadelta/Initializer/zeros&quot;\\n  attr {\\n    key: &quot;T&quot;\\n    value {\\n      type: DT_FLOAT\\n    }\\n  }\\n  attr {\\n    key: &quot;_class&quot;\\n    value {\\n      list {\\n        s: &quot;loc:@Fully_connect/bias&quot;\\n      }\\n    }\\n  }\\n  attr {\\n    key: &quot;use_locking&quot;\\n    value {\\n      b: true\\n    }\\n  }\\n  attr {\\n    key: &quot;validate_shape&quot;\\n    value {\\n      b: true\\n    }\\n  }\\n}\\nnode {\\n  name: &quot;Fully_connect/bias/Adadelta/read&quot;\\n  op: &quot;Identity&quot;\\n  input: &quot;Fully_connect/bias/Adadelta&quot;\\n  attr {\\n    key: &quot;T&quot;\\n    value {\\n      type: DT_FLOAT\\n    }\\n  }\\n  attr {\\n    key: &quot;_class&quot;\\n    value {\\n      list {\\n        s: &quot;loc:@Fully_connect/bias&quot;\\n      }\\n    }\\n  }\\n}\\nnode {\\n  name: &quot;Fully_connect/bias/Adadelta_1/Initializer/zeros&quot;\\n  op: &quot;Const&quot;\\n  attr {\\n    key: &quot;_class&quot;\\n    value {\\n      list {\\n        s: &quot;loc:@Fully_connect/bias&quot;\\n      }\\n    }\\n  }\\n  attr {\\n    key: &quot;dtype&quot;\\n    value {\\n      type: DT_FLOAT\\n    }\\n  }\\n  attr {\\n    key: &quot;value&quot;\\n    value {\\n      tensor {\\n        dtype: DT_FLOAT\\n        tensor_shape {\\n          dim {\\n            size: 1024\\n          }\\n        }\\n        float_val: 0.0\\n      }\\n    }\\n  }\\n}\\nnode {\\n  name: &quot;Fully_connect/bias/Adadelta_1&quot;\\n  op: &quot;VariableV2&quot;\\n  attr {\\n    key: &quot;_class&quot;\\n    value {\\n      list {\\n        s: &quot;loc:@Fully_connect/bias&quot;\\n      }\\n    }\\n  }\\n  attr {\\n    key: &quot;container&quot;\\n    value {\\n      s: &quot;&quot;\\n    }\\n  }\\n  attr {\\n    key: &quot;dtype&quot;\\n    value {\\n      type: DT_FLOAT\\n    }\\n  }\\n  attr {\\n    key: &quot;shape&quot;\\n    value {\\n      shape {\\n        dim {\\n          size: 1024\\n        }\\n      }\\n    }\\n  }\\n  attr {\\n    key: &quot;shared_name&quot;\\n    value {\\n      s: &quot;&quot;\\n    }\\n  }\\n}\\nnode {\\n  name: &quot;Fully_connect/bias/Adadelta_1/Assign&quot;\\n  op: &quot;Assign&quot;\\n  input: &quot;Fully_connect/bias/Adadelta_1&quot;\\n  input: &quot;Fully_connect/bias/Adadelta_1/Initializer/zeros&quot;\\n  attr {\\n    key: &quot;T&quot;\\n    value {\\n      type: DT_FLOAT\\n    }\\n  }\\n  attr {\\n    key: &quot;_class&quot;\\n    value {\\n      list {\\n        s: &quot;loc:@Fully_connect/bias&quot;\\n      }\\n    }\\n  }\\n  attr {\\n    key: &quot;use_locking&quot;\\n    value {\\n      b: true\\n    }\\n  }\\n  attr {\\n    key: &quot;validate_shape&quot;\\n    value {\\n      b: true\\n    }\\n  }\\n}\\nnode {\\n  name: &quot;Fully_connect/bias/Adadelta_1/read&quot;\\n  op: &quot;Identity&quot;\\n  input: &quot;Fully_connect/bias/Adadelta_1&quot;\\n  attr {\\n    key: &quot;T&quot;\\n    value {\\n      type: DT_FLOAT\\n    }\\n  }\\n  attr {\\n    key: &quot;_class&quot;\\n    value {\\n      list {\\n        s: &quot;loc:@Fully_connect/bias&quot;\\n      }\\n    }\\n  }\\n}\\nnode {\\n  name: &quot;Softmax/kernel/Adadelta/Initializer/zeros&quot;\\n  op: &quot;Const&quot;\\n  attr {\\n    key: &quot;_class&quot;\\n    value {\\n      list {\\n        s: &quot;loc:@Softmax/kernel&quot;\\n      }\\n    }\\n  }\\n  attr {\\n    key: &quot;dtype&quot;\\n    value {\\n      type: DT_FLOAT\\n    }\\n  }\\n  attr {\\n    key: &quot;value&quot;\\n    value {\\n      tensor {\\n        dtype: DT_FLOAT\\n        tensor_shape {\\n          dim {\\n            size: 1024\\n          }\\n          dim {\\n            size: 8\\n          }\\n        }\\n        float_val: 0.0\\n      }\\n    }\\n  }\\n}\\nnode {\\n  name: &quot;Softmax/kernel/Adadelta&quot;\\n  op: &quot;VariableV2&quot;\\n  attr {\\n    key: &quot;_class&quot;\\n    value {\\n      list {\\n        s: &quot;loc:@Softmax/kernel&quot;\\n      }\\n    }\\n  }\\n  attr {\\n    key: &quot;container&quot;\\n    value {\\n      s: &quot;&quot;\\n    }\\n  }\\n  attr {\\n    key: &quot;dtype&quot;\\n    value {\\n      type: DT_FLOAT\\n    }\\n  }\\n  attr {\\n    key: &quot;shape&quot;\\n    value {\\n      shape {\\n        dim {\\n          size: 1024\\n        }\\n        dim {\\n          size: 8\\n        }\\n      }\\n    }\\n  }\\n  attr {\\n    key: &quot;shared_name&quot;\\n    value {\\n      s: &quot;&quot;\\n    }\\n  }\\n}\\nnode {\\n  name: &quot;Softmax/kernel/Adadelta/Assign&quot;\\n  op: &quot;Assign&quot;\\n  input: &quot;Softmax/kernel/Adadelta&quot;\\n  input: &quot;Softmax/kernel/Adadelta/Initializer/zeros&quot;\\n  attr {\\n    key: &quot;T&quot;\\n    value {\\n      type: DT_FLOAT\\n    }\\n  }\\n  attr {\\n    key: &quot;_class&quot;\\n    value {\\n      list {\\n        s: &quot;loc:@Softmax/kernel&quot;\\n      }\\n    }\\n  }\\n  attr {\\n    key: &quot;use_locking&quot;\\n    value {\\n      b: true\\n    }\\n  }\\n  attr {\\n    key: &quot;validate_shape&quot;\\n    value {\\n      b: true\\n    }\\n  }\\n}\\nnode {\\n  name: &quot;Softmax/kernel/Adadelta/read&quot;\\n  op: &quot;Identity&quot;\\n  input: &quot;Softmax/kernel/Adadelta&quot;\\n  attr {\\n    key: &quot;T&quot;\\n    value {\\n      type: DT_FLOAT\\n    }\\n  }\\n  attr {\\n    key: &quot;_class&quot;\\n    value {\\n      list {\\n        s: &quot;loc:@Softmax/kernel&quot;\\n      }\\n    }\\n  }\\n}\\nnode {\\n  name: &quot;Softmax/kernel/Adadelta_1/Initializer/zeros&quot;\\n  op: &quot;Const&quot;\\n  attr {\\n    key: &quot;_class&quot;\\n    value {\\n      list {\\n        s: &quot;loc:@Softmax/kernel&quot;\\n      }\\n    }\\n  }\\n  attr {\\n    key: &quot;dtype&quot;\\n    value {\\n      type: DT_FLOAT\\n    }\\n  }\\n  attr {\\n    key: &quot;value&quot;\\n    value {\\n      tensor {\\n        dtype: DT_FLOAT\\n        tensor_shape {\\n          dim {\\n            size: 1024\\n          }\\n          dim {\\n            size: 8\\n          }\\n        }\\n        float_val: 0.0\\n      }\\n    }\\n  }\\n}\\nnode {\\n  name: &quot;Softmax/kernel/Adadelta_1&quot;\\n  op: &quot;VariableV2&quot;\\n  attr {\\n    key: &quot;_class&quot;\\n    value {\\n      list {\\n        s: &quot;loc:@Softmax/kernel&quot;\\n      }\\n    }\\n  }\\n  attr {\\n    key: &quot;container&quot;\\n    value {\\n      s: &quot;&quot;\\n    }\\n  }\\n  attr {\\n    key: &quot;dtype&quot;\\n    value {\\n      type: DT_FLOAT\\n    }\\n  }\\n  attr {\\n    key: &quot;shape&quot;\\n    value {\\n      shape {\\n        dim {\\n          size: 1024\\n        }\\n        dim {\\n          size: 8\\n        }\\n      }\\n    }\\n  }\\n  attr {\\n    key: &quot;shared_name&quot;\\n    value {\\n      s: &quot;&quot;\\n    }\\n  }\\n}\\nnode {\\n  name: &quot;Softmax/kernel/Adadelta_1/Assign&quot;\\n  op: &quot;Assign&quot;\\n  input: &quot;Softmax/kernel/Adadelta_1&quot;\\n  input: &quot;Softmax/kernel/Adadelta_1/Initializer/zeros&quot;\\n  attr {\\n    key: &quot;T&quot;\\n    value {\\n      type: DT_FLOAT\\n    }\\n  }\\n  attr {\\n    key: &quot;_class&quot;\\n    value {\\n      list {\\n        s: &quot;loc:@Softmax/kernel&quot;\\n      }\\n    }\\n  }\\n  attr {\\n    key: &quot;use_locking&quot;\\n    value {\\n      b: true\\n    }\\n  }\\n  attr {\\n    key: &quot;validate_shape&quot;\\n    value {\\n      b: true\\n    }\\n  }\\n}\\nnode {\\n  name: &quot;Softmax/kernel/Adadelta_1/read&quot;\\n  op: &quot;Identity&quot;\\n  input: &quot;Softmax/kernel/Adadelta_1&quot;\\n  attr {\\n    key: &quot;T&quot;\\n    value {\\n      type: DT_FLOAT\\n    }\\n  }\\n  attr {\\n    key: &quot;_class&quot;\\n    value {\\n      list {\\n        s: &quot;loc:@Softmax/kernel&quot;\\n      }\\n    }\\n  }\\n}\\nnode {\\n  name: &quot;Softmax/bias/Adadelta/Initializer/zeros&quot;\\n  op: &quot;Const&quot;\\n  attr {\\n    key: &quot;_class&quot;\\n    value {\\n      list {\\n        s: &quot;loc:@Softmax/bias&quot;\\n      }\\n    }\\n  }\\n  attr {\\n    key: &quot;dtype&quot;\\n    value {\\n      type: DT_FLOAT\\n    }\\n  }\\n  attr {\\n    key: &quot;value&quot;\\n    value {\\n      tensor {\\n        dtype: DT_FLOAT\\n        tensor_shape {\\n          dim {\\n            size: 8\\n          }\\n        }\\n        float_val: 0.0\\n      }\\n    }\\n  }\\n}\\nnode {\\n  name: &quot;Softmax/bias/Adadelta&quot;\\n  op: &quot;VariableV2&quot;\\n  attr {\\n    key: &quot;_class&quot;\\n    value {\\n      list {\\n        s: &quot;loc:@Softmax/bias&quot;\\n      }\\n    }\\n  }\\n  attr {\\n    key: &quot;container&quot;\\n    value {\\n      s: &quot;&quot;\\n    }\\n  }\\n  attr {\\n    key: &quot;dtype&quot;\\n    value {\\n      type: DT_FLOAT\\n    }\\n  }\\n  attr {\\n    key: &quot;shape&quot;\\n    value {\\n      shape {\\n        dim {\\n          size: 8\\n        }\\n      }\\n    }\\n  }\\n  attr {\\n    key: &quot;shared_name&quot;\\n    value {\\n      s: &quot;&quot;\\n    }\\n  }\\n}\\nnode {\\n  name: &quot;Softmax/bias/Adadelta/Assign&quot;\\n  op: &quot;Assign&quot;\\n  input: &quot;Softmax/bias/Adadelta&quot;\\n  input: &quot;Softmax/bias/Adadelta/Initializer/zeros&quot;\\n  attr {\\n    key: &quot;T&quot;\\n    value {\\n      type: DT_FLOAT\\n    }\\n  }\\n  attr {\\n    key: &quot;_class&quot;\\n    value {\\n      list {\\n        s: &quot;loc:@Softmax/bias&quot;\\n      }\\n    }\\n  }\\n  attr {\\n    key: &quot;use_locking&quot;\\n    value {\\n      b: true\\n    }\\n  }\\n  attr {\\n    key: &quot;validate_shape&quot;\\n    value {\\n      b: true\\n    }\\n  }\\n}\\nnode {\\n  name: &quot;Softmax/bias/Adadelta/read&quot;\\n  op: &quot;Identity&quot;\\n  input: &quot;Softmax/bias/Adadelta&quot;\\n  attr {\\n    key: &quot;T&quot;\\n    value {\\n      type: DT_FLOAT\\n    }\\n  }\\n  attr {\\n    key: &quot;_class&quot;\\n    value {\\n      list {\\n        s: &quot;loc:@Softmax/bias&quot;\\n      }\\n    }\\n  }\\n}\\nnode {\\n  name: &quot;Softmax/bias/Adadelta_1/Initializer/zeros&quot;\\n  op: &quot;Const&quot;\\n  attr {\\n    key: &quot;_class&quot;\\n    value {\\n      list {\\n        s: &quot;loc:@Softmax/bias&quot;\\n      }\\n    }\\n  }\\n  attr {\\n    key: &quot;dtype&quot;\\n    value {\\n      type: DT_FLOAT\\n    }\\n  }\\n  attr {\\n    key: &quot;value&quot;\\n    value {\\n      tensor {\\n        dtype: DT_FLOAT\\n        tensor_shape {\\n          dim {\\n            size: 8\\n          }\\n        }\\n        float_val: 0.0\\n      }\\n    }\\n  }\\n}\\nnode {\\n  name: &quot;Softmax/bias/Adadelta_1&quot;\\n  op: &quot;VariableV2&quot;\\n  attr {\\n    key: &quot;_class&quot;\\n    value {\\n      list {\\n        s: &quot;loc:@Softmax/bias&quot;\\n      }\\n    }\\n  }\\n  attr {\\n    key: &quot;container&quot;\\n    value {\\n      s: &quot;&quot;\\n    }\\n  }\\n  attr {\\n    key: &quot;dtype&quot;\\n    value {\\n      type: DT_FLOAT\\n    }\\n  }\\n  attr {\\n    key: &quot;shape&quot;\\n    value {\\n      shape {\\n        dim {\\n          size: 8\\n        }\\n      }\\n    }\\n  }\\n  attr {\\n    key: &quot;shared_name&quot;\\n    value {\\n      s: &quot;&quot;\\n    }\\n  }\\n}\\nnode {\\n  name: &quot;Softmax/bias/Adadelta_1/Assign&quot;\\n  op: &quot;Assign&quot;\\n  input: &quot;Softmax/bias/Adadelta_1&quot;\\n  input: &quot;Softmax/bias/Adadelta_1/Initializer/zeros&quot;\\n  attr {\\n    key: &quot;T&quot;\\n    value {\\n      type: DT_FLOAT\\n    }\\n  }\\n  attr {\\n    key: &quot;_class&quot;\\n    value {\\n      list {\\n        s: &quot;loc:@Softmax/bias&quot;\\n      }\\n    }\\n  }\\n  attr {\\n    key: &quot;use_locking&quot;\\n    value {\\n      b: true\\n    }\\n  }\\n  attr {\\n    key: &quot;validate_shape&quot;\\n    value {\\n      b: true\\n    }\\n  }\\n}\\nnode {\\n  name: &quot;Softmax/bias/Adadelta_1/read&quot;\\n  op: &quot;Identity&quot;\\n  input: &quot;Softmax/bias/Adadelta_1&quot;\\n  attr {\\n    key: &quot;T&quot;\\n    value {\\n      type: DT_FLOAT\\n    }\\n  }\\n  attr {\\n    key: &quot;_class&quot;\\n    value {\\n      list {\\n        s: &quot;loc:@Softmax/bias&quot;\\n      }\\n    }\\n  }\\n}\\nnode {\\n  name: &quot;Adadelta/lr&quot;\\n  op: &quot;Const&quot;\\n  attr {\\n    key: &quot;dtype&quot;\\n    value {\\n      type: DT_INT32\\n    }\\n  }\\n  attr {\\n    key: &quot;value&quot;\\n    value {\\n      tensor {\\n        dtype: DT_INT32\\n        tensor_shape {\\n        }\\n        int_val: 1\\n      }\\n    }\\n  }\\n}\\nnode {\\n  name: &quot;Adadelta/rho&quot;\\n  op: &quot;Const&quot;\\n  attr {\\n    key: &quot;dtype&quot;\\n    value {\\n      type: DT_FLOAT\\n    }\\n  }\\n  attr {\\n    key: &quot;value&quot;\\n    value {\\n      tensor {\\n        dtype: DT_FLOAT\\n        tensor_shape {\\n        }\\n        float_val: 0.949999988079071\\n      }\\n    }\\n  }\\n}\\nnode {\\n  name: &quot;Adadelta/epsilon&quot;\\n  op: &quot;Const&quot;\\n  attr {\\n    key: &quot;dtype&quot;\\n    value {\\n      type: DT_FLOAT\\n    }\\n  }\\n  attr {\\n    key: &quot;value&quot;\\n    value {\\n      tensor {\\n        dtype: DT_FLOAT\\n        tensor_shape {\\n        }\\n        float_val: 9.999999974752427e-07\\n      }\\n    }\\n  }\\n}\\nnode {\\n  name: &quot;Adadelta/update_Convolution_1st/kernel/Cast&quot;\\n  op: &quot;Cast&quot;\\n  input: &quot;Adadelta/lr&quot;\\n  attr {\\n    key: &quot;DstT&quot;\\n    value {\\n      type: DT_FLOAT\\n    }\\n  }\\n  attr {\\n    key: &quot;SrcT&quot;\\n    value {\\n      type: DT_INT32\\n    }\\n  }\\n  attr {\\n    key: &quot;_class&quot;\\n    value {\\n      list {\\n        s: &quot;loc:@Convolution_1st/kernel&quot;\\n      }\\n    }\\n  }\\n}\\nnode {\\n  name: &quot;Adadelta/update_Convolution_1st/kernel/ApplyAdadelta&quot;\\n  op: &quot;ApplyAdadelta&quot;\\n  input: &quot;Convolution_1st/kernel&quot;\\n  input: &quot;Convolution_1st/kernel/Adadelta&quot;\\n  input: &quot;Convolution_1st/kernel/Adadelta_1&quot;\\n  input: &quot;Adadelta/update_Convolution_1st/kernel/Cast&quot;\\n  input: &quot;Adadelta/rho&quot;\\n  input: &quot;Adadelta/epsilon&quot;\\n  input: &quot;gradients/Convolution_1st/convolution_grad/tuple/control_dependency_1&quot;\\n  attr {\\n    key: &quot;T&quot;\\n    value {\\n      type: DT_FLOAT\\n    }\\n  }\\n  attr {\\n    key: &quot;_class&quot;\\n    value {\\n      list {\\n        s: &quot;loc:@Convolution_1st/kernel&quot;\\n      }\\n    }\\n  }\\n  attr {\\n    key: &quot;use_locking&quot;\\n    value {\\n      b: false\\n    }\\n  }\\n}\\nnode {\\n  name: &quot;Adadelta/update_Convolution_1st/bias/Cast&quot;\\n  op: &quot;Cast&quot;\\n  input: &quot;Adadelta/lr&quot;\\n  attr {\\n    key: &quot;DstT&quot;\\n    value {\\n      type: DT_FLOAT\\n    }\\n  }\\n  attr {\\n    key: &quot;SrcT&quot;\\n    value {\\n      type: DT_INT32\\n    }\\n  }\\n  attr {\\n    key: &quot;_class&quot;\\n    value {\\n      list {\\n        s: &quot;loc:@Convolution_1st/bias&quot;\\n      }\\n    }\\n  }\\n}\\nnode {\\n  name: &quot;Adadelta/update_Convolution_1st/bias/ApplyAdadelta&quot;\\n  op: &quot;ApplyAdadelta&quot;\\n  input: &quot;Convolution_1st/bias&quot;\\n  input: &quot;Convolution_1st/bias/Adadelta&quot;\\n  input: &quot;Convolution_1st/bias/Adadelta_1&quot;\\n  input: &quot;Adadelta/update_Convolution_1st/bias/Cast&quot;\\n  input: &quot;Adadelta/rho&quot;\\n  input: &quot;Adadelta/epsilon&quot;\\n  input: &quot;gradients/Convolution_1st/BiasAdd_grad/tuple/control_dependency_1&quot;\\n  attr {\\n    key: &quot;T&quot;\\n    value {\\n      type: DT_FLOAT\\n    }\\n  }\\n  attr {\\n    key: &quot;_class&quot;\\n    value {\\n      list {\\n        s: &quot;loc:@Convolution_1st/bias&quot;\\n      }\\n    }\\n  }\\n  attr {\\n    key: &quot;use_locking&quot;\\n    value {\\n      b: false\\n    }\\n  }\\n}\\nnode {\\n  name: &quot;Adadelta/update_Convolution_2nd/kernel/Cast&quot;\\n  op: &quot;Cast&quot;\\n  input: &quot;Adadelta/lr&quot;\\n  attr {\\n    key: &quot;DstT&quot;\\n    value {\\n      type: DT_FLOAT\\n    }\\n  }\\n  attr {\\n    key: &quot;SrcT&quot;\\n    value {\\n      type: DT_INT32\\n    }\\n  }\\n  attr {\\n    key: &quot;_class&quot;\\n    value {\\n      list {\\n        s: &quot;loc:@Convolution_2nd/kernel&quot;\\n      }\\n    }\\n  }\\n}\\nnode {\\n  name: &quot;Adadelta/update_Convolution_2nd/kernel/ApplyAdadelta&quot;\\n  op: &quot;ApplyAdadelta&quot;\\n  input: &quot;Convolution_2nd/kernel&quot;\\n  input: &quot;Convolution_2nd/kernel/Adadelta&quot;\\n  input: &quot;Convolution_2nd/kernel/Adadelta_1&quot;\\n  input: &quot;Adadelta/update_Convolution_2nd/kernel/Cast&quot;\\n  input: &quot;Adadelta/rho&quot;\\n  input: &quot;Adadelta/epsilon&quot;\\n  input: &quot;gradients/Convolution_2nd/convolution_grad/tuple/control_dependency_1&quot;\\n  attr {\\n    key: &quot;T&quot;\\n    value {\\n      type: DT_FLOAT\\n    }\\n  }\\n  attr {\\n    key: &quot;_class&quot;\\n    value {\\n      list {\\n        s: &quot;loc:@Convolution_2nd/kernel&quot;\\n      }\\n    }\\n  }\\n  attr {\\n    key: &quot;use_locking&quot;\\n    value {\\n      b: false\\n    }\\n  }\\n}\\nnode {\\n  name: &quot;Adadelta/update_Convolution_2nd/bias/Cast&quot;\\n  op: &quot;Cast&quot;\\n  input: &quot;Adadelta/lr&quot;\\n  attr {\\n    key: &quot;DstT&quot;\\n    value {\\n      type: DT_FLOAT\\n    }\\n  }\\n  attr {\\n    key: &quot;SrcT&quot;\\n    value {\\n      type: DT_INT32\\n    }\\n  }\\n  attr {\\n    key: &quot;_class&quot;\\n    value {\\n      list {\\n        s: &quot;loc:@Convolution_2nd/bias&quot;\\n      }\\n    }\\n  }\\n}\\nnode {\\n  name: &quot;Adadelta/update_Convolution_2nd/bias/ApplyAdadelta&quot;\\n  op: &quot;ApplyAdadelta&quot;\\n  input: &quot;Convolution_2nd/bias&quot;\\n  input: &quot;Convolution_2nd/bias/Adadelta&quot;\\n  input: &quot;Convolution_2nd/bias/Adadelta_1&quot;\\n  input: &quot;Adadelta/update_Convolution_2nd/bias/Cast&quot;\\n  input: &quot;Adadelta/rho&quot;\\n  input: &quot;Adadelta/epsilon&quot;\\n  input: &quot;gradients/Convolution_2nd/BiasAdd_grad/tuple/control_dependency_1&quot;\\n  attr {\\n    key: &quot;T&quot;\\n    value {\\n      type: DT_FLOAT\\n    }\\n  }\\n  attr {\\n    key: &quot;_class&quot;\\n    value {\\n      list {\\n        s: &quot;loc:@Convolution_2nd/bias&quot;\\n      }\\n    }\\n  }\\n  attr {\\n    key: &quot;use_locking&quot;\\n    value {\\n      b: false\\n    }\\n  }\\n}\\nnode {\\n  name: &quot;Adadelta/update_Convolution_1st_2/kernel/Cast&quot;\\n  op: &quot;Cast&quot;\\n  input: &quot;Adadelta/lr&quot;\\n  attr {\\n    key: &quot;DstT&quot;\\n    value {\\n      type: DT_FLOAT\\n    }\\n  }\\n  attr {\\n    key: &quot;SrcT&quot;\\n    value {\\n      type: DT_INT32\\n    }\\n  }\\n  attr {\\n    key: &quot;_class&quot;\\n    value {\\n      list {\\n        s: &quot;loc:@Convolution_1st_2/kernel&quot;\\n      }\\n    }\\n  }\\n}\\nnode {\\n  name: &quot;Adadelta/update_Convolution_1st_2/kernel/ApplyAdadelta&quot;\\n  op: &quot;ApplyAdadelta&quot;\\n  input: &quot;Convolution_1st_2/kernel&quot;\\n  input: &quot;Convolution_1st_2/kernel/Adadelta&quot;\\n  input: &quot;Convolution_1st_2/kernel/Adadelta_1&quot;\\n  input: &quot;Adadelta/update_Convolution_1st_2/kernel/Cast&quot;\\n  input: &quot;Adadelta/rho&quot;\\n  input: &quot;Adadelta/epsilon&quot;\\n  input: &quot;gradients/Convolution_1st_2/convolution_grad/tuple/control_dependency_1&quot;\\n  attr {\\n    key: &quot;T&quot;\\n    value {\\n      type: DT_FLOAT\\n    }\\n  }\\n  attr {\\n    key: &quot;_class&quot;\\n    value {\\n      list {\\n        s: &quot;loc:@Convolution_1st_2/kernel&quot;\\n      }\\n    }\\n  }\\n  attr {\\n    key: &quot;use_locking&quot;\\n    value {\\n      b: false\\n    }\\n  }\\n}\\nnode {\\n  name: &quot;Adadelta/update_Convolution_1st_2/bias/Cast&quot;\\n  op: &quot;Cast&quot;\\n  input: &quot;Adadelta/lr&quot;\\n  attr {\\n    key: &quot;DstT&quot;\\n    value {\\n      type: DT_FLOAT\\n    }\\n  }\\n  attr {\\n    key: &quot;SrcT&quot;\\n    value {\\n      type: DT_INT32\\n    }\\n  }\\n  attr {\\n    key: &quot;_class&quot;\\n    value {\\n      list {\\n        s: &quot;loc:@Convolution_1st_2/bias&quot;\\n      }\\n    }\\n  }\\n}\\nnode {\\n  name: &quot;Adadelta/update_Convolution_1st_2/bias/ApplyAdadelta&quot;\\n  op: &quot;ApplyAdadelta&quot;\\n  input: &quot;Convolution_1st_2/bias&quot;\\n  input: &quot;Convolution_1st_2/bias/Adadelta&quot;\\n  input: &quot;Convolution_1st_2/bias/Adadelta_1&quot;\\n  input: &quot;Adadelta/update_Convolution_1st_2/bias/Cast&quot;\\n  input: &quot;Adadelta/rho&quot;\\n  input: &quot;Adadelta/epsilon&quot;\\n  input: &quot;gradients/Convolution_1st_2/BiasAdd_grad/tuple/control_dependency_1&quot;\\n  attr {\\n    key: &quot;T&quot;\\n    value {\\n      type: DT_FLOAT\\n    }\\n  }\\n  attr {\\n    key: &quot;_class&quot;\\n    value {\\n      list {\\n        s: &quot;loc:@Convolution_1st_2/bias&quot;\\n      }\\n    }\\n  }\\n  attr {\\n    key: &quot;use_locking&quot;\\n    value {\\n      b: false\\n    }\\n  }\\n}\\nnode {\\n  name: &quot;Adadelta/update_Convolution_2nd_2/kernel/Cast&quot;\\n  op: &quot;Cast&quot;\\n  input: &quot;Adadelta/lr&quot;\\n  attr {\\n    key: &quot;DstT&quot;\\n    value {\\n      type: DT_FLOAT\\n    }\\n  }\\n  attr {\\n    key: &quot;SrcT&quot;\\n    value {\\n      type: DT_INT32\\n    }\\n  }\\n  attr {\\n    key: &quot;_class&quot;\\n    value {\\n      list {\\n        s: &quot;loc:@Convolution_2nd_2/kernel&quot;\\n      }\\n    }\\n  }\\n}\\nnode {\\n  name: &quot;Adadelta/update_Convolution_2nd_2/kernel/ApplyAdadelta&quot;\\n  op: &quot;ApplyAdadelta&quot;\\n  input: &quot;Convolution_2nd_2/kernel&quot;\\n  input: &quot;Convolution_2nd_2/kernel/Adadelta&quot;\\n  input: &quot;Convolution_2nd_2/kernel/Adadelta_1&quot;\\n  input: &quot;Adadelta/update_Convolution_2nd_2/kernel/Cast&quot;\\n  input: &quot;Adadelta/rho&quot;\\n  input: &quot;Adadelta/epsilon&quot;\\n  input: &quot;gradients/Convolution_2nd_2/convolution_grad/tuple/control_dependency_1&quot;\\n  attr {\\n    key: &quot;T&quot;\\n    value {\\n      type: DT_FLOAT\\n    }\\n  }\\n  attr {\\n    key: &quot;_class&quot;\\n    value {\\n      list {\\n        s: &quot;loc:@Convolution_2nd_2/kernel&quot;\\n      }\\n    }\\n  }\\n  attr {\\n    key: &quot;use_locking&quot;\\n    value {\\n      b: false\\n    }\\n  }\\n}\\nnode {\\n  name: &quot;Adadelta/update_Convolution_2nd_2/bias/Cast&quot;\\n  op: &quot;Cast&quot;\\n  input: &quot;Adadelta/lr&quot;\\n  attr {\\n    key: &quot;DstT&quot;\\n    value {\\n      type: DT_FLOAT\\n    }\\n  }\\n  attr {\\n    key: &quot;SrcT&quot;\\n    value {\\n      type: DT_INT32\\n    }\\n  }\\n  attr {\\n    key: &quot;_class&quot;\\n    value {\\n      list {\\n        s: &quot;loc:@Convolution_2nd_2/bias&quot;\\n      }\\n    }\\n  }\\n}\\nnode {\\n  name: &quot;Adadelta/update_Convolution_2nd_2/bias/ApplyAdadelta&quot;\\n  op: &quot;ApplyAdadelta&quot;\\n  input: &quot;Convolution_2nd_2/bias&quot;\\n  input: &quot;Convolution_2nd_2/bias/Adadelta&quot;\\n  input: &quot;Convolution_2nd_2/bias/Adadelta_1&quot;\\n  input: &quot;Adadelta/update_Convolution_2nd_2/bias/Cast&quot;\\n  input: &quot;Adadelta/rho&quot;\\n  input: &quot;Adadelta/epsilon&quot;\\n  input: &quot;gradients/Convolution_2nd_2/BiasAdd_grad/tuple/control_dependency_1&quot;\\n  attr {\\n    key: &quot;T&quot;\\n    value {\\n      type: DT_FLOAT\\n    }\\n  }\\n  attr {\\n    key: &quot;_class&quot;\\n    value {\\n      list {\\n        s: &quot;loc:@Convolution_2nd_2/bias&quot;\\n      }\\n    }\\n  }\\n  attr {\\n    key: &quot;use_locking&quot;\\n    value {\\n      b: false\\n    }\\n  }\\n}\\nnode {\\n  name: &quot;Adadelta/update_Fully_connect/kernel/Cast&quot;\\n  op: &quot;Cast&quot;\\n  input: &quot;Adadelta/lr&quot;\\n  attr {\\n    key: &quot;DstT&quot;\\n    value {\\n      type: DT_FLOAT\\n    }\\n  }\\n  attr {\\n    key: &quot;SrcT&quot;\\n    value {\\n      type: DT_INT32\\n    }\\n  }\\n  attr {\\n    key: &quot;_class&quot;\\n    value {\\n      list {\\n        s: &quot;loc:@Fully_connect/kernel&quot;\\n      }\\n    }\\n  }\\n}\\nnode {\\n  name: &quot;Adadelta/update_Fully_connect/kernel/ApplyAdadelta&quot;\\n  op: &quot;ApplyAdadelta&quot;\\n  input: &quot;Fully_connect/kernel&quot;\\n  input: &quot;Fully_connect/kernel/Adadelta&quot;\\n  input: &quot;Fully_connect/kernel/Adadelta_1&quot;\\n  input: &quot;Adadelta/update_Fully_connect/kernel/Cast&quot;\\n  input: &quot;Adadelta/rho&quot;\\n  input: &quot;Adadelta/epsilon&quot;\\n  input: &quot;gradients/Fully_connect/MatMul_grad/tuple/control_dependency_1&quot;\\n  attr {\\n    key: &quot;T&quot;\\n    value {\\n      type: DT_FLOAT\\n    }\\n  }\\n  attr {\\n    key: &quot;_class&quot;\\n    value {\\n      list {\\n        s: &quot;loc:@Fully_connect/kernel&quot;\\n      }\\n    }\\n  }\\n  attr {\\n    key: &quot;use_locking&quot;\\n    value {\\n      b: false\\n    }\\n  }\\n}\\nnode {\\n  name: &quot;Adadelta/update_Fully_connect/bias/Cast&quot;\\n  op: &quot;Cast&quot;\\n  input: &quot;Adadelta/lr&quot;\\n  attr {\\n    key: &quot;DstT&quot;\\n    value {\\n      type: DT_FLOAT\\n    }\\n  }\\n  attr {\\n    key: &quot;SrcT&quot;\\n    value {\\n      type: DT_INT32\\n    }\\n  }\\n  attr {\\n    key: &quot;_class&quot;\\n    value {\\n      list {\\n        s: &quot;loc:@Fully_connect/bias&quot;\\n      }\\n    }\\n  }\\n}\\nnode {\\n  name: &quot;Adadelta/update_Fully_connect/bias/ApplyAdadelta&quot;\\n  op: &quot;ApplyAdadelta&quot;\\n  input: &quot;Fully_connect/bias&quot;\\n  input: &quot;Fully_connect/bias/Adadelta&quot;\\n  input: &quot;Fully_connect/bias/Adadelta_1&quot;\\n  input: &quot;Adadelta/update_Fully_connect/bias/Cast&quot;\\n  input: &quot;Adadelta/rho&quot;\\n  input: &quot;Adadelta/epsilon&quot;\\n  input: &quot;gradients/Fully_connect/BiasAdd_grad/tuple/control_dependency_1&quot;\\n  attr {\\n    key: &quot;T&quot;\\n    value {\\n      type: DT_FLOAT\\n    }\\n  }\\n  attr {\\n    key: &quot;_class&quot;\\n    value {\\n      list {\\n        s: &quot;loc:@Fully_connect/bias&quot;\\n      }\\n    }\\n  }\\n  attr {\\n    key: &quot;use_locking&quot;\\n    value {\\n      b: false\\n    }\\n  }\\n}\\nnode {\\n  name: &quot;Adadelta/update_Softmax/kernel/Cast&quot;\\n  op: &quot;Cast&quot;\\n  input: &quot;Adadelta/lr&quot;\\n  attr {\\n    key: &quot;DstT&quot;\\n    value {\\n      type: DT_FLOAT\\n    }\\n  }\\n  attr {\\n    key: &quot;SrcT&quot;\\n    value {\\n      type: DT_INT32\\n    }\\n  }\\n  attr {\\n    key: &quot;_class&quot;\\n    value {\\n      list {\\n        s: &quot;loc:@Softmax/kernel&quot;\\n      }\\n    }\\n  }\\n}\\nnode {\\n  name: &quot;Adadelta/update_Softmax/kernel/ApplyAdadelta&quot;\\n  op: &quot;ApplyAdadelta&quot;\\n  input: &quot;Softmax/kernel&quot;\\n  input: &quot;Softmax/kernel/Adadelta&quot;\\n  input: &quot;Softmax/kernel/Adadelta_1&quot;\\n  input: &quot;Adadelta/update_Softmax/kernel/Cast&quot;\\n  input: &quot;Adadelta/rho&quot;\\n  input: &quot;Adadelta/epsilon&quot;\\n  input: &quot;gradients/Softmax/MatMul_grad/tuple/control_dependency_1&quot;\\n  attr {\\n    key: &quot;T&quot;\\n    value {\\n      type: DT_FLOAT\\n    }\\n  }\\n  attr {\\n    key: &quot;_class&quot;\\n    value {\\n      list {\\n        s: &quot;loc:@Softmax/kernel&quot;\\n      }\\n    }\\n  }\\n  attr {\\n    key: &quot;use_locking&quot;\\n    value {\\n      b: false\\n    }\\n  }\\n}\\nnode {\\n  name: &quot;Adadelta/update_Softmax/bias/Cast&quot;\\n  op: &quot;Cast&quot;\\n  input: &quot;Adadelta/lr&quot;\\n  attr {\\n    key: &quot;DstT&quot;\\n    value {\\n      type: DT_FLOAT\\n    }\\n  }\\n  attr {\\n    key: &quot;SrcT&quot;\\n    value {\\n      type: DT_INT32\\n    }\\n  }\\n  attr {\\n    key: &quot;_class&quot;\\n    value {\\n      list {\\n        s: &quot;loc:@Softmax/bias&quot;\\n      }\\n    }\\n  }\\n}\\nnode {\\n  name: &quot;Adadelta/update_Softmax/bias/ApplyAdadelta&quot;\\n  op: &quot;ApplyAdadelta&quot;\\n  input: &quot;Softmax/bias&quot;\\n  input: &quot;Softmax/bias/Adadelta&quot;\\n  input: &quot;Softmax/bias/Adadelta_1&quot;\\n  input: &quot;Adadelta/update_Softmax/bias/Cast&quot;\\n  input: &quot;Adadelta/rho&quot;\\n  input: &quot;Adadelta/epsilon&quot;\\n  input: &quot;gradients/Softmax/BiasAdd_grad/tuple/control_dependency_1&quot;\\n  attr {\\n    key: &quot;T&quot;\\n    value {\\n      type: DT_FLOAT\\n    }\\n  }\\n  attr {\\n    key: &quot;_class&quot;\\n    value {\\n      list {\\n        s: &quot;loc:@Softmax/bias&quot;\\n      }\\n    }\\n  }\\n  attr {\\n    key: &quot;use_locking&quot;\\n    value {\\n      b: false\\n    }\\n  }\\n}\\nnode {\\n  name: &quot;Adadelta&quot;\\n  op: &quot;NoOp&quot;\\n  input: &quot;^Adadelta/update_Convolution_1st/kernel/ApplyAdadelta&quot;\\n  input: &quot;^Adadelta/update_Convolution_1st/bias/ApplyAdadelta&quot;\\n  input: &quot;^Adadelta/update_Convolution_2nd/kernel/ApplyAdadelta&quot;\\n  input: &quot;^Adadelta/update_Convolution_2nd/bias/ApplyAdadelta&quot;\\n  input: &quot;^Adadelta/update_Convolution_1st_2/kernel/ApplyAdadelta&quot;\\n  input: &quot;^Adadelta/update_Convolution_1st_2/bias/ApplyAdadelta&quot;\\n  input: &quot;^Adadelta/update_Convolution_2nd_2/kernel/ApplyAdadelta&quot;\\n  input: &quot;^Adadelta/update_Convolution_2nd_2/bias/ApplyAdadelta&quot;\\n  input: &quot;^Adadelta/update_Fully_connect/kernel/ApplyAdadelta&quot;\\n  input: &quot;^Adadelta/update_Fully_connect/bias/ApplyAdadelta&quot;\\n  input: &quot;^Adadelta/update_Softmax/kernel/ApplyAdadelta&quot;\\n  input: &quot;^Adadelta/update_Softmax/bias/ApplyAdadelta&quot;\\n}\\nnode {\\n  name: &quot;ArgMax/dimension&quot;\\n  op: &quot;Const&quot;\\n  attr {\\n    key: &quot;dtype&quot;\\n    value {\\n      type: DT_INT32\\n    }\\n  }\\n  attr {\\n    key: &quot;value&quot;\\n    value {\\n      tensor {\\n        dtype: DT_INT32\\n        tensor_shape {\\n        }\\n        int_val: 1\\n      }\\n    }\\n  }\\n}\\nnode {\\n  name: &quot;ArgMax&quot;\\n  op: &quot;ArgMax&quot;\\n  input: &quot;Softmax/Softmax_2&quot;\\n  input: &quot;ArgMax/dimension&quot;\\n  attr {\\n    key: &quot;T&quot;\\n    value {\\n      type: DT_FLOAT\\n    }\\n  }\\n  attr {\\n    key: &quot;Tidx&quot;\\n    value {\\n      type: DT_INT32\\n    }\\n  }\\n  attr {\\n    key: &quot;output_type&quot;\\n    value {\\n      type: DT_INT32\\n    }\\n  }\\n}\\nnode {\\n  name: &quot;Equal&quot;\\n  op: &quot;Equal&quot;\\n  input: &quot;Y&quot;\\n  input: &quot;ArgMax&quot;\\n  attr {\\n    key: &quot;T&quot;\\n    value {\\n      type: DT_INT32\\n    }\\n  }\\n}\\nnode {\\n  name: &quot;Cast&quot;\\n  op: &quot;Cast&quot;\\n  input: &quot;Equal&quot;\\n  attr {\\n    key: &quot;DstT&quot;\\n    value {\\n      type: DT_FLOAT\\n    }\\n  }\\n  attr {\\n    key: &quot;SrcT&quot;\\n    value {\\n      type: DT_BOOL\\n    }\\n  }\\n}\\nnode {\\n  name: &quot;Rank&quot;\\n  op: &quot;Rank&quot;\\n  input: &quot;Cast&quot;\\n  attr {\\n    key: &quot;T&quot;\\n    value {\\n      type: DT_FLOAT\\n    }\\n  }\\n}\\nnode {\\n  name: &quot;range/start&quot;\\n  op: &quot;Const&quot;\\n  attr {\\n    key: &quot;dtype&quot;\\n    value {\\n      type: DT_INT32\\n    }\\n  }\\n  attr {\\n    key: &quot;value&quot;\\n    value {\\n      tensor {\\n        dtype: DT_INT32\\n        tensor_shape {\\n        }\\n        int_val: 0\\n      }\\n    }\\n  }\\n}\\nnode {\\n  name: &quot;range/delta&quot;\\n  op: &quot;Const&quot;\\n  attr {\\n    key: &quot;dtype&quot;\\n    value {\\n      type: DT_INT32\\n    }\\n  }\\n  attr {\\n    key: &quot;value&quot;\\n    value {\\n      tensor {\\n        dtype: DT_INT32\\n        tensor_shape {\\n        }\\n        int_val: 1\\n      }\\n    }\\n  }\\n}\\nnode {\\n  name: &quot;range&quot;\\n  op: &quot;Range&quot;\\n  input: &quot;range/start&quot;\\n  input: &quot;Rank&quot;\\n  input: &quot;range/delta&quot;\\n  attr {\\n    key: &quot;Tidx&quot;\\n    value {\\n      type: DT_INT32\\n    }\\n  }\\n}\\nnode {\\n  name: &quot;Mean_1&quot;\\n  op: &quot;Mean&quot;\\n  input: &quot;Cast&quot;\\n  input: &quot;range&quot;\\n  attr {\\n    key: &quot;T&quot;\\n    value {\\n      type: DT_FLOAT\\n    }\\n  }\\n  attr {\\n    key: &quot;Tidx&quot;\\n    value {\\n      type: DT_INT32\\n    }\\n  }\\n  attr {\\n    key: &quot;keep_dims&quot;\\n    value {\\n      b: false\\n    }\\n  }\\n}\\nversions {\\n  producer: 24\\n}\\n';\n",
       "          }\n",
       "        </script>\n",
       "        <link rel=&quot;import&quot; href=&quot;https://tensorboard.appspot.com/tf-graph-basic.build.html&quot; onload=load()>\n",
       "        <div style=&quot;height:600px&quot;>\n",
       "          <tf-graph-basic id=&quot;graph0.3745401188473625&quot;></tf-graph-basic>\n",
       "        </div>\n",
       "    \"></iframe>\n",
       "    "
      ],
      "text/plain": [
       "<IPython.core.display.HTML object>"
      ]
     },
     "metadata": {},
     "output_type": "display_data"
    }
   ],
   "source": [
    "with tf.Session() as sess:\n",
    "    show_graph(tf.get_default_graph().as_graph_def())\n",
    "    # Initialize all variables\n",
    "#     sess.run(tf.local_variables_initializer())\n",
    "#     sess.run(tf.global_variables_initializer())\n",
    "    \n",
    "#     sess.run(word2vec.assign(initW))# Assign the pretrain word2vec\n"
   ]
  },
  {
   "cell_type": "code",
   "execution_count": null,
   "metadata": {},
   "outputs": [
    {
     "name": "stderr",
     "output_type": "stream",
     "text": [
      "/home/yenhao/Documents/chatbot/lib/python3.5/site-packages/sklearn/metrics/classification.py:1135: UndefinedMetricWarning: F-score is ill-defined and being set to 0.0 in labels with no predicted samples.\n",
      "  'precision', 'predicted', average, warn_for)\n"
     ]
    },
    {
     "name": "stdout",
     "output_type": "stream",
     "text": [
      "2017-12-13 00:41:11 -   1 epoch, loss:1.598, accuracy:0.672/0.546, f1-score:0.630/0.506, test acc:0.279\n",
      "2017-12-13 00:44:53 -   2 epoch, loss:1.659, accuracy:0.617/0.549, f1-score:0.563/0.508, test acc:0.287\n",
      "2017-12-13 00:48:42 -   3 epoch, loss:1.628, accuracy:0.641/0.574, f1-score:0.604/0.549, test acc:0.319\n",
      "2017-12-13 00:52:25 -   4 epoch, loss:1.624, accuracy:0.648/0.575, f1-score:0.630/0.552, test acc:0.306\n",
      "2017-12-13 00:56:08 -   5 epoch, loss:1.711, accuracy:0.555/0.576, f1-score:0.532/0.554, test acc:0.312\n",
      "2017-12-13 00:59:51 -   6 epoch, loss:1.668, accuracy:0.609/0.557, f1-score:0.585/0.530, test acc:0.328\n",
      "2017-12-13 01:03:34 -   7 epoch, loss:1.735, accuracy:0.539/0.525, f1-score:0.523/0.501, test acc:0.354\n",
      "2017-12-13 01:07:16 -   8 epoch, loss:1.696, accuracy:0.578/0.511, f1-score:0.549/0.482, test acc:0.315\n",
      "2017-12-13 01:10:59 -   9 epoch, loss:1.725, accuracy:0.547/0.502, f1-score:0.497/0.474, test acc:0.310\n",
      "2017-12-13 01:14:41 -  10 epoch, loss:1.860, accuracy:0.414/0.506, f1-score:0.366/0.476, test acc:0.322\n",
      "2017-12-13 01:18:23 -  11 epoch, loss:1.763, accuracy:0.508/0.512, f1-score:0.472/0.480, test acc:0.339\n",
      "2017-12-13 01:22:05 -  12 epoch, loss:1.758, accuracy:0.516/0.488, f1-score:0.487/0.463, test acc:0.264\n",
      "2017-12-13 01:25:47 -  13 epoch, loss:1.751, accuracy:0.523/0.496, f1-score:0.492/0.466, test acc:0.316\n"
     ]
    }
   ],
   "source": [
    "# prepare the training batch in python\n",
    "\n",
    "def data_iterator(X, y):\n",
    "    \"\"\" A simple data iterator \"\"\"\n",
    "    batch_idx = 0\n",
    "    while True:\n",
    "        for batch_idx in range(0, len(X), batch_size):\n",
    "            trains_batch = X[batch_idx:batch_idx+batch_size]\n",
    "            labels_batch = y[batch_idx:batch_idx+batch_size]\n",
    "            yield trains_batch, labels_batch\n",
    "\n",
    "\n",
    "iter_ = data_iterator(tweets_train, senti_train)\n",
    "\n",
    "valid_iter_ = data_iterator(tweets_valid, senti_valid)\n",
    "\n",
    "round_of_epochs = int(tweets_train.shape[0]/batch_size)\n",
    "valid_rounds_of_epochs = int(tweets_valid.shape[0]/batch_size)\n",
    "\n",
    "train_loss = []\n",
    "test_loss  = []\n",
    "\n",
    "train_f1 = []\n",
    "test_f1 = []\n",
    "x_axis = np.arange(0., epochs_num, 1)\n",
    "saver = tf.train.Saver() # to store the model\n",
    "\n",
    "best_valid_acc = 0\n",
    "\n",
    "testing_res = []\n",
    "with tf.Session() as sess:\n",
    "    # Initialize all variables\n",
    "#     if os.path.exists('./model/emo_504.ckpt.meta'):\n",
    "#         print (\"Model Restore\")\n",
    "#         saver.restore(sess, './model/emo_504.ckpt')\n",
    "#     else:\n",
    "    sess.run(tf.local_variables_initializer())\n",
    "    sess.run(tf.global_variables_initializer())\n",
    "    sess.run(word2vec.assign(distance_supervised_embeddings))# Assign the pretrain word2vec\n",
    "    \n",
    "    for epochs in range(epochs_num): # starting the training process and set the epochs_num\n",
    "        for _ in range(round_of_epochs):\n",
    "#             train, label = sess.run(train_next_batch) # Get the mini-batch data sample from tensorflow\n",
    "            train, label = next(iter_) # Get the mini-batch data sample from tensorflow\n",
    "\n",
    "            sess.run(train_step, feed_dict={X:train, y:label}) # Feed the features, labe, training_mode  to network to train\n",
    "\n",
    "        # An epoch finish\n",
    "        \n",
    "        loss, pred, acc = sess.run([cross_entropy, predicted_class, accuracy], feed_dict={X:train, y:label})\n",
    "        \n",
    "        # Validation\n",
    "        valid_loss_list = []\n",
    "        predict_res = np.zeros(batch_size)\n",
    "        t_label = np.zeros(batch_size)\n",
    "        valid_acc_list = []\n",
    "        for _ in range(valid_rounds_of_epochs):\n",
    "            x_valid, y_valid = next(valid_iter_) # Get the mini-batch data sample from tensorflow\n",
    "            t_loss, t_pred, t_accuracy = sess.run([cross_entropy, predicted_class, accuracy], feed_dict={X:x_valid, y:y_valid})\n",
    "            valid_loss_list.append(t_loss)\n",
    "            predict_res = np.concatenate((predict_res, t_pred))\n",
    "            t_label = np.concatenate((t_label, y_valid))\n",
    "            valid_acc_list.append(t_accuracy)\n",
    "        # An epoch finish\n",
    "#         t_loss, t_pred = sess.run([cross_entropy,predicted_class], feed_dict={X:tweets_valid, y:senti_valid})\n",
    "        train_loss.append(loss)\n",
    "        test_loss.append(sum(valid_loss_list)/len(valid_loss_list))\n",
    "        train_f1.append(f1_score(label, pred, average='weighted'))\n",
    "        test_f1.append(f1_score(t_label[1:], predict_res[1:], average='weighted'))\n",
    "        \n",
    "        t_acc = sum(valid_acc_list)/len(valid_acc_list)\n",
    "        \n",
    "        test_pred, test_acc = sess.run([predicted_class, accuracy], feed_dict={X:tweets_test, y:senti_test})\n",
    "        print(\"{} - {:3d} epoch, loss:{:.3f}, accuracy:{:.3f}/{:.3f}, f1-score:{:.3f}/{:.3f}, test acc:{:.3f}\".format(\n",
    "            datetime.datetime.now().strftime(\"%Y-%m-%d %H:%M:%S\"),\n",
    "            epochs+1,\n",
    "            loss, \n",
    "            acc,\n",
    "            t_acc,\n",
    "            f1_score(label, pred, average='weighted'),\n",
    "            f1_score(t_label[1:], predict_res[1:], average='weighted'),\n",
    "            test_acc\n",
    "            )\n",
    "        )\n",
    "        \n",
    "        testing_res.append(test_pred)\n",
    "        if best_valid_acc < t_acc:\n",
    "            best_valid_acc = t_acc\n",
    "            save_path = saver.save(sess, \"./model/emo_\"+str(t_acc)[2:5]+\".ckpt\")\n",
    "        \n",
    "    plt.rcParams['font.size'] = 14\n",
    "    plt.plot(x_axis, train_loss, 'r', x_axis, test_loss, 'b')\n",
    "    plt.legend(['Train', 'Valid'], loc='upper right')\n",
    "    plt.xlabel('Epochs')\n",
    "    plt.ylabel('Loss(cross entropy)')\n",
    "    plt.show()\n",
    "    plt.clf()\n",
    "    plt.plot(x_axis, train_f1, x_axis, test_f1)\n",
    "    plt.legend(['Train', 'Valid'], loc='upper right')\n",
    "    plt.xlabel('Epochs')\n",
    "    plt.ylabel('F1 Score')\n",
    "    plt.show()\n",
    "\n",
    "    "
   ]
  },
  {
   "cell_type": "code",
   "execution_count": null,
   "metadata": {
    "collapsed": true
   },
   "outputs": [],
   "source": []
  }
 ],
 "metadata": {
  "kernelspec": {
   "display_name": "Python 3",
   "language": "python",
   "name": "python3"
  },
  "language_info": {
   "codemirror_mode": {
    "name": "ipython",
    "version": 3
   },
   "file_extension": ".py",
   "mimetype": "text/x-python",
   "name": "python",
   "nbconvert_exporter": "python",
   "pygments_lexer": "ipython3",
   "version": "3.5.2"
  }
 },
 "nbformat": 4,
 "nbformat_minor": 2
}
