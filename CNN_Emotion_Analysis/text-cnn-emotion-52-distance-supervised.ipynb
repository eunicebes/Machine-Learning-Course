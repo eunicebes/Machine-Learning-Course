{
 "cells": [
  {
   "cell_type": "code",
   "execution_count": 2,
   "metadata": {
    "collapsed": true
   },
   "outputs": [],
   "source": [
    "import numpy as np\n",
    "import os\n",
    "import tensorflow as tf\n",
    "from IPython.display import clear_output, Image, display, HTML\n",
    "from tensorflow.contrib.layers import variance_scaling_initializer\n",
    "from tensorflow.contrib.layers import fully_connected\n",
    "from tensorflow.contrib.data import Dataset, Iterator\n",
    "from sklearn.metrics import f1_score, classification_report\n",
    "import datetime\n",
    "import pickle\n",
    "from nltk.tokenize import TweetTokenizer\n",
    "import pandas as pd\n",
    "import re\n",
    "from sklearn.model_selection import KFold\n",
    "import matplotlib.pyplot as plt\n",
    "###### Do not modify here ###### \n",
    "def strip_consts(graph_def, max_const_size=32):\n",
    "    \"\"\"Strip large constant values from graph_def.\"\"\"\n",
    "    strip_def = tf.GraphDef()\n",
    "    for n0 in graph_def.node:\n",
    "        n = strip_def.node.add() \n",
    "        n.MergeFrom(n0)\n",
    "        if n.op == 'Const':\n",
    "            tensor = n.attr['value'].tensor\n",
    "            size = len(tensor.tensor_content)\n",
    "            if size > max_const_size:\n",
    "                tensor.tensor_content = \"<stripped %d bytes>\"%size\n",
    "    return strip_def\n",
    "\n",
    "def show_graph(graph_def, max_const_size=32):\n",
    "    \"\"\"Visualize TensorFlow graph.\"\"\"\n",
    "    if hasattr(graph_def, 'as_graph_def'):\n",
    "        graph_def = graph_def.as_graph_def()\n",
    "    strip_def = graph_def\n",
    "    #strip_def = strip_consts(graph_def, max_const_size=max_const_size)\n",
    "    code = \"\"\"\n",
    "        <script>\n",
    "          function load() {{\n",
    "            document.getElementById(\"{id}\").pbtxt = {data};\n",
    "          }}\n",
    "        </script>\n",
    "        <link rel=\"import\" href=\"https://tensorboard.appspot.com/tf-graph-basic.build.html\" onload=load()>\n",
    "        <div style=\"height:600px\">\n",
    "          <tf-graph-basic id=\"{id}\"></tf-graph-basic>\n",
    "        </div>\n",
    "    \"\"\".format(data=repr(str(strip_def)), id='graph'+str(np.random.rand()))\n",
    "\n",
    "    iframe = \"\"\"\n",
    "        <iframe seamless style=\"width:1200px;height:620px;border:0\" srcdoc=\"{}\"></iframe>\n",
    "    \"\"\".format(code.replace('\"', '&quot;'))\n",
    "    display(HTML(iframe))\n",
    "###### Do not modify  here ######\n",
    "\n",
    "###### Do not modify here ###### \n",
    "\n",
    "# to make this notebook's output stable across runs\n",
    "def reset_graph(seed=42):\n",
    "    tf.reset_default_graph()\n",
    "    tf.set_random_seed(seed)\n",
    "    np.random.seed(seed)\n",
    "\n"
   ]
  },
  {
   "cell_type": "markdown",
   "metadata": {
    "collapsed": true
   },
   "source": [
    "## Data Preparing"
   ]
  },
  {
   "cell_type": "code",
   "execution_count": 3,
   "metadata": {
    "collapsed": true
   },
   "outputs": [],
   "source": [
    "tknzr = TweetTokenizer()\n",
    "\n",
    "def filter_tweet(tweet, token = tknzr):\n",
    "    tweet = re.sub('https?:\\/\\/\\S+','URLTOK',tweet.lower().strip()) # url\n",
    "    tweet = re.sub('@(?:[a-zA-Z]+|[0-9 \\/]+)', '<M>', tweet) # mention\n",
    "    tweet = re.sub('#(?:[a-zA-Z]+|[0-9 \\/]+)', '<H>', tweet) # hashtag\n",
    "    tweet = re.sub('(\\:|\\=)(?:\\)|\\-|\\(|D| )+', '', tweet) # emoticon\n",
    "    return token.tokenize(tweet) # return tokenized\n",
    "\n"
   ]
  },
  {
   "cell_type": "markdown",
   "metadata": {},
   "source": [
    "### Load positive data"
   ]
  },
  {
   "cell_type": "markdown",
   "metadata": {},
   "source": [
    "#### Negative Tweets"
   ]
  },
  {
   "cell_type": "code",
   "execution_count": 3,
   "metadata": {},
   "outputs": [
    {
     "name": "stdout",
     "output_type": "stream",
     "text": [
      "1252941\n"
     ]
    }
   ],
   "source": [
    "with open('data/distance_supervised/sad') as f:\n",
    "    sad_tweet = [filter_tweet(line) for line in f.readlines()]\n",
    "\n",
    "with open('data/distance_supervised/distance_supervised_tweets_corrected') as f:\n",
    "    sad_tweet += [filter_tweet(line.split('\\t')[3]) for line in f.readlines()]\n",
    "\n",
    "with open('data/distance_supervised/distance_supervised_tweets_2_corrected') as f:\n",
    "    sad_tweet += [filter_tweet(line.split('\\t')[3]) for line in f.readlines()]\n",
    "\n",
    "with open('data/distance_supervised/distance_supervised_tweets_3_corrected') as f:\n",
    "    sad_tweet += [filter_tweet(line.split('\\t')[3]) for line in f.readlines()]\n",
    "print(len(sad_tweet))\n"
   ]
  },
  {
   "cell_type": "markdown",
   "metadata": {},
   "source": [
    "#### Positive Tweets"
   ]
  },
  {
   "cell_type": "code",
   "execution_count": 4,
   "metadata": {},
   "outputs": [
    {
     "data": {
      "text/plain": [
       "1252941"
      ]
     },
     "execution_count": 4,
     "metadata": {},
     "output_type": "execute_result"
    }
   ],
   "source": [
    "with open('data/distance_supervised/smile') as f:\n",
    "    smile_tweet = [filter_tweet(line) for line in f.readlines()][:len(sad_tweet)]\n",
    "len(smile_tweet)"
   ]
  },
  {
   "cell_type": "code",
   "execution_count": 14,
   "metadata": {
    "collapsed": true
   },
   "outputs": [],
   "source": [
    "# size filter\n",
    "max_length = 60"
   ]
  },
  {
   "cell_type": "code",
   "execution_count": 6,
   "metadata": {},
   "outputs": [
    {
     "name": "stdout",
     "output_type": "stream",
     "text": [
      "1252213\n",
      "1252910\n"
     ]
    }
   ],
   "source": [
    "\n",
    "\n",
    "sad_tweet = list(filter(lambda tweet: len(tweet) <= max_length, sad_tweet))\n",
    "print(len(sad_tweet))\n",
    "smile_tweet = list(filter(lambda tweet: len(tweet) <= max_length, smile_tweet))\n",
    "print(len(smile_tweet))"
   ]
  },
  {
   "cell_type": "markdown",
   "metadata": {},
   "source": [
    "### Build Dictionary"
   ]
  },
  {
   "cell_type": "code",
   "execution_count": 7,
   "metadata": {
    "collapsed": true
   },
   "outputs": [],
   "source": [
    "from collections import defaultdict\n",
    "vocabulary_dict = {}\n",
    "word_index = 0\n",
    "\n",
    "for tweet in smile_tweet+sad_tweet:\n",
    "    for word in tweet:\n",
    "        if word not in vocabulary_dict:\n",
    "            vocabulary_dict[word] = word_index\n",
    "            word_index +=1"
   ]
  },
  {
   "cell_type": "code",
   "execution_count": 85,
   "metadata": {
    "collapsed": true
   },
   "outputs": [],
   "source": [
    "vocabulary_dict['<m>'] = vocabulary_dict.get('<M>')\n",
    "vocabulary_dict['<h>'] = vocabulary_dict.get('<h>')\n",
    "vocabulary_dict['urltok'] = vocabulary_dict.get('URLTOK')"
   ]
  },
  {
   "cell_type": "code",
   "execution_count": 77,
   "metadata": {},
   "outputs": [
    {
     "name": "stdout",
     "output_type": "stream",
     "text": [
      "349883\n",
      "349896\n",
      "170\n"
     ]
    }
   ],
   "source": [
    "print(vocabulary_dict.get('URLTOK'))\n",
    "print(vocabulary_dict.get('<M>'))\n",
    "print(vocabulary_dict.get('<H>'))"
   ]
  },
  {
   "cell_type": "code",
   "execution_count": 4,
   "metadata": {
    "collapsed": true
   },
   "outputs": [],
   "source": [
    "# transform the tweet sentence to numerical representation\n",
    "def word_transform(tweet_set, max_length = 60):\n",
    "    set_array = []\n",
    "    for tweet in tweet_set:\n",
    "        tweet_array = [0] * max_length\n",
    "        for i, word in enumerate(tweet):\n",
    "            if i == 60: break # remove the words after 60th\n",
    "            if vocabulary_dict.get(word):\n",
    "                tweet_array[i] = vocabulary_dict[word]\n",
    "            else:\n",
    "                tweet_array[i] = 0\n",
    "        set_array.append(tweet_array)\n",
    "    return np.array(set_array)"
   ]
  },
  {
   "cell_type": "code",
   "execution_count": 10,
   "metadata": {},
   "outputs": [
    {
     "name": "stdout",
     "output_type": "stream",
     "text": [
      "(1252213, 60)\n",
      "(1252910, 60)\n"
     ]
    }
   ],
   "source": [
    "sad_array = word_transform(sad_tweet, max_length = max_length)\n",
    "print(sad_array.shape)\n",
    "smile_array = word_transform(smile_tweet, max_length = max_length)\n",
    "print(smile_array.shape)"
   ]
  },
  {
   "cell_type": "code",
   "execution_count": 11,
   "metadata": {},
   "outputs": [
    {
     "data": {
      "text/plain": [
       "array([ 0,  1,  2,  3,  4,  5,  6,  7,  8,  9, 10, 11, 12, 13, 14, 15, 16,\n",
       "       17, 18, 19, 20, 18, 21,  0,  0,  0,  0,  0,  0,  0,  0,  0,  0,  0,\n",
       "        0,  0,  0,  0,  0,  0,  0,  0,  0,  0,  0,  0,  0,  0,  0,  0,  0,\n",
       "        0,  0,  0,  0,  0,  0,  0,  0,  0])"
      ]
     },
     "execution_count": 11,
     "metadata": {},
     "output_type": "execute_result"
    }
   ],
   "source": [
    "smile_array[0]"
   ]
  },
  {
   "cell_type": "code",
   "execution_count": 12,
   "metadata": {},
   "outputs": [
    {
     "data": {
      "text/plain": [
       "array([325, 401,  73, 196,   0,   0,   0,   0,   0,   0,   0,   0,   0,\n",
       "         0,   0,   0,   0,   0,   0,   0,   0,   0,   0,   0,   0,   0,\n",
       "         0,   0,   0,   0,   0,   0,   0,   0,   0,   0,   0,   0,   0,\n",
       "         0,   0,   0,   0,   0,   0,   0,   0,   0,   0,   0,   0,   0,\n",
       "         0,   0,   0,   0,   0,   0,   0,   0])"
      ]
     },
     "execution_count": 12,
     "metadata": {},
     "output_type": "execute_result"
    }
   ],
   "source": [
    "sad_array[0]"
   ]
  },
  {
   "cell_type": "code",
   "execution_count": 13,
   "metadata": {
    "collapsed": true
   },
   "outputs": [],
   "source": [
    "total_tweets = np.concatenate((smile_array[:sad_array.shape[0]], sad_array), axis=0)\n",
    "total_labels = np.concatenate((np.zeros(sad_array.shape[0]), np.ones(sad_array.shape[0])), axis=0)"
   ]
  },
  {
   "cell_type": "markdown",
   "metadata": {},
   "source": [
    "## Prepare Training + Testing Data"
   ]
  },
  {
   "cell_type": "code",
   "execution_count": 14,
   "metadata": {},
   "outputs": [
    {
     "data": {
      "text/plain": [
       "array([ 1.,  1.,  0., ...,  0.,  1.,  1.])"
      ]
     },
     "execution_count": 14,
     "metadata": {},
     "output_type": "execute_result"
    }
   ],
   "source": [
    "# from sklearn.model_selection import ShuffleSplit\n",
    "# rs = ShuffleSplit(n_splits=1, test_size=.1, random_state=0)\n",
    "\n",
    "# senti_train = en_train['label'].as_matrix()\n",
    "# senti_test  = en_test['label'].as_matrix()\n",
    "\n",
    "# for train_index, test_index in rs.split(senti):\n",
    "#     X_train = tweets[train_index]\n",
    "#     y_train = senti[train_index]\n",
    "\n",
    "#     X_test = tweets[test_index]\n",
    "#     y_test = senti[test_index]\n",
    "# X_train.shape\n",
    "\n",
    "from sklearn.utils import shuffle\n",
    "X_train, y_train = shuffle(total_tweets, total_labels, random_state=8)\n",
    "\n",
    "y_train"
   ]
  },
  {
   "cell_type": "markdown",
   "metadata": {},
   "source": [
    "# Load Pretrain Word2Vec Model (#DIM 52)"
   ]
  },
  {
   "cell_type": "code",
   "execution_count": 15,
   "metadata": {},
   "outputs": [
    {
     "name": "stdout",
     "output_type": "stream",
     "text": [
      "(9770612, 52)\n",
      "496788\n"
     ]
    }
   ],
   "source": [
    "# Load pre train Word2vec\n",
    "wb_matrix = np.load(\"data/embedding/en_word2vec_52.npy\")\n",
    "print(wb_matrix.shape)\n",
    "vocabulary_dict_ = pickle.load(open(\"data/embedding/vocabulary_dict_52.pickle\", \"rb\"))\n",
    "print(len(vocabulary_dict))"
   ]
  },
  {
   "cell_type": "code",
   "execution_count": 16,
   "metadata": {},
   "outputs": [
    {
     "data": {
      "text/plain": [
       "9770611"
      ]
     },
     "execution_count": 16,
     "metadata": {},
     "output_type": "execute_result"
    }
   ],
   "source": [
    "len(pickle.load(open(\"data/embedding/vocabulary_dict_52.pickle\", \"rb\")))"
   ]
  },
  {
   "cell_type": "code",
   "execution_count": 17,
   "metadata": {},
   "outputs": [
    {
     "name": "stdout",
     "output_type": "stream",
     "text": [
      "349883\n",
      "None\n"
     ]
    }
   ],
   "source": [
    "print(vocabulary_dict.get('URLTOK'))\n",
    "print(vocabulary_dict_.get('URLTOK'))"
   ]
  },
  {
   "cell_type": "code",
   "execution_count": 18,
   "metadata": {},
   "outputs": [
    {
     "data": {
      "text/plain": [
       "(496788, 52)"
      ]
     },
     "execution_count": 18,
     "metadata": {},
     "output_type": "execute_result"
    }
   ],
   "source": [
    " # initial matrix with random uniform\n",
    "initW = np.random.uniform(-0.25,0.25,(len(vocabulary_dict), wb_matrix.shape[1]))\n",
    "# load any vectors from the word2vec\n",
    "for word, index in vocabulary_dict.items():\n",
    "#     print(word)\n",
    "#     print(index)\n",
    "    idx = vocabulary_dict_.get(word)\n",
    "#     print(idx)\n",
    "    \n",
    "    if idx != 0 and idx is not None:\n",
    "        initW[index] = wb_matrix[idx]\n",
    "        \n",
    "initW.shape"
   ]
  },
  {
   "cell_type": "markdown",
   "metadata": {},
   "source": [
    "# Distance Supervised Learning"
   ]
  },
  {
   "cell_type": "code",
   "execution_count": 44,
   "metadata": {
    "collapsed": true
   },
   "outputs": [],
   "source": [
    "n_input = max_length\n",
    "n_output = 2\n",
    "learning_rate = 1\n",
    "\n",
    "embedding_size = initW.shape[1]\n",
    "filter_sizes = [4,3]\n",
    "num_filters = 200\n",
    "pooling_size = 4\n",
    "pooling_strides = 2\n",
    "epochs_num = 20\n",
    "batch_size = 128"
   ]
  },
  {
   "cell_type": "code",
   "execution_count": 21,
   "metadata": {
    "collapsed": true
   },
   "outputs": [],
   "source": [
    "def data_iterator():\n",
    "    \"\"\" A simple data iterator \"\"\"\n",
    "    batch_idx = 0\n",
    "    while True:\n",
    "        for batch_idx in range(0, len(X_train), batch_size):\n",
    "            trains_batch = X_train[batch_idx:batch_idx+batch_size]\n",
    "            labels_batch = y_train[batch_idx:batch_idx+batch_size]\n",
    "            yield trains_batch, labels_batch\n",
    "\n",
    "\n",
    "iter_ = data_iterator()"
   ]
  },
  {
   "cell_type": "code",
   "execution_count": 42,
   "metadata": {
    "collapsed": true
   },
   "outputs": [],
   "source": [
    "reset_graph()\n",
    "\n",
    "X = tf.placeholder(tf.int32, shape = (None, n_input), name = \"Input_X\")\n",
    "y = tf.placeholder(tf.int32, shape = (None), name = \"Y\")\n",
    "# mode = tf.placeholder(tf.bool, name = \"Mode\")\n",
    "\n",
    "# Load Embedding Model\n",
    "with tf.device('/cpu:0'), tf.name_scope(\"embedding\"):\n",
    "    word2vec = tf.Variable(tf.constant(0.0, shape = initW.shape),\n",
    "                    trainable=True, name=\"word2vec\") # trainable=False, means not update these embeddings\n",
    "\n",
    "embedded_chars = tf.nn.embedding_lookup(word2vec, X)\n",
    "embedded_chars_expanded = tf.expand_dims(embedded_chars, -1) # ex: convert [[1,2]] to [[1],[2]], that is shape (2,) to (2,1)\n",
    "\n",
    "# 1st convolution layer\n",
    "conv1 = tf.layers.conv2d(embedded_chars_expanded, \n",
    "                         filters = num_filters, \n",
    "                         kernel_size = (filter_sizes[0], initW.shape[1]),\n",
    "                         strides = (1,1), \n",
    "#                          padding=\"same\",\n",
    "                         kernel_initializer=tf.contrib.layers.variance_scaling_initializer(),\n",
    "                         \n",
    "                         activation = tf.nn.relu,\n",
    "                         name=\"Convolution_1st\"\n",
    "                        )\n",
    "\n",
    "pool1 = tf.layers.max_pooling2d(inputs=conv1, pool_size=[4, 1], strides=2)\n",
    "\n",
    "# 2nd convolution layer\n",
    "conv2 = tf.layers.conv2d(pool1, \n",
    "                         filters = num_filters, \n",
    "                         kernel_size = (filter_sizes[1], 1),\n",
    "                         strides = (1,1), \n",
    "                         padding=\"same\",\n",
    "                         kernel_initializer=tf.contrib.layers.variance_scaling_initializer(),\n",
    "                         activation = tf.nn.relu,\n",
    "                         name=\"Convolution_2nd\"\n",
    "                        )\n",
    "\n",
    "pool2 = tf.layers.max_pooling2d(inputs=conv2, pool_size=[27, 1], strides=1)\n",
    "\n",
    "# Dense Layer, Combine all the pooled features\n",
    "pool2_flat = tf.reshape(pool2, [-1, num_filters])\n",
    "\n",
    "dense = tf.layers.dense(inputs=pool2_flat, units=1024, activation=tf.nn.relu, name = \"Fully_connect\")\n",
    "# dense = tf.layers.dropout(inputs = dense, rate = 0.3, training = mode)\n",
    "\n",
    "# Logits Layer\n",
    "logits = tf.layers.dense(inputs=dense, \n",
    "                         units=n_output, \n",
    "                         activation=tf.nn.softmax, \n",
    "#                          kernel_initializer=tf.contrib.layers.variance_scaling_initializer(),\n",
    "                         name = \"Softmax\")\n",
    "\n",
    "# Define Loss Function\n",
    "cross_entropy = tf.reduce_mean(tf.nn.sparse_softmax_cross_entropy_with_logits(labels=y, logits=logits, name=\"Cross_Entropy\"))\n",
    "\n",
    "# Define Training Process\n",
    "train_step = tf.train.AdadeltaOptimizer(learning_rate, epsilon=1e-6).minimize(cross_entropy)\n",
    "\n",
    "# Define Accuracy\n",
    "predicted_class = tf.argmax(logits,1, output_type=tf.int32)\n",
    "correct_predict = tf.equal(y, predicted_class) # [True, False ..., True]\n",
    "accuracy = tf.reduce_mean(tf.cast(correct_predict, tf.float32)) # [True, False ..., True] --> [1,0,...,1]\n"
   ]
  },
  {
   "cell_type": "code",
   "execution_count": 22,
   "metadata": {
    "collapsed": true
   },
   "outputs": [],
   "source": [
    "# prepare the training batch\n",
    "# train_data = tf.contrib.data.Dataset.from_tensor_slices((X_train, y_train)).batch(batch_size).repeat()\n",
    "# train_iterator = train_data.make_one_shot_iterator() # Create an iterator to go through the training data\n",
    "# train_next_batch = train_iterator.get_next()"
   ]
  },
  {
   "cell_type": "code",
   "execution_count": 45,
   "metadata": {
    "scrolled": false
   },
   "outputs": [
    {
     "name": "stdout",
     "output_type": "stream",
     "text": [
      "19565\n"
     ]
    }
   ],
   "source": [
    "round_of_epochs = int(X_train.shape[0]/batch_size)\n",
    "print(round_of_epochs)\n",
    "\n",
    "saver = tf.train.Saver() # to store the model\n",
    "\n",
    "with tf.Session() as sess:\n",
    "    # Initialize all variables\n",
    "    sess.run(tf.local_variables_initializer())\n",
    "    sess.run(tf.global_variables_initializer())\n",
    "    \n",
    "    sess.run(word2vec.assign(initW))# Assign the pretrain word2vec\n",
    "    for _ in range(epochs_num):\n",
    "        for _ in range(round_of_epochs):\n",
    "#             train, label = sess.run(train_next_batch) # Get the mini-batch data sample\n",
    "            train, label = next(iter_)\n",
    "            sess.run(train_step, feed_dict={X:train, y:label}) # Feed the features, labe, training_mode  to network to train\n",
    "\n",
    "        \n",
    "    distance_supervised_embeddings = sess.run(word2vec)\n",
    "    "
   ]
  },
  {
   "cell_type": "markdown",
   "metadata": {},
   "source": [
    "## Distance Supervised Learning Comparsion"
   ]
  },
  {
   "cell_type": "code",
   "execution_count": 46,
   "metadata": {
    "collapsed": true
   },
   "outputs": [],
   "source": [
    "from sklearn.decomposition import PCA\n",
    "import matplotlib.pyplot as plt\n"
   ]
  },
  {
   "cell_type": "code",
   "execution_count": 47,
   "metadata": {
    "collapsed": true
   },
   "outputs": [],
   "source": [
    "def draw_plot(words, matrix, v_dic, nbest=15):\n",
    "    word_vectors = []\n",
    "    for word in words:\n",
    "        index = v_dic[word]\n",
    "        word_vectors.append(matrix[index])  \n",
    "    pca = PCA(n_components=2)  \n",
    "    pca.fit(word_vectors)\n",
    "    X = pca.transform(word_vectors)\n",
    "    \n",
    "    xs = X[:, 0]\n",
    "    ys = X[:, 1]\n",
    "\n",
    "    # draw\n",
    "    plt.figure(figsize=(12,8))\n",
    "    plt.scatter(xs, ys, marker = 'o')\n",
    "    for i, w in enumerate(words):\n",
    "        plt.annotate(w, (xs[i], ys[i]))\n",
    "\n",
    "    plt.show()"
   ]
  },
  {
   "cell_type": "code",
   "execution_count": 75,
   "metadata": {},
   "outputs": [
    {
     "name": "stdout",
     "output_type": "stream",
     "text": [
      "Word2vec with distance supervised learning\n",
      "\n",
      "Before\n"
     ]
    },
    {
     "data": {
      "image/png": "[encoded data removed]",
      "text/plain": [
       "<matplotlib.figure.Figure at 0x7f7a550d4fd0>"
      ]
     },
     "metadata": {},
     "output_type": "display_data"
    },
    {
     "name": "stdout",
     "output_type": "stream",
     "text": [
      "After\n"
     ]
    },
    {
     "data": {
      "image/png": "[encoded data removed]",
      "text/plain": [
       "<matplotlib.figure.Figure at 0x7f7947d1cb70>"
      ]
     },
     "metadata": {},
     "output_type": "display_data"
    }
   ],
   "source": [
    "words = ['sadness', 'sobbing', 'cry', 'weep', 'horrible', 'worst', 'awful', 'enjoyable', 'wonderful',\n",
    "         'bad', 'fantastic', 'great', 'good', 'beautiful', 'stunning','gorgeous','glad','well','dumb']\n",
    "\n",
    "plt.rcParams['font.size'] = 18\n",
    "\n",
    "print(\"Word2vec with distance supervised learning\\n\")\n",
    "print(\"Before\")\n",
    "draw_plot(words, wb_matrix, vocabulary_dict_)\n",
    "print(\"After\")\n",
    "draw_plot(words, distance_supervised_embeddings, vocabulary_dict)"
   ]
  },
  {
   "cell_type": "code",
   "execution_count": 76,
   "metadata": {
    "collapsed": true
   },
   "outputs": [],
   "source": [
    "del wb_matrix, vocabulary_dict_, X_train, y_train, smile_array, smile_tweet, sad_array, sad_tweet"
   ]
  },
  {
   "cell_type": "markdown",
   "metadata": {},
   "source": [
    "### Dump model"
   ]
  },
  {
   "cell_type": "code",
   "execution_count": 49,
   "metadata": {
    "collapsed": true
   },
   "outputs": [],
   "source": [
    "np.save('data/embedding/distance_supervised_2M', distance_supervised_embeddings)\n",
    "with open('data/embedding/distance_supervised_2M.pickle', 'wb') as f:\n",
    "    pickle.dump(vocabulary_dict,f)"
   ]
  },
  {
   "cell_type": "markdown",
   "metadata": {},
   "source": [
    "### Load model"
   ]
  },
  {
   "cell_type": "code",
   "execution_count": 5,
   "metadata": {},
   "outputs": [
    {
     "name": "stdout",
     "output_type": "stream",
     "text": [
      "(496788, 52)\n",
      "496788\n"
     ]
    }
   ],
   "source": [
    "# Load pre train Word2vec\n",
    "distance_supervised_embeddings = np.load(\"data/embedding/distance_supervised_2M.npy\")\n",
    "print(distance_supervised_embeddings.shape)\n",
    "vocabulary_dict = pickle.load(open(\"data/embedding/distance_supervised_2M.pickle\", \"rb\"))\n",
    "print(len(vocabulary_dict))"
   ]
  },
  {
   "cell_type": "markdown",
   "metadata": {},
   "source": [
    "# Supervised Learning"
   ]
  },
  {
   "cell_type": "code",
   "execution_count": 6,
   "metadata": {
    "collapsed": true
   },
   "outputs": [],
   "source": [
    "def emotion2label(emo):\n",
    "    if emo =='joy':            return 0\n",
    "    elif emo =='anticipation': return 1\n",
    "    elif emo =='trust':        return 2\n",
    "    elif emo =='surprise':     return 3\n",
    "    elif emo =='sadness':      return 4\n",
    "    elif emo =='fear':         return 5\n",
    "    elif emo =='anger':        return 6\n",
    "    elif emo =='disgust':      return 7"
   ]
  },
  {
   "cell_type": "code",
   "execution_count": 7,
   "metadata": {},
   "outputs": [
    {
     "data": {
      "text/html": [
       "<div>\n",
       "<style>\n",
       "    .dataframe thead tr:only-child th {\n",
       "        text-align: right;\n",
       "    }\n",
       "\n",
       "    .dataframe thead th {\n",
       "        text-align: left;\n",
       "    }\n",
       "\n",
       "    .dataframe tbody tr th {\n",
       "        vertical-align: top;\n",
       "    }\n",
       "</style>\n",
       "<table border=\"1\" class=\"dataframe\">\n",
       "  <thead>\n",
       "    <tr style=\"text-align: right;\">\n",
       "      <th></th>\n",
       "      <th>emotion</th>\n",
       "      <th>tweet</th>\n",
       "    </tr>\n",
       "  </thead>\n",
       "  <tbody>\n",
       "    <tr>\n",
       "      <th>0</th>\n",
       "      <td>anticipation</td>\n",
       "      <td>&lt;M&gt;: &lt;H&gt; &lt;H&gt; &lt;H&gt; &lt;H&gt; &lt;H&gt; &lt;H&gt; &lt;M&gt; ... You DTM. ...</td>\n",
       "    </tr>\n",
       "    <tr>\n",
       "      <th>1</th>\n",
       "      <td>anger</td>\n",
       "      <td>stop posting every damn thing you do on instag...</td>\n",
       "    </tr>\n",
       "    <tr>\n",
       "      <th>2</th>\n",
       "      <td>trust</td>\n",
       "      <td>&lt;H&gt; youll never meet justin bieber. hell never...</td>\n",
       "    </tr>\n",
       "    <tr>\n",
       "      <th>3</th>\n",
       "      <td>anticipation</td>\n",
       "      <td>&lt;H&gt; &amp;amp; count down the days until May! &lt;H&gt; &lt;...</td>\n",
       "    </tr>\n",
       "    <tr>\n",
       "      <th>4</th>\n",
       "      <td>surprise</td>\n",
       "      <td>&lt;M&gt; Holme upon Spalding moor won rock challeng...</td>\n",
       "    </tr>\n",
       "  </tbody>\n",
       "</table>\n",
       "</div>"
      ],
      "text/plain": [
       "        emotion                                              tweet\n",
       "0  anticipation  <M>: <H> <H> <H> <H> <H> <H> <M> ... You DTM. ...\n",
       "1         anger  stop posting every damn thing you do on instag...\n",
       "2         trust  <H> youll never meet justin bieber. hell never...\n",
       "3  anticipation  <H> &amp; count down the days until May! <H> <...\n",
       "4      surprise  <M> Holme upon Spalding moor won rock challeng..."
      ]
     },
     "execution_count": 7,
     "metadata": {},
     "output_type": "execute_result"
    }
   ],
   "source": [
    "# Load Training data\n",
    "en_train = pd.read_csv('data/emo/Train/train.tsv', delimiter='\\t', names=[\"emotion\", \"tweet\"])\n",
    "en_train.head()\n",
    "\n"
   ]
  },
  {
   "cell_type": "code",
   "execution_count": 8,
   "metadata": {},
   "outputs": [
    {
     "data": {
      "text/html": [
       "<div>\n",
       "<style>\n",
       "    .dataframe thead tr:only-child th {\n",
       "        text-align: right;\n",
       "    }\n",
       "\n",
       "    .dataframe thead th {\n",
       "        text-align: left;\n",
       "    }\n",
       "\n",
       "    .dataframe tbody tr th {\n",
       "        vertical-align: top;\n",
       "    }\n",
       "</style>\n",
       "<table border=\"1\" class=\"dataframe\">\n",
       "  <thead>\n",
       "    <tr style=\"text-align: right;\">\n",
       "      <th></th>\n",
       "      <th>tweet</th>\n",
       "      <th>emotion</th>\n",
       "      <th>emotion2</th>\n",
       "      <th>emotion3</th>\n",
       "    </tr>\n",
       "  </thead>\n",
       "  <tbody>\n",
       "    <tr>\n",
       "      <th>0</th>\n",
       "      <td>#championsleague i am cmng to watch you...all ...</td>\n",
       "      <td>joy</td>\n",
       "      <td>anticipation</td>\n",
       "      <td>trust</td>\n",
       "    </tr>\n",
       "    <tr>\n",
       "      <th>1</th>\n",
       "      <td>#mufc wages up19% in13/14 season with #dimaria...</td>\n",
       "      <td>anticipation</td>\n",
       "      <td>fear</td>\n",
       "      <td>NaN</td>\n",
       "    </tr>\n",
       "    <tr>\n",
       "      <th>2</th>\n",
       "      <td>#sterlings getting some great experience here....</td>\n",
       "      <td>joy</td>\n",
       "      <td>trust</td>\n",
       "      <td>anticipation</td>\n",
       "    </tr>\n",
       "    <tr>\n",
       "      <th>3</th>\n",
       "      <td>1 more week then it's block 208 kop grandstand...</td>\n",
       "      <td>anticipation</td>\n",
       "      <td>joy</td>\n",
       "      <td>trust</td>\n",
       "    </tr>\n",
       "    <tr>\n",
       "      <th>4</th>\n",
       "      <td>1 week from today! the @championsleague return...</td>\n",
       "      <td>anticipation</td>\n",
       "      <td>joy</td>\n",
       "      <td>trust</td>\n",
       "    </tr>\n",
       "  </tbody>\n",
       "</table>\n",
       "</div>"
      ],
      "text/plain": [
       "                                               tweet       emotion  \\\n",
       "0  #championsleague i am cmng to watch you...all ...           joy   \n",
       "1  #mufc wages up19% in13/14 season with #dimaria...  anticipation   \n",
       "2  #sterlings getting some great experience here....           joy   \n",
       "3  1 more week then it's block 208 kop grandstand...  anticipation   \n",
       "4  1 week from today! the @championsleague return...  anticipation   \n",
       "\n",
       "       emotion2      emotion3  \n",
       "0  anticipation         trust  \n",
       "1          fear           NaN  \n",
       "2         trust  anticipation  \n",
       "3           joy         trust  \n",
       "4           joy         trust  "
      ]
     },
     "execution_count": 8,
     "metadata": {},
     "output_type": "execute_result"
    }
   ],
   "source": [
    "\n",
    "# Load Testing data\n",
    "en_test = pd.read_csv('data/emo/Test/test.tsv', delimiter='\\t',names=[\"tweet\",\"emotion\", \"emotion2\", \"emotion3\"])\n",
    "en_test.head()"
   ]
  },
  {
   "cell_type": "code",
   "execution_count": 9,
   "metadata": {},
   "outputs": [
    {
     "data": {
      "text/html": [
       "<div>\n",
       "<style>\n",
       "    .dataframe thead tr:only-child th {\n",
       "        text-align: right;\n",
       "    }\n",
       "\n",
       "    .dataframe thead th {\n",
       "        text-align: left;\n",
       "    }\n",
       "\n",
       "    .dataframe tbody tr th {\n",
       "        vertical-align: top;\n",
       "    }\n",
       "</style>\n",
       "<table border=\"1\" class=\"dataframe\">\n",
       "  <thead>\n",
       "    <tr style=\"text-align: right;\">\n",
       "      <th></th>\n",
       "      <th>emotion</th>\n",
       "      <th>tweet</th>\n",
       "      <th>label</th>\n",
       "    </tr>\n",
       "  </thead>\n",
       "  <tbody>\n",
       "    <tr>\n",
       "      <th>0</th>\n",
       "      <td>anticipation</td>\n",
       "      <td>&lt;M&gt;: &lt;H&gt; &lt;H&gt; &lt;H&gt; &lt;H&gt; &lt;H&gt; &lt;H&gt; &lt;M&gt; ... You DTM. ...</td>\n",
       "      <td>1</td>\n",
       "    </tr>\n",
       "    <tr>\n",
       "      <th>1</th>\n",
       "      <td>anger</td>\n",
       "      <td>stop posting every damn thing you do on instag...</td>\n",
       "      <td>6</td>\n",
       "    </tr>\n",
       "    <tr>\n",
       "      <th>2</th>\n",
       "      <td>trust</td>\n",
       "      <td>&lt;H&gt; youll never meet justin bieber. hell never...</td>\n",
       "      <td>2</td>\n",
       "    </tr>\n",
       "    <tr>\n",
       "      <th>3</th>\n",
       "      <td>anticipation</td>\n",
       "      <td>&lt;H&gt; &amp;amp; count down the days until May! &lt;H&gt; &lt;...</td>\n",
       "      <td>1</td>\n",
       "    </tr>\n",
       "    <tr>\n",
       "      <th>4</th>\n",
       "      <td>surprise</td>\n",
       "      <td>&lt;M&gt; Holme upon Spalding moor won rock challeng...</td>\n",
       "      <td>3</td>\n",
       "    </tr>\n",
       "  </tbody>\n",
       "</table>\n",
       "</div>"
      ],
      "text/plain": [
       "        emotion                                              tweet  label\n",
       "0  anticipation  <M>: <H> <H> <H> <H> <H> <H> <M> ... You DTM. ...      1\n",
       "1         anger  stop posting every damn thing you do on instag...      6\n",
       "2         trust  <H> youll never meet justin bieber. hell never...      2\n",
       "3  anticipation  <H> &amp; count down the days until May! <H> <...      1\n",
       "4      surprise  <M> Holme upon Spalding moor won rock challeng...      3"
      ]
     },
     "execution_count": 9,
     "metadata": {},
     "output_type": "execute_result"
    }
   ],
   "source": [
    "en_train['label'] = en_train['emotion'].map(emotion2label)\n",
    "en_train.head()\n"
   ]
  },
  {
   "cell_type": "code",
   "execution_count": 10,
   "metadata": {},
   "outputs": [
    {
     "data": {
      "text/html": [
       "<div>\n",
       "<style>\n",
       "    .dataframe thead tr:only-child th {\n",
       "        text-align: right;\n",
       "    }\n",
       "\n",
       "    .dataframe thead th {\n",
       "        text-align: left;\n",
       "    }\n",
       "\n",
       "    .dataframe tbody tr th {\n",
       "        vertical-align: top;\n",
       "    }\n",
       "</style>\n",
       "<table border=\"1\" class=\"dataframe\">\n",
       "  <thead>\n",
       "    <tr style=\"text-align: right;\">\n",
       "      <th></th>\n",
       "      <th>tweet</th>\n",
       "      <th>emotion</th>\n",
       "      <th>emotion2</th>\n",
       "      <th>emotion3</th>\n",
       "      <th>label</th>\n",
       "      <th>label2</th>\n",
       "      <th>label3</th>\n",
       "    </tr>\n",
       "  </thead>\n",
       "  <tbody>\n",
       "    <tr>\n",
       "      <th>0</th>\n",
       "      <td>#championsleague i am cmng to watch you...all ...</td>\n",
       "      <td>joy</td>\n",
       "      <td>anticipation</td>\n",
       "      <td>trust</td>\n",
       "      <td>0</td>\n",
       "      <td>1</td>\n",
       "      <td>2</td>\n",
       "    </tr>\n",
       "    <tr>\n",
       "      <th>1</th>\n",
       "      <td>#mufc wages up19% in13/14 season with #dimaria...</td>\n",
       "      <td>anticipation</td>\n",
       "      <td>fear</td>\n",
       "      <td>NaN</td>\n",
       "      <td>1</td>\n",
       "      <td>5</td>\n",
       "      <td>-1</td>\n",
       "    </tr>\n",
       "    <tr>\n",
       "      <th>2</th>\n",
       "      <td>#sterlings getting some great experience here....</td>\n",
       "      <td>joy</td>\n",
       "      <td>trust</td>\n",
       "      <td>anticipation</td>\n",
       "      <td>0</td>\n",
       "      <td>2</td>\n",
       "      <td>1</td>\n",
       "    </tr>\n",
       "    <tr>\n",
       "      <th>3</th>\n",
       "      <td>1 more week then it's block 208 kop grandstand...</td>\n",
       "      <td>anticipation</td>\n",
       "      <td>joy</td>\n",
       "      <td>trust</td>\n",
       "      <td>1</td>\n",
       "      <td>0</td>\n",
       "      <td>2</td>\n",
       "    </tr>\n",
       "    <tr>\n",
       "      <th>4</th>\n",
       "      <td>1 week from today! the @championsleague return...</td>\n",
       "      <td>anticipation</td>\n",
       "      <td>joy</td>\n",
       "      <td>trust</td>\n",
       "      <td>1</td>\n",
       "      <td>0</td>\n",
       "      <td>2</td>\n",
       "    </tr>\n",
       "  </tbody>\n",
       "</table>\n",
       "</div>"
      ],
      "text/plain": [
       "                                               tweet       emotion  \\\n",
       "0  #championsleague i am cmng to watch you...all ...           joy   \n",
       "1  #mufc wages up19% in13/14 season with #dimaria...  anticipation   \n",
       "2  #sterlings getting some great experience here....           joy   \n",
       "3  1 more week then it's block 208 kop grandstand...  anticipation   \n",
       "4  1 week from today! the @championsleague return...  anticipation   \n",
       "\n",
       "       emotion2      emotion3  label  label2  label3  \n",
       "0  anticipation         trust      0       1       2  \n",
       "1          fear           NaN      1       5      -1  \n",
       "2         trust  anticipation      0       2       1  \n",
       "3           joy         trust      1       0       2  \n",
       "4           joy         trust      1       0       2  "
      ]
     },
     "execution_count": 10,
     "metadata": {},
     "output_type": "execute_result"
    }
   ],
   "source": [
    "\n",
    "en_test['label'] = en_test['emotion'].map(emotion2label).fillna(-1).astype('int')\n",
    "en_test['label2'] = en_test['emotion2'].map(emotion2label).fillna(-1).astype('int')\n",
    "en_test['label3'] = en_test['emotion3'].map(emotion2label).fillna(-1).astype('int')\n",
    "en_test.head()"
   ]
  },
  {
   "cell_type": "code",
   "execution_count": 11,
   "metadata": {},
   "outputs": [
    {
     "name": "stdout",
     "output_type": "stream",
     "text": [
      "1965870\n",
      "1954\n"
     ]
    }
   ],
   "source": [
    "train_tweet = [filter_tweet(tweet) for tweet in en_train['tweet']]\n",
    "test_tweet = [filter_tweet(tweet) for tweet in en_test['tweet']]\n",
    "\n",
    "\n",
    "print(len(train_tweet))\n",
    "print(len(test_tweet))"
   ]
  },
  {
   "cell_type": "code",
   "execution_count": 15,
   "metadata": {},
   "outputs": [
    {
     "name": "stdout",
     "output_type": "stream",
     "text": [
      "(1965870, 60)\n",
      "(1954, 60)\n"
     ]
    }
   ],
   "source": [
    "\n",
    "tweets_train_all = word_transform(train_tweet, max_length = max_length)\n",
    "print(tweets_train_all.shape)\n",
    "tweets_test = word_transform(test_tweet, max_length = max_length)\n",
    "print(tweets_test.shape)\n",
    "\n",
    "senti_train_all = en_train['label'].as_matrix()\n",
    "senti_test  = en_test['label'].as_matrix()"
   ]
  },
  {
   "cell_type": "markdown",
   "metadata": {},
   "source": [
    "### Train Validation Split "
   ]
  },
  {
   "cell_type": "code",
   "execution_count": 16,
   "metadata": {
    "collapsed": true
   },
   "outputs": [],
   "source": [
    "from sklearn.model_selection import train_test_split"
   ]
  },
  {
   "cell_type": "code",
   "execution_count": 17,
   "metadata": {},
   "outputs": [
    {
     "name": "stdout",
     "output_type": "stream",
     "text": [
      "(1769283, 60)\n",
      "(196587, 60)\n"
     ]
    }
   ],
   "source": [
    "tweets_train, tweets_valid, senti_train, senti_valid = train_test_split(tweets_train_all, senti_train_all, test_size=0.1, random_state=42)\n",
    "print(tweets_train.shape)\n",
    "print(tweets_valid.shape)"
   ]
  },
  {
   "cell_type": "markdown",
   "metadata": {},
   "source": [
    "### Build Model"
   ]
  },
  {
   "cell_type": "code",
   "execution_count": 55,
   "metadata": {
    "collapsed": true
   },
   "outputs": [],
   "source": [
    "n_input = max_length\n",
    "n_output = 8\n",
    "learning_rate = 1\n",
    "\n",
    "embedding_size = distance_supervised_embeddings.shape[1]\n",
    "filter_sizes = [4,3]\n",
    "num_filters = 300\n",
    "pooling_size = 4\n",
    "pooling_strides = 2\n",
    "epochs_num = 5\n",
    "batch_size = 64"
   ]
  },
  {
   "cell_type": "code",
   "execution_count": 56,
   "metadata": {
    "collapsed": true
   },
   "outputs": [],
   "source": [
    "reset_graph()\n",
    "\n",
    "X = tf.placeholder(tf.int32, shape = (None, n_input), name = \"Input_X\")\n",
    "y = tf.placeholder(tf.int32, shape = (None), name = \"Y\")\n",
    "# mode = tf.placeholder(tf.bool, name = \"Mode\")\n",
    "\n",
    "# Load Embedding Model\n",
    "with tf.device('/cpu:0'), tf.name_scope(\"embedding\"):\n",
    "    word2vec = tf.Variable(tf.constant(0.0, shape = distance_supervised_embeddings.shape),\n",
    "                    trainable=False, name=\"word2vec\") # trainable=False, means not update these embeddings\n",
    "\n",
    "embedded_chars = tf.nn.embedding_lookup(word2vec, X)\n",
    "embedded_chars_expanded = tf.expand_dims(embedded_chars, -1) # ex: convert [[1,2]] to [[1],[2]], that is shape (2,) to (2,1)\n",
    "\n",
    "# 1st convolution layer\n",
    "conv1 = tf.layers.conv2d(embedded_chars_expanded, \n",
    "                         filters = num_filters, \n",
    "                         kernel_size = (filter_sizes[0], distance_supervised_embeddings.shape[1]),\n",
    "                         strides = (1,1), \n",
    "#                          padding=\"same\",\n",
    "                         kernel_initializer=tf.contrib.layers.variance_scaling_initializer(),\n",
    "                         \n",
    "                         activation = tf.nn.relu,\n",
    "                         name=\"Convolution_1st\"\n",
    "                        )\n",
    "\n",
    "pool1 = tf.layers.max_pooling2d(inputs=conv1, pool_size=[4, 1], strides=2)\n",
    "\n",
    "# 2nd convolution layer\n",
    "conv2 = tf.layers.conv2d(pool1, \n",
    "                         filters = num_filters, \n",
    "                         kernel_size = (filter_sizes[1], 1),\n",
    "                         strides = (1,1), \n",
    "                         padding=\"same\",\n",
    "                         kernel_initializer=tf.contrib.layers.variance_scaling_initializer(),\n",
    "                         activation = tf.nn.relu,\n",
    "                         name=\"Convolution_2nd\"\n",
    "                        )\n",
    "\n",
    "pool2 = tf.layers.max_pooling2d(inputs=conv2, pool_size=[27, 1], strides=1)\n",
    "\n",
    "# Dense Layer, Combine all the pooled features\n",
    "pool2_flat = tf.reshape(pool2, [-1, num_filters])\n",
    "\n",
    "dense = tf.layers.dense(inputs=pool2_flat, units=1024, activation=tf.nn.relu, name = \"Fully_connect\")\n",
    "# dense = tf.layers.dropout(inputs = dense, rate = 0.3, training = mode)\n",
    "\n",
    "# Logits Layer\n",
    "logits = tf.layers.dense(inputs=dense, \n",
    "                         units=n_output, \n",
    "                         activation=tf.nn.softmax, \n",
    "#                          kernel_initializer=tf.contrib.layers.variance_scaling_initializer(),\n",
    "                         name = \"Softmax\")\n",
    "\n",
    "# Define Loss Function\n",
    "cross_entropy = tf.reduce_mean(tf.nn.sparse_softmax_cross_entropy_with_logits(labels=y, logits=logits, name=\"Cross_Entropy\"))\n",
    "\n",
    "# Define Training Process\n",
    "train_step = tf.train.AdadeltaOptimizer(learning_rate, epsilon=1e-6).minimize(cross_entropy)\n",
    "\n",
    "# Define Accuracy\n",
    "predicted_class = tf.argmax(logits,1, output_type=tf.int32)\n",
    "correct_predict = tf.equal(y, predicted_class) # [True, False ..., True]\n",
    "accuracy = tf.reduce_mean(tf.cast(correct_predict, tf.float32)) # [True, False ..., True] --> [1,0,...,1]\n"
   ]
  },
  {
   "cell_type": "code",
   "execution_count": 57,
   "metadata": {
    "collapsed": true
   },
   "outputs": [],
   "source": [
    "# # prepare the training batch in tensorflow\n",
    "# train_data = tf.contrib.data.Dataset.from_tensor_slices((tweets_train, senti_train)).batch(batch_size).repeat()\n",
    "# train_iterator = train_data.make_one_shot_iterator() # Create an iterator to go through the training data\n",
    "# train_next_batch = train_iterator.get_next()"
   ]
  },
  {
   "cell_type": "code",
   "execution_count": 58,
   "metadata": {
    "collapsed": true
   },
   "outputs": [],
   "source": [
    "# prepare the training batch in python\n",
    "\n",
    "def data_iterator(X, y):\n",
    "    \"\"\" A simple data iterator \"\"\"\n",
    "    batch_idx = 0\n",
    "    while True:\n",
    "        for batch_idx in range(0, len(X), batch_size):\n",
    "            trains_batch = X[batch_idx:batch_idx+batch_size]\n",
    "            labels_batch = y[batch_idx:batch_idx+batch_size]\n",
    "            yield trains_batch, labels_batch\n",
    "\n",
    "\n",
    "iter_ = data_iterator(tweets_train, senti_train)\n",
    "\n",
    "valid_iter_ = data_iterator(tweets_valid, senti_valid)"
   ]
  },
  {
   "cell_type": "code",
   "execution_count": 60,
   "metadata": {
    "collapsed": true
   },
   "outputs": [],
   "source": [
    "import os\n",
    "os.makedirs(\"./model\")"
   ]
  },
  {
   "cell_type": "code",
   "execution_count": 72,
   "metadata": {
    "scrolled": false
   },
   "outputs": [
    {
     "ename": "ValueError",
     "evalue": "At least two variables have the same name: Convolution_1st/kernel",
     "output_type": "error",
     "traceback": [
      "\u001b[0;31m---------------------------------------------------------------------------\u001b[0m",
      "\u001b[0;31mValueError\u001b[0m                                Traceback (most recent call last)",
      "\u001b[0;32m<ipython-input-72-eb4ea68f6c47>\u001b[0m in \u001b[0;36m<module>\u001b[0;34m()\u001b[0m\n\u001b[1;32m      8\u001b[0m \u001b[0mtest_f1\u001b[0m \u001b[0;34m=\u001b[0m \u001b[0;34m[\u001b[0m\u001b[0;34m]\u001b[0m\u001b[0;34m\u001b[0m\u001b[0m\n\u001b[1;32m      9\u001b[0m \u001b[0mx_axis\u001b[0m \u001b[0;34m=\u001b[0m \u001b[0mnp\u001b[0m\u001b[0;34m.\u001b[0m\u001b[0marange\u001b[0m\u001b[0;34m(\u001b[0m\u001b[0;36m0.\u001b[0m\u001b[0;34m,\u001b[0m \u001b[0mepochs_num\u001b[0m\u001b[0;34m,\u001b[0m \u001b[0;36m1\u001b[0m\u001b[0;34m)\u001b[0m\u001b[0;34m\u001b[0m\u001b[0m\n\u001b[0;32m---> 10\u001b[0;31m \u001b[0msaver\u001b[0m \u001b[0;34m=\u001b[0m \u001b[0mtf\u001b[0m\u001b[0;34m.\u001b[0m\u001b[0mtrain\u001b[0m\u001b[0;34m.\u001b[0m\u001b[0mSaver\u001b[0m\u001b[0;34m(\u001b[0m\u001b[0;34m)\u001b[0m \u001b[0;31m# to store the model\u001b[0m\u001b[0;34m\u001b[0m\u001b[0m\n\u001b[0m\u001b[1;32m     11\u001b[0m \u001b[0;34m\u001b[0m\u001b[0m\n\u001b[1;32m     12\u001b[0m \u001b[0mbest_valid_acc\u001b[0m \u001b[0;34m=\u001b[0m \u001b[0;36m0\u001b[0m\u001b[0;34m\u001b[0m\u001b[0m\n",
      "\u001b[0;32m~/Documents/chatbot/lib/python3.5/site-packages/tensorflow/python/training/saver.py\u001b[0m in \u001b[0;36m__init__\u001b[0;34m(self, var_list, reshape, sharded, max_to_keep, keep_checkpoint_every_n_hours, name, restore_sequentially, saver_def, builder, defer_build, allow_empty, write_version, pad_step_number, save_relative_paths, filename)\u001b[0m\n\u001b[1;32m   1138\u001b[0m     \u001b[0mself\u001b[0m\u001b[0;34m.\u001b[0m\u001b[0m_filename\u001b[0m \u001b[0;34m=\u001b[0m \u001b[0mfilename\u001b[0m\u001b[0;34m\u001b[0m\u001b[0m\n\u001b[1;32m   1139\u001b[0m     \u001b[0;32mif\u001b[0m \u001b[0;32mnot\u001b[0m \u001b[0mdefer_build\u001b[0m\u001b[0;34m:\u001b[0m\u001b[0;34m\u001b[0m\u001b[0m\n\u001b[0;32m-> 1140\u001b[0;31m       \u001b[0mself\u001b[0m\u001b[0;34m.\u001b[0m\u001b[0mbuild\u001b[0m\u001b[0;34m(\u001b[0m\u001b[0;34m)\u001b[0m\u001b[0;34m\u001b[0m\u001b[0m\n\u001b[0m\u001b[1;32m   1141\u001b[0m     \u001b[0;32mif\u001b[0m \u001b[0mself\u001b[0m\u001b[0;34m.\u001b[0m\u001b[0msaver_def\u001b[0m\u001b[0;34m:\u001b[0m\u001b[0;34m\u001b[0m\u001b[0m\n\u001b[1;32m   1142\u001b[0m       \u001b[0mself\u001b[0m\u001b[0;34m.\u001b[0m\u001b[0m_check_saver_def\u001b[0m\u001b[0;34m(\u001b[0m\u001b[0;34m)\u001b[0m\u001b[0;34m\u001b[0m\u001b[0m\n",
      "\u001b[0;32m~/Documents/chatbot/lib/python3.5/site-packages/tensorflow/python/training/saver.py\u001b[0m in \u001b[0;36mbuild\u001b[0;34m(self)\u001b[0m\n\u001b[1;32m   1170\u001b[0m           \u001b[0mname\u001b[0m\u001b[0;34m=\u001b[0m\u001b[0mself\u001b[0m\u001b[0;34m.\u001b[0m\u001b[0m_name\u001b[0m\u001b[0;34m,\u001b[0m\u001b[0;34m\u001b[0m\u001b[0m\n\u001b[1;32m   1171\u001b[0m           \u001b[0mrestore_sequentially\u001b[0m\u001b[0;34m=\u001b[0m\u001b[0mself\u001b[0m\u001b[0;34m.\u001b[0m\u001b[0m_restore_sequentially\u001b[0m\u001b[0;34m,\u001b[0m\u001b[0;34m\u001b[0m\u001b[0m\n\u001b[0;32m-> 1172\u001b[0;31m           filename=self._filename)\n\u001b[0m\u001b[1;32m   1173\u001b[0m     \u001b[0;32melif\u001b[0m \u001b[0mself\u001b[0m\u001b[0;34m.\u001b[0m\u001b[0msaver_def\u001b[0m \u001b[0;32mand\u001b[0m \u001b[0mself\u001b[0m\u001b[0;34m.\u001b[0m\u001b[0m_name\u001b[0m\u001b[0;34m:\u001b[0m\u001b[0;34m\u001b[0m\u001b[0m\n\u001b[1;32m   1174\u001b[0m       \u001b[0;31m# Since self._name is used as a name_scope by builder(), we are\u001b[0m\u001b[0;34m\u001b[0m\u001b[0;34m\u001b[0m\u001b[0m\n",
      "\u001b[0;32m~/Documents/chatbot/lib/python3.5/site-packages/tensorflow/python/training/saver.py\u001b[0m in \u001b[0;36mbuild\u001b[0;34m(self, names_to_saveables, reshape, sharded, max_to_keep, keep_checkpoint_every_n_hours, name, restore_sequentially, filename)\u001b[0m\n\u001b[1;32m    668\u001b[0m         \u001b[0munique\u001b[0m\u001b[0;34m.\u001b[0m\u001b[0;34m\u001b[0m\u001b[0m\n\u001b[1;32m    669\u001b[0m     \"\"\"\n\u001b[0;32m--> 670\u001b[0;31m     \u001b[0msaveables\u001b[0m \u001b[0;34m=\u001b[0m \u001b[0mself\u001b[0m\u001b[0;34m.\u001b[0m\u001b[0m_ValidateAndSliceInputs\u001b[0m\u001b[0;34m(\u001b[0m\u001b[0mnames_to_saveables\u001b[0m\u001b[0;34m)\u001b[0m\u001b[0;34m\u001b[0m\u001b[0m\n\u001b[0m\u001b[1;32m    671\u001b[0m     \u001b[0;32mif\u001b[0m \u001b[0mmax_to_keep\u001b[0m \u001b[0;32mis\u001b[0m \u001b[0;32mNone\u001b[0m\u001b[0;34m:\u001b[0m\u001b[0;34m\u001b[0m\u001b[0m\n\u001b[1;32m    672\u001b[0m       \u001b[0mmax_to_keep\u001b[0m \u001b[0;34m=\u001b[0m \u001b[0;36m0\u001b[0m\u001b[0;34m\u001b[0m\u001b[0m\n",
      "\u001b[0;32m~/Documents/chatbot/lib/python3.5/site-packages/tensorflow/python/training/saver.py\u001b[0m in \u001b[0;36m_ValidateAndSliceInputs\u001b[0;34m(self, names_to_saveables)\u001b[0m\n\u001b[1;32m    553\u001b[0m     \"\"\"\n\u001b[1;32m    554\u001b[0m     \u001b[0;32mif\u001b[0m \u001b[0;32mnot\u001b[0m \u001b[0misinstance\u001b[0m\u001b[0;34m(\u001b[0m\u001b[0mnames_to_saveables\u001b[0m\u001b[0;34m,\u001b[0m \u001b[0mdict\u001b[0m\u001b[0;34m)\u001b[0m\u001b[0;34m:\u001b[0m\u001b[0;34m\u001b[0m\u001b[0m\n\u001b[0;32m--> 555\u001b[0;31m       \u001b[0mnames_to_saveables\u001b[0m \u001b[0;34m=\u001b[0m \u001b[0mBaseSaverBuilder\u001b[0m\u001b[0;34m.\u001b[0m\u001b[0mOpListToDict\u001b[0m\u001b[0;34m(\u001b[0m\u001b[0mnames_to_saveables\u001b[0m\u001b[0;34m)\u001b[0m\u001b[0;34m\u001b[0m\u001b[0m\n\u001b[0m\u001b[1;32m    556\u001b[0m \u001b[0;34m\u001b[0m\u001b[0m\n\u001b[1;32m    557\u001b[0m     \u001b[0msaveables\u001b[0m \u001b[0;34m=\u001b[0m \u001b[0;34m[\u001b[0m\u001b[0;34m]\u001b[0m\u001b[0;34m\u001b[0m\u001b[0m\n",
      "\u001b[0;32m~/Documents/chatbot/lib/python3.5/site-packages/tensorflow/python/training/saver.py\u001b[0m in \u001b[0;36mOpListToDict\u001b[0;34m(op_list)\u001b[0m\n\u001b[1;32m    531\u001b[0m         \u001b[0;32mif\u001b[0m \u001b[0mname\u001b[0m \u001b[0;32min\u001b[0m \u001b[0mnames_to_saveables\u001b[0m\u001b[0;34m:\u001b[0m\u001b[0;34m\u001b[0m\u001b[0m\n\u001b[1;32m    532\u001b[0m           raise ValueError(\"At least two variables have the same name: %s\" %\n\u001b[0;32m--> 533\u001b[0;31m                            name)\n\u001b[0m\u001b[1;32m    534\u001b[0m         \u001b[0mnames_to_saveables\u001b[0m\u001b[0;34m[\u001b[0m\u001b[0mname\u001b[0m\u001b[0;34m]\u001b[0m \u001b[0;34m=\u001b[0m \u001b[0mvar\u001b[0m\u001b[0;34m\u001b[0m\u001b[0m\n\u001b[1;32m    535\u001b[0m       \u001b[0;31m# pylint: enable=protected-access\u001b[0m\u001b[0;34m\u001b[0m\u001b[0;34m\u001b[0m\u001b[0m\n",
      "\u001b[0;31mValueError\u001b[0m: At least two variables have the same name: Convolution_1st/kernel"
     ]
    }
   ],
   "source": [
    "round_of_epochs = int(tweets_train.shape[0]/batch_size)\n",
    "valid_rounds_of_epochs = int(tweets_valid.shape[0]/batch_size)\n",
    "\n",
    "train_loss = []\n",
    "test_loss  = []\n",
    "\n",
    "train_f1 = []\n",
    "test_f1 = []\n",
    "x_axis = np.arange(0., epochs_num, 1)\n",
    "saver = tf.train.Saver() # to store the model\n",
    "\n",
    "best_valid_acc = 0\n",
    "\n",
    "with tf.Session() as sess:\n",
    "    # Initialize all variables\n",
    "    if os.path.exists('./model/emo_504.ckpt.meta'):\n",
    "        print (\"Model Restore\")\n",
    "        saver.restore(sess, './model/emo_504.ckpt')\n",
    "    else:\n",
    "        sess.run(tf.local_variables_initializer())\n",
    "        sess.run(tf.global_variables_initializer())\n",
    "        sess.run(word2vec.assign(distance_supervised_embeddings))# Assign the pretrain word2vec\n",
    "    \n",
    "    for epochs in range(epochs_num): # starting the training process and set the epochs_num\n",
    "        for _ in range(round_of_epochs):\n",
    "#             train, label = sess.run(train_next_batch) # Get the mini-batch data sample from tensorflow\n",
    "            train, label = next(iter_) # Get the mini-batch data sample from tensorflow\n",
    "\n",
    "            sess.run(train_step, feed_dict={X:train, y:label}) # Feed the features, labe, training_mode  to network to train\n",
    "\n",
    "        # An epoch finish\n",
    "        \n",
    "        loss, pred, acc = sess.run([cross_entropy, predicted_class, accuracy], feed_dict={X:train, y:label})\n",
    "        \n",
    "        # Validation\n",
    "        valid_loss_list = []\n",
    "        predict_res = np.zeros(batch_size)\n",
    "        t_label = np.zeros(batch_size)\n",
    "        valid_acc_list = []\n",
    "        for _ in range(valid_rounds_of_epochs):\n",
    "            x_valid, y_valid = next(valid_iter_) # Get the mini-batch data sample from tensorflow\n",
    "            t_loss, t_pred, t_accuracy = sess.run([cross_entropy, predicted_class, accuracy], feed_dict={X:x_valid, y:y_valid})\n",
    "            valid_loss_list.append(t_loss)\n",
    "            predict_res = np.concatenate((predict_res, t_pred))\n",
    "            t_label = np.concatenate((t_label, y_valid))\n",
    "            valid_acc_list.append(t_accuracy)\n",
    "        # An epoch finish\n",
    "#         t_loss, t_pred = sess.run([cross_entropy,predicted_class], feed_dict={X:tweets_valid, y:senti_valid})\n",
    "        train_loss.append(loss)\n",
    "        test_loss.append(sum(valid_loss_list)/len(valid_loss_list))\n",
    "        train_f1.append(f1_score(label, pred, average='weighted'))\n",
    "        test_f1.append(f1_score(t_label[1:], predict_res[1:], average='weighted'))\n",
    "        \n",
    "        t_acc = sum(valid_acc_list)/len(valid_acc_list)\n",
    "        print(\"{} - {:3d} epoch, loss:{:.3f}, accuracy:{:.3f}/{:.3f}, f1-score:{:.3f}/{:.3f}\".format(\n",
    "            datetime.datetime.now().strftime(\"%Y-%m-%d %H:%M:%S\"),\n",
    "            epochs+1,\n",
    "            loss, \n",
    "            acc,\n",
    "            t_acc,\n",
    "            f1_score(label, pred, average='weighted'),\n",
    "            f1_score(t_label[1:], predict_res[1:], average='weighted')\n",
    "            )\n",
    "        )\n",
    "        \n",
    "        if best_valid_acc < t_acc:\n",
    "            best_valid_acc = t_acc\n",
    "            save_path = saver.save(sess, \"./model/emo_\"+str(t_acc)[2:5]+\".ckpt\")\n",
    "        \n",
    "    plt.rcParams['font.size'] = 14\n",
    "    plt.plot(x_axis, train_loss, 'r', x_axis, test_loss, 'b')\n",
    "    plt.legend(['Train', 'Valid'], loc='upper right')\n",
    "    plt.xlabel('Epochs')\n",
    "    plt.ylabel('Loss(cross entropy)')\n",
    "    plt.show()\n",
    "    plt.clf()\n",
    "    plt.plot(x_axis, train_f1, x_axis, test_f1)\n",
    "    plt.legend(['Train', 'Valid'], loc='upper right')\n",
    "    plt.xlabel('Epochs')\n",
    "    plt.ylabel('F1 Score')\n",
    "    plt.show()\n",
    "\n",
    "    "
   ]
  },
  {
   "cell_type": "code",
   "execution_count": 67,
   "metadata": {},
   "outputs": [
    {
     "name": "stdout",
     "output_type": "stream",
     "text": [
      "INFO:tensorflow:Restoring parameters from ./model/emo_504.ckpt\n",
      "16\n"
     ]
    }
   ],
   "source": [
    "# restore graph\n",
    "with tf.Session() as sess:\n",
    "    saver = tf.train.import_meta_graph('./model/emo_504.ckpt.meta')\n",
    "    saver.restore(sess, tf.train.latest_checkpoint('./model/'))\n",
    "    sess.run(tf.global_variables_initializer())\n",
    "    "
   ]
  },
  {
   "cell_type": "code",
   "execution_count": null,
   "metadata": {
    "collapsed": true
   },
   "outputs": [],
   "source": []
  }
 ],
 "metadata": {
  "kernelspec": {
   "display_name": "Python 3",
   "language": "python",
   "name": "python3"
  },
  "language_info": {
   "codemirror_mode": {
    "name": "ipython",
    "version": 3
   },
   "file_extension": ".py",
   "mimetype": "text/x-python",
   "name": "python",
   "nbconvert_exporter": "python",
   "pygments_lexer": "ipython3",
   "version": "3.5.2"
  }
 },
 "nbformat": 4,
 "nbformat_minor": 2
}
